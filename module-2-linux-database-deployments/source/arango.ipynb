{
 "cells": [
  {
   "cell_type": "code",
   "execution_count": 1,
   "metadata": {},
   "outputs": [],
   "source": [
    "import pandas as pd\n",
    "from pyArango.connection import *\n",
    "from pyArango.collection import *"
   ]
  },
  {
   "cell_type": "code",
   "execution_count": 2,
   "metadata": {},
   "outputs": [],
   "source": [
    "conn = Connection(username=\"ngph@ngph\", password=\"ngph\")"
   ]
  },
  {
   "cell_type": "code",
   "execution_count": 3,
   "metadata": {},
   "outputs": [],
   "source": [
    "df = pd.read_csv('../assets/data/transfer_network_201812.csv')"
   ]
  },
  {
   "cell_type": "code",
   "execution_count": 6,
   "metadata": {},
   "outputs": [],
   "source": [
    "db = conn[\"m2\"]"
   ]
  },
  {
   "cell_type": "code",
   "execution_count": 7,
   "metadata": {},
   "outputs": [],
   "source": [
    "users=None\n",
    "if not db.hasCollection('users'):\n",
    "    users = db.createCollection(name=\"users\")\n",
    "else:\n",
    "    users = db[\"users\"]"
   ]
  },
  {
   "cell_type": "code",
   "execution_count": 8,
   "metadata": {},
   "outputs": [
    {
     "data": {
      "text/plain": [
       "ArangoDB collection name: users, id: 9320, type: document, status: loaded"
      ]
     },
     "execution_count": 8,
     "metadata": {},
     "output_type": "execute_result"
    }
   ],
   "source": [
    "users"
   ]
  },
  {
   "cell_type": "code",
   "execution_count": 9,
   "metadata": {},
   "outputs": [
    {
     "data": {
      "text/plain": [
       "0    192614cd07e29f4f1f78da281ebeb7ef\n",
       "1    e230a20a8a1bdfb8a4ef7376689a92ae\n",
       "2    8ccccf41e5d1db2a9c0c85580ba452a3\n",
       "3    177ad70e864b250986cd8cf9b6b445c0\n",
       "4    b4fe7056bd4a9ba2bac7dbea137037db\n",
       "dtype: object"
      ]
     },
     "execution_count": 9,
     "metadata": {},
     "output_type": "execute_result"
    }
   ],
   "source": [
    "all_users = df['sender'].append(df['receiver'])\n",
    "all_users.head()"
   ]
  },
  {
   "cell_type": "code",
   "execution_count": 10,
   "metadata": {},
   "outputs": [
    {
     "data": {
      "text/plain": [
       "52852"
      ]
     },
     "execution_count": 10,
     "metadata": {},
     "output_type": "execute_result"
    }
   ],
   "source": [
    "all_unique_users = all_users.unique()\n",
    "len(all_unique_users)"
   ]
  },
  {
   "cell_type": "code",
   "execution_count": 11,
   "metadata": {},
   "outputs": [],
   "source": [
    "for u in all_unique_users:\n",
    "    new_doc = users.createDocument()\n",
    "    new_doc._key = u\n",
    "    new_doc.save()"
   ]
  },
  {
   "cell_type": "code",
   "execution_count": 12,
   "metadata": {},
   "outputs": [],
   "source": [
    "sendTo = None\n",
    "if not db.hasCollection(name='sendTo'):\n",
    "    sendTo = db.createCollection(name='sendTo', className='Edges')\n",
    "else:\n",
    "    sendTo = db['sendTo']"
   ]
  },
  {
   "cell_type": "code",
   "execution_count": 13,
   "metadata": {},
   "outputs": [
    {
     "data": {
      "text/html": [
       "<div>\n",
       "<style scoped>\n",
       "    .dataframe tbody tr th:only-of-type {\n",
       "        vertical-align: middle;\n",
       "    }\n",
       "\n",
       "    .dataframe tbody tr th {\n",
       "        vertical-align: top;\n",
       "    }\n",
       "\n",
       "    .dataframe thead th {\n",
       "        text-align: right;\n",
       "    }\n",
       "</style>\n",
       "<table border=\"1\" class=\"dataframe\">\n",
       "  <thead>\n",
       "    <tr style=\"text-align: right;\">\n",
       "      <th></th>\n",
       "      <th>sender</th>\n",
       "      <th>receiver</th>\n",
       "      <th>amount</th>\n",
       "    </tr>\n",
       "  </thead>\n",
       "  <tbody>\n",
       "    <tr>\n",
       "      <th>0</th>\n",
       "      <td>00055b984cdfbe6b799d5debf8323c64</td>\n",
       "      <td>43026332e53541a19627d074c1833200</td>\n",
       "      <td>1500</td>\n",
       "    </tr>\n",
       "    <tr>\n",
       "      <th>1</th>\n",
       "      <td>0006544b05ceb936b9ea7b2af41e8f22</td>\n",
       "      <td>060c23c14d40d3e85d6054783db38a02</td>\n",
       "      <td>20000</td>\n",
       "    </tr>\n",
       "    <tr>\n",
       "      <th>2</th>\n",
       "      <td>000708e22b25c950d014c17e0424cbfb</td>\n",
       "      <td>042c9ebffdff74530d48a92d3a6b9ea3</td>\n",
       "      <td>500000</td>\n",
       "    </tr>\n",
       "    <tr>\n",
       "      <th>3</th>\n",
       "      <td>00085550d7aa4e4f322a79effc6cc3fc</td>\n",
       "      <td>a6238e443bc03bfc46b3f6799c16ae2c</td>\n",
       "      <td>1033143</td>\n",
       "    </tr>\n",
       "    <tr>\n",
       "      <th>4</th>\n",
       "      <td>000c1d6349b283a51bc071e16a8ecb7a</td>\n",
       "      <td>9b3b61b0e9f6a17ad23750e4a6ad24a2</td>\n",
       "      <td>300000</td>\n",
       "    </tr>\n",
       "    <tr>\n",
       "      <th>...</th>\n",
       "      <td>...</td>\n",
       "      <td>...</td>\n",
       "      <td>...</td>\n",
       "    </tr>\n",
       "    <tr>\n",
       "      <th>64965</th>\n",
       "      <td>ffec1eefeca1a9e380f9f3a22741fd9b</td>\n",
       "      <td>f13ac74bb76453f35de347cef75169c9</td>\n",
       "      <td>1000</td>\n",
       "    </tr>\n",
       "    <tr>\n",
       "      <th>64966</th>\n",
       "      <td>fff0f5b16357c2708abb99912d4d8554</td>\n",
       "      <td>9e7ea3b96c3e22434f965b0429e0ca5c</td>\n",
       "      <td>1150000</td>\n",
       "    </tr>\n",
       "    <tr>\n",
       "      <th>64967</th>\n",
       "      <td>fff241fdea9422a93d907951b4378848</td>\n",
       "      <td>4aa9b0142b29517ec2838b24ec530e6b</td>\n",
       "      <td>80000</td>\n",
       "    </tr>\n",
       "    <tr>\n",
       "      <th>64968</th>\n",
       "      <td>fff5789119479e8add8babf66940bead</td>\n",
       "      <td>e030eb74a91918ebbbf361dae7e60270</td>\n",
       "      <td>20000</td>\n",
       "    </tr>\n",
       "    <tr>\n",
       "      <th>64969</th>\n",
       "      <td>fffc49ac5d2143cdad74064370a93cf1</td>\n",
       "      <td>1f429abe3196510d3b1f6437d392b70d</td>\n",
       "      <td>2000</td>\n",
       "    </tr>\n",
       "  </tbody>\n",
       "</table>\n",
       "<p>64970 rows × 3 columns</p>\n",
       "</div>"
      ],
      "text/plain": [
       "                                 sender                          receiver  \\\n",
       "0      00055b984cdfbe6b799d5debf8323c64  43026332e53541a19627d074c1833200   \n",
       "1      0006544b05ceb936b9ea7b2af41e8f22  060c23c14d40d3e85d6054783db38a02   \n",
       "2      000708e22b25c950d014c17e0424cbfb  042c9ebffdff74530d48a92d3a6b9ea3   \n",
       "3      00085550d7aa4e4f322a79effc6cc3fc  a6238e443bc03bfc46b3f6799c16ae2c   \n",
       "4      000c1d6349b283a51bc071e16a8ecb7a  9b3b61b0e9f6a17ad23750e4a6ad24a2   \n",
       "...                                 ...                               ...   \n",
       "64965  ffec1eefeca1a9e380f9f3a22741fd9b  f13ac74bb76453f35de347cef75169c9   \n",
       "64966  fff0f5b16357c2708abb99912d4d8554  9e7ea3b96c3e22434f965b0429e0ca5c   \n",
       "64967  fff241fdea9422a93d907951b4378848  4aa9b0142b29517ec2838b24ec530e6b   \n",
       "64968  fff5789119479e8add8babf66940bead  e030eb74a91918ebbbf361dae7e60270   \n",
       "64969  fffc49ac5d2143cdad74064370a93cf1  1f429abe3196510d3b1f6437d392b70d   \n",
       "\n",
       "        amount  \n",
       "0         1500  \n",
       "1        20000  \n",
       "2       500000  \n",
       "3      1033143  \n",
       "4       300000  \n",
       "...        ...  \n",
       "64965     1000  \n",
       "64966  1150000  \n",
       "64967    80000  \n",
       "64968    20000  \n",
       "64969     2000  \n",
       "\n",
       "[64970 rows x 3 columns]"
      ]
     },
     "execution_count": 13,
     "metadata": {},
     "output_type": "execute_result"
    }
   ],
   "source": [
    "transform_df = df.groupby(['sender', 'receiver']).agg({\n",
    "    'amount': 'sum'\n",
    "})\n",
    "transform_df.reset_index(inplace=True)\n",
    "transform_df"
   ]
  },
  {
   "cell_type": "code",
   "execution_count": 14,
   "metadata": {},
   "outputs": [],
   "source": [
    "for sender, receiver, amount in transform_df.values:\n",
    "    new_edge = sendTo.createDocument({\n",
    "        \"_from\": \"users/\" + sender,\n",
    "        \"_to\": \"users/\" + receiver\n",
    "    })\n",
    "    new_edge.save()"
   ]
  },
  {
   "cell_type": "code",
   "execution_count": null,
   "metadata": {},
   "outputs": [],
   "source": []
  }
 ],
 "metadata": {
  "kernelspec": {
   "display_name": "Python 3",
   "language": "python",
   "name": "python3"
  },
  "language_info": {
   "codemirror_mode": {
    "name": "ipython",
    "version": 3
   },
   "file_extension": ".py",
   "mimetype": "text/x-python",
   "name": "python",
   "nbconvert_exporter": "python",
   "pygments_lexer": "ipython3",
   "version": "3.6.9"
  }
 },
 "nbformat": 4,
 "nbformat_minor": 4
}
