{
 "cells": [
  {
   "cell_type": "code",
   "execution_count": 16,
   "metadata": {},
   "outputs": [],
   "source": [
    "import pandas as pd\n",
    "import json"
   ]
  },
  {
   "cell_type": "code",
   "execution_count": 9,
   "metadata": {},
   "outputs": [
    {
     "data": {
      "text/html": [
       "<div>\n",
       "<style scoped>\n",
       "    .dataframe tbody tr th:only-of-type {\n",
       "        vertical-align: middle;\n",
       "    }\n",
       "\n",
       "    .dataframe tbody tr th {\n",
       "        vertical-align: top;\n",
       "    }\n",
       "\n",
       "    .dataframe thead th {\n",
       "        text-align: right;\n",
       "    }\n",
       "</style>\n",
       "<table border=\"1\" class=\"dataframe\">\n",
       "  <thead>\n",
       "    <tr style=\"text-align: right;\">\n",
       "      <th></th>\n",
       "      <th>Merchant</th>\n",
       "      <th>App ID</th>\n",
       "      <th>App Name</th>\n",
       "    </tr>\n",
       "  </thead>\n",
       "  <tbody>\n",
       "    <tr>\n",
       "      <th>0</th>\n",
       "      <td>App Test</td>\n",
       "      <td>3</td>\n",
       "      <td>App Test</td>\n",
       "    </tr>\n",
       "    <tr>\n",
       "      <th>1</th>\n",
       "      <td>App Test</td>\n",
       "      <td>742</td>\n",
       "      <td>Food Delivery</td>\n",
       "    </tr>\n",
       "    <tr>\n",
       "      <th>2</th>\n",
       "      <td>App Test</td>\n",
       "      <td>10033</td>\n",
       "      <td>MEP Test</td>\n",
       "    </tr>\n",
       "    <tr>\n",
       "      <th>3</th>\n",
       "      <td>App Test</td>\n",
       "      <td>10034</td>\n",
       "      <td>SP Test App</td>\n",
       "    </tr>\n",
       "    <tr>\n",
       "      <th>4</th>\n",
       "      <td>Business Service</td>\n",
       "      <td>26</td>\n",
       "      <td>CSM VIP</td>\n",
       "    </tr>\n",
       "  </tbody>\n",
       "</table>\n",
       "</div>"
      ],
      "text/plain": [
       "           Merchant  App ID       App Name\n",
       "0          App Test       3       App Test\n",
       "1          App Test     742  Food Delivery\n",
       "2          App Test   10033       MEP Test\n",
       "3          App Test   10034    SP Test App\n",
       "4  Business Service      26        CSM VIP"
      ]
     },
     "execution_count": 9,
     "metadata": {},
     "output_type": "execute_result"
    }
   ],
   "source": [
    "df = pd.read_excel('AppID Merchant.xlsx')\n",
    "df = df[['Merchant', 'App ID', \"App Name\"]]\n",
    "df.head()"
   ]
  },
  {
   "cell_type": "code",
   "execution_count": 20,
   "metadata": {},
   "outputs": [],
   "source": [
    "def genCode(row):\n",
    "    return {\n",
    "        \"_key\": str(row['App ID']),\n",
    "        \"merchant\": row['Merchant'],\n",
    "        \"appName\": row['App Name']\n",
    "    }"
   ]
  },
  {
   "cell_type": "code",
   "execution_count": 21,
   "metadata": {},
   "outputs": [],
   "source": [
    "df['arangoCode'] = df.apply(genCode, axis=1)"
   ]
  },
  {
   "cell_type": "code",
   "execution_count": 22,
   "metadata": {},
   "outputs": [],
   "source": [
    "json.dump(df['arangoCode'].tolist(), open('./merchant.json', 'w'))"
   ]
  },
  {
   "cell_type": "code",
   "execution_count": 23,
   "metadata": {},
   "outputs": [
    {
     "name": "stdout",
     "output_type": "stream",
     "text": [
      "\u001b[33m2020-10-28T07:19:56Z [25233] WARNING capping --threads value to 8\u001b[0m\n",
      "Connected to ArangoDB 'http+tcp://127.0.0.1:8529, version: 3.7.3, database: '_system', username: 'root'\n",
      "----------------------------------------\n",
      "database:               _system\n",
      "collection:             merchant\n",
      "create:                 yes\n",
      "create database:        no\n",
      "source filename:        merchant.json\n",
      "file type:              json\n",
      "threads:                8\n",
      "connect timeout:        5\n",
      "request timeout:        1200\n",
      "----------------------------------------\n",
      "Starting JSON import...\n",
      "\u001b[0m2020-10-28T07:19:56Z [25233] INFO [9ddf3] processed 32767 bytes (3%) of input file\n",
      "\u001b[0m\u001b[0m2020-10-28T07:19:56Z [25233] INFO [9ddf3] processed 34048 bytes (99%) of input file\n",
      "\u001b[0m\n",
      "created:          452\n",
      "warnings/errors:  0\n",
      "updated/replaced: 0\n",
      "ignored:          0\n"
     ]
    }
   ],
   "source": [
    "!arangoimport --server.username=\"root\" --server.password=\"\" --create-collection true --collection merchant \"merchant.json\" --threads 32"
   ]
  },
  {
   "cell_type": "code",
   "execution_count": null,
   "metadata": {},
   "outputs": [],
   "source": []
  }
 ],
 "metadata": {
  "kernelspec": {
   "display_name": "Python 3",
   "language": "python",
   "name": "python3"
  },
  "language_info": {
   "codemirror_mode": {
    "name": "ipython",
    "version": 3
   },
   "file_extension": ".py",
   "mimetype": "text/x-python",
   "name": "python",
   "nbconvert_exporter": "python",
   "pygments_lexer": "ipython3",
   "version": "3.6.9"
  }
 },
 "nbformat": 4,
 "nbformat_minor": 4
}
