{
 "cells": [
  {
   "cell_type": "code",
   "execution_count": 2,
   "metadata": {},
   "outputs": [],
   "source": [
    "from pyArango.connection import *\n",
    "conn = Connection(username='root', password=\"\")"
   ]
  },
  {
   "cell_type": "code",
   "execution_count": 3,
   "metadata": {},
   "outputs": [],
   "source": [
    "db = conn['_system']"
   ]
  },
  {
   "cell_type": "code",
   "execution_count": 4,
   "metadata": {},
   "outputs": [],
   "source": [
    "col = db['transaction']"
   ]
  },
  {
   "cell_type": "code",
   "execution_count": 5,
   "metadata": {},
   "outputs": [],
   "source": [
    "filter_list = []\n",
    "for x in col.fetchAll():\n",
    "    _from = x._from.split('/')[0] == 'userid'\n",
    "    _to = x._to.split('/')[0] == 'userid'\n",
    "    if _from and _to:\n",
    "        filter_list.append({'from': x._from, 'to': x._to})"
   ]
  },
  {
   "cell_type": "code",
   "execution_count": 6,
   "metadata": {},
   "outputs": [],
   "source": [
    "import pandas as pd"
   ]
  },
  {
   "cell_type": "code",
   "execution_count": 12,
   "metadata": {},
   "outputs": [
    {
     "data": {
      "text/html": [
       "<div>\n",
       "<style scoped>\n",
       "    .dataframe tbody tr th:only-of-type {\n",
       "        vertical-align: middle;\n",
       "    }\n",
       "\n",
       "    .dataframe tbody tr th {\n",
       "        vertical-align: top;\n",
       "    }\n",
       "\n",
       "    .dataframe thead th {\n",
       "        text-align: right;\n",
       "    }\n",
       "</style>\n",
       "<table border=\"1\" class=\"dataframe\">\n",
       "  <thead>\n",
       "    <tr style=\"text-align: right;\">\n",
       "      <th></th>\n",
       "      <th>from</th>\n",
       "      <th>to</th>\n",
       "    </tr>\n",
       "  </thead>\n",
       "  <tbody>\n",
       "    <tr>\n",
       "      <th>0</th>\n",
       "      <td>userid/180220000003035</td>\n",
       "      <td>userid/181008000006515</td>\n",
       "    </tr>\n",
       "    <tr>\n",
       "      <th>1</th>\n",
       "      <td>userid/200120000037679</td>\n",
       "      <td>userid/200622000027456</td>\n",
       "    </tr>\n",
       "    <tr>\n",
       "      <th>2</th>\n",
       "      <td>userid/180220000003035</td>\n",
       "      <td>userid/181008000006515</td>\n",
       "    </tr>\n",
       "    <tr>\n",
       "      <th>3</th>\n",
       "      <td>userid/200726000005098</td>\n",
       "      <td>userid/200609000011570</td>\n",
       "    </tr>\n",
       "    <tr>\n",
       "      <th>4</th>\n",
       "      <td>userid/181011000004220</td>\n",
       "      <td>userid/181113000008259</td>\n",
       "    </tr>\n",
       "  </tbody>\n",
       "</table>\n",
       "</div>"
      ],
      "text/plain": [
       "                     from                      to\n",
       "0  userid/180220000003035  userid/181008000006515\n",
       "1  userid/200120000037679  userid/200622000027456\n",
       "2  userid/180220000003035  userid/181008000006515\n",
       "3  userid/200726000005098  userid/200609000011570\n",
       "4  userid/181011000004220  userid/181113000008259"
      ]
     },
     "execution_count": 12,
     "metadata": {},
     "output_type": "execute_result"
    }
   ],
   "source": [
    "df = pd.DataFrame(filter_list)\n",
    "df.head()"
   ]
  },
  {
   "cell_type": "code",
   "execution_count": 18,
   "metadata": {},
   "outputs": [],
   "source": [
    "def genHash(row):\n",
    "    return {\n",
    "        \"from\": hash(row['from'].split('/')[1]),\n",
    "        \"to\": hash(row['to'].split('/')[1])\n",
    "    }"
   ]
  },
  {
   "cell_type": "code",
   "execution_count": 24,
   "metadata": {},
   "outputs": [],
   "source": [
    "new_df = df.apply(genHash, axis=1)"
   ]
  },
  {
   "cell_type": "code",
   "execution_count": 23,
   "metadata": {},
   "outputs": [
    {
     "data": {
      "text/html": [
       "<div>\n",
       "<style scoped>\n",
       "    .dataframe tbody tr th:only-of-type {\n",
       "        vertical-align: middle;\n",
       "    }\n",
       "\n",
       "    .dataframe tbody tr th {\n",
       "        vertical-align: top;\n",
       "    }\n",
       "\n",
       "    .dataframe thead th {\n",
       "        text-align: right;\n",
       "    }\n",
       "</style>\n",
       "<table border=\"1\" class=\"dataframe\">\n",
       "  <thead>\n",
       "    <tr style=\"text-align: right;\">\n",
       "      <th></th>\n",
       "      <th>0</th>\n",
       "    </tr>\n",
       "  </thead>\n",
       "  <tbody>\n",
       "    <tr>\n",
       "      <th>0</th>\n",
       "      <td>{'from': 4847678367059974651, 'to': 4337044294...</td>\n",
       "    </tr>\n",
       "    <tr>\n",
       "      <th>1</th>\n",
       "      <td>{'from': 1799303689664477845, 'to': -624959095...</td>\n",
       "    </tr>\n",
       "    <tr>\n",
       "      <th>2</th>\n",
       "      <td>{'from': 4847678367059974651, 'to': 4337044294...</td>\n",
       "    </tr>\n",
       "    <tr>\n",
       "      <th>3</th>\n",
       "      <td>{'from': -8253077380549246991, 'to': -31981236...</td>\n",
       "    </tr>\n",
       "    <tr>\n",
       "      <th>4</th>\n",
       "      <td>{'from': 8394748714991401018, 'to': -751024966...</td>\n",
       "    </tr>\n",
       "    <tr>\n",
       "      <th>...</th>\n",
       "      <td>...</td>\n",
       "    </tr>\n",
       "    <tr>\n",
       "      <th>481066</th>\n",
       "      <td>{'from': -7518508301663292474, 'to': 473249425...</td>\n",
       "    </tr>\n",
       "    <tr>\n",
       "      <th>481067</th>\n",
       "      <td>{'from': 1844282262172934169, 'to': 7695800041...</td>\n",
       "    </tr>\n",
       "    <tr>\n",
       "      <th>481068</th>\n",
       "      <td>{'from': -4267479629850404893, 'to': 222260174...</td>\n",
       "    </tr>\n",
       "    <tr>\n",
       "      <th>481069</th>\n",
       "      <td>{'from': 7375233664228572355, 'to': -659686826...</td>\n",
       "    </tr>\n",
       "    <tr>\n",
       "      <th>481070</th>\n",
       "      <td>{'from': 5507204210367677371, 'to': 2377112455...</td>\n",
       "    </tr>\n",
       "  </tbody>\n",
       "</table>\n",
       "<p>481071 rows × 1 columns</p>\n",
       "</div>"
      ],
      "text/plain": [
       "                                                        0\n",
       "0       {'from': 4847678367059974651, 'to': 4337044294...\n",
       "1       {'from': 1799303689664477845, 'to': -624959095...\n",
       "2       {'from': 4847678367059974651, 'to': 4337044294...\n",
       "3       {'from': -8253077380549246991, 'to': -31981236...\n",
       "4       {'from': 8394748714991401018, 'to': -751024966...\n",
       "...                                                   ...\n",
       "481066  {'from': -7518508301663292474, 'to': 473249425...\n",
       "481067  {'from': 1844282262172934169, 'to': 7695800041...\n",
       "481068  {'from': -4267479629850404893, 'to': 222260174...\n",
       "481069  {'from': 7375233664228572355, 'to': -659686826...\n",
       "481070  {'from': 5507204210367677371, 'to': 2377112455...\n",
       "\n",
       "[481071 rows x 1 columns]"
      ]
     },
     "execution_count": 23,
     "metadata": {},
     "output_type": "execute_result"
    }
   ],
   "source": [
    "new_df"
   ]
  },
  {
   "cell_type": "code",
   "execution_count": 10,
   "metadata": {},
   "outputs": [
    {
     "data": {
      "text/plain": [
       "7376229909065196929"
      ]
     },
     "execution_count": 10,
     "metadata": {},
     "output_type": "execute_result"
    }
   ],
   "source": [
    "hash('userid/180220000003035')"
   ]
  },
  {
   "cell_type": "code",
   "execution_count": null,
   "metadata": {},
   "outputs": [],
   "source": []
  }
 ],
 "metadata": {
  "kernelspec": {
   "display_name": "Python 3",
   "language": "python",
   "name": "python3"
  },
  "language_info": {
   "codemirror_mode": {
    "name": "ipython",
    "version": 3
   },
   "file_extension": ".py",
   "mimetype": "text/x-python",
   "name": "python",
   "nbconvert_exporter": "python",
   "pygments_lexer": "ipython3",
   "version": "3.8.5"
  }
 },
 "nbformat": 4,
 "nbformat_minor": 4
}
