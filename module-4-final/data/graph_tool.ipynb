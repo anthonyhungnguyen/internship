{
 "cells": [
  {
   "cell_type": "code",
   "execution_count": 1,
   "metadata": {},
   "outputs": [],
   "source": [
    "from graph_tool.all import *\n",
    "import pandas as pd"
   ]
  },
  {
   "cell_type": "code",
   "execution_count": 2,
   "metadata": {},
   "outputs": [],
   "source": [
    "g = Graph()"
   ]
  },
  {
   "cell_type": "markdown",
   "metadata": {},
   "source": [
    "# Setup"
   ]
  },
  {
   "cell_type": "code",
   "execution_count": 3,
   "metadata": {},
   "outputs": [],
   "source": [
    "import networkx as nx\n",
    "import graph_tool as gt\n",
    "\n",
    "def get_prop_type(value, key=None):\n",
    "    \"\"\"\n",
    "    Performs typing and value conversion for the graph_tool PropertyMap class.\n",
    "    If a key is provided, it also ensures the key is in a format that can be\n",
    "    used with the PropertyMap. Returns a tuple, (type name, value, key)\n",
    "    \"\"\"\n",
    "    if isinstance(key, str):\n",
    "        # Encode the key as utf-8\n",
    "        key = key.encode('utf-8', errors='replace')\n",
    "\n",
    "    # Deal with the value\n",
    "    if isinstance(value, bool):\n",
    "        tname = 'bool'\n",
    "\n",
    "    elif isinstance(value, int):\n",
    "        tname = 'float'\n",
    "        value = float(value)\n",
    "\n",
    "    elif isinstance(value, float):\n",
    "        tname = 'float'\n",
    "\n",
    "    elif isinstance(value, str):\n",
    "        tname = 'string'\n",
    "        value = value.encode('utf-8', errors='replace')\n",
    "\n",
    "    elif isinstance(value, dict):\n",
    "        tname = 'object'\n",
    "\n",
    "    else:\n",
    "        tname = 'string'\n",
    "        value = str(value)\n",
    "        \n",
    "    #If key is a byte value, decode it to string\n",
    "    try:\n",
    "        key = key.decode('utf-8')\n",
    "    except AttributeError:\n",
    "        pass\n",
    "\n",
    "    return tname, value, key\n",
    "\n",
    "\n",
    "def nx2gt(nxG):\n",
    "    \"\"\"\n",
    "    Converts a networkx graph to a graph-tool graph.\n",
    "    \"\"\"\n",
    "    # Phase 0: Create a directed or undirected graph-tool Graph\n",
    "    gtG = gt.Graph(directed=nxG.is_directed())\n",
    "\n",
    "    # Add the Graph properties as \"internal properties\"\n",
    "    for key, value in list(nxG.graph.items()):\n",
    "        # Convert the value and key into a type for graph-tool\n",
    "        tname, value, key = get_prop_type(value, key)\n",
    "\n",
    "        prop = gtG.new_graph_property(tname) # Create the PropertyMap\n",
    "        \n",
    "        gtG.graph_properties[key] = prop     # Set the PropertyMap\n",
    "        gtG.graph_properties[key] = value    # Set the actual value\n",
    "\n",
    "    # Phase 1: Add the vertex and edge property maps\n",
    "    # Go through all nodes and edges and add seen properties\n",
    "    # Add the node properties first\n",
    "    nprops = set() # cache keys to only add properties once\n",
    "    for node, data in nxG.nodes(data=True):\n",
    "\n",
    "        # Go through all the properties if not seen and add them.\n",
    "        for key, val in list(data.items()):            \n",
    "            if key in nprops: continue # Skip properties already added\n",
    "\n",
    "            # Convert the value and key into a type for graph-tool\n",
    "            tname, _, key  = get_prop_type(val, key)\n",
    "\n",
    "            prop = gtG.new_vertex_property(tname) # Create the PropertyMap\n",
    "            gtG.vertex_properties[key] = prop     # Set the PropertyMap\n",
    "\n",
    "            # Add the key to the already seen properties\n",
    "            nprops.add(key)\n",
    "\n",
    "    # Also add the node id: in NetworkX a node can be any hashable type, but\n",
    "    # in graph-tool node are defined as indices. So we capture any strings\n",
    "    # in a special PropertyMap called 'id' -- modify as needed!\n",
    "    gtG.vertex_properties['id'] = gtG.new_vertex_property('string')\n",
    "\n",
    "    # Add the edge properties second\n",
    "    eprops = set() # cache keys to only add properties once\n",
    "    for src, dst, data in nxG.edges(data=True):\n",
    "\n",
    "        # Go through all the edge properties if not seen and add them.\n",
    "        for key, val in list(data.items()):            \n",
    "            if key in eprops: continue # Skip properties already added\n",
    "\n",
    "            # Convert the value and key into a type for graph-tool\n",
    "            tname, _, key = get_prop_type(val, key)\n",
    "            \n",
    "            prop = gtG.new_edge_property(tname) # Create the PropertyMap\n",
    "            gtG.edge_properties[key] = prop     # Set the PropertyMap\n",
    "\n",
    "            # Add the key to the already seen properties\n",
    "            eprops.add(key)\n",
    "\n",
    "    # Phase 2: Actually add all the nodes and vertices with their properties\n",
    "    # Add the nodes\n",
    "    vertices = {} # vertex mapping for tracking edges later\n",
    "    for node, data in nxG.nodes(data=True):\n",
    "\n",
    "        # Create the vertex and annotate for our edges later\n",
    "        v = gtG.add_vertex()\n",
    "        vertices[node] = v\n",
    "\n",
    "        # Set the vertex properties, not forgetting the id property\n",
    "        data['id'] = str(node)\n",
    "        for key, value in list(data.items()):\n",
    "            gtG.vp[key][v] = value # vp is short for vertex_properties\n",
    "\n",
    "    # Add the edges\n",
    "    for src, dst, data in nxG.edges(data=True):\n",
    "\n",
    "        # Look up the vertex structs from our vertices mapping and add edge.\n",
    "        e = gtG.add_edge(vertices[src], vertices[dst])\n",
    "\n",
    "        # Add the edge properties\n",
    "        for key, value in list(data.items()):\n",
    "            gtG.ep[key][e] = value # ep is short for edge_properties\n",
    "\n",
    "    # Done, finally!\n",
    "    return gtG"
   ]
  },
  {
   "cell_type": "markdown",
   "metadata": {},
   "source": [
    "# Load data"
   ]
  },
  {
   "cell_type": "markdown",
   "metadata": {},
   "source": [
    "## Load nodes"
   ]
  },
  {
   "cell_type": "code",
   "execution_count": 103,
   "metadata": {},
   "outputs": [
    {
     "data": {
      "text/html": [
       "<div>\n",
       "<style scoped>\n",
       "    .dataframe tbody tr th:only-of-type {\n",
       "        vertical-align: middle;\n",
       "    }\n",
       "\n",
       "    .dataframe tbody tr th {\n",
       "        vertical-align: top;\n",
       "    }\n",
       "\n",
       "    .dataframe thead th {\n",
       "        text-align: right;\n",
       "    }\n",
       "</style>\n",
       "<table border=\"1\" class=\"dataframe\">\n",
       "  <thead>\n",
       "    <tr style=\"text-align: right;\">\n",
       "      <th></th>\n",
       "      <th>id</th>\n",
       "      <th>group</th>\n",
       "      <th>expanded</th>\n",
       "      <th>type</th>\n",
       "      <th>x</th>\n",
       "      <th>y</th>\n",
       "      <th>name</th>\n",
       "      <th>category</th>\n",
       "    </tr>\n",
       "  </thead>\n",
       "  <tbody>\n",
       "    <tr>\n",
       "      <th>0</th>\n",
       "      <td>191129565003782</td>\n",
       "      <td>0.0</td>\n",
       "      <td>True</td>\n",
       "      <td>graph0_user</td>\n",
       "      <td>-208.402008</td>\n",
       "      <td>-2087.991699</td>\n",
       "      <td>NaN</td>\n",
       "      <td>NaN</td>\n",
       "    </tr>\n",
       "    <tr>\n",
       "      <th>1</th>\n",
       "      <td>65acb153c62cbe7e</td>\n",
       "      <td>NaN</td>\n",
       "      <td>True</td>\n",
       "      <td>graph0_device</td>\n",
       "      <td>-240.235794</td>\n",
       "      <td>-2049.601562</td>\n",
       "      <td>65acb153c62cbe7e</td>\n",
       "      <td>3.0</td>\n",
       "    </tr>\n",
       "    <tr>\n",
       "      <th>2</th>\n",
       "      <td>916c42063aa907ef</td>\n",
       "      <td>NaN</td>\n",
       "      <td>True</td>\n",
       "      <td>graph0_device</td>\n",
       "      <td>-219.403458</td>\n",
       "      <td>-2090.604248</td>\n",
       "      <td>916c42063aa907ef</td>\n",
       "      <td>3.0</td>\n",
       "    </tr>\n",
       "    <tr>\n",
       "      <th>3</th>\n",
       "      <td>605496a5d2507a6a</td>\n",
       "      <td>NaN</td>\n",
       "      <td>True</td>\n",
       "      <td>graph0_device</td>\n",
       "      <td>-145.893158</td>\n",
       "      <td>-2151.838379</td>\n",
       "      <td>605496a5d2507a6a</td>\n",
       "      <td>3.0</td>\n",
       "    </tr>\n",
       "    <tr>\n",
       "      <th>4</th>\n",
       "      <td>190802000002131</td>\n",
       "      <td>NaN</td>\n",
       "      <td>True</td>\n",
       "      <td>graph0_user</td>\n",
       "      <td>-217.167267</td>\n",
       "      <td>-2164.034424</td>\n",
       "      <td>190802000002131</td>\n",
       "      <td>0.0</td>\n",
       "    </tr>\n",
       "  </tbody>\n",
       "</table>\n",
       "</div>"
      ],
      "text/plain": [
       "                 id  group  expanded           type           x            y  \\\n",
       "0   191129565003782    0.0      True    graph0_user -208.402008 -2087.991699   \n",
       "1  65acb153c62cbe7e    NaN      True  graph0_device -240.235794 -2049.601562   \n",
       "2  916c42063aa907ef    NaN      True  graph0_device -219.403458 -2090.604248   \n",
       "3  605496a5d2507a6a    NaN      True  graph0_device -145.893158 -2151.838379   \n",
       "4   190802000002131    NaN      True    graph0_user -217.167267 -2164.034424   \n",
       "\n",
       "               name  category  \n",
       "0               NaN       NaN  \n",
       "1  65acb153c62cbe7e       3.0  \n",
       "2  916c42063aa907ef       3.0  \n",
       "3  605496a5d2507a6a       3.0  \n",
       "4   190802000002131       0.0  "
      ]
     },
     "execution_count": 103,
     "metadata": {},
     "output_type": "execute_result"
    }
   ],
   "source": [
    "nodes = pd.read_json('investigation/nodes.json')\n",
    "nodes[:5]"
   ]
  },
  {
   "cell_type": "markdown",
   "metadata": {},
   "source": [
    "## Load edges"
   ]
  },
  {
   "cell_type": "code",
   "execution_count": 104,
   "metadata": {},
   "outputs": [
    {
     "data": {
      "text/html": [
       "<div>\n",
       "<style scoped>\n",
       "    .dataframe tbody tr th:only-of-type {\n",
       "        vertical-align: middle;\n",
       "    }\n",
       "\n",
       "    .dataframe tbody tr th {\n",
       "        vertical-align: top;\n",
       "    }\n",
       "\n",
       "    .dataframe thead th {\n",
       "        text-align: right;\n",
       "    }\n",
       "</style>\n",
       "<table border=\"1\" class=\"dataframe\">\n",
       "  <thead>\n",
       "    <tr style=\"text-align: right;\">\n",
       "      <th></th>\n",
       "      <th>source</th>\n",
       "      <th>target</th>\n",
       "    </tr>\n",
       "  </thead>\n",
       "  <tbody>\n",
       "    <tr>\n",
       "      <th>0</th>\n",
       "      <td>191129565003782</td>\n",
       "      <td>65acb153c62cbe7e</td>\n",
       "    </tr>\n",
       "    <tr>\n",
       "      <th>1</th>\n",
       "      <td>191129565003782</td>\n",
       "      <td>916c42063aa907ef</td>\n",
       "    </tr>\n",
       "    <tr>\n",
       "      <th>2</th>\n",
       "      <td>191129565003782</td>\n",
       "      <td>605496a5d2507a6a</td>\n",
       "    </tr>\n",
       "    <tr>\n",
       "      <th>3</th>\n",
       "      <td>190802000002131</td>\n",
       "      <td>916c42063aa907ef</td>\n",
       "    </tr>\n",
       "    <tr>\n",
       "      <th>4</th>\n",
       "      <td>190802000009180</td>\n",
       "      <td>605496a5d2507a6a</td>\n",
       "    </tr>\n",
       "  </tbody>\n",
       "</table>\n",
       "</div>"
      ],
      "text/plain": [
       "            source            target\n",
       "0  191129565003782  65acb153c62cbe7e\n",
       "1  191129565003782  916c42063aa907ef\n",
       "2  191129565003782  605496a5d2507a6a\n",
       "3  190802000002131  916c42063aa907ef\n",
       "4  190802000009180  605496a5d2507a6a"
      ]
     },
     "execution_count": 104,
     "metadata": {},
     "output_type": "execute_result"
    }
   ],
   "source": [
    "links = pd.read_json('investigation/links.json')\n",
    "links[:5]"
   ]
  },
  {
   "cell_type": "markdown",
   "metadata": {},
   "source": [
    "## Make Graph"
   ]
  },
  {
   "cell_type": "code",
   "execution_count": 107,
   "metadata": {},
   "outputs": [],
   "source": [
    "G = nx.Graph()"
   ]
  },
  {
   "cell_type": "code",
   "execution_count": 108,
   "metadata": {},
   "outputs": [],
   "source": [
    "G.add_nodes_from(nodes['id'].tolist())"
   ]
  },
  {
   "cell_type": "code",
   "execution_count": 109,
   "metadata": {},
   "outputs": [],
   "source": [
    "G.add_edges_from([tuple(x) for x in links.to_numpy()])"
   ]
  },
  {
   "cell_type": "code",
   "execution_count": 110,
   "metadata": {},
   "outputs": [
    {
     "name": "stdout",
     "output_type": "stream",
     "text": [
      "Nodes:  79073\n",
      "Edges:  62845\n"
     ]
    }
   ],
   "source": [
    "print(\"Nodes: \",  G.number_of_nodes())\n",
    "print(\"Edges: \", G.number_of_edges())"
   ]
  },
  {
   "cell_type": "markdown",
   "metadata": {},
   "source": [
    "# Convert to graph-tool"
   ]
  },
  {
   "cell_type": "code",
   "execution_count": 111,
   "metadata": {},
   "outputs": [],
   "source": [
    "gtG = nx2gt(G)"
   ]
  },
  {
   "cell_type": "code",
   "execution_count": 112,
   "metadata": {},
   "outputs": [
    {
     "data": {
      "text/plain": [
       "<Graph object, undirected, with 79073 vertices and 62845 edges, 1 internal vertex property, at 0x7f79bfcf4d60>"
      ]
     },
     "execution_count": 112,
     "metadata": {},
     "output_type": "execute_result"
    }
   ],
   "source": [
    "gtG"
   ]
  },
  {
   "cell_type": "markdown",
   "metadata": {},
   "source": [
    "# Graph Analysis"
   ]
  },
  {
   "cell_type": "markdown",
   "metadata": {},
   "source": [
    "## Betweenness Metrics"
   ]
  },
  {
   "cell_type": "code",
   "execution_count": 113,
   "metadata": {},
   "outputs": [],
   "source": [
    "vp, ep = gt.centrality.betweenness(gtG)"
   ]
  },
  {
   "cell_type": "code",
   "execution_count": 114,
   "metadata": {},
   "outputs": [
    {
     "data": {
      "text/plain": [
       "('191129565003782', 8.052843197889652e-06)"
      ]
     },
     "execution_count": 114,
     "metadata": {},
     "output_type": "execute_result"
    }
   ],
   "source": [
    "gtG.vp.id[0], vp[1]"
   ]
  },
  {
   "cell_type": "code",
   "execution_count": 138,
   "metadata": {},
   "outputs": [],
   "source": [
    "betweenness_list = list({\"id\": x[0], \"s\": x[1]} for x in zip(gtG.vp.id, vp))"
   ]
  },
  {
   "cell_type": "code",
   "execution_count": 139,
   "metadata": {},
   "outputs": [
    {
     "data": {
      "text/plain": [
       "[{'id': '3a43b1c0-3d90-4d67-9f12-2143a53a8c8c', 's': 0.15098124796355988},\n",
       " {'id': '181020000005167', 's': 0.11161104275390461},\n",
       " {'id': '21e31aedd17e0e83', 's': 0.10849944246527257},\n",
       " {'id': 'bb0c21049fabcd30', 's': 0.10087991301091301},\n",
       " {'id': '170925000022096', 's': 0.0852634613998933},\n",
       " {'id': '357b1146696777de', 's': 0.08300013257843425},\n",
       " {'id': '190927000013903', 's': 0.08099509138306299},\n",
       " {'id': 'ea313a5dc143332d', 's': 0.08023763030448713},\n",
       " {'id': '2016d85ea3619630', 's': 0.07945175943651821},\n",
       " {'id': '190518000012062', 's': 0.07928312736806242},\n",
       " {'id': '191013221000689', 's': 0.07836227177228314},\n",
       " {'id': '191011798006758', 's': 0.07800985113624156},\n",
       " {'id': '36bee595987312e2', 's': 0.07800570953782641},\n",
       " {'id': '3c5ec67cc28e1769', 's': 0.07535392116457262},\n",
       " {'id': '190924000011186', 's': 0.07152930664418132},\n",
       " {'id': '190221000014512', 's': 0.0700257228870209},\n",
       " {'id': '191006682003225', 's': 0.06796817705029755},\n",
       " {'id': '191012000009351', 's': 0.06781497643635227},\n",
       " {'id': '191004182003348', 's': 0.06749628288300696},\n",
       " {'id': '5d081a692278574e', 's': 0.06741228520334266},\n",
       " {'id': '32c4aab65067bfa6', 's': 0.06549203204528875},\n",
       " {'id': '181125000002199', 's': 0.06509268156192753},\n",
       " {'id': 'ad712004ae97ecef', 's': 0.06395821185840977},\n",
       " {'id': '170223000002289', 's': 0.0617804797805322},\n",
       " {'id': '7fba3df8-b9b2-434f-8278-a1c22bbef18a', 's': 0.06173249391369532},\n",
       " {'id': '190613000124612', 's': 0.060628967447356324},\n",
       " {'id': '190304000000598', 's': 0.05825445347085266},\n",
       " {'id': '191011000017652', 's': 0.05758573291943388},\n",
       " {'id': '190925645002538', 's': 0.05618206978081826},\n",
       " {'id': '191012000007953', 's': 0.054502839125941935}]"
      ]
     },
     "execution_count": 139,
     "metadata": {},
     "output_type": "execute_result"
    }
   ],
   "source": [
    "betweenness_list = sorted(betweenness_list, key=lambda k: k['s'], reverse=True)\n",
    "betweenness_list[:30]"
   ]
  },
  {
   "cell_type": "code",
   "execution_count": 140,
   "metadata": {},
   "outputs": [
    {
     "name": "stdout",
     "output_type": "stream",
     "text": [
      "0.15083835105444052\n"
     ]
    }
   ],
   "source": [
    "print(gt.centrality.central_point_dominance(gtG, vp))"
   ]
  },
  {
   "cell_type": "code",
   "execution_count": 141,
   "metadata": {},
   "outputs": [
    {
     "name": "stdout",
     "output_type": "stream",
     "text": [
      "{'id': 'c650e49f-a0da-4c4c-a3ad-e1957a4d891f', 's': 0.03760078188620966}\n"
     ]
    }
   ],
   "source": [
    "for x in betweenness_list:\n",
    "    if x['id'] == 'c650e49f-a0da-4c4c-a3ad-e1957a4d891f':\n",
    "        print(x)\n",
    "        break"
   ]
  },
  {
   "cell_type": "markdown",
   "metadata": {},
   "source": [
    "## PageRank"
   ]
  },
  {
   "cell_type": "code",
   "execution_count": 119,
   "metadata": {},
   "outputs": [],
   "source": [
    "pr = gt.centrality.pagerank(gtG)"
   ]
  },
  {
   "cell_type": "code",
   "execution_count": 126,
   "metadata": {},
   "outputs": [],
   "source": [
    "pagerank_list = list({\"id\": x[0], \"s\": x[1]} for x in zip(gtG.vp.id, pr))"
   ]
  },
  {
   "cell_type": "code",
   "execution_count": 127,
   "metadata": {},
   "outputs": [
    {
     "data": {
      "text/plain": [
       "[{'id': '181104000001278', 's': 0.015281048474485774},\n",
       " {'id': '92ff9530442ba3af', 's': 0.007399437740596529},\n",
       " {'id': 'ea313a5dc143332d', 's': 0.007361123111820632},\n",
       " {'id': '170223000002289', 's': 0.006275777042987438},\n",
       " {'id': '4fc9899a2795a0ce', 's': 0.006182504930644087},\n",
       " {'id': '06db97b336d9dfda', 's': 0.004368357617363605},\n",
       " {'id': '547e7aa35af55fb7', 's': 0.004265969037056791},\n",
       " {'id': '1fa68cdc3d4067a5', 's': 0.003714108018976234},\n",
       " {'id': 'fdd18fb79098f389', 's': 0.003704151191527766},\n",
       " {'id': '0af4a07c22dff7e3', 's': 0.0034105941357226483},\n",
       " {'id': '190222000001425', 's': 0.0033866678664276153},\n",
       " {'id': '190111000003775', 's': 0.0031042983661353574},\n",
       " {'id': '180002c1e01fab36', 's': 0.0025168834915975332},\n",
       " {'id': '190002c1e01fab87', 's': 0.0024991517769794454},\n",
       " {'id': '1309c23d9e80c742', 's': 0.0022017536746402116},\n",
       " {'id': '191011000013977', 's': 0.001908760574237535},\n",
       " {'id': '170925000026056', 's': 0.001890771778486877},\n",
       " {'id': 'dd4758ae4fa3f225', 's': 0.0017850737652198567},\n",
       " {'id': '191011000018579', 's': 0.0017613883632242213},\n",
       " {'id': '669581c639301c92', 's': 0.0015590686191193776},\n",
       " {'id': '29439e5d58003388', 's': 0.0015138673003650908},\n",
       " {'id': '190612000382703', 's': 0.0014870116178681545},\n",
       " {'id': '3b4b52d5f89d003d', 's': 0.0014666037358566277},\n",
       " {'id': '131c1b0d5da0e348', 's': 0.0014440675423257317},\n",
       " {'id': '6e1e8afa2ba437e1', 's': 0.0014337029532654165},\n",
       " {'id': '191014000007851', 's': 0.0013943861963835768},\n",
       " {'id': '2309c23d9e80c642', 's': 0.0013637232950128903},\n",
       " {'id': '90c3b83d4ee12626', 's': 0.001321070260221691},\n",
       " {'id': '191011000017652', 's': 0.0012984737670419062},\n",
       " {'id': '3100ba956c2e4351', 's': 0.0012915407394865927}]"
      ]
     },
     "execution_count": 127,
     "metadata": {},
     "output_type": "execute_result"
    }
   ],
   "source": [
    "sorted(pagerank_list, key=lambda k: k['s'], reverse=True)[:30]"
   ]
  },
  {
   "cell_type": "code",
   "execution_count": 145,
   "metadata": {},
   "outputs": [],
   "source": [
    "clust = gt.clustering.local_clustering(gtG)"
   ]
  },
  {
   "cell_type": "code",
   "execution_count": 150,
   "metadata": {},
   "outputs": [],
   "source": [
    "cluster = list({\"id\": x[0], \"group\": x[1]} for x in zip(gtG.vp.id, clust))"
   ]
  },
  {
   "cell_type": "code",
   "execution_count": 154,
   "metadata": {},
   "outputs": [
    {
     "data": {
      "text/html": [
       "<div>\n",
       "<style scoped>\n",
       "    .dataframe tbody tr th:only-of-type {\n",
       "        vertical-align: middle;\n",
       "    }\n",
       "\n",
       "    .dataframe tbody tr th {\n",
       "        vertical-align: top;\n",
       "    }\n",
       "\n",
       "    .dataframe thead th {\n",
       "        text-align: right;\n",
       "    }\n",
       "</style>\n",
       "<table border=\"1\" class=\"dataframe\">\n",
       "  <thead>\n",
       "    <tr style=\"text-align: right;\">\n",
       "      <th></th>\n",
       "      <th>id</th>\n",
       "      <th>group</th>\n",
       "    </tr>\n",
       "  </thead>\n",
       "  <tbody>\n",
       "    <tr>\n",
       "      <th>0</th>\n",
       "      <td>191129565003782</td>\n",
       "      <td>0.0</td>\n",
       "    </tr>\n",
       "    <tr>\n",
       "      <th>1</th>\n",
       "      <td>65acb153c62cbe7e</td>\n",
       "      <td>0.0</td>\n",
       "    </tr>\n",
       "    <tr>\n",
       "      <th>2</th>\n",
       "      <td>916c42063aa907ef</td>\n",
       "      <td>0.0</td>\n",
       "    </tr>\n",
       "    <tr>\n",
       "      <th>3</th>\n",
       "      <td>605496a5d2507a6a</td>\n",
       "      <td>0.0</td>\n",
       "    </tr>\n",
       "    <tr>\n",
       "      <th>4</th>\n",
       "      <td>190802000002131</td>\n",
       "      <td>0.0</td>\n",
       "    </tr>\n",
       "    <tr>\n",
       "      <th>...</th>\n",
       "      <td>...</td>\n",
       "      <td>...</td>\n",
       "    </tr>\n",
       "    <tr>\n",
       "      <th>79068</th>\n",
       "      <td>200806000167857</td>\n",
       "      <td>0.0</td>\n",
       "    </tr>\n",
       "    <tr>\n",
       "      <th>79069</th>\n",
       "      <td>200819000010097</td>\n",
       "      <td>0.0</td>\n",
       "    </tr>\n",
       "    <tr>\n",
       "      <th>79070</th>\n",
       "      <td>200819000029258</td>\n",
       "      <td>0.0</td>\n",
       "    </tr>\n",
       "    <tr>\n",
       "      <th>79071</th>\n",
       "      <td>200921000001529</td>\n",
       "      <td>0.0</td>\n",
       "    </tr>\n",
       "    <tr>\n",
       "      <th>79072</th>\n",
       "      <td>200928000032086</td>\n",
       "      <td>0.0</td>\n",
       "    </tr>\n",
       "  </tbody>\n",
       "</table>\n",
       "<p>79073 rows × 2 columns</p>\n",
       "</div>"
      ],
      "text/plain": [
       "                     id  group\n",
       "0       191129565003782    0.0\n",
       "1      65acb153c62cbe7e    0.0\n",
       "2      916c42063aa907ef    0.0\n",
       "3      605496a5d2507a6a    0.0\n",
       "4       190802000002131    0.0\n",
       "...                 ...    ...\n",
       "79068   200806000167857    0.0\n",
       "79069   200819000010097    0.0\n",
       "79070   200819000029258    0.0\n",
       "79071   200921000001529    0.0\n",
       "79072   200928000032086    0.0\n",
       "\n",
       "[79073 rows x 2 columns]"
      ]
     },
     "execution_count": 154,
     "metadata": {},
     "output_type": "execute_result"
    }
   ],
   "source": [
    "cluster_df = pd.DataFrame(cluster)\n",
    "cluster_df"
   ]
  },
  {
   "cell_type": "code",
   "execution_count": 155,
   "metadata": {},
   "outputs": [
    {
     "data": {
      "text/plain": [
       "0.0    79073\n",
       "Name: group, dtype: int64"
      ]
     },
     "execution_count": 155,
     "metadata": {},
     "output_type": "execute_result"
    }
   ],
   "source": [
    "cluster_df.group.value_counts()"
   ]
  },
  {
   "cell_type": "code",
   "execution_count": 205,
   "metadata": {},
   "outputs": [],
   "source": [
    "state = gt.inference.minimize_blockmodel_dl(gtG)"
   ]
  },
  {
   "cell_type": "code",
   "execution_count": null,
   "metadata": {},
   "outputs": [],
   "source": [
    "state.draw(vertex_shape=state.get_blocks(),\n",
    "         output=\"polbooks_blocks_mdl.svg\")"
   ]
  },
  {
   "cell_type": "code",
   "execution_count": null,
   "metadata": {},
   "outputs": [],
   "source": [
    "state.get_B()"
   ]
  },
  {
   "cell_type": "markdown",
   "metadata": {},
   "source": [
    "# Graph0"
   ]
  },
  {
   "cell_type": "markdown",
   "metadata": {},
   "source": [
    "## Kruskal"
   ]
  },
  {
   "cell_type": "code",
   "execution_count": 57,
   "metadata": {},
   "outputs": [],
   "source": [
    "userID_accountID = pd.read_csv('raw/userID_accountID.csv')\n",
    "userID_cardID = pd.read_csv('raw/userID_cardID.csv')\n",
    "userID_deviceID = pd.read_csv('raw/userid_deviceid.csv')"
   ]
  },
  {
   "cell_type": "code",
   "execution_count": 58,
   "metadata": {},
   "outputs": [
    {
     "data": {
      "text/html": [
       "<div>\n",
       "<style scoped>\n",
       "    .dataframe tbody tr th:only-of-type {\n",
       "        vertical-align: middle;\n",
       "    }\n",
       "\n",
       "    .dataframe tbody tr th {\n",
       "        vertical-align: top;\n",
       "    }\n",
       "\n",
       "    .dataframe thead th {\n",
       "        text-align: right;\n",
       "    }\n",
       "</style>\n",
       "<table border=\"1\" class=\"dataframe\">\n",
       "  <thead>\n",
       "    <tr style=\"text-align: right;\">\n",
       "      <th></th>\n",
       "      <th>userID</th>\n",
       "      <th>accountID</th>\n",
       "    </tr>\n",
       "  </thead>\n",
       "  <tbody>\n",
       "    <tr>\n",
       "      <th>0</th>\n",
       "      <td>user/200221000026960</td>\n",
       "      <td>account/200221100002264</td>\n",
       "    </tr>\n",
       "    <tr>\n",
       "      <th>1</th>\n",
       "      <td>user/191206720001042</td>\n",
       "      <td>account/191206100000350</td>\n",
       "    </tr>\n",
       "    <tr>\n",
       "      <th>2</th>\n",
       "      <td>user/191210484000661</td>\n",
       "      <td>account/191210100000238</td>\n",
       "    </tr>\n",
       "    <tr>\n",
       "      <th>3</th>\n",
       "      <td>user/190709000001059</td>\n",
       "      <td>account/190707100001431</td>\n",
       "    </tr>\n",
       "    <tr>\n",
       "      <th>4</th>\n",
       "      <td>user/191227000009403</td>\n",
       "      <td>account/191227100000397</td>\n",
       "    </tr>\n",
       "  </tbody>\n",
       "</table>\n",
       "</div>"
      ],
      "text/plain": [
       "                 userID                accountID\n",
       "0  user/200221000026960  account/200221100002264\n",
       "1  user/191206720001042  account/191206100000350\n",
       "2  user/191210484000661  account/191210100000238\n",
       "3  user/190709000001059  account/190707100001431\n",
       "4  user/191227000009403  account/191227100000397"
      ]
     },
     "execution_count": 58,
     "metadata": {},
     "output_type": "execute_result"
    }
   ],
   "source": [
    "userID_accountID['userID'] = userID_accountID['userID'].apply(lambda x: f'user/{x}')\n",
    "userID_accountID['accountID'] = userID_accountID['accountID'].apply(lambda x: f'account/{x}')\n",
    "userID_accountID.head()"
   ]
  },
  {
   "cell_type": "code",
   "execution_count": 59,
   "metadata": {},
   "outputs": [
    {
     "data": {
      "text/html": [
       "<div>\n",
       "<style scoped>\n",
       "    .dataframe tbody tr th:only-of-type {\n",
       "        vertical-align: middle;\n",
       "    }\n",
       "\n",
       "    .dataframe tbody tr th {\n",
       "        vertical-align: top;\n",
       "    }\n",
       "\n",
       "    .dataframe thead th {\n",
       "        text-align: right;\n",
       "    }\n",
       "</style>\n",
       "<table border=\"1\" class=\"dataframe\">\n",
       "  <thead>\n",
       "    <tr style=\"text-align: right;\">\n",
       "      <th></th>\n",
       "      <th>userID</th>\n",
       "      <th>cardID</th>\n",
       "    </tr>\n",
       "  </thead>\n",
       "  <tbody>\n",
       "    <tr>\n",
       "      <th>0</th>\n",
       "      <td>user/191111735008352</td>\n",
       "      <td>card/191111000016864</td>\n",
       "    </tr>\n",
       "    <tr>\n",
       "      <th>1</th>\n",
       "      <td>user/180818000008076</td>\n",
       "      <td>card/200524000004399</td>\n",
       "    </tr>\n",
       "    <tr>\n",
       "      <th>2</th>\n",
       "      <td>user/190120000001593</td>\n",
       "      <td>card/190612000556786</td>\n",
       "    </tr>\n",
       "    <tr>\n",
       "      <th>3</th>\n",
       "      <td>user/191124227003671</td>\n",
       "      <td>card/191124000007604</td>\n",
       "    </tr>\n",
       "    <tr>\n",
       "      <th>4</th>\n",
       "      <td>user/191012537001139</td>\n",
       "      <td>card/191012000000490</td>\n",
       "    </tr>\n",
       "  </tbody>\n",
       "</table>\n",
       "</div>"
      ],
      "text/plain": [
       "                 userID                cardID\n",
       "0  user/191111735008352  card/191111000016864\n",
       "1  user/180818000008076  card/200524000004399\n",
       "2  user/190120000001593  card/190612000556786\n",
       "3  user/191124227003671  card/191124000007604\n",
       "4  user/191012537001139  card/191012000000490"
      ]
     },
     "execution_count": 59,
     "metadata": {},
     "output_type": "execute_result"
    }
   ],
   "source": [
    "userID_cardID['userID'] = userID_cardID['userID'].apply(lambda x: f'user/{x}')\n",
    "userID_cardID['cardID'] = userID_cardID['cardID'].apply(lambda x: f'card/{x}')\n",
    "userID_cardID.head()"
   ]
  },
  {
   "cell_type": "code",
   "execution_count": 60,
   "metadata": {},
   "outputs": [
    {
     "data": {
      "text/html": [
       "<div>\n",
       "<style scoped>\n",
       "    .dataframe tbody tr th:only-of-type {\n",
       "        vertical-align: middle;\n",
       "    }\n",
       "\n",
       "    .dataframe tbody tr th {\n",
       "        vertical-align: top;\n",
       "    }\n",
       "\n",
       "    .dataframe thead th {\n",
       "        text-align: right;\n",
       "    }\n",
       "</style>\n",
       "<table border=\"1\" class=\"dataframe\">\n",
       "  <thead>\n",
       "    <tr style=\"text-align: right;\">\n",
       "      <th></th>\n",
       "      <th>userID</th>\n",
       "      <th>deviceID</th>\n",
       "    </tr>\n",
       "  </thead>\n",
       "  <tbody>\n",
       "    <tr>\n",
       "      <th>0</th>\n",
       "      <td>user/190215000014037</td>\n",
       "      <td>device/5e34bdd5266ff7c6</td>\n",
       "    </tr>\n",
       "    <tr>\n",
       "      <th>1</th>\n",
       "      <td>user/190313000016148</td>\n",
       "      <td>device/1761c1b0d746b8e8</td>\n",
       "    </tr>\n",
       "    <tr>\n",
       "      <th>2</th>\n",
       "      <td>user/190318000000574</td>\n",
       "      <td>device/14e0d55eb848e527</td>\n",
       "    </tr>\n",
       "    <tr>\n",
       "      <th>3</th>\n",
       "      <td>user/190722000001381</td>\n",
       "      <td>device/1f6b129e317e35fa</td>\n",
       "    </tr>\n",
       "    <tr>\n",
       "      <th>4</th>\n",
       "      <td>user/191016219002578</td>\n",
       "      <td>device/0e2fa6b350f0f020</td>\n",
       "    </tr>\n",
       "  </tbody>\n",
       "</table>\n",
       "</div>"
      ],
      "text/plain": [
       "                 userID                 deviceID\n",
       "0  user/190215000014037  device/5e34bdd5266ff7c6\n",
       "1  user/190313000016148  device/1761c1b0d746b8e8\n",
       "2  user/190318000000574  device/14e0d55eb848e527\n",
       "3  user/190722000001381  device/1f6b129e317e35fa\n",
       "4  user/191016219002578  device/0e2fa6b350f0f020"
      ]
     },
     "execution_count": 60,
     "metadata": {},
     "output_type": "execute_result"
    }
   ],
   "source": [
    "userID_deviceID['userID'] = userID_deviceID['userID'].apply(lambda x: f'user/{x}')\n",
    "userID_deviceID['deviceID'] = userID_cardID['deviceID'].apply(lambda x: f'device/{x}')\n",
    "userID_deviceID.head()"
   ]
  },
  {
   "cell_type": "markdown",
   "metadata": {},
   "source": [
    "### Sub-processing"
   ]
  },
  {
   "cell_type": "code",
   "execution_count": 35,
   "metadata": {},
   "outputs": [],
   "source": [
    "subuser_list = userID_deviceID['userID'].tolist()[:5000]"
   ]
  },
  {
   "cell_type": "code",
   "execution_count": 36,
   "metadata": {},
   "outputs": [],
   "source": [
    "subuserIDdeviceID = userID_deviceID.loc[userID_deviceID.apply(lambda x: x['userID'] in subuser_list, axis=1)]"
   ]
  },
  {
   "cell_type": "code",
   "execution_count": 61,
   "metadata": {},
   "outputs": [
    {
     "data": {
      "text/html": [
       "<div>\n",
       "<style scoped>\n",
       "    .dataframe tbody tr th:only-of-type {\n",
       "        vertical-align: middle;\n",
       "    }\n",
       "\n",
       "    .dataframe tbody tr th {\n",
       "        vertical-align: top;\n",
       "    }\n",
       "\n",
       "    .dataframe thead th {\n",
       "        text-align: right;\n",
       "    }\n",
       "</style>\n",
       "<table border=\"1\" class=\"dataframe\">\n",
       "  <thead>\n",
       "    <tr style=\"text-align: right;\">\n",
       "      <th></th>\n",
       "      <th>userID</th>\n",
       "      <th>deviceID</th>\n",
       "    </tr>\n",
       "  </thead>\n",
       "  <tbody>\n",
       "    <tr>\n",
       "      <th>0</th>\n",
       "      <td>190215000014037</td>\n",
       "      <td>5e34bdd5266ff7c6</td>\n",
       "    </tr>\n",
       "    <tr>\n",
       "      <th>1</th>\n",
       "      <td>190313000016148</td>\n",
       "      <td>1761c1b0d746b8e8</td>\n",
       "    </tr>\n",
       "    <tr>\n",
       "      <th>2</th>\n",
       "      <td>190318000000574</td>\n",
       "      <td>14e0d55eb848e527</td>\n",
       "    </tr>\n",
       "    <tr>\n",
       "      <th>3</th>\n",
       "      <td>190722000001381</td>\n",
       "      <td>1f6b129e317e35fa</td>\n",
       "    </tr>\n",
       "    <tr>\n",
       "      <th>4</th>\n",
       "      <td>191016219002578</td>\n",
       "      <td>0e2fa6b350f0f020</td>\n",
       "    </tr>\n",
       "    <tr>\n",
       "      <th>...</th>\n",
       "      <td>...</td>\n",
       "      <td>...</td>\n",
       "    </tr>\n",
       "    <tr>\n",
       "      <th>218339</th>\n",
       "      <td>190905000002054</td>\n",
       "      <td>3c00559c3e3d8259</td>\n",
       "    </tr>\n",
       "    <tr>\n",
       "      <th>218340</th>\n",
       "      <td>160827000000530</td>\n",
       "      <td>b4f5eed0-b0a1-4a1b-8500-d5f3ad3ea8c0</td>\n",
       "    </tr>\n",
       "    <tr>\n",
       "      <th>218358</th>\n",
       "      <td>190301000002445</td>\n",
       "      <td>b99d39a3-2e45-4212-b453-52bfeaa0cda5</td>\n",
       "    </tr>\n",
       "    <tr>\n",
       "      <th>218361</th>\n",
       "      <td>190829000000083</td>\n",
       "      <td>bbe1dca0e9fca6b6</td>\n",
       "    </tr>\n",
       "    <tr>\n",
       "      <th>218365</th>\n",
       "      <td>190925803003400</td>\n",
       "      <td>eb124d66612bb9bb</td>\n",
       "    </tr>\n",
       "  </tbody>\n",
       "</table>\n",
       "<p>19918 rows × 2 columns</p>\n",
       "</div>"
      ],
      "text/plain": [
       "                 userID                              deviceID\n",
       "0       190215000014037                      5e34bdd5266ff7c6\n",
       "1       190313000016148                      1761c1b0d746b8e8\n",
       "2       190318000000574                      14e0d55eb848e527\n",
       "3       190722000001381                      1f6b129e317e35fa\n",
       "4       191016219002578                      0e2fa6b350f0f020\n",
       "...                 ...                                   ...\n",
       "218339  190905000002054                      3c00559c3e3d8259\n",
       "218340  160827000000530  b4f5eed0-b0a1-4a1b-8500-d5f3ad3ea8c0\n",
       "218358  190301000002445  b99d39a3-2e45-4212-b453-52bfeaa0cda5\n",
       "218361  190829000000083                      bbe1dca0e9fca6b6\n",
       "218365  190925803003400                      eb124d66612bb9bb\n",
       "\n",
       "[19918 rows x 2 columns]"
      ]
     },
     "execution_count": 61,
     "metadata": {},
     "output_type": "execute_result"
    }
   ],
   "source": [
    "subuserIDdeviceID"
   ]
  },
  {
   "cell_type": "markdown",
   "metadata": {},
   "source": [
    "### Total-processing"
   ]
  },
  {
   "cell_type": "code",
   "execution_count": 66,
   "metadata": {},
   "outputs": [],
   "source": [
    "user_list = list(set(userID_accountID['userID'].tolist() + \n",
    "            userID_deviceID['userID'].tolist() +\n",
    "            userID_cardID['userID'].tolist()))"
   ]
  },
  {
   "cell_type": "code",
   "execution_count": 68,
   "metadata": {},
   "outputs": [],
   "source": [
    "account_list = list(set(userID_accountID['accountID'].tolist()))"
   ]
  },
  {
   "cell_type": "code",
   "execution_count": 69,
   "metadata": {},
   "outputs": [],
   "source": [
    "card_list = list(set(userID_cardID['cardID'].tolist()))"
   ]
  },
  {
   "cell_type": "code",
   "execution_count": 70,
   "metadata": {},
   "outputs": [],
   "source": [
    "device_list = list(set(userID_deviceID['deviceID'].tolist()))"
   ]
  },
  {
   "cell_type": "markdown",
   "metadata": {},
   "source": [
    "## Make Graph"
   ]
  },
  {
   "cell_type": "code",
   "execution_count": 72,
   "metadata": {},
   "outputs": [],
   "source": [
    "nodes = user_list + account_list + card_list + device_list"
   ]
  },
  {
   "cell_type": "code",
   "execution_count": 79,
   "metadata": {},
   "outputs": [],
   "source": [
    "links = [tuple(x) for x in userID_accountID.to_numpy()] + [tuple(x) for x in userID_cardID.to_numpy()]+ [tuple(x) for x in userID_deviceID.to_numpy()]"
   ]
  },
  {
   "cell_type": "code",
   "execution_count": 85,
   "metadata": {},
   "outputs": [],
   "source": [
    "G = nx.Graph()"
   ]
  },
  {
   "cell_type": "code",
   "execution_count": 86,
   "metadata": {},
   "outputs": [],
   "source": [
    "G.add_nodes_from(nodes)"
   ]
  },
  {
   "cell_type": "code",
   "execution_count": 87,
   "metadata": {},
   "outputs": [],
   "source": [
    "G.add_edges_from(links)"
   ]
  },
  {
   "cell_type": "code",
   "execution_count": 88,
   "metadata": {},
   "outputs": [
    {
     "name": "stdout",
     "output_type": "stream",
     "text": [
      "Nodes:  311036\n",
      "Edges:  280277\n"
     ]
    }
   ],
   "source": [
    "print(\"Nodes: \",  G.number_of_nodes())\n",
    "print(\"Edges: \", G.number_of_edges())"
   ]
  },
  {
   "cell_type": "code",
   "execution_count": 89,
   "metadata": {},
   "outputs": [],
   "source": [
    "gtG = nx2gt(G)"
   ]
  },
  {
   "cell_type": "code",
   "execution_count": 90,
   "metadata": {},
   "outputs": [
    {
     "data": {
      "text/plain": [
       "<Graph object, undirected, with 311036 vertices and 280277 edges, 1 internal vertex property, at 0x7f51e2f529a0>"
      ]
     },
     "execution_count": 90,
     "metadata": {},
     "output_type": "execute_result"
    }
   ],
   "source": [
    "gtG"
   ]
  },
  {
   "cell_type": "code",
   "execution_count": 91,
   "metadata": {},
   "outputs": [],
   "source": [
    "mst = graph_tool.topology.min_spanning_tree(gtG)"
   ]
  },
  {
   "cell_type": "code",
   "execution_count": 92,
   "metadata": {},
   "outputs": [
    {
     "data": {
      "text/plain": [
       "PropertyArray([1, 0, 1, ..., 1, 1, 1], dtype=uint8)"
      ]
     },
     "execution_count": 92,
     "metadata": {},
     "output_type": "execute_result"
    }
   ],
   "source": [
    "mst.get_array()"
   ]
  },
  {
   "cell_type": "code",
   "execution_count": 93,
   "metadata": {},
   "outputs": [],
   "source": [
    "u = graph_tool.GraphView(gtG, efilt=mst)"
   ]
  },
  {
   "cell_type": "code",
   "execution_count": 48,
   "metadata": {},
   "outputs": [
    {
     "data": {
      "text/plain": [
       "<VertexPropertyMap object with value type 'vector<double>', for Graph 0x7f51d7e86130, at 0x7f51e350c8e0>"
      ]
     },
     "execution_count": 48,
     "metadata": {},
     "output_type": "execute_result"
    }
   ],
   "source": [
    "graph_tool.draw.graph_draw(u, output=\"mst.pdf\")"
   ]
  },
  {
   "cell_type": "markdown",
   "metadata": {},
   "source": [
    "## Process"
   ]
  },
  {
   "cell_type": "code",
   "execution_count": 97,
   "metadata": {},
   "outputs": [
    {
     "data": {
      "text/plain": [
       "array([     0,      1,      2, ..., 311033, 311034, 311035])"
      ]
     },
     "execution_count": 97,
     "metadata": {},
     "output_type": "execute_result"
    }
   ],
   "source": [
    "u.get_vertices()"
   ]
  },
  {
   "cell_type": "code",
   "execution_count": 98,
   "metadata": {},
   "outputs": [
    {
     "data": {
      "text/plain": [
       "array([[     0, 169389],\n",
       "       [     0, 201941],\n",
       "       [     1, 170804],\n",
       "       ...,\n",
       "       [130410, 308135],\n",
       "       [130410, 234145],\n",
       "       [130410, 205225]])"
      ]
     },
     "execution_count": 98,
     "metadata": {},
     "output_type": "execute_result"
    }
   ],
   "source": [
    "u.get_edges()"
   ]
  },
  {
   "cell_type": "code",
   "execution_count": null,
   "metadata": {},
   "outputs": [],
   "source": [
    "u"
   ]
  }
 ],
 "metadata": {
  "kernelspec": {
   "display_name": "Python 3",
   "language": "python",
   "name": "python3"
  },
  "language_info": {
   "codemirror_mode": {
    "name": "ipython",
    "version": 3
   },
   "file_extension": ".py",
   "mimetype": "text/x-python",
   "name": "python",
   "nbconvert_exporter": "python",
   "pygments_lexer": "ipython3",
   "version": "3.8.5"
  }
 },
 "nbformat": 4,
 "nbformat_minor": 4
}
