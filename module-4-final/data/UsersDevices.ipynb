{
 "cells": [
  {
   "cell_type": "markdown",
   "metadata": {},
   "source": [
    "# Preprocess Data"
   ]
  },
  {
   "cell_type": "code",
   "execution_count": 1,
   "metadata": {},
   "outputs": [],
   "source": [
    "import pandas as pd\n",
    "import json\n",
    "from tqdm import tqdm"
   ]
  },
  {
   "cell_type": "code",
   "execution_count": 2,
   "metadata": {},
   "outputs": [
    {
     "data": {
      "text/html": [
       "<div>\n",
       "<style scoped>\n",
       "    .dataframe tbody tr th:only-of-type {\n",
       "        vertical-align: middle;\n",
       "    }\n",
       "\n",
       "    .dataframe tbody tr th {\n",
       "        vertical-align: top;\n",
       "    }\n",
       "\n",
       "    .dataframe thead th {\n",
       "        text-align: right;\n",
       "    }\n",
       "</style>\n",
       "<table border=\"1\" class=\"dataframe\">\n",
       "  <thead>\n",
       "    <tr style=\"text-align: right;\">\n",
       "      <th></th>\n",
       "      <th>timestamp</th>\n",
       "      <th>userId</th>\n",
       "      <th>params</th>\n",
       "    </tr>\n",
       "  </thead>\n",
       "  <tbody>\n",
       "    <tr>\n",
       "      <th>0</th>\n",
       "      <td>1596244856</td>\n",
       "      <td>170425000002238</td>\n",
       "      <td>{'hw_released': 'Tue Jul 07 08:50:39 GMT+07:00...</td>\n",
       "    </tr>\n",
       "    <tr>\n",
       "      <th>1</th>\n",
       "      <td>1596244830</td>\n",
       "      <td>191113586003363</td>\n",
       "      <td>{'hw_released': 'Thu Jul 02 12:19:14 GMT+07:00...</td>\n",
       "    </tr>\n",
       "    <tr>\n",
       "      <th>2</th>\n",
       "      <td>1596244888</td>\n",
       "      <td>200413000001404</td>\n",
       "      <td>{'hw_released': 'Thu Dec 07 11:24:05 GMT+07:00...</td>\n",
       "    </tr>\n",
       "    <tr>\n",
       "      <th>3</th>\n",
       "      <td>1596244831</td>\n",
       "      <td>200428000037320</td>\n",
       "      <td>{'hw_released': 'Wed Apr 22 07:53:33 GMT+07:00...</td>\n",
       "    </tr>\n",
       "    <tr>\n",
       "      <th>4</th>\n",
       "      <td>1596244849</td>\n",
       "      <td>190309000002524</td>\n",
       "      <td>{'hw_released': 'Thu Mar 12 12:05:05 GMT+07:00...</td>\n",
       "    </tr>\n",
       "  </tbody>\n",
       "</table>\n",
       "</div>"
      ],
      "text/plain": [
       "    timestamp           userId  \\\n",
       "0  1596244856  170425000002238   \n",
       "1  1596244830  191113586003363   \n",
       "2  1596244888  200413000001404   \n",
       "3  1596244831  200428000037320   \n",
       "4  1596244849  190309000002524   \n",
       "\n",
       "                                              params  \n",
       "0  {'hw_released': 'Tue Jul 07 08:50:39 GMT+07:00...  \n",
       "1  {'hw_released': 'Thu Jul 02 12:19:14 GMT+07:00...  \n",
       "2  {'hw_released': 'Thu Dec 07 11:24:05 GMT+07:00...  \n",
       "3  {'hw_released': 'Wed Apr 22 07:53:33 GMT+07:00...  \n",
       "4  {'hw_released': 'Thu Mar 12 12:05:05 GMT+07:00...  "
      ]
     },
     "execution_count": 2,
     "metadata": {},
     "output_type": "execute_result"
    }
   ],
   "source": [
    "android_df = pd.read_csv('raw/dataTest_device_profile_android.csv')\n",
    "ios_df = pd.read_csv('raw/dataTest_device_profile.csv')\n",
    "joint_df = pd.concat([android_df, ios_df])\n",
    "joint_df['params'] = joint_df['params'].apply(lambda x: json.loads(x))\n",
    "joint_df.head()"
   ]
  },
  {
   "cell_type": "code",
   "execution_count": 3,
   "metadata": {},
   "outputs": [],
   "source": [
    "formatted = pd.json_normalize(joint_df['params'])"
   ]
  },
  {
   "cell_type": "code",
   "execution_count": 4,
   "metadata": {},
   "outputs": [],
   "source": [
    "joint_df.reset_index(drop=True, inplace=True)\n",
    "\n",
    "formatted.reset_index(drop=True, inplace=True)"
   ]
  },
  {
   "cell_type": "code",
   "execution_count": 5,
   "metadata": {},
   "outputs": [
    {
     "data": {
      "text/html": [
       "<div>\n",
       "<style scoped>\n",
       "    .dataframe tbody tr th:only-of-type {\n",
       "        vertical-align: middle;\n",
       "    }\n",
       "\n",
       "    .dataframe tbody tr th {\n",
       "        vertical-align: top;\n",
       "    }\n",
       "\n",
       "    .dataframe thead th {\n",
       "        text-align: right;\n",
       "    }\n",
       "</style>\n",
       "<table border=\"1\" class=\"dataframe\">\n",
       "  <thead>\n",
       "    <tr style=\"text-align: right;\">\n",
       "      <th></th>\n",
       "      <th>timestamp</th>\n",
       "      <th>userId</th>\n",
       "      <th>hw_released</th>\n",
       "      <th>hw_device_id</th>\n",
       "      <th>battery_voltage</th>\n",
       "      <th>hw_board</th>\n",
       "      <th>hw_cpu_name</th>\n",
       "      <th>hw_screen_aspect_ratio</th>\n",
       "      <th>hw_screen_class</th>\n",
       "      <th>battery_type</th>\n",
       "      <th>...</th>\n",
       "      <th>sim_operator_name</th>\n",
       "      <th>hw_camera_front_optical_stabilization</th>\n",
       "      <th>hw_camera_front_resolution</th>\n",
       "      <th>hw_camera_back_resolution</th>\n",
       "      <th>sim_operator</th>\n",
       "      <th>hw_camera_back_longest_exposure_value</th>\n",
       "      <th>hw_camera_back_supported_resolution</th>\n",
       "      <th>hw_capacity_force_touch</th>\n",
       "      <th>os_multitasking</th>\n",
       "      <th>cellular_capabilities</th>\n",
       "    </tr>\n",
       "  </thead>\n",
       "  <tbody>\n",
       "    <tr>\n",
       "      <th>0</th>\n",
       "      <td>1596244856</td>\n",
       "      <td>170425000002238</td>\n",
       "      <td>Tue Jul 07 08:50:39 GMT+07:00 2020</td>\n",
       "      <td>f21ebb2f9064b16e</td>\n",
       "      <td>4091 mV</td>\n",
       "      <td>exynos9810</td>\n",
       "      <td>exynos9810</td>\n",
       "      <td>2</td>\n",
       "      <td>Normal</td>\n",
       "      <td>Li-ion</td>\n",
       "      <td>...</td>\n",
       "      <td>NaN</td>\n",
       "      <td>NaN</td>\n",
       "      <td>NaN</td>\n",
       "      <td>NaN</td>\n",
       "      <td>NaN</td>\n",
       "      <td>NaN</td>\n",
       "      <td>NaN</td>\n",
       "      <td>NaN</td>\n",
       "      <td>NaN</td>\n",
       "      <td>NaN</td>\n",
       "    </tr>\n",
       "    <tr>\n",
       "      <th>1</th>\n",
       "      <td>1596244830</td>\n",
       "      <td>191113586003363</td>\n",
       "      <td>Thu Jul 02 12:19:14 GMT+07:00 2020</td>\n",
       "      <td>13cf342d200936c8</td>\n",
       "      <td>4260 mV</td>\n",
       "      <td>AGS2</td>\n",
       "      <td>hi6250</td>\n",
       "      <td>1</td>\n",
       "      <td>Large</td>\n",
       "      <td>Li-poly</td>\n",
       "      <td>...</td>\n",
       "      <td>NaN</td>\n",
       "      <td>NaN</td>\n",
       "      <td>NaN</td>\n",
       "      <td>NaN</td>\n",
       "      <td>NaN</td>\n",
       "      <td>NaN</td>\n",
       "      <td>NaN</td>\n",
       "      <td>NaN</td>\n",
       "      <td>NaN</td>\n",
       "      <td>NaN</td>\n",
       "    </tr>\n",
       "    <tr>\n",
       "      <th>2</th>\n",
       "      <td>1596244888</td>\n",
       "      <td>200413000001404</td>\n",
       "      <td>Thu Dec 07 11:24:05 GMT+07:00 2017</td>\n",
       "      <td>b41f717314855504</td>\n",
       "      <td>3508 mV</td>\n",
       "      <td>SC9830I</td>\n",
       "      <td>sc8830</td>\n",
       "      <td>1</td>\n",
       "      <td>Normal</td>\n",
       "      <td>Li-ion</td>\n",
       "      <td>...</td>\n",
       "      <td>vn</td>\n",
       "      <td>NO</td>\n",
       "      <td>4 MP</td>\n",
       "      <td>7 MP</td>\n",
       "      <td>45204</td>\n",
       "      <td></td>\n",
       "      <td>3264x2448\\n2592x1936\\n2048x1536\\n1600x1200\\n12...</td>\n",
       "      <td>NaN</td>\n",
       "      <td>NaN</td>\n",
       "      <td>NaN</td>\n",
       "    </tr>\n",
       "    <tr>\n",
       "      <th>3</th>\n",
       "      <td>1596244831</td>\n",
       "      <td>200428000037320</td>\n",
       "      <td>Wed Apr 22 07:53:33 GMT+07:00 2020</td>\n",
       "      <td>8d36707898c6955d</td>\n",
       "      <td>3877 mV</td>\n",
       "      <td>exynos9810</td>\n",
       "      <td>samsungexynos9810</td>\n",
       "      <td>2</td>\n",
       "      <td>Normal</td>\n",
       "      <td>Li-ion</td>\n",
       "      <td>...</td>\n",
       "      <td>NaN</td>\n",
       "      <td>NaN</td>\n",
       "      <td>NaN</td>\n",
       "      <td>NaN</td>\n",
       "      <td>NaN</td>\n",
       "      <td>NaN</td>\n",
       "      <td>NaN</td>\n",
       "      <td>NaN</td>\n",
       "      <td>NaN</td>\n",
       "      <td>NaN</td>\n",
       "    </tr>\n",
       "    <tr>\n",
       "      <th>4</th>\n",
       "      <td>1596244849</td>\n",
       "      <td>190309000002524</td>\n",
       "      <td>Thu Mar 12 12:05:05 GMT+07:00 2020</td>\n",
       "      <td>af1934dafd8aba01</td>\n",
       "      <td>3644 mV</td>\n",
       "      <td>mt6757</td>\n",
       "      <td>mt6757</td>\n",
       "      <td>1</td>\n",
       "      <td>Normal</td>\n",
       "      <td>Li-ion</td>\n",
       "      <td>...</td>\n",
       "      <td>NaN</td>\n",
       "      <td>NO</td>\n",
       "      <td>15 MP</td>\n",
       "      <td>12 MP</td>\n",
       "      <td>NaN</td>\n",
       "      <td></td>\n",
       "      <td>4128x3096\\n4128x2320\\n3264x1836\\n3264x2448\\n30...</td>\n",
       "      <td>NaN</td>\n",
       "      <td>NaN</td>\n",
       "      <td>NaN</td>\n",
       "    </tr>\n",
       "  </tbody>\n",
       "</table>\n",
       "<p>5 rows × 79 columns</p>\n",
       "</div>"
      ],
      "text/plain": [
       "    timestamp           userId                         hw_released  \\\n",
       "0  1596244856  170425000002238  Tue Jul 07 08:50:39 GMT+07:00 2020   \n",
       "1  1596244830  191113586003363  Thu Jul 02 12:19:14 GMT+07:00 2020   \n",
       "2  1596244888  200413000001404  Thu Dec 07 11:24:05 GMT+07:00 2017   \n",
       "3  1596244831  200428000037320  Wed Apr 22 07:53:33 GMT+07:00 2020   \n",
       "4  1596244849  190309000002524  Thu Mar 12 12:05:05 GMT+07:00 2020   \n",
       "\n",
       "       hw_device_id battery_voltage    hw_board        hw_cpu_name  \\\n",
       "0  f21ebb2f9064b16e         4091 mV  exynos9810         exynos9810   \n",
       "1  13cf342d200936c8         4260 mV        AGS2             hi6250   \n",
       "2  b41f717314855504         3508 mV     SC9830I             sc8830   \n",
       "3  8d36707898c6955d         3877 mV  exynos9810  samsungexynos9810   \n",
       "4  af1934dafd8aba01         3644 mV      mt6757             mt6757   \n",
       "\n",
       "  hw_screen_aspect_ratio hw_screen_class battery_type  ... sim_operator_name  \\\n",
       "0                      2          Normal       Li-ion  ...               NaN   \n",
       "1                      1           Large      Li-poly  ...               NaN   \n",
       "2                      1          Normal       Li-ion  ...                vn   \n",
       "3                      2          Normal       Li-ion  ...               NaN   \n",
       "4                      1          Normal       Li-ion  ...               NaN   \n",
       "\n",
       "  hw_camera_front_optical_stabilization hw_camera_front_resolution  \\\n",
       "0                                   NaN                        NaN   \n",
       "1                                   NaN                        NaN   \n",
       "2                                    NO                       4 MP   \n",
       "3                                   NaN                        NaN   \n",
       "4                                    NO                      15 MP   \n",
       "\n",
       "  hw_camera_back_resolution sim_operator  \\\n",
       "0                       NaN          NaN   \n",
       "1                       NaN          NaN   \n",
       "2                      7 MP        45204   \n",
       "3                       NaN          NaN   \n",
       "4                     12 MP          NaN   \n",
       "\n",
       "  hw_camera_back_longest_exposure_value  \\\n",
       "0                                   NaN   \n",
       "1                                   NaN   \n",
       "2                                         \n",
       "3                                   NaN   \n",
       "4                                         \n",
       "\n",
       "                 hw_camera_back_supported_resolution hw_capacity_force_touch  \\\n",
       "0                                                NaN                     NaN   \n",
       "1                                                NaN                     NaN   \n",
       "2  3264x2448\\n2592x1936\\n2048x1536\\n1600x1200\\n12...                     NaN   \n",
       "3                                                NaN                     NaN   \n",
       "4  4128x3096\\n4128x2320\\n3264x1836\\n3264x2448\\n30...                     NaN   \n",
       "\n",
       "  os_multitasking cellular_capabilities  \n",
       "0             NaN                   NaN  \n",
       "1             NaN                   NaN  \n",
       "2             NaN                   NaN  \n",
       "3             NaN                   NaN  \n",
       "4             NaN                   NaN  \n",
       "\n",
       "[5 rows x 79 columns]"
      ]
     },
     "execution_count": 5,
     "metadata": {},
     "output_type": "execute_result"
    }
   ],
   "source": [
    "new_df = pd.concat([joint_df[['timestamp', 'userId']], formatted], axis=1)\n",
    "new_df.drop_duplicates(inplace=True)\n",
    "new_df.head()"
   ]
  },
  {
   "cell_type": "code",
   "execution_count": 6,
   "metadata": {},
   "outputs": [],
   "source": [
    "required_cols = ['timestamp', 'userId', 'hw_released', 'hw_device_id', 'hw_cpu_name',\n",
    "       'hw_screen_aspect_ratio', 'hw_screen_pixel_density', 'system_packages',\n",
    "       'network_wifi_mac_address', 'hw_screen_resolution', 'os_version',\n",
    "       'hw_device_manufacturer', 'hw_cpu_speed', 'hw_device_model',\n",
    "       'hw_screen_refresh_rate', 'os_name', 'os_root_access',\n",
    "       'hw_cpu_supported_64_bit_abis', 'user_agent', 'hw_device_string',\n",
    "       'os_version_name', 'hw_cpu_core_count', 'hw_cpu_supported_32_bit_abis',\n",
    "       'hw_cpu_processor', 'hw_cpu_manufacturer', 'hw_screen_size',\n",
    "       'hw_bluetooth_address', 'installed_packages', 'hw_ram_total',\n",
    "       'hw_cpu_min_speed', 'hw_storage_total', 'list_of_wifi',\n",
    "       'hw_camera_front_max_photo_resolution',\n",
    "       'hw_camera_back_max_video_resolution', 'ringtone',\n",
    "       'hw_camera_number_camera', 'hw_camera_back_max_photo_resolution',\n",
    "       'hw_camera_front_max_video_resolution']"
   ]
  },
  {
   "cell_type": "code",
   "execution_count": 7,
   "metadata": {},
   "outputs": [],
   "source": [
    "df = new_df[required_cols]"
   ]
  },
  {
   "cell_type": "code",
   "execution_count": 8,
   "metadata": {},
   "outputs": [
    {
     "data": {
      "text/plain": [
       "False    495535\n",
       "True         39\n",
       "dtype: int64"
      ]
     },
     "execution_count": 8,
     "metadata": {},
     "output_type": "execute_result"
    }
   ],
   "source": [
    "df.duplicated().value_counts()"
   ]
  },
  {
   "cell_type": "code",
   "execution_count": 9,
   "metadata": {},
   "outputs": [],
   "source": [
    "df = df.drop_duplicates()"
   ]
  },
  {
   "cell_type": "markdown",
   "metadata": {},
   "source": [
    "# Insert data into ArangoDB"
   ]
  },
  {
   "cell_type": "markdown",
   "metadata": {},
   "source": [
    "## Add users"
   ]
  },
  {
   "cell_type": "code",
   "execution_count": 10,
   "metadata": {},
   "outputs": [],
   "source": [
    "unique_users = df['userId'].unique()"
   ]
  },
  {
   "cell_type": "code",
   "execution_count": 11,
   "metadata": {},
   "outputs": [
    {
     "name": "stderr",
     "output_type": "stream",
     "text": [
      "  0%|          | 0/409836 [00:00<?, ?it/s]\n"
     ]
    },
    {
     "ename": "AttributeError",
     "evalue": "'numpy.int64' object has no attribute 'strip'",
     "output_type": "error",
     "traceback": [
      "\u001b[0;31m---------------------------------------------------------------------------\u001b[0m",
      "\u001b[0;31mAttributeError\u001b[0m                            Traceback (most recent call last)",
      "\u001b[0;32m<ipython-input-11-a0e6c835df5f>\u001b[0m in \u001b[0;36m<module>\u001b[0;34m\u001b[0m\n\u001b[1;32m      2\u001b[0m \u001b[0;32mfor\u001b[0m \u001b[0mu\u001b[0m \u001b[0;32min\u001b[0m \u001b[0mtqdm\u001b[0m\u001b[0;34m(\u001b[0m\u001b[0munique_users\u001b[0m\u001b[0;34m)\u001b[0m\u001b[0;34m:\u001b[0m\u001b[0;34m\u001b[0m\u001b[0;34m\u001b[0m\u001b[0m\n\u001b[1;32m      3\u001b[0m     user_list.append({\n\u001b[0;32m----> 4\u001b[0;31m         \u001b[0;34m'_key'\u001b[0m\u001b[0;34m:\u001b[0m \u001b[0mstr\u001b[0m\u001b[0;34m(\u001b[0m\u001b[0mu\u001b[0m\u001b[0;34m.\u001b[0m\u001b[0mstrip\u001b[0m\u001b[0;34m(\u001b[0m\u001b[0;34m)\u001b[0m\u001b[0;34m)\u001b[0m\u001b[0;34m\u001b[0m\u001b[0;34m\u001b[0m\u001b[0m\n\u001b[0m\u001b[1;32m      5\u001b[0m     })\n",
      "\u001b[0;31mAttributeError\u001b[0m: 'numpy.int64' object has no attribute 'strip'"
     ]
    }
   ],
   "source": [
    "user_list = []\n",
    "for u in tqdm(unique_users):\n",
    "    user_list.append({\n",
    "        '_key': str(u.strip())\n",
    "    })"
   ]
  },
  {
   "cell_type": "code",
   "execution_count": null,
   "metadata": {},
   "outputs": [],
   "source": [
    "with open('json/users.json', 'w') as f:\n",
    "    json.dump(user_list, f)"
   ]
  },
  {
   "cell_type": "code",
   "execution_count": 30,
   "metadata": {},
   "outputs": [],
   "source": [
    "# Convert json to jsonl\n",
    "!jq -c \".[]\" json/users.json > jsonl/users.jsonl"
   ]
  },
  {
   "cell_type": "code",
   "execution_count": 33,
   "metadata": {},
   "outputs": [],
   "source": [
    "# import to arangodb\n",
    "# arangoimport --server.database=final --create-collection true --collection users --type jsonl --file \"jsonl/users.jsonl\" --progress true --threads 16"
   ]
  },
  {
   "cell_type": "markdown",
   "metadata": {},
   "source": [
    "## Add latest devices info"
   ]
  },
  {
   "cell_type": "code",
   "execution_count": 34,
   "metadata": {},
   "outputs": [],
   "source": [
    "devices_latest = df[df.groupby(['hw_device_id'])['timestamp'].transform(max) == df['timestamp']]"
   ]
  },
  {
   "cell_type": "code",
   "execution_count": 35,
   "metadata": {},
   "outputs": [],
   "source": [
    "def format_packages(x):\n",
    "    return x.split(', ') if type(x) is not float else 'nan'"
   ]
  },
  {
   "cell_type": "code",
   "execution_count": 36,
   "metadata": {},
   "outputs": [],
   "source": [
    "def format_list_of_wifi(x):\n",
    "    if type(x) is not float and x != '':\n",
    "        return x.replace('\"', '').split(', ')\n",
    "    else:\n",
    "        return 'nan'"
   ]
  },
  {
   "cell_type": "code",
   "execution_count": 37,
   "metadata": {},
   "outputs": [],
   "source": [
    "def format_ringtone(x):\n",
    "    return x.strip(',').split(',') if type(x) is not float else 'nan'"
   ]
  },
  {
   "cell_type": "code",
   "execution_count": 41,
   "metadata": {},
   "outputs": [
    {
     "name": "stderr",
     "output_type": "stream",
     "text": [
      "100%|██████████| 407741/407741 [01:39<00:00, 4114.40it/s]\n"
     ]
    }
   ],
   "source": [
    "device_info = []\n",
    "cols_exclude_devices = set(df.columns) - set(['hw_device_id', 'installed_packages', 'system_packages', 'list_of_wifi', 'ringtone'])\n",
    "with tqdm(total=len(devices_latest)) as pbar:\n",
    "    for _, row in devices_latest.iterrows():\n",
    "        e = {\n",
    "            '_id': row['hw_device_id'],\n",
    "            '_key': row['hw_device_id'],\n",
    "            'installed_packages': format_packages(row['installed_packages']),\n",
    "            'system_packages': format_packages(row['system_packages']),\n",
    "            'list_of_wifi': format_list_of_wifi(row['list_of_wifi']),\n",
    "            'ringtone': format_ringtone(row['ringtone'])\n",
    "        }\n",
    "        for c in cols_exclude_devices:\n",
    "            e[c] = str(row[c])\n",
    "        device_info.append(e)\n",
    "        pbar.update(1)"
   ]
  },
  {
   "cell_type": "code",
   "execution_count": 42,
   "metadata": {},
   "outputs": [],
   "source": [
    "with open('json/devices.json', 'w') as f:\n",
    "    json.dump(device_info, f)"
   ]
  },
  {
   "cell_type": "code",
   "execution_count": 43,
   "metadata": {},
   "outputs": [],
   "source": [
    "# Convert json to jsonl\n",
    "!jq -c \".[]\" json/devices.json > jsonl/devices.jsonl"
   ]
  },
  {
   "cell_type": "code",
   "execution_count": null,
   "metadata": {},
   "outputs": [],
   "source": [
    "# arangoimport --server.database=final --create-collection true --collection devices --type jsonl --file \"jsonl/devices.jsonl\" --progress true --threads 16"
   ]
  },
  {
   "cell_type": "markdown",
   "metadata": {},
   "source": [
    "## Add users - devices "
   ]
  },
  {
   "cell_type": "code",
   "execution_count": 30,
   "metadata": {},
   "outputs": [
    {
     "name": "stderr",
     "output_type": "stream",
     "text": [
      "100%|██████████| 495535/495535 [01:39<00:00, 4980.65it/s]\n"
     ]
    }
   ],
   "source": [
    "user_devices = []\n",
    "cols_exclude_users_devices = set(df.columns) - set(['userId', 'hw_device_id', 'installed_packages', 'system_packages', 'list_of_wifi', 'ringtone'])\n",
    "with tqdm(total=len(df)) as pbar:\n",
    "    for _, row in df.iterrows():\n",
    "        ud = {\n",
    "            '_key': f\"{str(row['userId']).strip()}_{str(row['hw_device_id'])}_{row['timestamp']}\",\n",
    "            '_from': 'users/' + str(row['userId']).strip(),\n",
    "            '_to': 'devices/' + str(row['hw_device_id']).strip(),\n",
    "            'type': 'user_use_device'\n",
    "        }\n",
    "        for c in cols_exclude_users_devices:\n",
    "            ud[c] = str(row[c]).strip()\n",
    "        user_devices.append(ud)\n",
    "        pbar.update(1)"
   ]
  },
  {
   "cell_type": "code",
   "execution_count": 31,
   "metadata": {},
   "outputs": [],
   "source": [
    "with open('json/users_use_devices.json', 'w') as f:\n",
    "    json.dump(user_devices, f)"
   ]
  },
  {
   "cell_type": "code",
   "execution_count": 32,
   "metadata": {},
   "outputs": [],
   "source": [
    "# Convert json to jsonl\n",
    "!jq -c \".[]\" json/users_use_devices.json > jsonl/users_use_devices.jsonl"
   ]
  },
  {
   "cell_type": "code",
   "execution_count": null,
   "metadata": {},
   "outputs": [],
   "source": [
    "# arangoimport --server.database=final --create-collection-type edge --collection users_devices  --type jsonl --file \"jsonl/users_use_devices.jsonl\" --progress true --threads 16"
   ]
  },
  {
   "cell_type": "markdown",
   "metadata": {},
   "source": [
    "## Devices model"
   ]
  },
  {
   "cell_type": "code",
   "execution_count": null,
   "metadata": {},
   "outputs": [],
   "source": [
    "unique_device_model = df['hw_device_model'].unique()\n",
    "inserted = []\n",
    "for uq in unique_device_model:\n",
    "    formatted = '_'.join(x for x in uq.split(' '))\n",
    "    if formatted not in inserted:\n",
    "        inserted.append(formatted)\n",
    "        device_model.createDocument({\n",
    "            '_key': formatted\n",
    "        }).save()"
   ]
  },
  {
   "cell_type": "markdown",
   "metadata": {},
   "source": [
    "## Device - DeviceModel"
   ]
  },
  {
   "cell_type": "code",
   "execution_count": 16,
   "metadata": {},
   "outputs": [],
   "source": [
    "for _, row in df.iterrows():\n",
    "    formatted_device_model = '_'.join(x for x in row['hw_device_model'].split(' '))\n",
    "    new_ddm = device_deviceModel.createDocument({\n",
    "        '_from': 'devices/' + str(row['hw_device_id']),\n",
    "        '_to': 'device_model/' + formatted_device_model,\n",
    "        'timestamp': str(row['timestamp']),\n",
    "        'userId': str(row['userId'])\n",
    "    })\n",
    "    new_ddm.save()"
   ]
  },
  {
   "cell_type": "markdown",
   "metadata": {},
   "source": [
    "# Test"
   ]
  },
  {
   "cell_type": "code",
   "execution_count": 10,
   "metadata": {},
   "outputs": [
    {
     "data": {
      "text/html": [
       "<div>\n",
       "<style scoped>\n",
       "    .dataframe tbody tr th:only-of-type {\n",
       "        vertical-align: middle;\n",
       "    }\n",
       "\n",
       "    .dataframe tbody tr th {\n",
       "        vertical-align: top;\n",
       "    }\n",
       "\n",
       "    .dataframe thead th {\n",
       "        text-align: right;\n",
       "    }\n",
       "</style>\n",
       "<table border=\"1\" class=\"dataframe\">\n",
       "  <thead>\n",
       "    <tr style=\"text-align: right;\">\n",
       "      <th></th>\n",
       "      <th>timestamp</th>\n",
       "      <th>userId</th>\n",
       "      <th>hw_released</th>\n",
       "      <th>hw_device_id</th>\n",
       "      <th>hw_cpu_name</th>\n",
       "      <th>hw_screen_aspect_ratio</th>\n",
       "      <th>hw_screen_pixel_density</th>\n",
       "      <th>system_packages</th>\n",
       "      <th>network_wifi_mac_address</th>\n",
       "      <th>hw_screen_resolution</th>\n",
       "      <th>...</th>\n",
       "      <th>hw_ram_total</th>\n",
       "      <th>hw_cpu_min_speed</th>\n",
       "      <th>hw_storage_total</th>\n",
       "      <th>list_of_wifi</th>\n",
       "      <th>hw_camera_front_max_photo_resolution</th>\n",
       "      <th>hw_camera_back_max_video_resolution</th>\n",
       "      <th>ringtone</th>\n",
       "      <th>hw_camera_number_camera</th>\n",
       "      <th>hw_camera_back_max_photo_resolution</th>\n",
       "      <th>hw_camera_front_max_video_resolution</th>\n",
       "    </tr>\n",
       "  </thead>\n",
       "  <tbody>\n",
       "    <tr>\n",
       "      <th>0</th>\n",
       "      <td>1596244856</td>\n",
       "      <td>170425000002238</td>\n",
       "      <td>Tue Jul 07 08:50:39 GMT+07:00 2020</td>\n",
       "      <td>f21ebb2f9064b16e</td>\n",
       "      <td>exynos9810</td>\n",
       "      <td>2</td>\n",
       "      <td>420 Dpi</td>\n",
       "      <td>com.samsung.android.provider.filterprovider, c...</td>\n",
       "      <td>12:2F:14:33:9D:E7</td>\n",
       "      <td>1080x2400</td>\n",
       "      <td>...</td>\n",
       "      <td>7,94 GB</td>\n",
       "      <td>455000Hz</td>\n",
       "      <td>118 GB</td>\n",
       "      <td></td>\n",
       "      <td>NaN</td>\n",
       "      <td>NaN</td>\n",
       "      <td>NaN</td>\n",
       "      <td>NaN</td>\n",
       "      <td>NaN</td>\n",
       "      <td>NaN</td>\n",
       "    </tr>\n",
       "    <tr>\n",
       "      <th>1</th>\n",
       "      <td>1596244830</td>\n",
       "      <td>191113586003363</td>\n",
       "      <td>Thu Jul 02 12:19:14 GMT+07:00 2020</td>\n",
       "      <td>13cf342d200936c8</td>\n",
       "      <td>hi6250</td>\n",
       "      <td>1</td>\n",
       "      <td>320 Dpi</td>\n",
       "      <td>com.huawei.hifolder, com.android.cts.priv.ctss...</td>\n",
       "      <td>A8:E5:44:0E:BD:BB</td>\n",
       "      <td>1200x1920</td>\n",
       "      <td>...</td>\n",
       "      <td>2,88 GB</td>\n",
       "      <td>480000Hz</td>\n",
       "      <td>25,23 GB</td>\n",
       "      <td>\"Dinh1\", \"MaiCa\", \"NhuQuynh\", \"Support\", \"Nam ...</td>\n",
       "      <td>NaN</td>\n",
       "      <td>NaN</td>\n",
       "      <td>NaN</td>\n",
       "      <td>NaN</td>\n",
       "      <td>NaN</td>\n",
       "      <td>NaN</td>\n",
       "    </tr>\n",
       "    <tr>\n",
       "      <th>2</th>\n",
       "      <td>1596244888</td>\n",
       "      <td>200413000001404</td>\n",
       "      <td>Thu Dec 07 11:24:05 GMT+07:00 2017</td>\n",
       "      <td>b41f717314855504</td>\n",
       "      <td>sc8830</td>\n",
       "      <td>1</td>\n",
       "      <td>320 Dpi</td>\n",
       "      <td>com.monotype.android.font.rosemary, com.sec.an...</td>\n",
       "      <td>AC:AF:B9:61:36:C8</td>\n",
       "      <td>720x1280</td>\n",
       "      <td>...</td>\n",
       "      <td>1,33 GB</td>\n",
       "      <td>768000Hz</td>\n",
       "      <td>4,79 GB</td>\n",
       "      <td>\"Xiaomi_70BE_8F41\", \"COM TAM SONG ANH\", \"Redmi...</td>\n",
       "      <td>2576x1932</td>\n",
       "      <td>3264x2448</td>\n",
       "      <td>Basic Bell,Basic Tone,Beep Once,Beep-Beep,Begi...</td>\n",
       "      <td>2</td>\n",
       "      <td>3264x2448</td>\n",
       "      <td>2576x1932</td>\n",
       "    </tr>\n",
       "    <tr>\n",
       "      <th>3</th>\n",
       "      <td>1596244831</td>\n",
       "      <td>200428000037320</td>\n",
       "      <td>Wed Apr 22 07:53:33 GMT+07:00 2020</td>\n",
       "      <td>8d36707898c6955d</td>\n",
       "      <td>samsungexynos9810</td>\n",
       "      <td>2</td>\n",
       "      <td>420 Dpi</td>\n",
       "      <td>com.samsung.android.provider.filterprovider, c...</td>\n",
       "      <td>24:18:1D:FE:E3:E0</td>\n",
       "      <td>1080x2220</td>\n",
       "      <td>...</td>\n",
       "      <td>5,89 GB</td>\n",
       "      <td>455000Hz</td>\n",
       "      <td>120 GB</td>\n",
       "      <td></td>\n",
       "      <td>NaN</td>\n",
       "      <td>NaN</td>\n",
       "      <td>NaN</td>\n",
       "      <td>NaN</td>\n",
       "      <td>NaN</td>\n",
       "      <td>NaN</td>\n",
       "    </tr>\n",
       "    <tr>\n",
       "      <th>4</th>\n",
       "      <td>1596244849</td>\n",
       "      <td>190309000002524</td>\n",
       "      <td>Thu Mar 12 12:05:05 GMT+07:00 2020</td>\n",
       "      <td>af1934dafd8aba01</td>\n",
       "      <td>mt6757</td>\n",
       "      <td>1</td>\n",
       "      <td>420 Dpi</td>\n",
       "      <td>com.samsung.android.provider.filterprovider, c...</td>\n",
       "      <td>A4:6C:F1:C3:34:4E</td>\n",
       "      <td>1080x1920</td>\n",
       "      <td>...</td>\n",
       "      <td>3.92 GB</td>\n",
       "      <td>247000Hz</td>\n",
       "      <td>26.75 GB</td>\n",
       "      <td>\"NamCoffee&amp;Milktea\", \"YÊU MỘT NGƯỜI\", \"Studio1...</td>\n",
       "      <td>4608x3456</td>\n",
       "      <td>4128x3096</td>\n",
       "      <td>NaN</td>\n",
       "      <td>2</td>\n",
       "      <td>4128x3096</td>\n",
       "      <td>4608x3456</td>\n",
       "    </tr>\n",
       "  </tbody>\n",
       "</table>\n",
       "<p>5 rows × 38 columns</p>\n",
       "</div>"
      ],
      "text/plain": [
       "    timestamp           userId                         hw_released  \\\n",
       "0  1596244856  170425000002238  Tue Jul 07 08:50:39 GMT+07:00 2020   \n",
       "1  1596244830  191113586003363  Thu Jul 02 12:19:14 GMT+07:00 2020   \n",
       "2  1596244888  200413000001404  Thu Dec 07 11:24:05 GMT+07:00 2017   \n",
       "3  1596244831  200428000037320  Wed Apr 22 07:53:33 GMT+07:00 2020   \n",
       "4  1596244849  190309000002524  Thu Mar 12 12:05:05 GMT+07:00 2020   \n",
       "\n",
       "       hw_device_id        hw_cpu_name hw_screen_aspect_ratio  \\\n",
       "0  f21ebb2f9064b16e         exynos9810                      2   \n",
       "1  13cf342d200936c8             hi6250                      1   \n",
       "2  b41f717314855504             sc8830                      1   \n",
       "3  8d36707898c6955d  samsungexynos9810                      2   \n",
       "4  af1934dafd8aba01             mt6757                      1   \n",
       "\n",
       "  hw_screen_pixel_density                                    system_packages  \\\n",
       "0                 420 Dpi  com.samsung.android.provider.filterprovider, c...   \n",
       "1                 320 Dpi  com.huawei.hifolder, com.android.cts.priv.ctss...   \n",
       "2                 320 Dpi  com.monotype.android.font.rosemary, com.sec.an...   \n",
       "3                 420 Dpi  com.samsung.android.provider.filterprovider, c...   \n",
       "4                 420 Dpi  com.samsung.android.provider.filterprovider, c...   \n",
       "\n",
       "  network_wifi_mac_address hw_screen_resolution  ... hw_ram_total  \\\n",
       "0        12:2F:14:33:9D:E7            1080x2400  ...      7,94 GB   \n",
       "1        A8:E5:44:0E:BD:BB            1200x1920  ...      2,88 GB   \n",
       "2        AC:AF:B9:61:36:C8             720x1280  ...      1,33 GB   \n",
       "3        24:18:1D:FE:E3:E0            1080x2220  ...      5,89 GB   \n",
       "4        A4:6C:F1:C3:34:4E            1080x1920  ...      3.92 GB   \n",
       "\n",
       "  hw_cpu_min_speed hw_storage_total  \\\n",
       "0         455000Hz           118 GB   \n",
       "1         480000Hz         25,23 GB   \n",
       "2         768000Hz          4,79 GB   \n",
       "3         455000Hz           120 GB   \n",
       "4         247000Hz         26.75 GB   \n",
       "\n",
       "                                        list_of_wifi  \\\n",
       "0                                                      \n",
       "1  \"Dinh1\", \"MaiCa\", \"NhuQuynh\", \"Support\", \"Nam ...   \n",
       "2  \"Xiaomi_70BE_8F41\", \"COM TAM SONG ANH\", \"Redmi...   \n",
       "3                                                      \n",
       "4  \"NamCoffee&Milktea\", \"YÊU MỘT NGƯỜI\", \"Studio1...   \n",
       "\n",
       "  hw_camera_front_max_photo_resolution hw_camera_back_max_video_resolution  \\\n",
       "0                                  NaN                                 NaN   \n",
       "1                                  NaN                                 NaN   \n",
       "2                            2576x1932                           3264x2448   \n",
       "3                                  NaN                                 NaN   \n",
       "4                            4608x3456                           4128x3096   \n",
       "\n",
       "                                            ringtone hw_camera_number_camera  \\\n",
       "0                                                NaN                     NaN   \n",
       "1                                                NaN                     NaN   \n",
       "2  Basic Bell,Basic Tone,Beep Once,Beep-Beep,Begi...                       2   \n",
       "3                                                NaN                     NaN   \n",
       "4                                                NaN                       2   \n",
       "\n",
       "  hw_camera_back_max_photo_resolution hw_camera_front_max_video_resolution  \n",
       "0                                 NaN                                  NaN  \n",
       "1                                 NaN                                  NaN  \n",
       "2                           3264x2448                            2576x1932  \n",
       "3                                 NaN                                  NaN  \n",
       "4                           4128x3096                            4608x3456  \n",
       "\n",
       "[5 rows x 38 columns]"
      ]
     },
     "execution_count": 10,
     "metadata": {},
     "output_type": "execute_result"
    }
   ],
   "source": [
    "df.head()"
   ]
  },
  {
   "cell_type": "code",
   "execution_count": 15,
   "metadata": {},
   "outputs": [
    {
     "data": {
      "text/html": [
       "<div>\n",
       "<style scoped>\n",
       "    .dataframe tbody tr th:only-of-type {\n",
       "        vertical-align: middle;\n",
       "    }\n",
       "\n",
       "    .dataframe tbody tr th {\n",
       "        vertical-align: top;\n",
       "    }\n",
       "\n",
       "    .dataframe thead th {\n",
       "        text-align: right;\n",
       "    }\n",
       "</style>\n",
       "<table border=\"1\" class=\"dataframe\">\n",
       "  <thead>\n",
       "    <tr style=\"text-align: right;\">\n",
       "      <th></th>\n",
       "      <th>hw_device_id</th>\n",
       "    </tr>\n",
       "    <tr>\n",
       "      <th>userId</th>\n",
       "      <th></th>\n",
       "    </tr>\n",
       "  </thead>\n",
       "  <tbody>\n",
       "    <tr>\n",
       "      <th>160514000003501</th>\n",
       "      <td>1</td>\n",
       "    </tr>\n",
       "    <tr>\n",
       "      <th>200124000031214</th>\n",
       "      <td>1</td>\n",
       "    </tr>\n",
       "    <tr>\n",
       "      <th>200124000031205</th>\n",
       "      <td>1</td>\n",
       "    </tr>\n",
       "    <tr>\n",
       "      <th>200124000031090</th>\n",
       "      <td>1</td>\n",
       "    </tr>\n",
       "    <tr>\n",
       "      <th>200124000031055</th>\n",
       "      <td>1</td>\n",
       "    </tr>\n",
       "    <tr>\n",
       "      <th>...</th>\n",
       "      <td>...</td>\n",
       "    </tr>\n",
       "    <tr>\n",
       "      <th>191101679002231</th>\n",
       "      <td>67</td>\n",
       "    </tr>\n",
       "    <tr>\n",
       "      <th>171106000000266</th>\n",
       "      <td>68</td>\n",
       "    </tr>\n",
       "    <tr>\n",
       "      <th>190224000013026</th>\n",
       "      <td>86</td>\n",
       "    </tr>\n",
       "    <tr>\n",
       "      <th>200629000000643</th>\n",
       "      <td>93</td>\n",
       "    </tr>\n",
       "    <tr>\n",
       "      <th>171025000014202</th>\n",
       "      <td>107</td>\n",
       "    </tr>\n",
       "  </tbody>\n",
       "</table>\n",
       "<p>409836 rows × 1 columns</p>\n",
       "</div>"
      ],
      "text/plain": [
       "                 hw_device_id\n",
       "userId                       \n",
       "160514000003501             1\n",
       "200124000031214             1\n",
       "200124000031205             1\n",
       "200124000031090             1\n",
       "200124000031055             1\n",
       "...                       ...\n",
       "191101679002231            67\n",
       "171106000000266            68\n",
       "190224000013026            86\n",
       "200629000000643            93\n",
       "171025000014202           107\n",
       "\n",
       "[409836 rows x 1 columns]"
      ]
     },
     "execution_count": 15,
     "metadata": {},
     "output_type": "execute_result"
    }
   ],
   "source": [
    "df.groupby(['userId']).agg({'hw_device_id': 'count'}).sort_values(by=\"hw_device_id\")"
   ]
  },
  {
   "cell_type": "code",
   "execution_count": 12,
   "metadata": {},
   "outputs": [
    {
     "data": {
      "text/html": [
       "<div>\n",
       "<style scoped>\n",
       "    .dataframe tbody tr th:only-of-type {\n",
       "        vertical-align: middle;\n",
       "    }\n",
       "\n",
       "    .dataframe tbody tr th {\n",
       "        vertical-align: top;\n",
       "    }\n",
       "\n",
       "    .dataframe thead th {\n",
       "        text-align: right;\n",
       "    }\n",
       "</style>\n",
       "<table border=\"1\" class=\"dataframe\">\n",
       "  <thead>\n",
       "    <tr style=\"text-align: right;\">\n",
       "      <th></th>\n",
       "      <th>userId</th>\n",
       "    </tr>\n",
       "    <tr>\n",
       "      <th>hw_device_id</th>\n",
       "      <th></th>\n",
       "    </tr>\n",
       "  </thead>\n",
       "  <tbody>\n",
       "    <tr>\n",
       "      <th>460968F8-068F-41C8-B130-2F5F7E968C9C</th>\n",
       "      <td>49</td>\n",
       "    </tr>\n",
       "    <tr>\n",
       "      <th>A5AA40DE-35CB-4406-B4E9-B10E497766A0</th>\n",
       "      <td>35</td>\n",
       "    </tr>\n",
       "    <tr>\n",
       "      <th>EDF10704-E7E4-4CC6-BA25-9A30C7720D02</th>\n",
       "      <td>32</td>\n",
       "    </tr>\n",
       "    <tr>\n",
       "      <th>027894A1-E617-4A74-9035-33E36FE16800</th>\n",
       "      <td>32</td>\n",
       "    </tr>\n",
       "    <tr>\n",
       "      <th>0CA30A94-6251-4727-8340-9B6BE942AACB</th>\n",
       "      <td>31</td>\n",
       "    </tr>\n",
       "    <tr>\n",
       "      <th>F8E47BD8-EA84-4621-94C8-104B535C3097</th>\n",
       "      <td>21</td>\n",
       "    </tr>\n",
       "    <tr>\n",
       "      <th>51E7555D-BC41-483A-B627-7FD3A6693E4E</th>\n",
       "      <td>20</td>\n",
       "    </tr>\n",
       "    <tr>\n",
       "      <th>3C9D6E46-A3C6-456E-BB39-48C0154C7F5A</th>\n",
       "      <td>20</td>\n",
       "    </tr>\n",
       "    <tr>\n",
       "      <th>3A8BA073-A02B-47E1-81EF-C69A62A879C2</th>\n",
       "      <td>19</td>\n",
       "    </tr>\n",
       "    <tr>\n",
       "      <th>D9E7640D-A830-4CDB-B653-DE1F1F3D2FC6</th>\n",
       "      <td>18</td>\n",
       "    </tr>\n",
       "  </tbody>\n",
       "</table>\n",
       "</div>"
      ],
      "text/plain": [
       "                                      userId\n",
       "hw_device_id                                \n",
       "460968F8-068F-41C8-B130-2F5F7E968C9C      49\n",
       "A5AA40DE-35CB-4406-B4E9-B10E497766A0      35\n",
       "EDF10704-E7E4-4CC6-BA25-9A30C7720D02      32\n",
       "027894A1-E617-4A74-9035-33E36FE16800      32\n",
       "0CA30A94-6251-4727-8340-9B6BE942AACB      31\n",
       "F8E47BD8-EA84-4621-94C8-104B535C3097      21\n",
       "51E7555D-BC41-483A-B627-7FD3A6693E4E      20\n",
       "3C9D6E46-A3C6-456E-BB39-48C0154C7F5A      20\n",
       "3A8BA073-A02B-47E1-81EF-C69A62A879C2      19\n",
       "D9E7640D-A830-4CDB-B653-DE1F1F3D2FC6      18"
      ]
     },
     "execution_count": 12,
     "metadata": {},
     "output_type": "execute_result"
    }
   ],
   "source": [
    "df.groupby('hw_device_id').agg({'userId': lambda x: len(set(x))}).sort_values('userId', ascending=False)[:10]"
   ]
  },
  {
   "cell_type": "code",
   "execution_count": null,
   "metadata": {},
   "outputs": [],
   "source": [
    "df.groupby('hw_device_id').agg({'userId': lambda x: len(set(x))}).sort_values('userId')"
   ]
  }
 ],
 "metadata": {
  "kernelspec": {
   "display_name": "Python 3",
   "language": "python",
   "name": "python3"
  },
  "language_info": {
   "codemirror_mode": {
    "name": "ipython",
    "version": 3
   },
   "file_extension": ".py",
   "mimetype": "text/x-python",
   "name": "python",
   "nbconvert_exporter": "python",
   "pygments_lexer": "ipython3",
   "version": "3.8.5"
  }
 },
 "nbformat": 4,
 "nbformat_minor": 4
}
