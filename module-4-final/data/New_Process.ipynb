{
 "cells": [
  {
   "cell_type": "markdown",
   "metadata": {},
   "source": [
    "# Preprocess Data"
   ]
  },
  {
   "cell_type": "code",
   "execution_count": 6,
   "metadata": {},
   "outputs": [],
   "source": [
    "import pandas as pd\n",
    "from pyArango.connection import Connection\n",
    "import json"
   ]
  },
  {
   "cell_type": "code",
   "execution_count": 7,
   "metadata": {},
   "outputs": [
    {
     "data": {
      "text/html": [
       "<div>\n",
       "<style scoped>\n",
       "    .dataframe tbody tr th:only-of-type {\n",
       "        vertical-align: middle;\n",
       "    }\n",
       "\n",
       "    .dataframe tbody tr th {\n",
       "        vertical-align: top;\n",
       "    }\n",
       "\n",
       "    .dataframe thead th {\n",
       "        text-align: right;\n",
       "    }\n",
       "</style>\n",
       "<table border=\"1\" class=\"dataframe\">\n",
       "  <thead>\n",
       "    <tr style=\"text-align: right;\">\n",
       "      <th></th>\n",
       "      <th>timestamp</th>\n",
       "      <th>userId</th>\n",
       "      <th>params</th>\n",
       "    </tr>\n",
       "  </thead>\n",
       "  <tbody>\n",
       "    <tr>\n",
       "      <th>0</th>\n",
       "      <td>1596244856</td>\n",
       "      <td>170425000002238</td>\n",
       "      <td>{'hw_released': 'Tue Jul 07 08:50:39 GMT+07:00...</td>\n",
       "    </tr>\n",
       "    <tr>\n",
       "      <th>1</th>\n",
       "      <td>1596244830</td>\n",
       "      <td>191113586003363</td>\n",
       "      <td>{'hw_released': 'Thu Jul 02 12:19:14 GMT+07:00...</td>\n",
       "    </tr>\n",
       "    <tr>\n",
       "      <th>2</th>\n",
       "      <td>1596244888</td>\n",
       "      <td>200413000001404</td>\n",
       "      <td>{'hw_released': 'Thu Dec 07 11:24:05 GMT+07:00...</td>\n",
       "    </tr>\n",
       "    <tr>\n",
       "      <th>3</th>\n",
       "      <td>1596244831</td>\n",
       "      <td>200428000037320</td>\n",
       "      <td>{'hw_released': 'Wed Apr 22 07:53:33 GMT+07:00...</td>\n",
       "    </tr>\n",
       "    <tr>\n",
       "      <th>4</th>\n",
       "      <td>1596244849</td>\n",
       "      <td>190309000002524</td>\n",
       "      <td>{'hw_released': 'Thu Mar 12 12:05:05 GMT+07:00...</td>\n",
       "    </tr>\n",
       "  </tbody>\n",
       "</table>\n",
       "</div>"
      ],
      "text/plain": [
       "    timestamp           userId  \\\n",
       "0  1596244856  170425000002238   \n",
       "1  1596244830  191113586003363   \n",
       "2  1596244888  200413000001404   \n",
       "3  1596244831  200428000037320   \n",
       "4  1596244849  190309000002524   \n",
       "\n",
       "                                              params  \n",
       "0  {'hw_released': 'Tue Jul 07 08:50:39 GMT+07:00...  \n",
       "1  {'hw_released': 'Thu Jul 02 12:19:14 GMT+07:00...  \n",
       "2  {'hw_released': 'Thu Dec 07 11:24:05 GMT+07:00...  \n",
       "3  {'hw_released': 'Wed Apr 22 07:53:33 GMT+07:00...  \n",
       "4  {'hw_released': 'Thu Mar 12 12:05:05 GMT+07:00...  "
      ]
     },
     "execution_count": 7,
     "metadata": {},
     "output_type": "execute_result"
    }
   ],
   "source": [
    "android_df = pd.read_csv('dataTest_device_profile_android.csv')\n",
    "ios_df = pd.read_csv('dataTest_device_profile.csv')\n",
    "joint_df = pd.concat([android_df, ios_df])\n",
    "joint_df['params'] = joint_df['params'].apply(lambda x: json.loads(x))\n",
    "joint_df.head()"
   ]
  },
  {
   "cell_type": "code",
   "execution_count": 8,
   "metadata": {},
   "outputs": [],
   "source": [
    "formatted = pd.json_normalize(joint_df['params'])"
   ]
  },
  {
   "cell_type": "code",
   "execution_count": 9,
   "metadata": {},
   "outputs": [],
   "source": [
    "joint_df.reset_index(drop=True, inplace=True)\n",
    "\n",
    "formatted.reset_index(drop=True, inplace=True)"
   ]
  },
  {
   "cell_type": "code",
   "execution_count": 10,
   "metadata": {},
   "outputs": [
    {
     "data": {
      "text/html": [
       "<div>\n",
       "<style scoped>\n",
       "    .dataframe tbody tr th:only-of-type {\n",
       "        vertical-align: middle;\n",
       "    }\n",
       "\n",
       "    .dataframe tbody tr th {\n",
       "        vertical-align: top;\n",
       "    }\n",
       "\n",
       "    .dataframe thead th {\n",
       "        text-align: right;\n",
       "    }\n",
       "</style>\n",
       "<table border=\"1\" class=\"dataframe\">\n",
       "  <thead>\n",
       "    <tr style=\"text-align: right;\">\n",
       "      <th></th>\n",
       "      <th>timestamp</th>\n",
       "      <th>userId</th>\n",
       "      <th>hw_released</th>\n",
       "      <th>hw_device_id</th>\n",
       "      <th>battery_voltage</th>\n",
       "      <th>hw_board</th>\n",
       "      <th>hw_cpu_name</th>\n",
       "      <th>hw_screen_aspect_ratio</th>\n",
       "      <th>hw_screen_class</th>\n",
       "      <th>battery_type</th>\n",
       "      <th>...</th>\n",
       "      <th>sim_operator_name</th>\n",
       "      <th>hw_camera_front_optical_stabilization</th>\n",
       "      <th>hw_camera_front_resolution</th>\n",
       "      <th>hw_camera_back_resolution</th>\n",
       "      <th>sim_operator</th>\n",
       "      <th>hw_camera_back_longest_exposure_value</th>\n",
       "      <th>hw_camera_back_supported_resolution</th>\n",
       "      <th>hw_capacity_force_touch</th>\n",
       "      <th>os_multitasking</th>\n",
       "      <th>cellular_capabilities</th>\n",
       "    </tr>\n",
       "  </thead>\n",
       "  <tbody>\n",
       "    <tr>\n",
       "      <th>0</th>\n",
       "      <td>1596244856</td>\n",
       "      <td>170425000002238</td>\n",
       "      <td>Tue Jul 07 08:50:39 GMT+07:00 2020</td>\n",
       "      <td>f21ebb2f9064b16e</td>\n",
       "      <td>4091 mV</td>\n",
       "      <td>exynos9810</td>\n",
       "      <td>exynos9810</td>\n",
       "      <td>2</td>\n",
       "      <td>Normal</td>\n",
       "      <td>Li-ion</td>\n",
       "      <td>...</td>\n",
       "      <td>NaN</td>\n",
       "      <td>NaN</td>\n",
       "      <td>NaN</td>\n",
       "      <td>NaN</td>\n",
       "      <td>NaN</td>\n",
       "      <td>NaN</td>\n",
       "      <td>NaN</td>\n",
       "      <td>NaN</td>\n",
       "      <td>NaN</td>\n",
       "      <td>NaN</td>\n",
       "    </tr>\n",
       "    <tr>\n",
       "      <th>1</th>\n",
       "      <td>1596244830</td>\n",
       "      <td>191113586003363</td>\n",
       "      <td>Thu Jul 02 12:19:14 GMT+07:00 2020</td>\n",
       "      <td>13cf342d200936c8</td>\n",
       "      <td>4260 mV</td>\n",
       "      <td>AGS2</td>\n",
       "      <td>hi6250</td>\n",
       "      <td>1</td>\n",
       "      <td>Large</td>\n",
       "      <td>Li-poly</td>\n",
       "      <td>...</td>\n",
       "      <td>NaN</td>\n",
       "      <td>NaN</td>\n",
       "      <td>NaN</td>\n",
       "      <td>NaN</td>\n",
       "      <td>NaN</td>\n",
       "      <td>NaN</td>\n",
       "      <td>NaN</td>\n",
       "      <td>NaN</td>\n",
       "      <td>NaN</td>\n",
       "      <td>NaN</td>\n",
       "    </tr>\n",
       "    <tr>\n",
       "      <th>2</th>\n",
       "      <td>1596244888</td>\n",
       "      <td>200413000001404</td>\n",
       "      <td>Thu Dec 07 11:24:05 GMT+07:00 2017</td>\n",
       "      <td>b41f717314855504</td>\n",
       "      <td>3508 mV</td>\n",
       "      <td>SC9830I</td>\n",
       "      <td>sc8830</td>\n",
       "      <td>1</td>\n",
       "      <td>Normal</td>\n",
       "      <td>Li-ion</td>\n",
       "      <td>...</td>\n",
       "      <td>vn</td>\n",
       "      <td>NO</td>\n",
       "      <td>4 MP</td>\n",
       "      <td>7 MP</td>\n",
       "      <td>45204</td>\n",
       "      <td></td>\n",
       "      <td>3264x2448\\n2592x1936\\n2048x1536\\n1600x1200\\n12...</td>\n",
       "      <td>NaN</td>\n",
       "      <td>NaN</td>\n",
       "      <td>NaN</td>\n",
       "    </tr>\n",
       "    <tr>\n",
       "      <th>3</th>\n",
       "      <td>1596244831</td>\n",
       "      <td>200428000037320</td>\n",
       "      <td>Wed Apr 22 07:53:33 GMT+07:00 2020</td>\n",
       "      <td>8d36707898c6955d</td>\n",
       "      <td>3877 mV</td>\n",
       "      <td>exynos9810</td>\n",
       "      <td>samsungexynos9810</td>\n",
       "      <td>2</td>\n",
       "      <td>Normal</td>\n",
       "      <td>Li-ion</td>\n",
       "      <td>...</td>\n",
       "      <td>NaN</td>\n",
       "      <td>NaN</td>\n",
       "      <td>NaN</td>\n",
       "      <td>NaN</td>\n",
       "      <td>NaN</td>\n",
       "      <td>NaN</td>\n",
       "      <td>NaN</td>\n",
       "      <td>NaN</td>\n",
       "      <td>NaN</td>\n",
       "      <td>NaN</td>\n",
       "    </tr>\n",
       "    <tr>\n",
       "      <th>4</th>\n",
       "      <td>1596244849</td>\n",
       "      <td>190309000002524</td>\n",
       "      <td>Thu Mar 12 12:05:05 GMT+07:00 2020</td>\n",
       "      <td>af1934dafd8aba01</td>\n",
       "      <td>3644 mV</td>\n",
       "      <td>mt6757</td>\n",
       "      <td>mt6757</td>\n",
       "      <td>1</td>\n",
       "      <td>Normal</td>\n",
       "      <td>Li-ion</td>\n",
       "      <td>...</td>\n",
       "      <td>NaN</td>\n",
       "      <td>NO</td>\n",
       "      <td>15 MP</td>\n",
       "      <td>12 MP</td>\n",
       "      <td>NaN</td>\n",
       "      <td></td>\n",
       "      <td>4128x3096\\n4128x2320\\n3264x1836\\n3264x2448\\n30...</td>\n",
       "      <td>NaN</td>\n",
       "      <td>NaN</td>\n",
       "      <td>NaN</td>\n",
       "    </tr>\n",
       "  </tbody>\n",
       "</table>\n",
       "<p>5 rows × 79 columns</p>\n",
       "</div>"
      ],
      "text/plain": [
       "    timestamp           userId                         hw_released  \\\n",
       "0  1596244856  170425000002238  Tue Jul 07 08:50:39 GMT+07:00 2020   \n",
       "1  1596244830  191113586003363  Thu Jul 02 12:19:14 GMT+07:00 2020   \n",
       "2  1596244888  200413000001404  Thu Dec 07 11:24:05 GMT+07:00 2017   \n",
       "3  1596244831  200428000037320  Wed Apr 22 07:53:33 GMT+07:00 2020   \n",
       "4  1596244849  190309000002524  Thu Mar 12 12:05:05 GMT+07:00 2020   \n",
       "\n",
       "       hw_device_id battery_voltage    hw_board        hw_cpu_name  \\\n",
       "0  f21ebb2f9064b16e         4091 mV  exynos9810         exynos9810   \n",
       "1  13cf342d200936c8         4260 mV        AGS2             hi6250   \n",
       "2  b41f717314855504         3508 mV     SC9830I             sc8830   \n",
       "3  8d36707898c6955d         3877 mV  exynos9810  samsungexynos9810   \n",
       "4  af1934dafd8aba01         3644 mV      mt6757             mt6757   \n",
       "\n",
       "  hw_screen_aspect_ratio hw_screen_class battery_type  ... sim_operator_name  \\\n",
       "0                      2          Normal       Li-ion  ...               NaN   \n",
       "1                      1           Large      Li-poly  ...               NaN   \n",
       "2                      1          Normal       Li-ion  ...                vn   \n",
       "3                      2          Normal       Li-ion  ...               NaN   \n",
       "4                      1          Normal       Li-ion  ...               NaN   \n",
       "\n",
       "  hw_camera_front_optical_stabilization hw_camera_front_resolution  \\\n",
       "0                                   NaN                        NaN   \n",
       "1                                   NaN                        NaN   \n",
       "2                                    NO                       4 MP   \n",
       "3                                   NaN                        NaN   \n",
       "4                                    NO                      15 MP   \n",
       "\n",
       "  hw_camera_back_resolution sim_operator  \\\n",
       "0                       NaN          NaN   \n",
       "1                       NaN          NaN   \n",
       "2                      7 MP        45204   \n",
       "3                       NaN          NaN   \n",
       "4                     12 MP          NaN   \n",
       "\n",
       "  hw_camera_back_longest_exposure_value  \\\n",
       "0                                   NaN   \n",
       "1                                   NaN   \n",
       "2                                         \n",
       "3                                   NaN   \n",
       "4                                         \n",
       "\n",
       "                 hw_camera_back_supported_resolution hw_capacity_force_touch  \\\n",
       "0                                                NaN                     NaN   \n",
       "1                                                NaN                     NaN   \n",
       "2  3264x2448\\n2592x1936\\n2048x1536\\n1600x1200\\n12...                     NaN   \n",
       "3                                                NaN                     NaN   \n",
       "4  4128x3096\\n4128x2320\\n3264x1836\\n3264x2448\\n30...                     NaN   \n",
       "\n",
       "  os_multitasking cellular_capabilities  \n",
       "0             NaN                   NaN  \n",
       "1             NaN                   NaN  \n",
       "2             NaN                   NaN  \n",
       "3             NaN                   NaN  \n",
       "4             NaN                   NaN  \n",
       "\n",
       "[5 rows x 79 columns]"
      ]
     },
     "execution_count": 10,
     "metadata": {},
     "output_type": "execute_result"
    }
   ],
   "source": [
    "new_df = pd.concat([joint_df[['timestamp', 'userId']], formatted], axis=1)\n",
    "new_df.drop_duplicates(inplace=True)\n",
    "new_df.head()"
   ]
  },
  {
   "cell_type": "code",
   "execution_count": 11,
   "metadata": {},
   "outputs": [],
   "source": [
    "required_cols = ['timestamp', 'userId', 'hw_released', 'hw_device_id', 'hw_cpu_name',\n",
    "       'hw_screen_aspect_ratio', 'hw_screen_pixel_density', 'system_packages',\n",
    "       'network_wifi_mac_address', 'hw_screen_resolution', 'os_version',\n",
    "       'hw_device_manufacturer', 'hw_cpu_speed', 'hw_device_model',\n",
    "       'hw_screen_refresh_rate', 'os_name', 'os_root_access',\n",
    "       'hw_cpu_supported_64_bit_abis', 'user_agent', 'hw_device_string',\n",
    "       'os_version_name', 'hw_cpu_core_count', 'hw_cpu_supported_32_bit_abis',\n",
    "       'hw_cpu_processor', 'hw_cpu_manufacturer', 'hw_screen_size',\n",
    "       'hw_bluetooth_address', 'installed_packages', 'hw_ram_total',\n",
    "       'hw_cpu_min_speed', 'hw_storage_total', 'list_of_wifi',\n",
    "       'hw_camera_front_max_photo_resolution',\n",
    "       'hw_camera_back_max_video_resolution', 'ringtone',\n",
    "       'hw_camera_number_camera', 'hw_camera_back_max_photo_resolution',\n",
    "       'hw_camera_front_max_video_resolution']"
   ]
  },
  {
   "cell_type": "code",
   "execution_count": 12,
   "metadata": {},
   "outputs": [],
   "source": [
    "df = new_df[required_cols]"
   ]
  },
  {
   "cell_type": "code",
   "execution_count": 13,
   "metadata": {},
   "outputs": [
    {
     "data": {
      "text/plain": [
       "False    495535\n",
       "True         39\n",
       "dtype: int64"
      ]
     },
     "execution_count": 13,
     "metadata": {},
     "output_type": "execute_result"
    }
   ],
   "source": [
    "df.duplicated().value_counts()"
   ]
  },
  {
   "cell_type": "code",
   "execution_count": 14,
   "metadata": {},
   "outputs": [],
   "source": [
    "df = df.drop_duplicates()"
   ]
  },
  {
   "cell_type": "markdown",
   "metadata": {},
   "source": [
    "# Connect to ArangoDB, DB and collections"
   ]
  },
  {
   "cell_type": "code",
   "execution_count": 15,
   "metadata": {},
   "outputs": [],
   "source": [
    "conn = Connection(username='root', password='ngph')\n",
    "db = conn['final']\n",
    "users = db['users']\n",
    "devices = db['devices']\n",
    "user_device = db['user_device']\n",
    "device_deviceModel = db['device_devicemodel']\n",
    "device_model = db['device_model']"
   ]
  },
  {
   "cell_type": "markdown",
   "metadata": {},
   "source": [
    "# Insert data into ArangoDB"
   ]
  },
  {
   "cell_type": "markdown",
   "metadata": {},
   "source": [
    "## Add users"
   ]
  },
  {
   "cell_type": "code",
   "execution_count": 52,
   "metadata": {},
   "outputs": [],
   "source": [
    "unique_users = df['userId'].unique()"
   ]
  },
  {
   "cell_type": "code",
   "execution_count": null,
   "metadata": {},
   "outputs": [],
   "source": [
    "for uu in unique_users:\n",
    "    users.createDocument({\n",
    "        '_key': uu\n",
    "    }).save()"
   ]
  },
  {
   "cell_type": "markdown",
   "metadata": {},
   "source": [
    "## Add latest devices info"
   ]
  },
  {
   "cell_type": "code",
   "execution_count": 60,
   "metadata": {},
   "outputs": [],
   "source": [
    "devices_latest = df[df.groupby(['hw_device_id'])['timestamp'].transform(max) == df['timestamp']]"
   ]
  },
  {
   "cell_type": "code",
   "execution_count": 69,
   "metadata": {},
   "outputs": [],
   "source": [
    "def format_packages(x):\n",
    "    return x.split(', ') if type(x) is not float else 'nan'"
   ]
  },
  {
   "cell_type": "code",
   "execution_count": 93,
   "metadata": {},
   "outputs": [],
   "source": [
    "def format_list_of_wifi(x):\n",
    "    if type(x) is not float and x != '':\n",
    "        return x.replace('\"', '').split(', ')\n",
    "    else:\n",
    "        return 'nan'"
   ]
  },
  {
   "cell_type": "code",
   "execution_count": 86,
   "metadata": {},
   "outputs": [],
   "source": [
    "def format_ringtone(x):\n",
    "    return x.strip(',').split(',') if type(x) is not float else 'nan'"
   ]
  },
  {
   "cell_type": "code",
   "execution_count": 95,
   "metadata": {},
   "outputs": [],
   "source": [
    "cols_exclude_devices = set(df.columns) - set(['hw_device_id', 'installed_packages', 'system_packages', 'list_of_wifi', 'ringtone'])\n",
    "for _, row in devices_latest.iterrows():\n",
    "    nd = devices.createDocument({\n",
    "        '_key': row['hw_device_id'],\n",
    "        'installed_packages': format_packages(row['installed_packages']),\n",
    "        'system_packages': format_packages(row['system_packages']),\n",
    "        'list_of_wifi': format_list_of_wifi(row['list_of_wifi']),\n",
    "        'ringtone': format_ringtone(row['ringtone'])\n",
    "    })\n",
    "    for c in cols_exclude_devices:\n",
    "        nd[c] = str(row[c])\n",
    "    nd.save()"
   ]
  },
  {
   "cell_type": "markdown",
   "metadata": {},
   "source": [
    "## Add users - devices"
   ]
  },
  {
   "cell_type": "code",
   "execution_count": 96,
   "metadata": {},
   "outputs": [],
   "source": [
    "cols_exclude_users_devices = set(df.columns) - set(['userId', 'hw_device_id', 'installed_packages', 'system_packages', 'list_of_wifi', 'ringtone'])\n",
    "for _, row in df.iterrows():\n",
    "    ud = user_device.createDocument({\n",
    "        '_from': 'users/' + str(row['userId']),\n",
    "        '_to': 'devices/' + str(row['hw_device_id'])\n",
    "    })\n",
    "    for c in cols_exclude_users_devices:\n",
    "        ud[c] = str(row[c])\n",
    "    ud.save()"
   ]
  },
  {
   "cell_type": "markdown",
   "metadata": {},
   "source": [
    "## Devices model"
   ]
  },
  {
   "cell_type": "code",
   "execution_count": null,
   "metadata": {},
   "outputs": [],
   "source": [
    "unique_device_model = df['hw_device_model'].unique()\n",
    "inserted = []\n",
    "for uq in unique_device_model:\n",
    "    formatted = '_'.join(x for x in uq.split(' '))\n",
    "    if formatted not in inserted:\n",
    "        inserted.append(formatted)\n",
    "        device_model.createDocument({\n",
    "            '_key': formatted\n",
    "        }).save()"
   ]
  },
  {
   "cell_type": "markdown",
   "metadata": {},
   "source": [
    "## Device - DeviceModel"
   ]
  },
  {
   "cell_type": "code",
   "execution_count": 16,
   "metadata": {},
   "outputs": [],
   "source": [
    "for _, row in df.iterrows():\n",
    "    formatted_device_model = '_'.join(x for x in row['hw_device_model'].split(' '))\n",
    "    new_ddm = device_deviceModel.createDocument({\n",
    "        '_from': 'devices/' + str(row['hw_device_id']),\n",
    "        '_to': 'device_model/' + formatted_device_model,\n",
    "        'timestamp': str(row['timestamp']),\n",
    "        'userId': str(row['userId'])\n",
    "    })\n",
    "    new_ddm.save()"
   ]
  },
  {
   "cell_type": "code",
   "execution_count": null,
   "metadata": {},
   "outputs": [],
   "source": []
  }
 ],
 "metadata": {
  "kernelspec": {
   "display_name": "vng",
   "language": "python",
   "name": "vng"
  },
  "language_info": {
   "codemirror_mode": {
    "name": "ipython",
    "version": 3
   },
   "file_extension": ".py",
   "mimetype": "text/x-python",
   "name": "python",
   "nbconvert_exporter": "python",
   "pygments_lexer": "ipython3",
   "version": "3.8.5"
  }
 },
 "nbformat": 4,
 "nbformat_minor": 4
}
