{
 "cells": [
  {
   "cell_type": "markdown",
   "metadata": {},
   "source": [
    "# Import library and preprocess data"
   ]
  },
  {
   "cell_type": "code",
   "execution_count": 2,
   "metadata": {},
   "outputs": [],
   "source": [
    "import pandas as pd"
   ]
  },
  {
   "cell_type": "code",
   "execution_count": 61,
   "metadata": {},
   "outputs": [
    {
     "ename": "SyntaxError",
     "evalue": "invalid syntax (<ipython-input-61-5e8eeb79647b>, line 8)",
     "output_type": "error",
     "traceback": [
      "\u001b[0;36m  File \u001b[0;32m\"<ipython-input-61-5e8eeb79647b>\"\u001b[0;36m, line \u001b[0;32m8\u001b[0m\n\u001b[0;31m    app_id['merchant'] = app_id['merchant'].apply(lambda x: '_'.join([c for c in x.lower().split(' ')] if c not ' ' else c))\u001b[0m\n\u001b[0m                                                                                                                ^\u001b[0m\n\u001b[0;31mSyntaxError\u001b[0m\u001b[0;31m:\u001b[0m invalid syntax\n"
     ]
    }
   ],
   "source": [
    "app_id = pd.read_excel('./AppID Merchant.xlsx')\n",
    "app_id = app_id[['Merchant', 'App ID']]\n",
    "app_id.columns = ['merchant', 'appid']\n",
    "\n",
    "# format to snake case\n",
    "app_id['merchant'] = app_id['merchant'].apply(lambda x: x.replace('&', ''))\n",
    "app_id['merchant'] = app_id['merchant'].apply(lambda x: x.replace(',', ''))\n",
    "app_id['merchant'] = app_id['merchant'].apply(lambda x: '_'.join([c for c in x.lower().split(' ') if c not ' ' else c]))\n",
    "app_id.head()"
   ]
  },
  {
   "cell_type": "code",
   "execution_count": 56,
   "metadata": {},
   "outputs": [
    {
     "data": {
      "text/html": [
       "<div>\n",
       "<style scoped>\n",
       "    .dataframe tbody tr th:only-of-type {\n",
       "        vertical-align: middle;\n",
       "    }\n",
       "\n",
       "    .dataframe tbody tr th {\n",
       "        vertical-align: top;\n",
       "    }\n",
       "\n",
       "    .dataframe thead th {\n",
       "        text-align: right;\n",
       "    }\n",
       "</style>\n",
       "<table border=\"1\" class=\"dataframe\">\n",
       "  <thead>\n",
       "    <tr style=\"text-align: right;\">\n",
       "      <th></th>\n",
       "      <th>deviceID</th>\n",
       "      <th>transID</th>\n",
       "      <th>transType</th>\n",
       "      <th>appid</th>\n",
       "      <th>pmcID</th>\n",
       "      <th>amount</th>\n",
       "      <th>userID</th>\n",
       "      <th>osVer</th>\n",
       "      <th>deviceModel</th>\n",
       "      <th>userIP</th>\n",
       "      <th>reqDate</th>\n",
       "      <th>longitude</th>\n",
       "      <th>latitude</th>\n",
       "      <th>campaignID</th>\n",
       "      <th>type_transaction</th>\n",
       "    </tr>\n",
       "  </thead>\n",
       "  <tbody>\n",
       "    <tr>\n",
       "      <th>0</th>\n",
       "      <td>000195863904dc8a</td>\n",
       "      <td>200808000071150</td>\n",
       "      <td>1</td>\n",
       "      <td>454</td>\n",
       "      <td>39</td>\n",
       "      <td>2000000</td>\n",
       "      <td>200119000040347</td>\n",
       "      <td>Android 28 (9)</td>\n",
       "      <td>Samsung SM-J730G</td>\n",
       "      <td>125.214.48.174</td>\n",
       "      <td>2020-08-08 08:51:08.856</td>\n",
       "      <td>105.952103</td>\n",
       "      <td>10.223810</td>\n",
       "      <td>0</td>\n",
       "      <td>payment</td>\n",
       "    </tr>\n",
       "    <tr>\n",
       "      <th>1</th>\n",
       "      <td>000195863904dc8a</td>\n",
       "      <td>200808000089357</td>\n",
       "      <td>1</td>\n",
       "      <td>454</td>\n",
       "      <td>39</td>\n",
       "      <td>2000000</td>\n",
       "      <td>200119000040347</td>\n",
       "      <td>Android 28 (9)</td>\n",
       "      <td>Samsung SM-J730G</td>\n",
       "      <td>125.214.48.174</td>\n",
       "      <td>2020-08-08 09:47:11.279</td>\n",
       "      <td>105.952107</td>\n",
       "      <td>10.223811</td>\n",
       "      <td>0</td>\n",
       "      <td>payment</td>\n",
       "    </tr>\n",
       "    <tr>\n",
       "      <th>2</th>\n",
       "      <td>000195863904dc8a</td>\n",
       "      <td>200809000160928</td>\n",
       "      <td>1</td>\n",
       "      <td>454</td>\n",
       "      <td>39</td>\n",
       "      <td>2000000</td>\n",
       "      <td>200119000040347</td>\n",
       "      <td>Android 28 (9)</td>\n",
       "      <td>Samsung SM-J730G</td>\n",
       "      <td>125.214.48.174</td>\n",
       "      <td>2020-08-09 14:43:45.359</td>\n",
       "      <td>105.952099</td>\n",
       "      <td>10.223812</td>\n",
       "      <td>0</td>\n",
       "      <td>payment</td>\n",
       "    </tr>\n",
       "    <tr>\n",
       "      <th>3</th>\n",
       "      <td>000195863904dc8a</td>\n",
       "      <td>200822000188187</td>\n",
       "      <td>1</td>\n",
       "      <td>454</td>\n",
       "      <td>39</td>\n",
       "      <td>2000000</td>\n",
       "      <td>200119000040347</td>\n",
       "      <td>Android 28 (9)</td>\n",
       "      <td>Samsung SM-J730G</td>\n",
       "      <td>125.214.48.174</td>\n",
       "      <td>2020-08-22 14:33:30.566</td>\n",
       "      <td>105.952106</td>\n",
       "      <td>10.223818</td>\n",
       "      <td>0</td>\n",
       "      <td>payment</td>\n",
       "    </tr>\n",
       "    <tr>\n",
       "      <th>4</th>\n",
       "      <td>000195863904dc8a</td>\n",
       "      <td>200822000271777</td>\n",
       "      <td>1</td>\n",
       "      <td>454</td>\n",
       "      <td>39</td>\n",
       "      <td>2000000</td>\n",
       "      <td>200119000040347</td>\n",
       "      <td>Android 28 (9)</td>\n",
       "      <td>Samsung SM-J730G</td>\n",
       "      <td>125.214.48.174</td>\n",
       "      <td>2020-08-22 20:30:36.476</td>\n",
       "      <td>105.952090</td>\n",
       "      <td>10.223808</td>\n",
       "      <td>0</td>\n",
       "      <td>payment</td>\n",
       "    </tr>\n",
       "  </tbody>\n",
       "</table>\n",
       "</div>"
      ],
      "text/plain": [
       "           deviceID          transID  transType  appid  pmcID   amount  \\\n",
       "0  000195863904dc8a  200808000071150          1    454     39  2000000   \n",
       "1  000195863904dc8a  200808000089357          1    454     39  2000000   \n",
       "2  000195863904dc8a  200809000160928          1    454     39  2000000   \n",
       "3  000195863904dc8a  200822000188187          1    454     39  2000000   \n",
       "4  000195863904dc8a  200822000271777          1    454     39  2000000   \n",
       "\n",
       "            userID           osVer       deviceModel          userIP  \\\n",
       "0  200119000040347  Android 28 (9)  Samsung SM-J730G  125.214.48.174   \n",
       "1  200119000040347  Android 28 (9)  Samsung SM-J730G  125.214.48.174   \n",
       "2  200119000040347  Android 28 (9)  Samsung SM-J730G  125.214.48.174   \n",
       "3  200119000040347  Android 28 (9)  Samsung SM-J730G  125.214.48.174   \n",
       "4  200119000040347  Android 28 (9)  Samsung SM-J730G  125.214.48.174   \n",
       "\n",
       "                   reqDate   longitude   latitude  campaignID type_transaction  \n",
       "0  2020-08-08 08:51:08.856  105.952103  10.223810           0          payment  \n",
       "1  2020-08-08 09:47:11.279  105.952107  10.223811           0          payment  \n",
       "2  2020-08-09 14:43:45.359  105.952099  10.223812           0          payment  \n",
       "3  2020-08-22 14:33:30.566  105.952106  10.223818           0          payment  \n",
       "4  2020-08-22 20:30:36.476  105.952090  10.223808           0          payment  "
      ]
     },
     "execution_count": 56,
     "metadata": {},
     "output_type": "execute_result"
    }
   ],
   "source": [
    "columns = ['deviceID', 'transID', 'transType', 'appid', 'pmcID', 'amount', 'userID', 'osVer', 'deviceModel', 'userIP', 'reqDate', 'longitude', 'latitude', 'campaignID', 'type_transaction']\n",
    "tpe = pd.read_csv('./tpe_device_score.csv', names=columns)\n",
    "tpe.head()"
   ]
  },
  {
   "cell_type": "code",
   "execution_count": 57,
   "metadata": {},
   "outputs": [
    {
     "data": {
      "text/html": [
       "<div>\n",
       "<style scoped>\n",
       "    .dataframe tbody tr th:only-of-type {\n",
       "        vertical-align: middle;\n",
       "    }\n",
       "\n",
       "    .dataframe tbody tr th {\n",
       "        vertical-align: top;\n",
       "    }\n",
       "\n",
       "    .dataframe thead th {\n",
       "        text-align: right;\n",
       "    }\n",
       "</style>\n",
       "<table border=\"1\" class=\"dataframe\">\n",
       "  <thead>\n",
       "    <tr style=\"text-align: right;\">\n",
       "      <th></th>\n",
       "      <th>deviceID</th>\n",
       "      <th>transID</th>\n",
       "      <th>transType</th>\n",
       "      <th>appid</th>\n",
       "      <th>pmcID</th>\n",
       "      <th>amount</th>\n",
       "      <th>userID</th>\n",
       "      <th>osVer</th>\n",
       "      <th>deviceModel</th>\n",
       "      <th>userIP</th>\n",
       "      <th>reqDate</th>\n",
       "      <th>longitude</th>\n",
       "      <th>latitude</th>\n",
       "      <th>campaignID</th>\n",
       "      <th>type_transaction</th>\n",
       "      <th>merchant</th>\n",
       "    </tr>\n",
       "  </thead>\n",
       "  <tbody>\n",
       "    <tr>\n",
       "      <th>0</th>\n",
       "      <td>000195863904dc8a</td>\n",
       "      <td>200808000071150</td>\n",
       "      <td>1</td>\n",
       "      <td>454</td>\n",
       "      <td>39</td>\n",
       "      <td>2000000</td>\n",
       "      <td>200119000040347</td>\n",
       "      <td>Android 28 (9)</td>\n",
       "      <td>Samsung SM-J730G</td>\n",
       "      <td>125.214.48.174</td>\n",
       "      <td>2020-08-08 08:51:08.856</td>\n",
       "      <td>105.952103</td>\n",
       "      <td>10.223810</td>\n",
       "      <td>0</td>\n",
       "      <td>payment</td>\n",
       "      <td>money_transfer</td>\n",
       "    </tr>\n",
       "    <tr>\n",
       "      <th>1</th>\n",
       "      <td>000195863904dc8a</td>\n",
       "      <td>200808000089357</td>\n",
       "      <td>1</td>\n",
       "      <td>454</td>\n",
       "      <td>39</td>\n",
       "      <td>2000000</td>\n",
       "      <td>200119000040347</td>\n",
       "      <td>Android 28 (9)</td>\n",
       "      <td>Samsung SM-J730G</td>\n",
       "      <td>125.214.48.174</td>\n",
       "      <td>2020-08-08 09:47:11.279</td>\n",
       "      <td>105.952107</td>\n",
       "      <td>10.223811</td>\n",
       "      <td>0</td>\n",
       "      <td>payment</td>\n",
       "      <td>money_transfer</td>\n",
       "    </tr>\n",
       "    <tr>\n",
       "      <th>2</th>\n",
       "      <td>000195863904dc8a</td>\n",
       "      <td>200809000160928</td>\n",
       "      <td>1</td>\n",
       "      <td>454</td>\n",
       "      <td>39</td>\n",
       "      <td>2000000</td>\n",
       "      <td>200119000040347</td>\n",
       "      <td>Android 28 (9)</td>\n",
       "      <td>Samsung SM-J730G</td>\n",
       "      <td>125.214.48.174</td>\n",
       "      <td>2020-08-09 14:43:45.359</td>\n",
       "      <td>105.952099</td>\n",
       "      <td>10.223812</td>\n",
       "      <td>0</td>\n",
       "      <td>payment</td>\n",
       "      <td>money_transfer</td>\n",
       "    </tr>\n",
       "    <tr>\n",
       "      <th>3</th>\n",
       "      <td>000195863904dc8a</td>\n",
       "      <td>200822000188187</td>\n",
       "      <td>1</td>\n",
       "      <td>454</td>\n",
       "      <td>39</td>\n",
       "      <td>2000000</td>\n",
       "      <td>200119000040347</td>\n",
       "      <td>Android 28 (9)</td>\n",
       "      <td>Samsung SM-J730G</td>\n",
       "      <td>125.214.48.174</td>\n",
       "      <td>2020-08-22 14:33:30.566</td>\n",
       "      <td>105.952106</td>\n",
       "      <td>10.223818</td>\n",
       "      <td>0</td>\n",
       "      <td>payment</td>\n",
       "      <td>money_transfer</td>\n",
       "    </tr>\n",
       "    <tr>\n",
       "      <th>4</th>\n",
       "      <td>000195863904dc8a</td>\n",
       "      <td>200822000271777</td>\n",
       "      <td>1</td>\n",
       "      <td>454</td>\n",
       "      <td>39</td>\n",
       "      <td>2000000</td>\n",
       "      <td>200119000040347</td>\n",
       "      <td>Android 28 (9)</td>\n",
       "      <td>Samsung SM-J730G</td>\n",
       "      <td>125.214.48.174</td>\n",
       "      <td>2020-08-22 20:30:36.476</td>\n",
       "      <td>105.952090</td>\n",
       "      <td>10.223808</td>\n",
       "      <td>0</td>\n",
       "      <td>payment</td>\n",
       "      <td>money_transfer</td>\n",
       "    </tr>\n",
       "  </tbody>\n",
       "</table>\n",
       "</div>"
      ],
      "text/plain": [
       "           deviceID          transID  transType  appid  pmcID   amount  \\\n",
       "0  000195863904dc8a  200808000071150          1    454     39  2000000   \n",
       "1  000195863904dc8a  200808000089357          1    454     39  2000000   \n",
       "2  000195863904dc8a  200809000160928          1    454     39  2000000   \n",
       "3  000195863904dc8a  200822000188187          1    454     39  2000000   \n",
       "4  000195863904dc8a  200822000271777          1    454     39  2000000   \n",
       "\n",
       "            userID           osVer       deviceModel          userIP  \\\n",
       "0  200119000040347  Android 28 (9)  Samsung SM-J730G  125.214.48.174   \n",
       "1  200119000040347  Android 28 (9)  Samsung SM-J730G  125.214.48.174   \n",
       "2  200119000040347  Android 28 (9)  Samsung SM-J730G  125.214.48.174   \n",
       "3  200119000040347  Android 28 (9)  Samsung SM-J730G  125.214.48.174   \n",
       "4  200119000040347  Android 28 (9)  Samsung SM-J730G  125.214.48.174   \n",
       "\n",
       "                   reqDate   longitude   latitude  campaignID  \\\n",
       "0  2020-08-08 08:51:08.856  105.952103  10.223810           0   \n",
       "1  2020-08-08 09:47:11.279  105.952107  10.223811           0   \n",
       "2  2020-08-09 14:43:45.359  105.952099  10.223812           0   \n",
       "3  2020-08-22 14:33:30.566  105.952106  10.223818           0   \n",
       "4  2020-08-22 20:30:36.476  105.952090  10.223808           0   \n",
       "\n",
       "  type_transaction        merchant  \n",
       "0          payment  money_transfer  \n",
       "1          payment  money_transfer  \n",
       "2          payment  money_transfer  \n",
       "3          payment  money_transfer  \n",
       "4          payment  money_transfer  "
      ]
     },
     "execution_count": 57,
     "metadata": {},
     "output_type": "execute_result"
    }
   ],
   "source": [
    "joined_df = tpe.join(app_id.set_index('appid'), how='inner', on='appid')\n",
    "joined_df.head()"
   ]
  },
  {
   "cell_type": "code",
   "execution_count": 58,
   "metadata": {},
   "outputs": [
    {
     "data": {
      "text/plain": [
       "userID           merchant      \n",
       "200119000040347  digital_goods      2\n",
       "                 money_transfer    16\n",
       "Name: appid, dtype: int64"
      ]
     },
     "execution_count": 58,
     "metadata": {},
     "output_type": "execute_result"
    }
   ],
   "source": [
    "joined_df[joined_df['deviceID'] == '000195863904dc8a'].groupby(['userID', 'merchant'])['appid'].count()"
   ]
  },
  {
   "cell_type": "markdown",
   "metadata": {},
   "source": [
    "# Connect ArangoDB"
   ]
  },
  {
   "cell_type": "code",
   "execution_count": 41,
   "metadata": {},
   "outputs": [],
   "source": [
    "from pyArango.connection import Connection"
   ]
  },
  {
   "cell_type": "code",
   "execution_count": 43,
   "metadata": {},
   "outputs": [],
   "source": [
    "conn = Connection(username='root', password='ngph')\n",
    "db = conn['final']\n",
    "merchant = db['merchant']\n",
    "device_merchant = db['device_merchant']"
   ]
  },
  {
   "cell_type": "markdown",
   "metadata": {},
   "source": [
    "# ArangoDB Insertion"
   ]
  },
  {
   "cell_type": "markdown",
   "metadata": {},
   "source": [
    "## Add Merchant"
   ]
  },
  {
   "cell_type": "code",
   "execution_count": 59,
   "metadata": {},
   "outputs": [
    {
     "data": {
      "text/plain": [
       "array(['app_test', 'business_service', 'clothing', 'digital_goods',\n",
       "       'electronic_store', 'entertainment', 'food_and_beverage', 'game',\n",
       "       'lodging_hotels__accommodations', 'marketplace', 'money_transfer',\n",
       "       'promotion', 'retail_outlet', 'supermarket__convenience_store',\n",
       "       'transportation', 'travel', 'utility'], dtype=object)"
      ]
     },
     "execution_count": 59,
     "metadata": {},
     "output_type": "execute_result"
    }
   ],
   "source": [
    "merchant_unique = app_id['merchant'].unique()\n",
    "merchant_unique"
   ]
  },
  {
   "cell_type": "code",
   "execution_count": 48,
   "metadata": {},
   "outputs": [
    {
     "name": "stdout",
     "output_type": "stream",
     "text": [
      "app_test\n"
     ]
    }
   ],
   "source": [
    "for m in merchant_unique:\n",
    "    try:\n",
    "        merchant.createDocument({\n",
    "            '_key': m.strip()\n",
    "        }).save()\n",
    "    except:\n",
    "        print(m)\n",
    "        break"
   ]
  },
  {
   "cell_type": "code",
   "execution_count": null,
   "metadata": {},
   "outputs": [],
   "source": []
  }
 ],
 "metadata": {
  "kernelspec": {
   "display_name": "Python 3",
   "language": "python",
   "name": "python3"
  },
  "language_info": {
   "codemirror_mode": {
    "name": "ipython",
    "version": 3
   },
   "file_extension": ".py",
   "mimetype": "text/x-python",
   "name": "python",
   "nbconvert_exporter": "python",
   "pygments_lexer": "ipython3",
   "version": "3.8.5"
  }
 },
 "nbformat": 4,
 "nbformat_minor": 4
}
