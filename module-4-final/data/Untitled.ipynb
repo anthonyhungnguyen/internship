{
 "cells": [
  {
   "cell_type": "code",
   "execution_count": 1,
   "metadata": {},
   "outputs": [],
   "source": [
    "import pandas as pd"
   ]
  },
  {
   "cell_type": "code",
   "execution_count": 7,
   "metadata": {},
   "outputs": [],
   "source": [
    "user_account = pd.read_csv('raw/userID_accountID.csv')\n",
    "user_card = pd.read_csv('raw/userID_cardID.csv')\n",
    "user_device = pd.read_csv('raw/userid_deviceid.csv')"
   ]
  },
  {
   "cell_type": "code",
   "execution_count": 8,
   "metadata": {},
   "outputs": [
    {
     "data": {
      "text/html": [
       "<div>\n",
       "<style scoped>\n",
       "    .dataframe tbody tr th:only-of-type {\n",
       "        vertical-align: middle;\n",
       "    }\n",
       "\n",
       "    .dataframe tbody tr th {\n",
       "        vertical-align: top;\n",
       "    }\n",
       "\n",
       "    .dataframe thead th {\n",
       "        text-align: right;\n",
       "    }\n",
       "</style>\n",
       "<table border=\"1\" class=\"dataframe\">\n",
       "  <thead>\n",
       "    <tr style=\"text-align: right;\">\n",
       "      <th></th>\n",
       "      <th>userID</th>\n",
       "      <th>accountID</th>\n",
       "    </tr>\n",
       "  </thead>\n",
       "  <tbody>\n",
       "    <tr>\n",
       "      <th>0</th>\n",
       "      <td>200221000026960</td>\n",
       "      <td>200221100002264</td>\n",
       "    </tr>\n",
       "    <tr>\n",
       "      <th>1</th>\n",
       "      <td>191206720001042</td>\n",
       "      <td>191206100000350</td>\n",
       "    </tr>\n",
       "    <tr>\n",
       "      <th>2</th>\n",
       "      <td>191210484000661</td>\n",
       "      <td>191210100000238</td>\n",
       "    </tr>\n",
       "    <tr>\n",
       "      <th>3</th>\n",
       "      <td>190709000001059</td>\n",
       "      <td>190707100001431</td>\n",
       "    </tr>\n",
       "    <tr>\n",
       "      <th>4</th>\n",
       "      <td>191227000009403</td>\n",
       "      <td>191227100000397</td>\n",
       "    </tr>\n",
       "    <tr>\n",
       "      <th>...</th>\n",
       "      <td>...</td>\n",
       "      <td>...</td>\n",
       "    </tr>\n",
       "    <tr>\n",
       "      <th>10748</th>\n",
       "      <td>191223889025698</td>\n",
       "      <td>191223100001747</td>\n",
       "    </tr>\n",
       "    <tr>\n",
       "      <th>10749</th>\n",
       "      <td>200429000002522</td>\n",
       "      <td>200720100000957</td>\n",
       "    </tr>\n",
       "    <tr>\n",
       "      <th>10750</th>\n",
       "      <td>191220734006017</td>\n",
       "      <td>191220100001326</td>\n",
       "    </tr>\n",
       "    <tr>\n",
       "      <th>10751</th>\n",
       "      <td>200104000043475</td>\n",
       "      <td>200629100000340</td>\n",
       "    </tr>\n",
       "    <tr>\n",
       "      <th>10752</th>\n",
       "      <td>191226000036066</td>\n",
       "      <td>191226100004049</td>\n",
       "    </tr>\n",
       "  </tbody>\n",
       "</table>\n",
       "<p>10753 rows × 2 columns</p>\n",
       "</div>"
      ],
      "text/plain": [
       "                userID        accountID\n",
       "0      200221000026960  200221100002264\n",
       "1      191206720001042  191206100000350\n",
       "2      191210484000661  191210100000238\n",
       "3      190709000001059  190707100001431\n",
       "4      191227000009403  191227100000397\n",
       "...                ...              ...\n",
       "10748  191223889025698  191223100001747\n",
       "10749  200429000002522  200720100000957\n",
       "10750  191220734006017  191220100001326\n",
       "10751  200104000043475  200629100000340\n",
       "10752  191226000036066  191226100004049\n",
       "\n",
       "[10753 rows x 2 columns]"
      ]
     },
     "execution_count": 8,
     "metadata": {},
     "output_type": "execute_result"
    }
   ],
   "source": [
    "user_account"
   ]
  },
  {
   "cell_type": "code",
   "execution_count": 9,
   "metadata": {},
   "outputs": [
    {
     "data": {
      "text/plain": [
       "False    10753\n",
       "dtype: int64"
      ]
     },
     "execution_count": 9,
     "metadata": {},
     "output_type": "execute_result"
    }
   ],
   "source": [
    "user_account.duplicated().value_counts()"
   ]
  },
  {
   "cell_type": "code",
   "execution_count": 10,
   "metadata": {},
   "outputs": [
    {
     "data": {
      "text/plain": [
       "False    51131\n",
       "dtype: int64"
      ]
     },
     "execution_count": 10,
     "metadata": {},
     "output_type": "execute_result"
    }
   ],
   "source": [
    "user_card.duplicated().value_counts()"
   ]
  },
  {
   "cell_type": "code",
   "execution_count": 12,
   "metadata": {},
   "outputs": [
    {
     "data": {
      "text/html": [
       "<div>\n",
       "<style scoped>\n",
       "    .dataframe tbody tr th:only-of-type {\n",
       "        vertical-align: middle;\n",
       "    }\n",
       "\n",
       "    .dataframe tbody tr th {\n",
       "        vertical-align: top;\n",
       "    }\n",
       "\n",
       "    .dataframe thead th {\n",
       "        text-align: right;\n",
       "    }\n",
       "</style>\n",
       "<table border=\"1\" class=\"dataframe\">\n",
       "  <thead>\n",
       "    <tr style=\"text-align: right;\">\n",
       "      <th></th>\n",
       "      <th>userID</th>\n",
       "      <th>cardID</th>\n",
       "    </tr>\n",
       "  </thead>\n",
       "  <tbody>\n",
       "    <tr>\n",
       "      <th>0</th>\n",
       "      <td>191111735008352</td>\n",
       "      <td>191111000016864</td>\n",
       "    </tr>\n",
       "    <tr>\n",
       "      <th>1</th>\n",
       "      <td>180818000008076</td>\n",
       "      <td>200524000004399</td>\n",
       "    </tr>\n",
       "    <tr>\n",
       "      <th>2</th>\n",
       "      <td>190120000001593</td>\n",
       "      <td>190612000556786</td>\n",
       "    </tr>\n",
       "    <tr>\n",
       "      <th>3</th>\n",
       "      <td>191124227003671</td>\n",
       "      <td>191124000007604</td>\n",
       "    </tr>\n",
       "    <tr>\n",
       "      <th>4</th>\n",
       "      <td>191012537001139</td>\n",
       "      <td>191012000000490</td>\n",
       "    </tr>\n",
       "    <tr>\n",
       "      <th>...</th>\n",
       "      <td>...</td>\n",
       "      <td>...</td>\n",
       "    </tr>\n",
       "    <tr>\n",
       "      <th>51126</th>\n",
       "      <td>190924825001895</td>\n",
       "      <td>190621000812296</td>\n",
       "    </tr>\n",
       "    <tr>\n",
       "      <th>51127</th>\n",
       "      <td>191013325000140</td>\n",
       "      <td>190612000243670</td>\n",
       "    </tr>\n",
       "    <tr>\n",
       "      <th>51128</th>\n",
       "      <td>191119199000747</td>\n",
       "      <td>191119000007075</td>\n",
       "    </tr>\n",
       "    <tr>\n",
       "      <th>51129</th>\n",
       "      <td>190123000017769</td>\n",
       "      <td>190612000644977</td>\n",
       "    </tr>\n",
       "    <tr>\n",
       "      <th>51130</th>\n",
       "      <td>181115000013469</td>\n",
       "      <td>190612000305867</td>\n",
       "    </tr>\n",
       "  </tbody>\n",
       "</table>\n",
       "<p>51131 rows × 2 columns</p>\n",
       "</div>"
      ],
      "text/plain": [
       "                userID           cardID\n",
       "0      191111735008352  191111000016864\n",
       "1      180818000008076  200524000004399\n",
       "2      190120000001593  190612000556786\n",
       "3      191124227003671  191124000007604\n",
       "4      191012537001139  191012000000490\n",
       "...                ...              ...\n",
       "51126  190924825001895  190621000812296\n",
       "51127  191013325000140  190612000243670\n",
       "51128  191119199000747  191119000007075\n",
       "51129  190123000017769  190612000644977\n",
       "51130  181115000013469  190612000305867\n",
       "\n",
       "[51131 rows x 2 columns]"
      ]
     },
     "execution_count": 12,
     "metadata": {},
     "output_type": "execute_result"
    }
   ],
   "source": [
    "user_card"
   ]
  },
  {
   "cell_type": "code",
   "execution_count": 11,
   "metadata": {},
   "outputs": [
    {
     "data": {
      "text/plain": [
       "False    218393\n",
       "dtype: int64"
      ]
     },
     "execution_count": 11,
     "metadata": {},
     "output_type": "execute_result"
    }
   ],
   "source": [
    "user_device.duplicated().value_counts()"
   ]
  },
  {
   "cell_type": "code",
   "execution_count": 19,
   "metadata": {},
   "outputs": [
    {
     "data": {
      "text/html": [
       "<div>\n",
       "<style scoped>\n",
       "    .dataframe tbody tr th:only-of-type {\n",
       "        vertical-align: middle;\n",
       "    }\n",
       "\n",
       "    .dataframe tbody tr th {\n",
       "        vertical-align: top;\n",
       "    }\n",
       "\n",
       "    .dataframe thead th {\n",
       "        text-align: right;\n",
       "    }\n",
       "</style>\n",
       "<table border=\"1\" class=\"dataframe\">\n",
       "  <thead>\n",
       "    <tr style=\"text-align: right;\">\n",
       "      <th></th>\n",
       "      <th>userID</th>\n",
       "      <th>deviceID</th>\n",
       "    </tr>\n",
       "  </thead>\n",
       "  <tbody>\n",
       "    <tr>\n",
       "      <th>0</th>\n",
       "      <td>190215000014037</td>\n",
       "      <td>5e34bdd5266ff7c6</td>\n",
       "    </tr>\n",
       "    <tr>\n",
       "      <th>1</th>\n",
       "      <td>190313000016148</td>\n",
       "      <td>1761c1b0d746b8e8</td>\n",
       "    </tr>\n",
       "    <tr>\n",
       "      <th>2</th>\n",
       "      <td>190318000000574</td>\n",
       "      <td>14e0d55eb848e527</td>\n",
       "    </tr>\n",
       "    <tr>\n",
       "      <th>3</th>\n",
       "      <td>190722000001381</td>\n",
       "      <td>1f6b129e317e35fa</td>\n",
       "    </tr>\n",
       "    <tr>\n",
       "      <th>4</th>\n",
       "      <td>191016219002578</td>\n",
       "      <td>0e2fa6b350f0f020</td>\n",
       "    </tr>\n",
       "    <tr>\n",
       "      <th>...</th>\n",
       "      <td>...</td>\n",
       "      <td>...</td>\n",
       "    </tr>\n",
       "    <tr>\n",
       "      <th>218388</th>\n",
       "      <td>190502000001734</td>\n",
       "      <td>09c66ac813712993</td>\n",
       "    </tr>\n",
       "    <tr>\n",
       "      <th>218389</th>\n",
       "      <td>190801000001894</td>\n",
       "      <td>e11920dbaf0f9d2</td>\n",
       "    </tr>\n",
       "    <tr>\n",
       "      <th>218390</th>\n",
       "      <td>191031382014740</td>\n",
       "      <td>25715da6516d4853</td>\n",
       "    </tr>\n",
       "    <tr>\n",
       "      <th>218391</th>\n",
       "      <td>191225960015857</td>\n",
       "      <td>a33aa775c5c484b8</td>\n",
       "    </tr>\n",
       "    <tr>\n",
       "      <th>218392</th>\n",
       "      <td>191015135000522</td>\n",
       "      <td>3347785b-a6ab-4cf8-8223-794fb5e4ab8f</td>\n",
       "    </tr>\n",
       "  </tbody>\n",
       "</table>\n",
       "<p>218393 rows × 2 columns</p>\n",
       "</div>"
      ],
      "text/plain": [
       "                 userID                              deviceID\n",
       "0       190215000014037                      5e34bdd5266ff7c6\n",
       "1       190313000016148                      1761c1b0d746b8e8\n",
       "2       190318000000574                      14e0d55eb848e527\n",
       "3       190722000001381                      1f6b129e317e35fa\n",
       "4       191016219002578                      0e2fa6b350f0f020\n",
       "...                 ...                                   ...\n",
       "218388  190502000001734                      09c66ac813712993\n",
       "218389  190801000001894                       e11920dbaf0f9d2\n",
       "218390  191031382014740                      25715da6516d4853\n",
       "218391  191225960015857                      a33aa775c5c484b8\n",
       "218392  191015135000522  3347785b-a6ab-4cf8-8223-794fb5e4ab8f\n",
       "\n",
       "[218393 rows x 2 columns]"
      ]
     },
     "execution_count": 19,
     "metadata": {},
     "output_type": "execute_result"
    }
   ],
   "source": [
    "user_device"
   ]
  },
  {
   "cell_type": "code",
   "execution_count": 26,
   "metadata": {},
   "outputs": [],
   "source": [
    "total_users = user_account['userID'].tolist() + user_device['userID'].tolist() + user_card['userID'].tolist()"
   ]
  },
  {
   "cell_type": "code",
   "execution_count": 27,
   "metadata": {},
   "outputs": [
    {
     "data": {
      "text/plain": [
       "280277"
      ]
     },
     "execution_count": 27,
     "metadata": {},
     "output_type": "execute_result"
    }
   ],
   "source": [
    "len(total_users)"
   ]
  },
  {
   "cell_type": "code",
   "execution_count": 31,
   "metadata": {},
   "outputs": [],
   "source": [
    "pd.Series(total_users, name=\"userID\").to_csv('./user_list.csv', index=False)"
   ]
  },
  {
   "cell_type": "code",
   "execution_count": 33,
   "metadata": {},
   "outputs": [],
   "source": [
    "user_device.columns = ['source', 'target']\n",
    "user_device.to_csv('./user_device.csv', index=False)"
   ]
  },
  {
   "cell_type": "code",
   "execution_count": null,
   "metadata": {},
   "outputs": [],
   "source": []
  }
 ],
 "metadata": {
  "kernelspec": {
   "display_name": "Python 3",
   "language": "python",
   "name": "python3"
  },
  "language_info": {
   "codemirror_mode": {
    "name": "ipython",
    "version": 3
   },
   "file_extension": ".py",
   "mimetype": "text/x-python",
   "name": "python",
   "nbconvert_exporter": "python",
   "pygments_lexer": "ipython3",
   "version": "3.6.9"
  }
 },
 "nbformat": 4,
 "nbformat_minor": 4
}
