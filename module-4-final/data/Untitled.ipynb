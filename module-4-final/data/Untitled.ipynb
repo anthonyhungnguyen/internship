{
 "cells": [
  {
   "cell_type": "code",
   "execution_count": 1,
   "metadata": {},
   "outputs": [],
   "source": [
    "import pandas as pd\n",
    "import glob\n",
    "from tqdm import tqdm"
   ]
  },
  {
   "cell_type": "code",
   "execution_count": 2,
   "metadata": {},
   "outputs": [],
   "source": [
    "import json\n",
    "import dask.bag as db"
   ]
  },
  {
   "cell_type": "code",
   "execution_count": 5,
   "metadata": {},
   "outputs": [],
   "source": [
    "df = pd.read_json('transaction.9013', lines=True, chunksize=10000)\n",
    "df_ = pd.concat(df, ignore_index=True)\n",
    "norm = pd.json_normalize(df_['data'])\n",
    "norm.to_pickle(f'pickle/transaction.9013.pkl')"
   ]
  },
  {
   "cell_type": "code",
   "execution_count": 3,
   "metadata": {},
   "outputs": [
    {
     "name": "stderr",
     "output_type": "stream",
     "text": [
      "100%|██████████| 7/7 [01:26<00:00, 12.41s/it]\n"
     ]
    }
   ],
   "source": [
    "pkl_list = []\n",
    "for x in tqdm(glob.glob('pickle/*')):\n",
    "    pkl_list.append(pd.read_pickle(x))"
   ]
  },
  {
   "cell_type": "code",
   "execution_count": 4,
   "metadata": {},
   "outputs": [
    {
     "name": "stderr",
     "output_type": "stream",
     "text": [
      "  0%|          | 0/7 [00:00<?, ?it/s]\n"
     ]
    },
    {
     "ename": "AttributeError",
     "evalue": "'Series' object has no attribute 'split'",
     "output_type": "error",
     "traceback": [
      "\u001b[0;31m---------------------------------------------------------------------------\u001b[0m",
      "\u001b[0;31mAttributeError\u001b[0m                            Traceback (most recent call last)",
      "\u001b[0;32m<ipython-input-4-1b446243a02c>\u001b[0m in \u001b[0;36m<module>\u001b[0;34m\u001b[0m\n\u001b[1;32m      1\u001b[0m \u001b[0mfilter_list\u001b[0m \u001b[0;34m=\u001b[0m \u001b[0;34m[\u001b[0m\u001b[0;34m]\u001b[0m\u001b[0;34m\u001b[0m\u001b[0;34m\u001b[0m\u001b[0m\n\u001b[1;32m      2\u001b[0m \u001b[0;32mfor\u001b[0m \u001b[0mx\u001b[0m \u001b[0;32min\u001b[0m \u001b[0mtqdm\u001b[0m\u001b[0;34m(\u001b[0m\u001b[0mpkl_list\u001b[0m\u001b[0;34m)\u001b[0m\u001b[0;34m:\u001b[0m\u001b[0;34m\u001b[0m\u001b[0;34m\u001b[0m\u001b[0m\n\u001b[0;32m----> 3\u001b[0;31m     \u001b[0m_from\u001b[0m \u001b[0;34m=\u001b[0m \u001b[0mx\u001b[0m\u001b[0;34m.\u001b[0m\u001b[0m_from\u001b[0m\u001b[0;34m.\u001b[0m\u001b[0msplit\u001b[0m\u001b[0;34m(\u001b[0m\u001b[0;34m'/'\u001b[0m\u001b[0;34m)\u001b[0m\u001b[0;34m[\u001b[0m\u001b[0;36m0\u001b[0m\u001b[0;34m]\u001b[0m \u001b[0;34m==\u001b[0m \u001b[0;34m'userid'\u001b[0m\u001b[0;34m\u001b[0m\u001b[0;34m\u001b[0m\u001b[0m\n\u001b[0m\u001b[1;32m      4\u001b[0m     \u001b[0m_to\u001b[0m \u001b[0;34m=\u001b[0m \u001b[0mx\u001b[0m\u001b[0;34m.\u001b[0m\u001b[0m_to\u001b[0m\u001b[0;34m.\u001b[0m\u001b[0msplit\u001b[0m\u001b[0;34m(\u001b[0m\u001b[0;34m'/'\u001b[0m\u001b[0;34m)\u001b[0m\u001b[0;34m[\u001b[0m\u001b[0;36m0\u001b[0m\u001b[0;34m]\u001b[0m \u001b[0;34m==\u001b[0m \u001b[0;34m'userid'\u001b[0m\u001b[0;34m\u001b[0m\u001b[0;34m\u001b[0m\u001b[0m\n\u001b[1;32m      5\u001b[0m     \u001b[0;32mif\u001b[0m \u001b[0m_from\u001b[0m \u001b[0;32mand\u001b[0m \u001b[0m_to\u001b[0m\u001b[0;34m:\u001b[0m\u001b[0;34m\u001b[0m\u001b[0;34m\u001b[0m\u001b[0m\n",
      "\u001b[0;32m~/miniconda3/envs/vng/lib/python3.8/site-packages/pandas/core/generic.py\u001b[0m in \u001b[0;36m__getattr__\u001b[0;34m(self, name)\u001b[0m\n\u001b[1;32m   5137\u001b[0m             \u001b[0;32mif\u001b[0m \u001b[0mself\u001b[0m\u001b[0;34m.\u001b[0m\u001b[0m_info_axis\u001b[0m\u001b[0;34m.\u001b[0m\u001b[0m_can_hold_identifiers_and_holds_name\u001b[0m\u001b[0;34m(\u001b[0m\u001b[0mname\u001b[0m\u001b[0;34m)\u001b[0m\u001b[0;34m:\u001b[0m\u001b[0;34m\u001b[0m\u001b[0;34m\u001b[0m\u001b[0m\n\u001b[1;32m   5138\u001b[0m                 \u001b[0;32mreturn\u001b[0m \u001b[0mself\u001b[0m\u001b[0;34m[\u001b[0m\u001b[0mname\u001b[0m\u001b[0;34m]\u001b[0m\u001b[0;34m\u001b[0m\u001b[0;34m\u001b[0m\u001b[0m\n\u001b[0;32m-> 5139\u001b[0;31m             \u001b[0;32mreturn\u001b[0m \u001b[0mobject\u001b[0m\u001b[0;34m.\u001b[0m\u001b[0m__getattribute__\u001b[0m\u001b[0;34m(\u001b[0m\u001b[0mself\u001b[0m\u001b[0;34m,\u001b[0m \u001b[0mname\u001b[0m\u001b[0;34m)\u001b[0m\u001b[0;34m\u001b[0m\u001b[0;34m\u001b[0m\u001b[0m\n\u001b[0m\u001b[1;32m   5140\u001b[0m \u001b[0;34m\u001b[0m\u001b[0m\n\u001b[1;32m   5141\u001b[0m     \u001b[0;32mdef\u001b[0m \u001b[0m__setattr__\u001b[0m\u001b[0;34m(\u001b[0m\u001b[0mself\u001b[0m\u001b[0;34m,\u001b[0m \u001b[0mname\u001b[0m\u001b[0;34m:\u001b[0m \u001b[0mstr\u001b[0m\u001b[0;34m,\u001b[0m \u001b[0mvalue\u001b[0m\u001b[0;34m)\u001b[0m \u001b[0;34m->\u001b[0m \u001b[0;32mNone\u001b[0m\u001b[0;34m:\u001b[0m\u001b[0;34m\u001b[0m\u001b[0;34m\u001b[0m\u001b[0m\n",
      "\u001b[0;31mAttributeError\u001b[0m: 'Series' object has no attribute 'split'"
     ]
    }
   ],
   "source": [
    "filter_list = []\n",
    "for x in tqdm(pkl_list):\n",
    "    _from = x._from.split('/')[0] == 'userid'\n",
    "    _to = x._to.split('/')[0] == 'userid'\n",
    "    if _from and _to:\n",
    "        filter_list.append({'from': x._from, 'to': x._to})"
   ]
  },
  {
   "cell_type": "code",
   "execution_count": 4,
   "metadata": {},
   "outputs": [],
   "source": [
    "df_all = pd.concat(pkl_list)"
   ]
  },
  {
   "cell_type": "code",
   "execution_count": null,
   "metadata": {},
   "outputs": [],
   "source": [
    "df_all.to_pickle('pickle/total.pkl')"
   ]
  },
  {
   "cell_type": "code",
   "execution_count": 5,
   "metadata": {},
   "outputs": [
    {
     "data": {
      "text/html": [
       "<div>\n",
       "<style scoped>\n",
       "    .dataframe tbody tr th:only-of-type {\n",
       "        vertical-align: middle;\n",
       "    }\n",
       "\n",
       "    .dataframe tbody tr th {\n",
       "        vertical-align: top;\n",
       "    }\n",
       "\n",
       "    .dataframe thead th {\n",
       "        text-align: right;\n",
       "    }\n",
       "</style>\n",
       "<table border=\"1\" class=\"dataframe\">\n",
       "  <thead>\n",
       "    <tr style=\"text-align: right;\">\n",
       "      <th></th>\n",
       "      <th>userID</th>\n",
       "      <th>userID_format</th>\n",
       "    </tr>\n",
       "  </thead>\n",
       "  <tbody>\n",
       "    <tr>\n",
       "      <th>0</th>\n",
       "      <td>180224000000004</td>\n",
       "      <td>userid/180224000000004</td>\n",
       "    </tr>\n",
       "    <tr>\n",
       "      <th>1</th>\n",
       "      <td>180224000000006</td>\n",
       "      <td>userid/180224000000006</td>\n",
       "    </tr>\n",
       "    <tr>\n",
       "      <th>2</th>\n",
       "      <td>200803000254471</td>\n",
       "      <td>userid/200803000254471</td>\n",
       "    </tr>\n",
       "    <tr>\n",
       "      <th>3</th>\n",
       "      <td>170405000000077</td>\n",
       "      <td>userid/170405000000077</td>\n",
       "    </tr>\n",
       "    <tr>\n",
       "      <th>4</th>\n",
       "      <td>181115000012471</td>\n",
       "      <td>userid/181115000012471</td>\n",
       "    </tr>\n",
       "    <tr>\n",
       "      <th>...</th>\n",
       "      <td>...</td>\n",
       "      <td>...</td>\n",
       "    </tr>\n",
       "    <tr>\n",
       "      <th>1537072</th>\n",
       "      <td>170811000000096</td>\n",
       "      <td>userid/170811000000096</td>\n",
       "    </tr>\n",
       "    <tr>\n",
       "      <th>1537073</th>\n",
       "      <td>200612000038899</td>\n",
       "      <td>userid/200612000038899</td>\n",
       "    </tr>\n",
       "    <tr>\n",
       "      <th>1537074</th>\n",
       "      <td>181209000010266</td>\n",
       "      <td>userid/181209000010266</td>\n",
       "    </tr>\n",
       "    <tr>\n",
       "      <th>1537075</th>\n",
       "      <td>180821000016033</td>\n",
       "      <td>userid/180821000016033</td>\n",
       "    </tr>\n",
       "    <tr>\n",
       "      <th>1537076</th>\n",
       "      <td>170929000002042</td>\n",
       "      <td>userid/170929000002042</td>\n",
       "    </tr>\n",
       "  </tbody>\n",
       "</table>\n",
       "<p>1537077 rows × 2 columns</p>\n",
       "</div>"
      ],
      "text/plain": [
       "                  userID           userID_format\n",
       "0        180224000000004  userid/180224000000004\n",
       "1        180224000000006  userid/180224000000006\n",
       "2        200803000254471  userid/200803000254471\n",
       "3        170405000000077  userid/170405000000077\n",
       "4        181115000012471  userid/181115000012471\n",
       "...                  ...                     ...\n",
       "1537072  170811000000096  userid/170811000000096\n",
       "1537073  200612000038899  userid/200612000038899\n",
       "1537074  181209000010266  userid/181209000010266\n",
       "1537075  180821000016033  userid/180821000016033\n",
       "1537076  170929000002042  userid/170929000002042\n",
       "\n",
       "[1537077 rows x 2 columns]"
      ]
     },
     "execution_count": 5,
     "metadata": {},
     "output_type": "execute_result"
    }
   ],
   "source": [
    "users = pd.read_csv('./users.csv')\n",
    "users"
   ]
  },
  {
   "cell_type": "code",
   "execution_count": 6,
   "metadata": {},
   "outputs": [
    {
     "data": {
      "text/plain": [
       "['userid/180224000000004',\n",
       " 'userid/180224000000006',\n",
       " 'userid/200803000254471',\n",
       " 'userid/170405000000077',\n",
       " 'userid/181115000012471']"
      ]
     },
     "execution_count": 6,
     "metadata": {},
     "output_type": "execute_result"
    }
   ],
   "source": [
    "user_list = users.userID_format.to_list()\n",
    "user_list[:5]"
   ]
  },
  {
   "cell_type": "code",
   "execution_count": 7,
   "metadata": {},
   "outputs": [],
   "source": [
    "filter_df = df_all.loc[df_all['_from'].isin(user_list) | df_all['_to'].isin(user_list)]"
   ]
  },
  {
   "cell_type": "code",
   "execution_count": 8,
   "metadata": {},
   "outputs": [],
   "source": [
    "filter_df.reset_index(drop=True, inplace=True)"
   ]
  },
  {
   "cell_type": "code",
   "execution_count": 10,
   "metadata": {},
   "outputs": [],
   "source": [
    "filter_df.to_json('transaction.json',orient=\"records\")"
   ]
  },
  {
   "cell_type": "code",
   "execution_count": 11,
   "metadata": {},
   "outputs": [],
   "source": [
    "!jq -c \".[]\" transaction.json > transaction.jsonl"
   ]
  },
  {
   "cell_type": "code",
   "execution_count": 12,
   "metadata": {},
   "outputs": [
    {
     "name": "stdout",
     "output_type": "stream",
     "text": [
      "\u001b[33m2020-10-25T13:06:11Z [19505] WARNING capping --threads value to 16\u001b[0m\n",
      "Connected to ArangoDB 'http+tcp://127.0.0.1:8529, version: 3.7.2-1, database: '_system', username: 'root'\n",
      "----------------------------------------\n",
      "database:               _system\n",
      "collection:             transaction\n",
      "create:                 yes\n",
      "create database:        no\n",
      "source filename:        transaction.jsonl\n",
      "file type:              jsonl\n",
      "threads:                16\n",
      "connect timeout:        5\n",
      "request timeout:        1200\n",
      "----------------------------------------\n",
      "Starting JSON import...\n",
      "\u001b[0m2020-10-25T13:06:13Z [19505] INFO [9ddf3] processed 58292493 bytes (3%) of input file\n",
      "\u001b[0m\u001b[0m2020-10-25T13:06:16Z [19505] INFO [9ddf3] processed 116584986 bytes (6%) of input file\n",
      "\u001b[0m\u001b[0m2020-10-25T13:06:19Z [19505] INFO [9ddf3] processed 174877479 bytes (9%) of input file\n",
      "\u001b[0m\u001b[0m2020-10-25T13:06:21Z [19505] INFO [9ddf3] processed 233169972 bytes (12%) of input file\n",
      "\u001b[0m\u001b[0m2020-10-25T13:06:23Z [19505] INFO [9ddf3] processed 291462465 bytes (15%) of input file\n",
      "\u001b[0m\u001b[0m2020-10-25T13:06:25Z [19505] INFO [9ddf3] processed 349754958 bytes (18%) of input file\n",
      "\u001b[0m\u001b[0m2020-10-25T13:06:27Z [19505] INFO [9ddf3] processed 408047451 bytes (21%) of input file\n",
      "\u001b[0m\u001b[0m2020-10-25T13:06:28Z [19505] INFO [9ddf3] processed 466339944 bytes (24%) of input file\n",
      "\u001b[0m\u001b[0m2020-10-25T13:06:30Z [19505] INFO [9ddf3] processed 524632437 bytes (27%) of input file\n",
      "\u001b[0m\u001b[0m2020-10-25T13:06:32Z [19505] INFO [9ddf3] processed 582924930 bytes (30%) of input file\n",
      "\u001b[0m\u001b[0m2020-10-25T13:06:33Z [19505] INFO [9ddf3] processed 641217423 bytes (33%) of input file\n",
      "\u001b[0m\u001b[0m2020-10-25T13:06:34Z [19505] INFO [9ddf3] processed 699509916 bytes (36%) of input file\n",
      "\u001b[0m\u001b[0m2020-10-25T13:06:36Z [19505] INFO [9ddf3] processed 757802409 bytes (39%) of input file\n",
      "\u001b[0m\u001b[0m2020-10-25T13:06:37Z [19505] INFO [9ddf3] processed 816094902 bytes (42%) of input file\n",
      "\u001b[0m\u001b[0m2020-10-25T13:06:39Z [19505] INFO [9ddf3] processed 874387395 bytes (45%) of input file\n",
      "\u001b[0m\u001b[0m2020-10-25T13:06:40Z [19505] INFO [9ddf3] processed 932679888 bytes (48%) of input file\n",
      "\u001b[0m\u001b[0m2020-10-25T13:06:41Z [19505] INFO [9ddf3] processed 990972381 bytes (51%) of input file\n",
      "\u001b[0m\u001b[0m2020-10-25T13:06:42Z [19505] INFO [9ddf3] processed 1049264874 bytes (54%) of input file\n",
      "\u001b[0m\u001b[0m2020-10-25T13:06:43Z [19505] INFO [9ddf3] processed 1107557367 bytes (57%) of input file\n",
      "\u001b[0m\u001b[0m2020-10-25T13:06:44Z [19505] INFO [9ddf3] processed 1165849860 bytes (60%) of input file\n",
      "\u001b[0m\u001b[0m2020-10-25T13:06:45Z [19505] INFO [9ddf3] processed 1224142353 bytes (63%) of input file\n",
      "\u001b[0m\u001b[0m2020-10-25T13:06:46Z [19505] INFO [9ddf3] processed 1282434846 bytes (66%) of input file\n",
      "\u001b[0m\u001b[0m2020-10-25T13:06:47Z [19505] INFO [9ddf3] processed 1340694572 bytes (69%) of input file\n",
      "\u001b[0m\u001b[0m2020-10-25T13:06:48Z [19505] INFO [9ddf3] processed 1398987065 bytes (72%) of input file\n",
      "\u001b[0m\u001b[0m2020-10-25T13:06:49Z [19505] INFO [9ddf3] processed 1457279558 bytes (75%) of input file\n",
      "\u001b[0m\u001b[0m2020-10-25T13:06:50Z [19505] INFO [9ddf3] processed 1515572051 bytes (78%) of input file\n",
      "\u001b[0m\u001b[0m2020-10-25T13:06:51Z [19505] INFO [9ddf3] processed 1573864544 bytes (81%) of input file\n",
      "\u001b[0m\u001b[0m2020-10-25T13:06:51Z [19505] INFO [9ddf3] processed 1632157037 bytes (84%) of input file\n",
      "\u001b[0m\u001b[0m2020-10-25T13:06:52Z [19505] INFO [9ddf3] processed 1690449530 bytes (87%) of input file\n",
      "\u001b[0m\u001b[0m2020-10-25T13:06:53Z [19505] INFO [9ddf3] processed 1748742023 bytes (90%) of input file\n",
      "\u001b[0m\u001b[0m2020-10-25T13:06:54Z [19505] INFO [9ddf3] processed 1807034516 bytes (93%) of input file\n",
      "\u001b[0m\u001b[0m2020-10-25T13:06:54Z [19505] INFO [9ddf3] processed 1865327009 bytes (96%) of input file\n",
      "\u001b[0m\u001b[0m2020-10-25T13:06:55Z [19505] INFO [9ddf3] processed 1923619502 bytes (99%) of input file\n",
      "\u001b[0m\n",
      "created:          1338023\n",
      "warnings/errors:  0\n",
      "updated/replaced: 0\n",
      "ignored:          0\n"
     ]
    }
   ],
   "source": [
    "!arangoimport --server.username='root' --server.password=\"\" --create-collection true --collection transaction --type jsonl --file \"transaction.jsonl\" --progress true --threads 32"
   ]
  },
  {
   "cell_type": "code",
   "execution_count": null,
   "metadata": {},
   "outputs": [],
   "source": []
  }
 ],
 "metadata": {
  "kernelspec": {
   "display_name": "Python 3",
   "language": "python",
   "name": "python3"
  },
  "language_info": {
   "codemirror_mode": {
    "name": "ipython",
    "version": 3
   },
   "file_extension": ".py",
   "mimetype": "text/x-python",
   "name": "python",
   "nbconvert_exporter": "python",
   "pygments_lexer": "ipython3",
   "version": "3.6.9"
  }
 },
 "nbformat": 4,
 "nbformat_minor": 4
}
