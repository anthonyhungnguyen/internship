{
 "cells": [
  {
   "cell_type": "markdown",
   "metadata": {},
   "source": [
    "# Import Libraries, Data"
   ]
  },
  {
   "cell_type": "code",
   "execution_count": 4,
   "metadata": {},
   "outputs": [],
   "source": [
    "import pandas as pd\n",
    "from pyArango.connection import Connection"
   ]
  },
  {
   "cell_type": "code",
   "execution_count": 5,
   "metadata": {},
   "outputs": [
    {
     "data": {
      "text/html": [
       "<div>\n",
       "<style scoped>\n",
       "    .dataframe tbody tr th:only-of-type {\n",
       "        vertical-align: middle;\n",
       "    }\n",
       "\n",
       "    .dataframe tbody tr th {\n",
       "        vertical-align: top;\n",
       "    }\n",
       "\n",
       "    .dataframe thead th {\n",
       "        text-align: right;\n",
       "    }\n",
       "</style>\n",
       "<table border=\"1\" class=\"dataframe\">\n",
       "  <thead>\n",
       "    <tr style=\"text-align: right;\">\n",
       "      <th></th>\n",
       "      <th>timestamp</th>\n",
       "      <th>userId</th>\n",
       "      <th>hw_device_id</th>\n",
       "      <th>hw_screen_aspect_ratio</th>\n",
       "      <th>hw_capacity_cellular</th>\n",
       "      <th>os_version</th>\n",
       "      <th>wifi_ssid</th>\n",
       "      <th>hw_device_model</th>\n",
       "      <th>hw_capacity_force_touch</th>\n",
       "      <th>os_name</th>\n",
       "      <th>...</th>\n",
       "      <th>zid</th>\n",
       "      <th>os_multitasking</th>\n",
       "      <th>hw_screen_size</th>\n",
       "      <th>hw_capacity_bluetooth</th>\n",
       "      <th>hw_capacity_gps</th>\n",
       "      <th>cellular_capabilities</th>\n",
       "      <th>hw_ram_total</th>\n",
       "      <th>hw_storage_total</th>\n",
       "      <th>network_wifi_mac_address</th>\n",
       "      <th>hw_capacity_nfc</th>\n",
       "    </tr>\n",
       "  </thead>\n",
       "  <tbody>\n",
       "    <tr>\n",
       "      <th>0</th>\n",
       "      <td>1596244810</td>\n",
       "      <td>170701000002293</td>\n",
       "      <td>8542A4EB-B166-48FC-8241-CE84B7C04788</td>\n",
       "      <td>16:9</td>\n",
       "      <td>YES</td>\n",
       "      <td>13.5.1</td>\n",
       "      <td>Not Connected</td>\n",
       "      <td>iPhone 6s Plus</td>\n",
       "      <td>YES</td>\n",
       "      <td>iOS</td>\n",
       "      <td>...</td>\n",
       "      <td>9.174525e+18</td>\n",
       "      <td>YES</td>\n",
       "      <td>5.5\"</td>\n",
       "      <td>4.2</td>\n",
       "      <td>YES</td>\n",
       "      <td>Mobifone</td>\n",
       "      <td>1,987.5 MB</td>\n",
       "      <td>29.79 GB</td>\n",
       "      <td>NaN</td>\n",
       "      <td>NaN</td>\n",
       "    </tr>\n",
       "    <tr>\n",
       "      <th>1</th>\n",
       "      <td>1596244899</td>\n",
       "      <td>180201000009255</td>\n",
       "      <td>9FBA9295-8D74-4AA3-B5F4-36CC68EF96B8</td>\n",
       "      <td>16:9</td>\n",
       "      <td>YES</td>\n",
       "      <td>13.5.1</td>\n",
       "      <td>Not Connected</td>\n",
       "      <td>iPhone 6s Plus</td>\n",
       "      <td>YES</td>\n",
       "      <td>iOS</td>\n",
       "      <td>...</td>\n",
       "      <td>3.456551e+18</td>\n",
       "      <td>YES</td>\n",
       "      <td>5.5\"</td>\n",
       "      <td>4.2</td>\n",
       "      <td>YES</td>\n",
       "      <td>Mobifone</td>\n",
       "      <td>1,987.5 MB</td>\n",
       "      <td>29.79 GB</td>\n",
       "      <td>NaN</td>\n",
       "      <td>NaN</td>\n",
       "    </tr>\n",
       "    <tr>\n",
       "      <th>2</th>\n",
       "      <td>1596244895</td>\n",
       "      <td>180124000001429</td>\n",
       "      <td>7CB2DCC0-5D8D-436D-BC35-410536423987</td>\n",
       "      <td>448:207</td>\n",
       "      <td>YES</td>\n",
       "      <td>13.3.1</td>\n",
       "      <td>Not Connected</td>\n",
       "      <td>iPhone XR</td>\n",
       "      <td>YES</td>\n",
       "      <td>iOS</td>\n",
       "      <td>...</td>\n",
       "      <td>1.453697e+18</td>\n",
       "      <td>YES</td>\n",
       "      <td>6.1\"</td>\n",
       "      <td>5.0</td>\n",
       "      <td>YES</td>\n",
       "      <td>Mobifone</td>\n",
       "      <td>2,833.5 MB</td>\n",
       "      <td>119.2 GB</td>\n",
       "      <td>NaN</td>\n",
       "      <td>NaN</td>\n",
       "    </tr>\n",
       "    <tr>\n",
       "      <th>3</th>\n",
       "      <td>1596244881</td>\n",
       "      <td>190419000005657</td>\n",
       "      <td>CD0152A6-C496-4580-AAC2-DE2BC02AE3AF</td>\n",
       "      <td>812:375</td>\n",
       "      <td>YES</td>\n",
       "      <td>13.4.1</td>\n",
       "      <td>Not Connected</td>\n",
       "      <td>iPhone X</td>\n",
       "      <td>YES</td>\n",
       "      <td>iOS</td>\n",
       "      <td>...</td>\n",
       "      <td>8.673777e+17</td>\n",
       "      <td>YES</td>\n",
       "      <td>5.8\"</td>\n",
       "      <td>5.0</td>\n",
       "      <td>YES</td>\n",
       "      <td>Viettel</td>\n",
       "      <td>2,819.9 MB</td>\n",
       "      <td>59.55 GB</td>\n",
       "      <td>NaN</td>\n",
       "      <td>NaN</td>\n",
       "    </tr>\n",
       "    <tr>\n",
       "      <th>4</th>\n",
       "      <td>1596244844</td>\n",
       "      <td>200404000006047</td>\n",
       "      <td>36F92641-8016-48A9-89CC-352664072290</td>\n",
       "      <td>667:375</td>\n",
       "      <td>YES</td>\n",
       "      <td>13.5.1</td>\n",
       "      <td>Not Connected</td>\n",
       "      <td>iPhone 7</td>\n",
       "      <td>YES</td>\n",
       "      <td>iOS</td>\n",
       "      <td>...</td>\n",
       "      <td>6.815862e+18</td>\n",
       "      <td>YES</td>\n",
       "      <td>4.7\"</td>\n",
       "      <td>4.2</td>\n",
       "      <td>YES</td>\n",
       "      <td>Viettel</td>\n",
       "      <td>2,002 MB</td>\n",
       "      <td>29.78 GB</td>\n",
       "      <td>NaN</td>\n",
       "      <td>NaN</td>\n",
       "    </tr>\n",
       "  </tbody>\n",
       "</table>\n",
       "<p>5 rows × 23 columns</p>\n",
       "</div>"
      ],
      "text/plain": [
       "    timestamp           userId                          hw_device_id  \\\n",
       "0  1596244810  170701000002293  8542A4EB-B166-48FC-8241-CE84B7C04788   \n",
       "1  1596244899  180201000009255  9FBA9295-8D74-4AA3-B5F4-36CC68EF96B8   \n",
       "2  1596244895  180124000001429  7CB2DCC0-5D8D-436D-BC35-410536423987   \n",
       "3  1596244881  190419000005657  CD0152A6-C496-4580-AAC2-DE2BC02AE3AF   \n",
       "4  1596244844  200404000006047  36F92641-8016-48A9-89CC-352664072290   \n",
       "\n",
       "  hw_screen_aspect_ratio hw_capacity_cellular os_version      wifi_ssid  \\\n",
       "0                   16:9                  YES     13.5.1  Not Connected   \n",
       "1                   16:9                  YES     13.5.1  Not Connected   \n",
       "2                448:207                  YES     13.3.1  Not Connected   \n",
       "3                812:375                  YES     13.4.1  Not Connected   \n",
       "4                667:375                  YES     13.5.1  Not Connected   \n",
       "\n",
       "  hw_device_model hw_capacity_force_touch os_name  ...           zid  \\\n",
       "0  iPhone 6s Plus                     YES     iOS  ...  9.174525e+18   \n",
       "1  iPhone 6s Plus                     YES     iOS  ...  3.456551e+18   \n",
       "2       iPhone XR                     YES     iOS  ...  1.453697e+18   \n",
       "3        iPhone X                     YES     iOS  ...  8.673777e+17   \n",
       "4        iPhone 7                     YES     iOS  ...  6.815862e+18   \n",
       "\n",
       "  os_multitasking hw_screen_size  hw_capacity_bluetooth hw_capacity_gps  \\\n",
       "0             YES           5.5\"                    4.2             YES   \n",
       "1             YES           5.5\"                    4.2             YES   \n",
       "2             YES           6.1\"                    5.0             YES   \n",
       "3             YES           5.8\"                    5.0             YES   \n",
       "4             YES           4.7\"                    4.2             YES   \n",
       "\n",
       "  cellular_capabilities hw_ram_total hw_storage_total  \\\n",
       "0              Mobifone   1,987.5 MB         29.79 GB   \n",
       "1              Mobifone   1,987.5 MB         29.79 GB   \n",
       "2              Mobifone   2,833.5 MB         119.2 GB   \n",
       "3               Viettel   2,819.9 MB         59.55 GB   \n",
       "4               Viettel     2,002 MB         29.78 GB   \n",
       "\n",
       "  network_wifi_mac_address hw_capacity_nfc  \n",
       "0                      NaN             NaN  \n",
       "1                      NaN             NaN  \n",
       "2                      NaN             NaN  \n",
       "3                      NaN             NaN  \n",
       "4                      NaN             NaN  \n",
       "\n",
       "[5 rows x 23 columns]"
      ]
     },
     "execution_count": 5,
     "metadata": {},
     "output_type": "execute_result"
    }
   ],
   "source": [
    "df = pd.read_csv('./data_device_profile_formatted.csv', low_memory=False)\n",
    "df.head()"
   ]
  },
  {
   "cell_type": "markdown",
   "metadata": {},
   "source": [
    "# Connect to ArangoDB"
   ]
  },
  {
   "cell_type": "code",
   "execution_count": 6,
   "metadata": {},
   "outputs": [],
   "source": [
    "conn = Connection(username=\"root\", password=\"ngph\")"
   ]
  },
  {
   "cell_type": "code",
   "execution_count": 7,
   "metadata": {},
   "outputs": [],
   "source": [
    "db = conn['final']"
   ]
  },
  {
   "cell_type": "markdown",
   "metadata": {},
   "source": [
    "## Add users"
   ]
  },
  {
   "cell_type": "code",
   "execution_count": 131,
   "metadata": {},
   "outputs": [],
   "source": [
    "db.createCollection(name='users')\n",
    "users = db['users']"
   ]
  },
  {
   "cell_type": "code",
   "execution_count": 19,
   "metadata": {},
   "outputs": [],
   "source": [
    "user_list = df['userId'].unique()\n",
    "for x in user_list:\n",
    "    new_user = users.createDocument()\n",
    "    new_user._key = x\n",
    "    new_user.save()"
   ]
  },
  {
   "cell_type": "markdown",
   "metadata": {},
   "source": [
    "## Add devices"
   ]
  },
  {
   "cell_type": "code",
   "execution_count": 20,
   "metadata": {},
   "outputs": [],
   "source": [
    "db.createCollection(name='devices')\n",
    "devices = db['devices']"
   ]
  },
  {
   "cell_type": "code",
   "execution_count": 24,
   "metadata": {},
   "outputs": [],
   "source": [
    "device_list = df['hw_device_id'].unique()\n",
    "for x in device_list:\n",
    "    new_device = devices.createDocument()\n",
    "    new_device._key = x\n",
    "    new_device.save()"
   ]
  },
  {
   "cell_type": "code",
   "execution_count": 89,
   "metadata": {},
   "outputs": [
    {
     "data": {
      "text/html": [
       "<div>\n",
       "<style scoped>\n",
       "    .dataframe tbody tr th:only-of-type {\n",
       "        vertical-align: middle;\n",
       "    }\n",
       "\n",
       "    .dataframe tbody tr th {\n",
       "        vertical-align: top;\n",
       "    }\n",
       "\n",
       "    .dataframe thead th {\n",
       "        text-align: right;\n",
       "    }\n",
       "</style>\n",
       "<table border=\"1\" class=\"dataframe\">\n",
       "  <thead>\n",
       "    <tr style=\"text-align: right;\">\n",
       "      <th></th>\n",
       "      <th></th>\n",
       "      <th>timestamp</th>\n",
       "    </tr>\n",
       "    <tr>\n",
       "      <th>hw_device_id</th>\n",
       "      <th>cellular_capabilities</th>\n",
       "      <th></th>\n",
       "    </tr>\n",
       "  </thead>\n",
       "  <tbody>\n",
       "    <tr>\n",
       "      <th>000081FB-CAE0-4DBE-8983-D54759750014</th>\n",
       "      <th>Viettel</th>\n",
       "      <td>3</td>\n",
       "    </tr>\n",
       "    <tr>\n",
       "      <th>0000B1B7-9075-487E-B363-0FF4AE8FF05C</th>\n",
       "      <th>Mobifone</th>\n",
       "      <td>2</td>\n",
       "    </tr>\n",
       "    <tr>\n",
       "      <th>0000B625-66C9-4B23-8509-67B50D0737AE</th>\n",
       "      <th>Viettel</th>\n",
       "      <td>1</td>\n",
       "    </tr>\n",
       "    <tr>\n",
       "      <th>000103C2-C989-435C-8E5E-15A0D9E03199</th>\n",
       "      <th>Mobifone</th>\n",
       "      <td>1</td>\n",
       "    </tr>\n",
       "    <tr>\n",
       "      <th rowspan=\"2\" valign=\"top\">00017D00-6F9E-4956-AB4C-FEA04F5115F1</th>\n",
       "      <th>Mobifone</th>\n",
       "      <td>3</td>\n",
       "    </tr>\n",
       "    <tr>\n",
       "      <th>Viettel</th>\n",
       "      <td>1</td>\n",
       "    </tr>\n",
       "    <tr>\n",
       "      <th>0001B388-47BF-4ACD-9CB1-47CCAE614B50</th>\n",
       "      <th>Viettel</th>\n",
       "      <td>1</td>\n",
       "    </tr>\n",
       "    <tr>\n",
       "      <th>00020A08-BF1A-473D-818B-0299774C84D5</th>\n",
       "      <th>Viettel</th>\n",
       "      <td>1</td>\n",
       "    </tr>\n",
       "    <tr>\n",
       "      <th>00021A5E-07D6-41FB-B3DB-BB6305705752</th>\n",
       "      <th>VinaPhone</th>\n",
       "      <td>1</td>\n",
       "    </tr>\n",
       "    <tr>\n",
       "      <th>000236E1-DE27-483A-9A9A-5592F8B56E05</th>\n",
       "      <th>VinaPhone</th>\n",
       "      <td>1</td>\n",
       "    </tr>\n",
       "    <tr>\n",
       "      <th>00024F09-CC7E-42D5-9A5B-229BD1B93FD6</th>\n",
       "      <th>Viettel</th>\n",
       "      <td>1</td>\n",
       "    </tr>\n",
       "    <tr>\n",
       "      <th>00028081-26BE-4154-9405-ED130C945D30</th>\n",
       "      <th>Viettel</th>\n",
       "      <td>1</td>\n",
       "    </tr>\n",
       "    <tr>\n",
       "      <th>0002D759-1F9A-4A22-8B82-18B6EB79E058</th>\n",
       "      <th>Mobifone</th>\n",
       "      <td>2</td>\n",
       "    </tr>\n",
       "    <tr>\n",
       "      <th>000318D7-2BB0-4179-8FA5-1723EBA15E9C</th>\n",
       "      <th>Viettel</th>\n",
       "      <td>1</td>\n",
       "    </tr>\n",
       "    <tr>\n",
       "      <th>00036630-600D-4F6D-8C4D-92B6BE8DA37D</th>\n",
       "      <th>VinaPhone</th>\n",
       "      <td>1</td>\n",
       "    </tr>\n",
       "    <tr>\n",
       "      <th>00037B34-DEFA-4122-A41B-FDBEB6A1ABF4</th>\n",
       "      <th>Viettel</th>\n",
       "      <td>1</td>\n",
       "    </tr>\n",
       "    <tr>\n",
       "      <th>0003B52E-6A9B-4387-B0EA-DEE0F3BE516F</th>\n",
       "      <th>Viettel</th>\n",
       "      <td>3</td>\n",
       "    </tr>\n",
       "    <tr>\n",
       "      <th>0003D11F-6744-4C50-A288-0FE8A12831B5</th>\n",
       "      <th>Mobifone</th>\n",
       "      <td>1</td>\n",
       "    </tr>\n",
       "    <tr>\n",
       "      <th>0003D1F3-1E9A-4E07-8D2C-E69755E8324B</th>\n",
       "      <th>Viettel</th>\n",
       "      <td>1</td>\n",
       "    </tr>\n",
       "    <tr>\n",
       "      <th>00040F47-3405-43B9-B2F5-7C95BFCA33FB</th>\n",
       "      <th>Viettel</th>\n",
       "      <td>1</td>\n",
       "    </tr>\n",
       "  </tbody>\n",
       "</table>\n",
       "</div>"
      ],
      "text/plain": [
       "                                                            timestamp\n",
       "hw_device_id                         cellular_capabilities           \n",
       "000081FB-CAE0-4DBE-8983-D54759750014 Viettel                        3\n",
       "0000B1B7-9075-487E-B363-0FF4AE8FF05C Mobifone                       2\n",
       "0000B625-66C9-4B23-8509-67B50D0737AE Viettel                        1\n",
       "000103C2-C989-435C-8E5E-15A0D9E03199 Mobifone                       1\n",
       "00017D00-6F9E-4956-AB4C-FEA04F5115F1 Mobifone                       3\n",
       "                                     Viettel                        1\n",
       "0001B388-47BF-4ACD-9CB1-47CCAE614B50 Viettel                        1\n",
       "00020A08-BF1A-473D-818B-0299774C84D5 Viettel                        1\n",
       "00021A5E-07D6-41FB-B3DB-BB6305705752 VinaPhone                      1\n",
       "000236E1-DE27-483A-9A9A-5592F8B56E05 VinaPhone                      1\n",
       "00024F09-CC7E-42D5-9A5B-229BD1B93FD6 Viettel                        1\n",
       "00028081-26BE-4154-9405-ED130C945D30 Viettel                        1\n",
       "0002D759-1F9A-4A22-8B82-18B6EB79E058 Mobifone                       2\n",
       "000318D7-2BB0-4179-8FA5-1723EBA15E9C Viettel                        1\n",
       "00036630-600D-4F6D-8C4D-92B6BE8DA37D VinaPhone                      1\n",
       "00037B34-DEFA-4122-A41B-FDBEB6A1ABF4 Viettel                        1\n",
       "0003B52E-6A9B-4387-B0EA-DEE0F3BE516F Viettel                        3\n",
       "0003D11F-6744-4C50-A288-0FE8A12831B5 Mobifone                       1\n",
       "0003D1F3-1E9A-4E07-8D2C-E69755E8324B Viettel                        1\n",
       "00040F47-3405-43B9-B2F5-7C95BFCA33FB Viettel                        1"
      ]
     },
     "execution_count": 89,
     "metadata": {},
     "output_type": "execute_result"
    }
   ],
   "source": [
    "df.groupby(['hw_device_id', 'cellular_capabilities']).agg({'timestamp': 'count'})[:20]"
   ]
  },
  {
   "cell_type": "markdown",
   "metadata": {},
   "source": [
    "## Add Edges (users - devices)"
   ]
  },
  {
   "cell_type": "code",
   "execution_count": 92,
   "metadata": {},
   "outputs": [
    {
     "data": {
      "text/plain": [
       "ArangoDB collection name: user_device, id: 770997, type: edge, status: loaded"
      ]
     },
     "execution_count": 92,
     "metadata": {},
     "output_type": "execute_result"
    }
   ],
   "source": [
    "db.createCollection(name='user_device', className='Edges')"
   ]
  },
  {
   "cell_type": "code",
   "execution_count": 133,
   "metadata": {},
   "outputs": [],
   "source": [
    "user_device = db['user_device']"
   ]
  },
  {
   "cell_type": "code",
   "execution_count": 125,
   "metadata": {},
   "outputs": [],
   "source": [
    "columns_copy = [x for x in df.columns if x not in ['userId', 'hw_device_id']]\n",
    "for _, row in df.iterrows():\n",
    "    new_ud = user_device.createDocument({\n",
    "        '_from': 'users/' + str(row['userId']),\n",
    "        '_to': 'devices/' + str(row['hw_device_id'])\n",
    "    })\n",
    "    for x in columns_copy:\n",
    "        new_ud[x] = str(row[x])\n",
    "    new_ud.save()"
   ]
  },
  {
   "cell_type": "markdown",
   "metadata": {},
   "source": [
    "## Add Devices Model"
   ]
  },
  {
   "cell_type": "code",
   "execution_count": 136,
   "metadata": {},
   "outputs": [
    {
     "data": {
      "text/plain": [
       "ArangoDB collection name: device_model, id: 1687763, type: document, status: loaded"
      ]
     },
     "execution_count": 136,
     "metadata": {},
     "output_type": "execute_result"
    }
   ],
   "source": [
    "db.createCollection(name='device_model')"
   ]
  },
  {
   "cell_type": "code",
   "execution_count": null,
   "metadata": {},
   "outputs": [],
   "source": [
    "device_model = db['device_model']"
   ]
  },
  {
   "cell_type": "code",
   "execution_count": 137,
   "metadata": {},
   "outputs": [
    {
     "data": {
      "text/plain": [
       "array(['iPhone 6s Plus', 'iPhone XR', 'iPhone X', 'iPhone 7', 'iPhone 6',\n",
       "       'iPhone 6s', 'iPhone 7 Plus', 'iPhone 11', 'iPhone XS Max',\n",
       "       'iPhone 6 Plus', 'iPhone 11 Pro', 'iPhone 5s', 'iPhone XS',\n",
       "       'iPhone 8 Plus', 'iPhone SE', 'iPad Mini 2019', 'iPhone 5',\n",
       "       'iPhone 11 Pro Max', 'iPad Air 2', 'iPhone 8', 'iPhone SE 2nd Gen',\n",
       "       'Unsupported device', 'iPhone 5c', 'iPad 4', 'iPad Mini 4',\n",
       "       'Simulator', 'iPad 2017', 'iPad Air', 'iPad 2018', 'iPad Mini 3',\n",
       "       'iPad Air 3', 'iPad Mini 2', 'iPad Pro (11-inch)',\n",
       "       'iPad Pro (10.5-inch)', 'iPhone 4s',\n",
       "       'iPad Pro (12.9-inch) (2nd generation)', 'iPad Pro (9.7-inch)',\n",
       "       'iPad Pro (12.9-inch) (3rd generation)', 'iPad Pro (12.9-inch)',\n",
       "       'iPad 3', 'iPad Mini', 'iPad 2'], dtype=object)"
      ]
     },
     "execution_count": 137,
     "metadata": {},
     "output_type": "execute_result"
    }
   ],
   "source": [
    "unique_devices = df['hw_device_model'].unique()"
   ]
  },
  {
   "cell_type": "code",
   "execution_count": 33,
   "metadata": {},
   "outputs": [],
   "source": [
    "for uq in unique_devices:\n",
    "    formatted_key = '_'.join(x for x in uq.split(' '))\n",
    "    try:\n",
    "        new_device = device_model.createDocument({\n",
    "            '_key': formatted_key\n",
    "        })\n",
    "        new_device.save()\n",
    "    except:\n",
    "        print(uq)"
   ]
  },
  {
   "cell_type": "markdown",
   "metadata": {},
   "source": [
    "## Add Edges (Device - DeviceModel)"
   ]
  },
  {
   "cell_type": "code",
   "execution_count": 15,
   "metadata": {},
   "outputs": [
    {
     "data": {
      "text/plain": [
       "ArangoDB collection name: device_deviceModel, id: 1688813, type: edge, status: loaded"
      ]
     },
     "execution_count": 15,
     "metadata": {},
     "output_type": "execute_result"
    }
   ],
   "source": [
    "db.createCollection(name='device_deviceModel', className='Edges')"
   ]
  },
  {
   "cell_type": "code",
   "execution_count": 17,
   "metadata": {},
   "outputs": [],
   "source": [
    "device_deviceModel = db['device_deviceModel']"
   ]
  },
  {
   "cell_type": "code",
   "execution_count": 34,
   "metadata": {},
   "outputs": [],
   "source": [
    "columns_copy = [x for x in df.columns if x not in ['hw_device_id', 'hw_device_model']]\n",
    "for _, row in df.iterrows():\n",
    "    formatted_device_model = '_'.join(x for x in row['hw_device_model'].split(' '))\n",
    "    new_ddm = device_deviceModel.createDocument({\n",
    "        '_from': 'devices/' + str(row['hw_device_id']),\n",
    "        '_to': 'device_model/' + formatted_device_model\n",
    "    })\n",
    "    for x in columns_copy:\n",
    "        new_ddm[x] = str(row[x])\n",
    "    new_ddm.save()"
   ]
  }
 ],
 "metadata": {
  "kernelspec": {
   "display_name": "vng",
   "language": "python",
   "name": "vng"
  },
  "language_info": {
   "codemirror_mode": {
    "name": "ipython",
    "version": 3
   },
   "file_extension": ".py",
   "mimetype": "text/x-python",
   "name": "python",
   "nbconvert_exporter": "python",
   "pygments_lexer": "ipython3",
   "version": "3.8.5"
  }
 },
 "nbformat": 4,
 "nbformat_minor": 4
}
