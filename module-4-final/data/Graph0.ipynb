{
 "cells": [
  {
   "cell_type": "code",
   "execution_count": 1,
   "metadata": {},
   "outputs": [],
   "source": [
    "import pandas as pd\n",
    "import json"
   ]
  },
  {
   "cell_type": "code",
   "execution_count": 2,
   "metadata": {},
   "outputs": [],
   "source": [
    "userID_accountID = pd.read_csv('raw/userID_accountID.csv')\n",
    "userID_cardID = pd.read_csv('raw/userID_cardID.csv')\n",
    "userID_deviceID = pd.read_csv('raw/userid_deviceid.csv')"
   ]
  },
  {
   "cell_type": "markdown",
   "metadata": {},
   "source": [
    "# Users"
   ]
  },
  {
   "cell_type": "code",
   "execution_count": 16,
   "metadata": {},
   "outputs": [],
   "source": [
    "total_users = list(set(userID_accountID['userID'].tolist() + (userID_cardID['userID'].tolist()) + (userID_deviceID['userID'].tolist())))"
   ]
  },
  {
   "cell_type": "code",
   "execution_count": 17,
   "metadata": {},
   "outputs": [
    {
     "data": {
      "text/plain": [
       "130411"
      ]
     },
     "execution_count": 17,
     "metadata": {},
     "output_type": "execute_result"
    }
   ],
   "source": [
    "len(total_users)"
   ]
  },
  {
   "cell_type": "code",
   "execution_count": 20,
   "metadata": {},
   "outputs": [],
   "source": [
    "users_df = pd.DataFrame(total_users)"
   ]
  },
  {
   "cell_type": "code",
   "execution_count": 21,
   "metadata": {},
   "outputs": [],
   "source": [
    "users_df.columns = ['userid']"
   ]
  },
  {
   "cell_type": "code",
   "execution_count": 22,
   "metadata": {},
   "outputs": [
    {
     "data": {
      "text/html": [
       "<div>\n",
       "<style scoped>\n",
       "    .dataframe tbody tr th:only-of-type {\n",
       "        vertical-align: middle;\n",
       "    }\n",
       "\n",
       "    .dataframe tbody tr th {\n",
       "        vertical-align: top;\n",
       "    }\n",
       "\n",
       "    .dataframe thead th {\n",
       "        text-align: right;\n",
       "    }\n",
       "</style>\n",
       "<table border=\"1\" class=\"dataframe\">\n",
       "  <thead>\n",
       "    <tr style=\"text-align: right;\">\n",
       "      <th></th>\n",
       "      <th>userid</th>\n",
       "    </tr>\n",
       "  </thead>\n",
       "  <tbody>\n",
       "    <tr>\n",
       "      <th>0</th>\n",
       "      <td>191104935002113</td>\n",
       "    </tr>\n",
       "    <tr>\n",
       "      <th>1</th>\n",
       "      <td>200513000046595</td>\n",
       "    </tr>\n",
       "    <tr>\n",
       "      <th>2</th>\n",
       "      <td>191223024058373</td>\n",
       "    </tr>\n",
       "    <tr>\n",
       "      <th>3</th>\n",
       "      <td>191129565003782</td>\n",
       "    </tr>\n",
       "    <tr>\n",
       "      <th>4</th>\n",
       "      <td>200516000022534</td>\n",
       "    </tr>\n",
       "    <tr>\n",
       "      <th>...</th>\n",
       "      <td>...</td>\n",
       "    </tr>\n",
       "    <tr>\n",
       "      <th>130406</th>\n",
       "      <td>171127000006634</td>\n",
       "    </tr>\n",
       "    <tr>\n",
       "      <th>130407</th>\n",
       "      <td>191111751008235</td>\n",
       "    </tr>\n",
       "    <tr>\n",
       "      <th>130408</th>\n",
       "      <td>190213000003562</td>\n",
       "    </tr>\n",
       "    <tr>\n",
       "      <th>130409</th>\n",
       "      <td>200916000047090</td>\n",
       "    </tr>\n",
       "    <tr>\n",
       "      <th>130410</th>\n",
       "      <td>190213000003579</td>\n",
       "    </tr>\n",
       "  </tbody>\n",
       "</table>\n",
       "<p>130411 rows × 1 columns</p>\n",
       "</div>"
      ],
      "text/plain": [
       "                 userid\n",
       "0       191104935002113\n",
       "1       200513000046595\n",
       "2       191223024058373\n",
       "3       191129565003782\n",
       "4       200516000022534\n",
       "...                 ...\n",
       "130406  171127000006634\n",
       "130407  191111751008235\n",
       "130408  190213000003562\n",
       "130409  200916000047090\n",
       "130410  190213000003579\n",
       "\n",
       "[130411 rows x 1 columns]"
      ]
     },
     "execution_count": 22,
     "metadata": {},
     "output_type": "execute_result"
    }
   ],
   "source": [
    "users_df"
   ]
  },
  {
   "cell_type": "code",
   "execution_count": 31,
   "metadata": {},
   "outputs": [],
   "source": [
    "def create_user_code(row):\n",
    "    return {\n",
    "        '_key': str(row['userid'])\n",
    "    }"
   ]
  },
  {
   "cell_type": "code",
   "execution_count": 32,
   "metadata": {},
   "outputs": [],
   "source": [
    "users_df['arangoCode'] = users_df.apply(create_user_code , 1)"
   ]
  },
  {
   "cell_type": "code",
   "execution_count": 36,
   "metadata": {},
   "outputs": [
    {
     "data": {
      "text/html": [
       "<div>\n",
       "<style scoped>\n",
       "    .dataframe tbody tr th:only-of-type {\n",
       "        vertical-align: middle;\n",
       "    }\n",
       "\n",
       "    .dataframe tbody tr th {\n",
       "        vertical-align: top;\n",
       "    }\n",
       "\n",
       "    .dataframe thead th {\n",
       "        text-align: right;\n",
       "    }\n",
       "</style>\n",
       "<table border=\"1\" class=\"dataframe\">\n",
       "  <thead>\n",
       "    <tr style=\"text-align: right;\">\n",
       "      <th></th>\n",
       "      <th>userid</th>\n",
       "      <th>arangoCode</th>\n",
       "    </tr>\n",
       "  </thead>\n",
       "  <tbody>\n",
       "    <tr>\n",
       "      <th>0</th>\n",
       "      <td>191104935002113</td>\n",
       "      <td>{'_key': '191104935002113'}</td>\n",
       "    </tr>\n",
       "    <tr>\n",
       "      <th>1</th>\n",
       "      <td>200513000046595</td>\n",
       "      <td>{'_key': '200513000046595'}</td>\n",
       "    </tr>\n",
       "    <tr>\n",
       "      <th>2</th>\n",
       "      <td>191223024058373</td>\n",
       "      <td>{'_key': '191223024058373'}</td>\n",
       "    </tr>\n",
       "    <tr>\n",
       "      <th>3</th>\n",
       "      <td>191129565003782</td>\n",
       "      <td>{'_key': '191129565003782'}</td>\n",
       "    </tr>\n",
       "    <tr>\n",
       "      <th>4</th>\n",
       "      <td>200516000022534</td>\n",
       "      <td>{'_key': '200516000022534'}</td>\n",
       "    </tr>\n",
       "    <tr>\n",
       "      <th>...</th>\n",
       "      <td>...</td>\n",
       "      <td>...</td>\n",
       "    </tr>\n",
       "    <tr>\n",
       "      <th>130406</th>\n",
       "      <td>171127000006634</td>\n",
       "      <td>{'_key': '171127000006634'}</td>\n",
       "    </tr>\n",
       "    <tr>\n",
       "      <th>130407</th>\n",
       "      <td>191111751008235</td>\n",
       "      <td>{'_key': '191111751008235'}</td>\n",
       "    </tr>\n",
       "    <tr>\n",
       "      <th>130408</th>\n",
       "      <td>190213000003562</td>\n",
       "      <td>{'_key': '190213000003562'}</td>\n",
       "    </tr>\n",
       "    <tr>\n",
       "      <th>130409</th>\n",
       "      <td>200916000047090</td>\n",
       "      <td>{'_key': '200916000047090'}</td>\n",
       "    </tr>\n",
       "    <tr>\n",
       "      <th>130410</th>\n",
       "      <td>190213000003579</td>\n",
       "      <td>{'_key': '190213000003579'}</td>\n",
       "    </tr>\n",
       "  </tbody>\n",
       "</table>\n",
       "<p>130411 rows × 2 columns</p>\n",
       "</div>"
      ],
      "text/plain": [
       "                 userid                   arangoCode\n",
       "0       191104935002113  {'_key': '191104935002113'}\n",
       "1       200513000046595  {'_key': '200513000046595'}\n",
       "2       191223024058373  {'_key': '191223024058373'}\n",
       "3       191129565003782  {'_key': '191129565003782'}\n",
       "4       200516000022534  {'_key': '200516000022534'}\n",
       "...                 ...                          ...\n",
       "130406  171127000006634  {'_key': '171127000006634'}\n",
       "130407  191111751008235  {'_key': '191111751008235'}\n",
       "130408  190213000003562  {'_key': '190213000003562'}\n",
       "130409  200916000047090  {'_key': '200916000047090'}\n",
       "130410  190213000003579  {'_key': '190213000003579'}\n",
       "\n",
       "[130411 rows x 2 columns]"
      ]
     },
     "execution_count": 36,
     "metadata": {},
     "output_type": "execute_result"
    }
   ],
   "source": [
    "users_df"
   ]
  },
  {
   "cell_type": "code",
   "execution_count": 37,
   "metadata": {},
   "outputs": [],
   "source": [
    "users_code_list = users_df['arangoCode'].tolist()"
   ]
  },
  {
   "cell_type": "code",
   "execution_count": 38,
   "metadata": {},
   "outputs": [],
   "source": [
    "with open('json/graph0_users.json', 'w') as f:\n",
    "    json.dump(users_code_list, f)"
   ]
  },
  {
   "cell_type": "code",
   "execution_count": 39,
   "metadata": {},
   "outputs": [],
   "source": [
    "# Convert json to jsonl\n",
    "!jq -c \".[]\" json/graph0_users.json > jsonl/graph0_users.jsonl"
   ]
  },
  {
   "cell_type": "code",
   "execution_count": 40,
   "metadata": {},
   "outputs": [
    {
     "name": "stdout",
     "output_type": "stream",
     "text": [
      "Connected to ArangoDB 'http+tcp://127.0.0.1:8529, version: 3.7.2-1, database: '_system', username: 'root'\n",
      "----------------------------------------\n",
      "database:               _system\n",
      "collection:             graph0_users\n",
      "create:                 yes\n",
      "create database:        no\n",
      "source filename:        jsonl/graph0_users.jsonl\n",
      "file type:              jsonl\n",
      "threads:                16\n",
      "connect timeout:        5\n",
      "request timeout:        1200\n",
      "----------------------------------------\n",
      "Starting JSON import...\n",
      "\u001b[0m2020-10-04T10:11:49Z [52339] INFO [9ddf3] processed 131068 bytes (3%) of input file\n",
      "\u001b[0m\u001b[0m2020-10-04T10:11:49Z [52339] INFO [9ddf3] processed 229369 bytes (6%) of input file\n",
      "\u001b[0m\u001b[0m2020-10-04T10:11:49Z [52339] INFO [9ddf3] processed 327670 bytes (9%) of input file\n",
      "\u001b[0m\u001b[0m2020-10-04T10:11:49Z [52339] INFO [9ddf3] processed 425971 bytes (12%) of input file\n",
      "\u001b[0m\u001b[0m2020-10-04T10:11:49Z [52339] INFO [9ddf3] processed 557039 bytes (15%) of input file\n",
      "\u001b[0m\u001b[0m2020-10-04T10:11:49Z [52339] INFO [9ddf3] processed 655340 bytes (18%) of input file\n",
      "\u001b[0m\u001b[0m2020-10-04T10:11:49Z [52339] INFO [9ddf3] processed 753641 bytes (21%) of input file\n",
      "\u001b[0m\u001b[0m2020-10-04T10:11:49Z [52339] INFO [9ddf3] processed 851942 bytes (24%) of input file\n",
      "\u001b[0m\u001b[0m2020-10-04T10:11:49Z [52339] INFO [9ddf3] processed 983010 bytes (27%) of input file\n",
      "\u001b[0m\u001b[0m2020-10-04T10:11:49Z [52339] INFO [9ddf3] processed 1081311 bytes (30%) of input file\n",
      "\u001b[0m\u001b[0m2020-10-04T10:11:49Z [52339] INFO [9ddf3] processed 1179612 bytes (33%) of input file\n",
      "\u001b[0m\u001b[0m2020-10-04T10:11:49Z [52339] INFO [9ddf3] processed 1277913 bytes (36%) of input file\n",
      "\u001b[0m\u001b[0m2020-10-04T10:11:49Z [52339] INFO [9ddf3] processed 1376214 bytes (39%) of input file\n",
      "\u001b[0m\u001b[0m2020-10-04T10:11:49Z [52339] INFO [9ddf3] processed 1507282 bytes (42%) of input file\n",
      "\u001b[0m\u001b[0m2020-10-04T10:11:49Z [52339] INFO [9ddf3] processed 1605583 bytes (45%) of input file\n",
      "\u001b[0m\u001b[0m2020-10-04T10:11:49Z [52339] INFO [9ddf3] processed 1703884 bytes (48%) of input file\n",
      "\u001b[0m\u001b[0m2020-10-04T10:11:49Z [52339] INFO [9ddf3] processed 1802185 bytes (51%) of input file\n",
      "\u001b[0m\u001b[0m2020-10-04T10:11:49Z [52339] INFO [9ddf3] processed 1933253 bytes (54%) of input file\n",
      "\u001b[0m\u001b[0m2020-10-04T10:11:49Z [52339] INFO [9ddf3] processed 2031554 bytes (57%) of input file\n",
      "\u001b[0m\u001b[0m2020-10-04T10:11:49Z [52339] INFO [9ddf3] processed 2129855 bytes (60%) of input file\n",
      "\u001b[0m\u001b[0m2020-10-04T10:11:49Z [52339] INFO [9ddf3] processed 2228156 bytes (63%) of input file\n",
      "\u001b[0m\u001b[0m2020-10-04T10:11:49Z [52339] INFO [9ddf3] processed 2326457 bytes (66%) of input file\n",
      "\u001b[0m\u001b[0m2020-10-04T10:11:49Z [52339] INFO [9ddf3] processed 2457525 bytes (69%) of input file\n",
      "\u001b[0m\u001b[0m2020-10-04T10:11:49Z [52339] INFO [9ddf3] processed 2555826 bytes (72%) of input file\n",
      "\u001b[0m\u001b[0m2020-10-04T10:11:49Z [52339] INFO [9ddf3] processed 2654127 bytes (75%) of input file\n",
      "\u001b[0m\u001b[0m2020-10-04T10:11:49Z [52339] INFO [9ddf3] processed 2752428 bytes (78%) of input file\n",
      "\u001b[0m\u001b[0m2020-10-04T10:11:49Z [52339] INFO [9ddf3] processed 2883496 bytes (81%) of input file\n",
      "\u001b[0m\u001b[0m2020-10-04T10:11:49Z [52339] INFO [9ddf3] processed 2981797 bytes (84%) of input file\n",
      "\u001b[0m\u001b[0m2020-10-04T10:11:49Z [52339] INFO [9ddf3] processed 3080098 bytes (87%) of input file\n",
      "\u001b[0m\u001b[0m2020-10-04T10:11:49Z [52339] INFO [9ddf3] processed 3178399 bytes (90%) of input file\n",
      "\u001b[0m\u001b[0m2020-10-04T10:11:49Z [52339] INFO [9ddf3] processed 3276700 bytes (93%) of input file\n",
      "\u001b[0m\u001b[0m2020-10-04T10:11:49Z [52339] INFO [9ddf3] processed 3407768 bytes (96%) of input file\n",
      "\u001b[0m\u001b[0m2020-10-04T10:11:49Z [52339] INFO [9ddf3] processed 3506069 bytes (99%) of input file\n",
      "\u001b[0m\n",
      "created:          130411\n",
      "warnings/errors:  0\n",
      "updated/replaced: 0\n",
      "ignored:          0\n"
     ]
    }
   ],
   "source": [
    "!arangoimport --server.password='ngph'  --create-collection true --collection graph0_users --type jsonl --file \"jsonl/graph0_users.jsonl\" --progress true --threads 16"
   ]
  },
  {
   "cell_type": "markdown",
   "metadata": {},
   "source": [
    "# Account"
   ]
  },
  {
   "cell_type": "code",
   "execution_count": 41,
   "metadata": {},
   "outputs": [
    {
     "data": {
      "text/html": [
       "<div>\n",
       "<style scoped>\n",
       "    .dataframe tbody tr th:only-of-type {\n",
       "        vertical-align: middle;\n",
       "    }\n",
       "\n",
       "    .dataframe tbody tr th {\n",
       "        vertical-align: top;\n",
       "    }\n",
       "\n",
       "    .dataframe thead th {\n",
       "        text-align: right;\n",
       "    }\n",
       "</style>\n",
       "<table border=\"1\" class=\"dataframe\">\n",
       "  <thead>\n",
       "    <tr style=\"text-align: right;\">\n",
       "      <th></th>\n",
       "      <th>userID</th>\n",
       "      <th>accountID</th>\n",
       "    </tr>\n",
       "  </thead>\n",
       "  <tbody>\n",
       "    <tr>\n",
       "      <th>0</th>\n",
       "      <td>200221000026960</td>\n",
       "      <td>200221100002264</td>\n",
       "    </tr>\n",
       "    <tr>\n",
       "      <th>1</th>\n",
       "      <td>191206720001042</td>\n",
       "      <td>191206100000350</td>\n",
       "    </tr>\n",
       "    <tr>\n",
       "      <th>2</th>\n",
       "      <td>191210484000661</td>\n",
       "      <td>191210100000238</td>\n",
       "    </tr>\n",
       "    <tr>\n",
       "      <th>3</th>\n",
       "      <td>190709000001059</td>\n",
       "      <td>190707100001431</td>\n",
       "    </tr>\n",
       "    <tr>\n",
       "      <th>4</th>\n",
       "      <td>191227000009403</td>\n",
       "      <td>191227100000397</td>\n",
       "    </tr>\n",
       "  </tbody>\n",
       "</table>\n",
       "</div>"
      ],
      "text/plain": [
       "            userID        accountID\n",
       "0  200221000026960  200221100002264\n",
       "1  191206720001042  191206100000350\n",
       "2  191210484000661  191210100000238\n",
       "3  190709000001059  190707100001431\n",
       "4  191227000009403  191227100000397"
      ]
     },
     "execution_count": 41,
     "metadata": {},
     "output_type": "execute_result"
    }
   ],
   "source": [
    "userID_accountID.head()"
   ]
  },
  {
   "cell_type": "code",
   "execution_count": 48,
   "metadata": {},
   "outputs": [],
   "source": [
    "account_list = list(set(userID_accountID['accountID'].tolist()))"
   ]
  },
  {
   "cell_type": "code",
   "execution_count": 49,
   "metadata": {},
   "outputs": [],
   "source": [
    "acccount_df = pd.DataFrame(account_list, columns=['accountid'])"
   ]
  },
  {
   "cell_type": "code",
   "execution_count": 50,
   "metadata": {},
   "outputs": [
    {
     "data": {
      "text/html": [
       "<div>\n",
       "<style scoped>\n",
       "    .dataframe tbody tr th:only-of-type {\n",
       "        vertical-align: middle;\n",
       "    }\n",
       "\n",
       "    .dataframe tbody tr th {\n",
       "        vertical-align: top;\n",
       "    }\n",
       "\n",
       "    .dataframe thead th {\n",
       "        text-align: right;\n",
       "    }\n",
       "</style>\n",
       "<table border=\"1\" class=\"dataframe\">\n",
       "  <thead>\n",
       "    <tr style=\"text-align: right;\">\n",
       "      <th></th>\n",
       "      <th>accountid</th>\n",
       "    </tr>\n",
       "  </thead>\n",
       "  <tbody>\n",
       "    <tr>\n",
       "      <th>0</th>\n",
       "      <td>200310100000773</td>\n",
       "    </tr>\n",
       "    <tr>\n",
       "      <th>1</th>\n",
       "      <td>191222100000775</td>\n",
       "    </tr>\n",
       "    <tr>\n",
       "      <th>2</th>\n",
       "      <td>200118100000776</td>\n",
       "    </tr>\n",
       "    <tr>\n",
       "      <th>3</th>\n",
       "      <td>200220100001800</td>\n",
       "    </tr>\n",
       "    <tr>\n",
       "      <th>4</th>\n",
       "      <td>200220100001802</td>\n",
       "    </tr>\n",
       "    <tr>\n",
       "      <th>...</th>\n",
       "      <td>...</td>\n",
       "    </tr>\n",
       "    <tr>\n",
       "      <th>10731</th>\n",
       "      <td>200220100001780</td>\n",
       "    </tr>\n",
       "    <tr>\n",
       "      <th>10732</th>\n",
       "      <td>200220100001785</td>\n",
       "    </tr>\n",
       "    <tr>\n",
       "      <th>10733</th>\n",
       "      <td>191222100000762</td>\n",
       "    </tr>\n",
       "    <tr>\n",
       "      <th>10734</th>\n",
       "      <td>200118100000763</td>\n",
       "    </tr>\n",
       "    <tr>\n",
       "      <th>10735</th>\n",
       "      <td>200220100001791</td>\n",
       "    </tr>\n",
       "  </tbody>\n",
       "</table>\n",
       "<p>10736 rows × 1 columns</p>\n",
       "</div>"
      ],
      "text/plain": [
       "             accountid\n",
       "0      200310100000773\n",
       "1      191222100000775\n",
       "2      200118100000776\n",
       "3      200220100001800\n",
       "4      200220100001802\n",
       "...                ...\n",
       "10731  200220100001780\n",
       "10732  200220100001785\n",
       "10733  191222100000762\n",
       "10734  200118100000763\n",
       "10735  200220100001791\n",
       "\n",
       "[10736 rows x 1 columns]"
      ]
     },
     "execution_count": 50,
     "metadata": {},
     "output_type": "execute_result"
    }
   ],
   "source": [
    "acccount_df"
   ]
  },
  {
   "cell_type": "code",
   "execution_count": 47,
   "metadata": {},
   "outputs": [],
   "source": [
    "def create_account_code(row):\n",
    "    return {\n",
    "        '_key': str(row['accountid'])\n",
    "    }"
   ]
  },
  {
   "cell_type": "code",
   "execution_count": 51,
   "metadata": {},
   "outputs": [],
   "source": [
    "acccount_df['arangoCode'] = acccount_df.apply(create_account_code , 1)"
   ]
  },
  {
   "cell_type": "code",
   "execution_count": 52,
   "metadata": {},
   "outputs": [],
   "source": [
    "accounts_code_list = acccount_df['arangoCode'].tolist()"
   ]
  },
  {
   "cell_type": "code",
   "execution_count": 53,
   "metadata": {},
   "outputs": [],
   "source": [
    "with open('json/graph0_account.json', 'w') as f:\n",
    "    json.dump(accounts_code_list, f)"
   ]
  },
  {
   "cell_type": "code",
   "execution_count": 55,
   "metadata": {},
   "outputs": [],
   "source": [
    "# Convert json to jsonl\n",
    "!jq -c \".[]\" json/graph0_account.json > jsonl/graph0_account.jsonl"
   ]
  },
  {
   "cell_type": "code",
   "execution_count": 56,
   "metadata": {},
   "outputs": [
    {
     "name": "stdout",
     "output_type": "stream",
     "text": [
      "Connected to ArangoDB 'http+tcp://127.0.0.1:8529, version: 3.7.2-1, database: '_system', username: 'root'\n",
      "----------------------------------------\n",
      "database:               _system\n",
      "collection:             graph0_account\n",
      "create:                 yes\n",
      "create database:        no\n",
      "source filename:        jsonl/graph0_account.jsonl\n",
      "file type:              jsonl\n",
      "threads:                16\n",
      "connect timeout:        5\n",
      "request timeout:        1200\n",
      "----------------------------------------\n",
      "Starting JSON import...\n",
      "\u001b[0m2020-10-04T10:15:58Z [52594] INFO [9ddf3] processed 32767 bytes (3%) of input file\n",
      "\u001b[0m\u001b[0m2020-10-04T10:15:58Z [52594] INFO [9ddf3] processed 65534 bytes (14%) of input file\n",
      "\u001b[0m\u001b[0m2020-10-04T10:15:58Z [52594] INFO [9ddf3] processed 98301 bytes (25%) of input file\n",
      "\u001b[0m\u001b[0m2020-10-04T10:15:58Z [52594] INFO [9ddf3] processed 131068 bytes (36%) of input file\n",
      "\u001b[0m\u001b[0m2020-10-04T10:15:58Z [52594] INFO [9ddf3] processed 163835 bytes (48%) of input file\n",
      "\u001b[0m\u001b[0m2020-10-04T10:15:58Z [52594] INFO [9ddf3] processed 196602 bytes (59%) of input file\n",
      "\u001b[0m\u001b[0m2020-10-04T10:15:58Z [52594] INFO [9ddf3] processed 229369 bytes (70%) of input file\n",
      "\u001b[0m\u001b[0m2020-10-04T10:15:58Z [52594] INFO [9ddf3] processed 262136 bytes (82%) of input file\n",
      "\u001b[0m\u001b[0m2020-10-04T10:15:58Z [52594] INFO [9ddf3] processed 289872 bytes (93%) of input file\n",
      "\u001b[0m\n",
      "created:          10736\n",
      "warnings/errors:  0\n",
      "updated/replaced: 0\n",
      "ignored:          0\n"
     ]
    }
   ],
   "source": [
    "!arangoimport --server.password='ngph'  --create-collection true --collection graph0_account --type jsonl --file \"jsonl/graph0_account.jsonl\" --progress true --threads 16"
   ]
  },
  {
   "cell_type": "markdown",
   "metadata": {},
   "source": [
    "# Card"
   ]
  },
  {
   "cell_type": "code",
   "execution_count": 57,
   "metadata": {},
   "outputs": [
    {
     "data": {
      "text/html": [
       "<div>\n",
       "<style scoped>\n",
       "    .dataframe tbody tr th:only-of-type {\n",
       "        vertical-align: middle;\n",
       "    }\n",
       "\n",
       "    .dataframe tbody tr th {\n",
       "        vertical-align: top;\n",
       "    }\n",
       "\n",
       "    .dataframe thead th {\n",
       "        text-align: right;\n",
       "    }\n",
       "</style>\n",
       "<table border=\"1\" class=\"dataframe\">\n",
       "  <thead>\n",
       "    <tr style=\"text-align: right;\">\n",
       "      <th></th>\n",
       "      <th>userID</th>\n",
       "      <th>cardID</th>\n",
       "    </tr>\n",
       "  </thead>\n",
       "  <tbody>\n",
       "    <tr>\n",
       "      <th>0</th>\n",
       "      <td>191111735008352</td>\n",
       "      <td>191111000016864</td>\n",
       "    </tr>\n",
       "    <tr>\n",
       "      <th>1</th>\n",
       "      <td>180818000008076</td>\n",
       "      <td>200524000004399</td>\n",
       "    </tr>\n",
       "    <tr>\n",
       "      <th>2</th>\n",
       "      <td>190120000001593</td>\n",
       "      <td>190612000556786</td>\n",
       "    </tr>\n",
       "    <tr>\n",
       "      <th>3</th>\n",
       "      <td>191124227003671</td>\n",
       "      <td>191124000007604</td>\n",
       "    </tr>\n",
       "    <tr>\n",
       "      <th>4</th>\n",
       "      <td>191012537001139</td>\n",
       "      <td>191012000000490</td>\n",
       "    </tr>\n",
       "  </tbody>\n",
       "</table>\n",
       "</div>"
      ],
      "text/plain": [
       "            userID           cardID\n",
       "0  191111735008352  191111000016864\n",
       "1  180818000008076  200524000004399\n",
       "2  190120000001593  190612000556786\n",
       "3  191124227003671  191124000007604\n",
       "4  191012537001139  191012000000490"
      ]
     },
     "execution_count": 57,
     "metadata": {},
     "output_type": "execute_result"
    }
   ],
   "source": [
    "userID_cardID.head()"
   ]
  },
  {
   "cell_type": "code",
   "execution_count": 58,
   "metadata": {},
   "outputs": [],
   "source": [
    "card_list = list(set(userID_cardID['cardID'].tolist()))"
   ]
  },
  {
   "cell_type": "code",
   "execution_count": 59,
   "metadata": {},
   "outputs": [],
   "source": [
    "card_df = pd.DataFrame(card_list, columns=['cardid'])"
   ]
  },
  {
   "cell_type": "code",
   "execution_count": 60,
   "metadata": {},
   "outputs": [
    {
     "data": {
      "text/html": [
       "<div>\n",
       "<style scoped>\n",
       "    .dataframe tbody tr th:only-of-type {\n",
       "        vertical-align: middle;\n",
       "    }\n",
       "\n",
       "    .dataframe tbody tr th {\n",
       "        vertical-align: top;\n",
       "    }\n",
       "\n",
       "    .dataframe thead th {\n",
       "        text-align: right;\n",
       "    }\n",
       "</style>\n",
       "<table border=\"1\" class=\"dataframe\">\n",
       "  <thead>\n",
       "    <tr style=\"text-align: right;\">\n",
       "      <th></th>\n",
       "      <th>cardid</th>\n",
       "    </tr>\n",
       "  </thead>\n",
       "  <tbody>\n",
       "    <tr>\n",
       "      <th>0</th>\n",
       "      <td>190612000735238</td>\n",
       "    </tr>\n",
       "    <tr>\n",
       "      <th>1</th>\n",
       "      <td>200316000010265</td>\n",
       "    </tr>\n",
       "    <tr>\n",
       "      <th>2</th>\n",
       "      <td>191024000008224</td>\n",
       "    </tr>\n",
       "    <tr>\n",
       "      <th>3</th>\n",
       "      <td>200316000010283</td>\n",
       "    </tr>\n",
       "    <tr>\n",
       "      <th>4</th>\n",
       "      <td>190612000342061</td>\n",
       "    </tr>\n",
       "    <tr>\n",
       "      <th>...</th>\n",
       "      <td>...</td>\n",
       "    </tr>\n",
       "    <tr>\n",
       "      <th>32580</th>\n",
       "      <td>190612000866276</td>\n",
       "    </tr>\n",
       "    <tr>\n",
       "      <th>32581</th>\n",
       "      <td>190613000421349</td>\n",
       "    </tr>\n",
       "    <tr>\n",
       "      <th>32582</th>\n",
       "      <td>190626000011239</td>\n",
       "    </tr>\n",
       "    <tr>\n",
       "      <th>32583</th>\n",
       "      <td>200420000006123</td>\n",
       "    </tr>\n",
       "    <tr>\n",
       "      <th>32584</th>\n",
       "      <td>191029000011773</td>\n",
       "    </tr>\n",
       "  </tbody>\n",
       "</table>\n",
       "<p>32585 rows × 1 columns</p>\n",
       "</div>"
      ],
      "text/plain": [
       "                cardid\n",
       "0      190612000735238\n",
       "1      200316000010265\n",
       "2      191024000008224\n",
       "3      200316000010283\n",
       "4      190612000342061\n",
       "...                ...\n",
       "32580  190612000866276\n",
       "32581  190613000421349\n",
       "32582  190626000011239\n",
       "32583  200420000006123\n",
       "32584  191029000011773\n",
       "\n",
       "[32585 rows x 1 columns]"
      ]
     },
     "execution_count": 60,
     "metadata": {},
     "output_type": "execute_result"
    }
   ],
   "source": [
    "card_df"
   ]
  },
  {
   "cell_type": "code",
   "execution_count": 61,
   "metadata": {},
   "outputs": [],
   "source": [
    "def create_card_code(row):\n",
    "    return {\n",
    "        '_key': str(row['cardid'])\n",
    "    }"
   ]
  },
  {
   "cell_type": "code",
   "execution_count": 62,
   "metadata": {},
   "outputs": [],
   "source": [
    "card_df['arangoCode'] = card_df.apply(create_card_code , 1)"
   ]
  },
  {
   "cell_type": "code",
   "execution_count": 63,
   "metadata": {},
   "outputs": [],
   "source": [
    "card_code_list = card_df['arangoCode'].tolist()"
   ]
  },
  {
   "cell_type": "code",
   "execution_count": 64,
   "metadata": {},
   "outputs": [],
   "source": [
    "with open('json/graph0_card.json', 'w') as f:\n",
    "    json.dump(card_code_list, f)"
   ]
  },
  {
   "cell_type": "code",
   "execution_count": 65,
   "metadata": {},
   "outputs": [],
   "source": [
    "# Convert json to jsonl\n",
    "!jq -c \".[]\" json/graph0_card.json > jsonl/graph0_card.jsonl"
   ]
  },
  {
   "cell_type": "code",
   "execution_count": 66,
   "metadata": {},
   "outputs": [
    {
     "name": "stdout",
     "output_type": "stream",
     "text": [
      "Connected to ArangoDB 'http+tcp://127.0.0.1:8529, version: 3.7.2-1, database: '_system', username: 'root'\n",
      "----------------------------------------\n",
      "database:               _system\n",
      "collection:             graph0_card\n",
      "create:                 yes\n",
      "create database:        no\n",
      "source filename:        jsonl/graph0_card.jsonl\n",
      "file type:              jsonl\n",
      "threads:                16\n",
      "connect timeout:        5\n",
      "request timeout:        1200\n",
      "----------------------------------------\n",
      "Starting JSON import...\n",
      "\u001b[0m2020-10-04T10:17:44Z [52650] INFO [9ddf3] processed 32767 bytes (3%) of input file\n",
      "\u001b[0m\u001b[0m2020-10-04T10:17:44Z [52650] INFO [9ddf3] processed 65534 bytes (6%) of input file\n",
      "\u001b[0m\u001b[0m2020-10-04T10:17:44Z [52650] INFO [9ddf3] processed 98301 bytes (10%) of input file\n",
      "\u001b[0m\u001b[0m2020-10-04T10:17:44Z [52650] INFO [9ddf3] processed 131068 bytes (14%) of input file\n",
      "\u001b[0m\u001b[0m2020-10-04T10:17:44Z [52650] INFO [9ddf3] processed 163835 bytes (17%) of input file\n",
      "\u001b[0m\u001b[0m2020-10-04T10:17:44Z [52650] INFO [9ddf3] processed 196602 bytes (21%) of input file\n",
      "\u001b[0m\u001b[0m2020-10-04T10:17:44Z [52650] INFO [9ddf3] processed 229369 bytes (25%) of input file\n",
      "\u001b[0m\u001b[0m2020-10-04T10:17:44Z [52650] INFO [9ddf3] processed 262136 bytes (29%) of input file\n",
      "\u001b[0m\u001b[0m2020-10-04T10:17:44Z [52650] INFO [9ddf3] processed 294903 bytes (32%) of input file\n",
      "\u001b[0m\u001b[0m2020-10-04T10:17:44Z [52650] INFO [9ddf3] processed 327670 bytes (36%) of input file\n",
      "\u001b[0m\u001b[0m2020-10-04T10:17:44Z [52650] INFO [9ddf3] processed 360437 bytes (40%) of input file\n",
      "\u001b[0m\u001b[0m2020-10-04T10:17:44Z [52650] INFO [9ddf3] processed 393204 bytes (43%) of input file\n",
      "\u001b[0m\u001b[0m2020-10-04T10:17:44Z [52650] INFO [9ddf3] processed 425971 bytes (47%) of input file\n",
      "\u001b[0m\u001b[0m2020-10-04T10:17:44Z [52650] INFO [9ddf3] processed 458738 bytes (51%) of input file\n",
      "\u001b[0m\u001b[0m2020-10-04T10:17:44Z [52650] INFO [9ddf3] processed 491505 bytes (55%) of input file\n",
      "\u001b[0m\u001b[0m2020-10-04T10:17:44Z [52650] INFO [9ddf3] processed 524272 bytes (58%) of input file\n",
      "\u001b[0m\u001b[0m2020-10-04T10:17:44Z [52650] INFO [9ddf3] processed 557039 bytes (62%) of input file\n",
      "\u001b[0m\u001b[0m2020-10-04T10:17:44Z [52650] INFO [9ddf3] processed 589806 bytes (66%) of input file\n",
      "\u001b[0m\u001b[0m2020-10-04T10:17:44Z [52650] INFO [9ddf3] processed 622573 bytes (70%) of input file\n",
      "\u001b[0m\u001b[0m2020-10-04T10:17:44Z [52650] INFO [9ddf3] processed 655340 bytes (73%) of input file\n",
      "\u001b[0m\u001b[0m2020-10-04T10:17:44Z [52650] INFO [9ddf3] processed 688107 bytes (77%) of input file\n",
      "\u001b[0m\u001b[0m2020-10-04T10:17:44Z [52650] INFO [9ddf3] processed 720874 bytes (81%) of input file\n",
      "\u001b[0m\u001b[0m2020-10-04T10:17:44Z [52650] INFO [9ddf3] processed 753641 bytes (84%) of input file\n",
      "\u001b[0m\u001b[0m2020-10-04T10:17:44Z [52650] INFO [9ddf3] processed 786408 bytes (88%) of input file\n",
      "\u001b[0m\u001b[0m2020-10-04T10:17:44Z [52650] INFO [9ddf3] processed 819175 bytes (92%) of input file\n",
      "\u001b[0m\u001b[0m2020-10-04T10:17:44Z [52650] INFO [9ddf3] processed 851942 bytes (96%) of input file\n",
      "\u001b[0m\u001b[0m2020-10-04T10:17:44Z [52650] INFO [9ddf3] processed 879795 bytes (99%) of input file\n",
      "\u001b[0m\n",
      "created:          32585\n",
      "warnings/errors:  0\n",
      "updated/replaced: 0\n",
      "ignored:          0\n"
     ]
    }
   ],
   "source": [
    "!arangoimport --server.password='ngph'  --create-collection true --collection graph0_card --type jsonl --file \"jsonl/graph0_card.jsonl\" --progress true --threads 16"
   ]
  },
  {
   "cell_type": "markdown",
   "metadata": {},
   "source": [
    "# Device"
   ]
  },
  {
   "cell_type": "code",
   "execution_count": 162,
   "metadata": {},
   "outputs": [
    {
     "data": {
      "text/html": [
       "<div>\n",
       "<style scoped>\n",
       "    .dataframe tbody tr th:only-of-type {\n",
       "        vertical-align: middle;\n",
       "    }\n",
       "\n",
       "    .dataframe tbody tr th {\n",
       "        vertical-align: top;\n",
       "    }\n",
       "\n",
       "    .dataframe thead th {\n",
       "        text-align: right;\n",
       "    }\n",
       "</style>\n",
       "<table border=\"1\" class=\"dataframe\">\n",
       "  <thead>\n",
       "    <tr style=\"text-align: right;\">\n",
       "      <th></th>\n",
       "      <th>userID</th>\n",
       "      <th>deviceID</th>\n",
       "    </tr>\n",
       "  </thead>\n",
       "  <tbody>\n",
       "    <tr>\n",
       "      <th>0</th>\n",
       "      <td>190215000014037</td>\n",
       "      <td>5e34bdd5266ff7c6</td>\n",
       "    </tr>\n",
       "    <tr>\n",
       "      <th>1</th>\n",
       "      <td>190313000016148</td>\n",
       "      <td>1761c1b0d746b8e8</td>\n",
       "    </tr>\n",
       "    <tr>\n",
       "      <th>2</th>\n",
       "      <td>190318000000574</td>\n",
       "      <td>14e0d55eb848e527</td>\n",
       "    </tr>\n",
       "    <tr>\n",
       "      <th>3</th>\n",
       "      <td>190722000001381</td>\n",
       "      <td>1f6b129e317e35fa</td>\n",
       "    </tr>\n",
       "    <tr>\n",
       "      <th>4</th>\n",
       "      <td>191016219002578</td>\n",
       "      <td>0e2fa6b350f0f020</td>\n",
       "    </tr>\n",
       "  </tbody>\n",
       "</table>\n",
       "</div>"
      ],
      "text/plain": [
       "            userID          deviceID\n",
       "0  190215000014037  5e34bdd5266ff7c6\n",
       "1  190313000016148  1761c1b0d746b8e8\n",
       "2  190318000000574  14e0d55eb848e527\n",
       "3  190722000001381  1f6b129e317e35fa\n",
       "4  191016219002578  0e2fa6b350f0f020"
      ]
     },
     "execution_count": 162,
     "metadata": {},
     "output_type": "execute_result"
    }
   ],
   "source": [
    "userID_deviceID.head()"
   ]
  },
  {
   "cell_type": "code",
   "execution_count": 164,
   "metadata": {},
   "outputs": [
    {
     "data": {
      "text/html": [
       "<div>\n",
       "<style scoped>\n",
       "    .dataframe tbody tr th:only-of-type {\n",
       "        vertical-align: middle;\n",
       "    }\n",
       "\n",
       "    .dataframe tbody tr th {\n",
       "        vertical-align: top;\n",
       "    }\n",
       "\n",
       "    .dataframe thead th {\n",
       "        text-align: right;\n",
       "    }\n",
       "</style>\n",
       "<table border=\"1\" class=\"dataframe\">\n",
       "  <thead>\n",
       "    <tr style=\"text-align: right;\">\n",
       "      <th></th>\n",
       "      <th>userID</th>\n",
       "      <th>deviceID</th>\n",
       "    </tr>\n",
       "  </thead>\n",
       "  <tbody>\n",
       "    <tr>\n",
       "      <th>0</th>\n",
       "      <td>190215000014037</td>\n",
       "      <td>5e34bdd5266ff7c6</td>\n",
       "    </tr>\n",
       "    <tr>\n",
       "      <th>1</th>\n",
       "      <td>190313000016148</td>\n",
       "      <td>1761c1b0d746b8e8</td>\n",
       "    </tr>\n",
       "    <tr>\n",
       "      <th>2</th>\n",
       "      <td>190318000000574</td>\n",
       "      <td>14e0d55eb848e527</td>\n",
       "    </tr>\n",
       "    <tr>\n",
       "      <th>3</th>\n",
       "      <td>190722000001381</td>\n",
       "      <td>1f6b129e317e35fa</td>\n",
       "    </tr>\n",
       "    <tr>\n",
       "      <th>4</th>\n",
       "      <td>191016219002578</td>\n",
       "      <td>0e2fa6b350f0f020</td>\n",
       "    </tr>\n",
       "    <tr>\n",
       "      <th>...</th>\n",
       "      <td>...</td>\n",
       "      <td>...</td>\n",
       "    </tr>\n",
       "    <tr>\n",
       "      <th>218388</th>\n",
       "      <td>190502000001734</td>\n",
       "      <td>09c66ac813712993</td>\n",
       "    </tr>\n",
       "    <tr>\n",
       "      <th>218389</th>\n",
       "      <td>190801000001894</td>\n",
       "      <td>e11920dbaf0f9d2</td>\n",
       "    </tr>\n",
       "    <tr>\n",
       "      <th>218390</th>\n",
       "      <td>191031382014740</td>\n",
       "      <td>25715da6516d4853</td>\n",
       "    </tr>\n",
       "    <tr>\n",
       "      <th>218391</th>\n",
       "      <td>191225960015857</td>\n",
       "      <td>a33aa775c5c484b8</td>\n",
       "    </tr>\n",
       "    <tr>\n",
       "      <th>218392</th>\n",
       "      <td>191015135000522</td>\n",
       "      <td>3347785b-a6ab-4cf8-8223-794fb5e4ab8f</td>\n",
       "    </tr>\n",
       "  </tbody>\n",
       "</table>\n",
       "<p>218393 rows × 2 columns</p>\n",
       "</div>"
      ],
      "text/plain": [
       "                 userID                              deviceID\n",
       "0       190215000014037                      5e34bdd5266ff7c6\n",
       "1       190313000016148                      1761c1b0d746b8e8\n",
       "2       190318000000574                      14e0d55eb848e527\n",
       "3       190722000001381                      1f6b129e317e35fa\n",
       "4       191016219002578                      0e2fa6b350f0f020\n",
       "...                 ...                                   ...\n",
       "218388  190502000001734                      09c66ac813712993\n",
       "218389  190801000001894                       e11920dbaf0f9d2\n",
       "218390  191031382014740                      25715da6516d4853\n",
       "218391  191225960015857                      a33aa775c5c484b8\n",
       "218392  191015135000522  3347785b-a6ab-4cf8-8223-794fb5e4ab8f\n",
       "\n",
       "[218393 rows x 2 columns]"
      ]
     },
     "execution_count": 164,
     "metadata": {},
     "output_type": "execute_result"
    }
   ],
   "source": [
    "userID_deviceID"
   ]
  },
  {
   "cell_type": "code",
   "execution_count": 171,
   "metadata": {},
   "outputs": [],
   "source": [
    "userID_deviceID.dropna(inplace=True)"
   ]
  },
  {
   "cell_type": "code",
   "execution_count": 172,
   "metadata": {},
   "outputs": [],
   "source": [
    "device_list = list(set(userID_deviceID['deviceID'].tolist()))"
   ]
  },
  {
   "cell_type": "code",
   "execution_count": 173,
   "metadata": {},
   "outputs": [],
   "source": [
    "device_df = pd.DataFrame(device_list, columns=['deviceid'])"
   ]
  },
  {
   "cell_type": "code",
   "execution_count": 174,
   "metadata": {},
   "outputs": [
    {
     "data": {
      "text/html": [
       "<div>\n",
       "<style scoped>\n",
       "    .dataframe tbody tr th:only-of-type {\n",
       "        vertical-align: middle;\n",
       "    }\n",
       "\n",
       "    .dataframe tbody tr th {\n",
       "        vertical-align: top;\n",
       "    }\n",
       "\n",
       "    .dataframe thead th {\n",
       "        text-align: right;\n",
       "    }\n",
       "</style>\n",
       "<table border=\"1\" class=\"dataframe\">\n",
       "  <thead>\n",
       "    <tr style=\"text-align: right;\">\n",
       "      <th></th>\n",
       "      <th>deviceid</th>\n",
       "    </tr>\n",
       "  </thead>\n",
       "  <tbody>\n",
       "    <tr>\n",
       "      <th>0</th>\n",
       "      <td>83f57f9adf980a8b</td>\n",
       "    </tr>\n",
       "    <tr>\n",
       "      <th>1</th>\n",
       "      <td>5c690c2e-bba6-4809-9b7c-16cd1eba594c</td>\n",
       "    </tr>\n",
       "    <tr>\n",
       "      <th>2</th>\n",
       "      <td>d6ae97e7544af02c</td>\n",
       "    </tr>\n",
       "    <tr>\n",
       "      <th>3</th>\n",
       "      <td>1440c9d927677c16</td>\n",
       "    </tr>\n",
       "    <tr>\n",
       "      <th>4</th>\n",
       "      <td>e63c23744cba97f1</td>\n",
       "    </tr>\n",
       "    <tr>\n",
       "      <th>...</th>\n",
       "      <td>...</td>\n",
       "    </tr>\n",
       "    <tr>\n",
       "      <th>137298</th>\n",
       "      <td>13e0d55eb97ae356</td>\n",
       "    </tr>\n",
       "    <tr>\n",
       "      <th>137299</th>\n",
       "      <td>78b9dd0ea1c6ba1d</td>\n",
       "    </tr>\n",
       "    <tr>\n",
       "      <th>137300</th>\n",
       "      <td>deff485680086f67</td>\n",
       "    </tr>\n",
       "    <tr>\n",
       "      <th>137301</th>\n",
       "      <td>547408d5cd92bd65</td>\n",
       "    </tr>\n",
       "    <tr>\n",
       "      <th>137302</th>\n",
       "      <td>fd5dfd2b-f75e-4a6e-970f-2ef8e492a094</td>\n",
       "    </tr>\n",
       "  </tbody>\n",
       "</table>\n",
       "<p>137303 rows × 1 columns</p>\n",
       "</div>"
      ],
      "text/plain": [
       "                                    deviceid\n",
       "0                           83f57f9adf980a8b\n",
       "1       5c690c2e-bba6-4809-9b7c-16cd1eba594c\n",
       "2                           d6ae97e7544af02c\n",
       "3                           1440c9d927677c16\n",
       "4                           e63c23744cba97f1\n",
       "...                                      ...\n",
       "137298                      13e0d55eb97ae356\n",
       "137299                      78b9dd0ea1c6ba1d\n",
       "137300                      deff485680086f67\n",
       "137301                      547408d5cd92bd65\n",
       "137302  fd5dfd2b-f75e-4a6e-970f-2ef8e492a094\n",
       "\n",
       "[137303 rows x 1 columns]"
      ]
     },
     "execution_count": 174,
     "metadata": {},
     "output_type": "execute_result"
    }
   ],
   "source": [
    "device_df"
   ]
  },
  {
   "cell_type": "code",
   "execution_count": 175,
   "metadata": {},
   "outputs": [],
   "source": [
    "def create_device_code(row):\n",
    "    return {\n",
    "        '_key': str(row['deviceid'])\n",
    "    }"
   ]
  },
  {
   "cell_type": "code",
   "execution_count": 176,
   "metadata": {},
   "outputs": [],
   "source": [
    "device_df['arangoCode'] = device_df.apply(create_device_code , 1)"
   ]
  },
  {
   "cell_type": "code",
   "execution_count": 177,
   "metadata": {},
   "outputs": [],
   "source": [
    "device_code_list = device_df['arangoCode'].tolist()"
   ]
  },
  {
   "cell_type": "code",
   "execution_count": 178,
   "metadata": {},
   "outputs": [],
   "source": [
    "with open('json/graph0_device.json', 'w') as f:\n",
    "    json.dump(device_code_list, f)"
   ]
  },
  {
   "cell_type": "code",
   "execution_count": 179,
   "metadata": {},
   "outputs": [],
   "source": [
    "# Convert json to jsonl\n",
    "!jq -c \".[]\" json/graph0_device.json > jsonl/graph0_device.jsonl"
   ]
  },
  {
   "cell_type": "code",
   "execution_count": 180,
   "metadata": {},
   "outputs": [
    {
     "name": "stdout",
     "output_type": "stream",
     "text": [
      "Connected to ArangoDB 'http+tcp://127.0.0.1:8529, version: 3.7.2-1, database: '_system', username: 'root'\n",
      "----------------------------------------\n",
      "database:               _system\n",
      "collection:             graph0_device\n",
      "create:                 yes\n",
      "create database:        no\n",
      "source filename:        jsonl/graph0_device.jsonl\n",
      "file type:              jsonl\n",
      "threads:                16\n",
      "connect timeout:        5\n",
      "request timeout:        1200\n",
      "----------------------------------------\n",
      "Starting JSON import...\n",
      "\u001b[0m2020-10-04T13:54:22Z [93125] INFO [9ddf3] processed 131068 bytes (3%) of input file\n",
      "\u001b[0m\u001b[0m2020-10-04T13:54:22Z [93125] INFO [9ddf3] processed 262136 bytes (6%) of input file\n",
      "\u001b[0m\u001b[0m2020-10-04T13:54:22Z [93125] INFO [9ddf3] processed 393204 bytes (9%) of input file\n",
      "\u001b[0m\u001b[0m2020-10-04T13:54:22Z [93125] INFO [9ddf3] processed 524272 bytes (12%) of input file\n",
      "\u001b[0m\u001b[0m2020-10-04T13:54:22Z [93125] INFO [9ddf3] processed 655340 bytes (15%) of input file\n",
      "\u001b[0m\u001b[0m2020-10-04T13:54:22Z [93125] INFO [9ddf3] processed 786408 bytes (18%) of input file\n",
      "\u001b[0m\u001b[0m2020-10-04T13:54:22Z [93125] INFO [9ddf3] processed 917476 bytes (21%) of input file\n",
      "\u001b[0m\u001b[0m2020-10-04T13:54:22Z [93125] INFO [9ddf3] processed 1048544 bytes (24%) of input file\n",
      "\u001b[0m\u001b[0m2020-10-04T13:54:22Z [93125] INFO [9ddf3] processed 1179612 bytes (27%) of input file\n",
      "\u001b[0m\u001b[0m2020-10-04T13:54:22Z [93125] INFO [9ddf3] processed 1310680 bytes (30%) of input file\n",
      "\u001b[0m\u001b[0m2020-10-04T13:54:22Z [93125] INFO [9ddf3] processed 1441748 bytes (33%) of input file\n",
      "\u001b[0m\u001b[0m2020-10-04T13:54:22Z [93125] INFO [9ddf3] processed 1572816 bytes (36%) of input file\n",
      "\u001b[0m\u001b[0m2020-10-04T13:54:22Z [93125] INFO [9ddf3] processed 1703884 bytes (39%) of input file\n",
      "\u001b[0m\u001b[0m2020-10-04T13:54:22Z [93125] INFO [9ddf3] processed 1834952 bytes (42%) of input file\n",
      "\u001b[0m\u001b[0m2020-10-04T13:54:22Z [93125] INFO [9ddf3] processed 1966020 bytes (45%) of input file\n",
      "\u001b[0m\u001b[0m2020-10-04T13:54:22Z [93125] INFO [9ddf3] processed 2097088 bytes (48%) of input file\n",
      "\u001b[0m\u001b[0m2020-10-04T13:54:22Z [93125] INFO [9ddf3] processed 2228156 bytes (51%) of input file\n",
      "\u001b[0m\u001b[0m2020-10-04T13:54:22Z [93125] INFO [9ddf3] processed 2359224 bytes (54%) of input file\n",
      "\u001b[0m\u001b[0m2020-10-04T13:54:22Z [93125] INFO [9ddf3] processed 2490292 bytes (57%) of input file\n",
      "\u001b[0m\u001b[0m2020-10-04T13:54:22Z [93125] INFO [9ddf3] processed 2621360 bytes (60%) of input file\n",
      "\u001b[0m\u001b[0m2020-10-04T13:54:22Z [93125] INFO [9ddf3] processed 2752428 bytes (63%) of input file\n",
      "\u001b[0m\u001b[0m2020-10-04T13:54:22Z [93125] INFO [9ddf3] processed 2883496 bytes (66%) of input file\n",
      "\u001b[0m\u001b[0m2020-10-04T13:54:22Z [93125] INFO [9ddf3] processed 3014564 bytes (69%) of input file\n",
      "\u001b[0m\u001b[0m2020-10-04T13:54:22Z [93125] INFO [9ddf3] processed 3145632 bytes (72%) of input file\n",
      "\u001b[0m\u001b[0m2020-10-04T13:54:22Z [93125] INFO [9ddf3] processed 3276700 bytes (75%) of input file\n",
      "\u001b[0m\u001b[0m2020-10-04T13:54:22Z [93125] INFO [9ddf3] processed 3407768 bytes (78%) of input file\n",
      "\u001b[0m\u001b[0m2020-10-04T13:54:22Z [93125] INFO [9ddf3] processed 3538836 bytes (81%) of input file\n",
      "\u001b[0m\u001b[0m2020-10-04T13:54:22Z [93125] INFO [9ddf3] processed 3669904 bytes (84%) of input file\n",
      "\u001b[0m\u001b[0m2020-10-04T13:54:22Z [93125] INFO [9ddf3] processed 3800972 bytes (87%) of input file\n",
      "\u001b[0m\u001b[0m2020-10-04T13:54:22Z [93125] INFO [9ddf3] processed 3932040 bytes (90%) of input file\n",
      "\u001b[0m\u001b[0m2020-10-04T13:54:22Z [93125] INFO [9ddf3] processed 4063108 bytes (93%) of input file\n",
      "\u001b[0m\u001b[0m2020-10-04T13:54:22Z [93125] INFO [9ddf3] processed 4194176 bytes (96%) of input file\n",
      "\u001b[0m\u001b[0m2020-10-04T13:54:22Z [93125] INFO [9ddf3] processed 4325244 bytes (99%) of input file\n",
      "\u001b[0m\u001b[33m2020-10-04T13:54:23Z [93125] WARNING [e5a29] at position 33500: creating document failed with error 'illegal document key', offending document: {\"_key\":\"22a1c832df60542cư\"}\n",
      "\u001b[0m\n",
      "created:          137302\n",
      "warnings/errors:  1\n",
      "updated/replaced: 0\n",
      "ignored:          0\n"
     ]
    }
   ],
   "source": [
    "!arangoimport --server.password='ngph'  --create-collection true --collection graph0_device --type jsonl --file \"jsonl/graph0_device.jsonl\" --progress true --threads 16"
   ]
  },
  {
   "cell_type": "code",
   "execution_count": 84,
   "metadata": {},
   "outputs": [
    {
     "data": {
      "text/html": [
       "<div>\n",
       "<style scoped>\n",
       "    .dataframe tbody tr th:only-of-type {\n",
       "        vertical-align: middle;\n",
       "    }\n",
       "\n",
       "    .dataframe tbody tr th {\n",
       "        vertical-align: top;\n",
       "    }\n",
       "\n",
       "    .dataframe thead th {\n",
       "        text-align: right;\n",
       "    }\n",
       "</style>\n",
       "<table border=\"1\" class=\"dataframe\">\n",
       "  <thead>\n",
       "    <tr style=\"text-align: right;\">\n",
       "      <th></th>\n",
       "      <th>userID</th>\n",
       "      <th>deviceID</th>\n",
       "    </tr>\n",
       "  </thead>\n",
       "  <tbody>\n",
       "    <tr>\n",
       "      <th>40512</th>\n",
       "      <td>191022503001390</td>\n",
       "      <td>22a1c832df60542cư</td>\n",
       "    </tr>\n",
       "    <tr>\n",
       "      <th>167458</th>\n",
       "      <td>191022306003399</td>\n",
       "      <td>22a1c832df60542cư</td>\n",
       "    </tr>\n",
       "  </tbody>\n",
       "</table>\n",
       "</div>"
      ],
      "text/plain": [
       "                 userID           deviceID\n",
       "40512   191022503001390  22a1c832df60542cư\n",
       "167458  191022306003399  22a1c832df60542cư"
      ]
     },
     "execution_count": 84,
     "metadata": {},
     "output_type": "execute_result"
    }
   ],
   "source": [
    "userID_deviceID.loc[userID_deviceID['deviceID'] == '22a1c832df60542cư']"
   ]
  },
  {
   "cell_type": "markdown",
   "metadata": {},
   "source": [
    "# UserID_AccountID"
   ]
  },
  {
   "cell_type": "code",
   "execution_count": 127,
   "metadata": {},
   "outputs": [
    {
     "data": {
      "text/plain": [
       "False    10753\n",
       "dtype: int64"
      ]
     },
     "execution_count": 127,
     "metadata": {},
     "output_type": "execute_result"
    }
   ],
   "source": [
    "userID_accountID.duplicated().value_counts()"
   ]
  },
  {
   "cell_type": "code",
   "execution_count": 128,
   "metadata": {},
   "outputs": [],
   "source": [
    "def create_userid_accountid_code(row):\n",
    "    return {\n",
    "        '_key': f\"{str(row['userID'])}_{str(row['accountID'])}\",\n",
    "        '_from': 'graph0_user/' + str(row['userID']),\n",
    "        '_to': 'graph0_account/' + str(row['accountID'])\n",
    "    }"
   ]
  },
  {
   "cell_type": "code",
   "execution_count": 129,
   "metadata": {},
   "outputs": [],
   "source": [
    "userID_accountID['arangoCode'] = userID_accountID.apply(create_userid_accountid_code, 1)"
   ]
  },
  {
   "cell_type": "code",
   "execution_count": 130,
   "metadata": {},
   "outputs": [],
   "source": [
    "with open('json/graph0_user_account.json', 'w') as f:\n",
    "    json.dump(userID_accountID['arangoCode'].tolist(), f)"
   ]
  },
  {
   "cell_type": "code",
   "execution_count": 131,
   "metadata": {},
   "outputs": [],
   "source": [
    "# Convert json to jsonl\n",
    "!jq -c \".[]\" json/graph0_user_account.json > jsonl/graph0_user_account.jsonl"
   ]
  },
  {
   "cell_type": "code",
   "execution_count": 132,
   "metadata": {},
   "outputs": [
    {
     "name": "stdout",
     "output_type": "stream",
     "text": [
      "Connected to ArangoDB 'http+tcp://127.0.0.1:8529, version: 3.7.2-1, database: '_system', username: 'root'\n",
      "----------------------------------------\n",
      "database:               _system\n",
      "collection:             graph0_user_account\n",
      "create:                 yes\n",
      "create database:        no\n",
      "source filename:        jsonl/graph0_user_account.jsonl\n",
      "file type:              jsonl\n",
      "threads:                16\n",
      "connect timeout:        5\n",
      "request timeout:        1200\n",
      "----------------------------------------\n",
      "Starting JSON import...\n",
      "\u001b[0m2020-10-04T10:42:00Z [53917] INFO [9ddf3] processed 65534 bytes (3%) of input file\n",
      "\u001b[0m\u001b[0m2020-10-04T10:42:00Z [53917] INFO [9ddf3] processed 131068 bytes (8%) of input file\n",
      "\u001b[0m\u001b[0m2020-10-04T10:42:00Z [53917] INFO [9ddf3] processed 196602 bytes (13%) of input file\n",
      "\u001b[0m\u001b[0m2020-10-04T10:42:00Z [53917] INFO [9ddf3] processed 262136 bytes (18%) of input file\n",
      "\u001b[0m\u001b[0m2020-10-04T10:42:00Z [53917] INFO [9ddf3] processed 327670 bytes (23%) of input file\n",
      "\u001b[0m\u001b[0m2020-10-04T10:42:00Z [53917] INFO [9ddf3] processed 393204 bytes (28%) of input file\n",
      "\u001b[0m\u001b[0m2020-10-04T10:42:00Z [53917] INFO [9ddf3] processed 425971 bytes (33%) of input file\n",
      "\u001b[0m\u001b[0m2020-10-04T10:42:00Z [53917] INFO [9ddf3] processed 491505 bytes (36%) of input file\n",
      "\u001b[0m\u001b[0m2020-10-04T10:42:00Z [53917] INFO [9ddf3] processed 557039 bytes (41%) of input file\n",
      "\u001b[0m\u001b[0m2020-10-04T10:42:00Z [53917] INFO [9ddf3] processed 622573 bytes (46%) of input file\n",
      "\u001b[0m\u001b[0m2020-10-04T10:42:00Z [53917] INFO [9ddf3] processed 688107 bytes (51%) of input file\n",
      "\u001b[0m\u001b[0m2020-10-04T10:42:00Z [53917] INFO [9ddf3] processed 753641 bytes (56%) of input file\n",
      "\u001b[0m\u001b[0m2020-10-04T10:42:00Z [53917] INFO [9ddf3] processed 819175 bytes (61%) of input file\n",
      "\u001b[0m\u001b[0m2020-10-04T10:42:00Z [53917] INFO [9ddf3] processed 851942 bytes (66%) of input file\n",
      "\u001b[0m\u001b[0m2020-10-04T10:42:00Z [53917] INFO [9ddf3] processed 917476 bytes (69%) of input file\n",
      "\u001b[0m\u001b[0m2020-10-04T10:42:00Z [53917] INFO [9ddf3] processed 983010 bytes (74%) of input file\n",
      "\u001b[0m\u001b[0m2020-10-04T10:42:00Z [53917] INFO [9ddf3] processed 1048544 bytes (79%) of input file\n",
      "\u001b[0m\u001b[0m2020-10-04T10:42:00Z [53917] INFO [9ddf3] processed 1114078 bytes (84%) of input file\n",
      "\u001b[0m\u001b[0m2020-10-04T10:42:00Z [53917] INFO [9ddf3] processed 1179612 bytes (89%) of input file\n",
      "\u001b[0m\u001b[0m2020-10-04T10:42:00Z [53917] INFO [9ddf3] processed 1245146 bytes (94%) of input file\n",
      "\u001b[0m\u001b[0m2020-10-04T10:42:00Z [53917] INFO [9ddf3] processed 1277913 bytes (99%) of input file\n",
      "\u001b[0m\n",
      "created:          10753\n",
      "warnings/errors:  0\n",
      "updated/replaced: 0\n",
      "ignored:          0\n"
     ]
    }
   ],
   "source": [
    "!arangoimport --server.password=\"ngph\" --create-collection true --create-collection-type edge --collection graph0_user_account  --type jsonl --file \"jsonl/graph0_user_account.jsonl\" --progress true --threads 16"
   ]
  },
  {
   "cell_type": "markdown",
   "metadata": {},
   "source": [
    "# User Card"
   ]
  },
  {
   "cell_type": "code",
   "execution_count": 133,
   "metadata": {},
   "outputs": [
    {
     "data": {
      "text/plain": [
       "False    51131\n",
       "dtype: int64"
      ]
     },
     "execution_count": 133,
     "metadata": {},
     "output_type": "execute_result"
    }
   ],
   "source": [
    "userID_cardID.duplicated().value_counts()"
   ]
  },
  {
   "cell_type": "code",
   "execution_count": 134,
   "metadata": {},
   "outputs": [],
   "source": [
    "def create_userid_cardid_code(row):\n",
    "    return {\n",
    "        '_key': f\"{str(row['userID'])}_{str(row['cardID'])}\",\n",
    "        '_from': 'graph0_user/' + str(row['userID']),\n",
    "        '_to': 'graph0_card/' + str(row['cardID'])\n",
    "    }"
   ]
  },
  {
   "cell_type": "code",
   "execution_count": 135,
   "metadata": {},
   "outputs": [],
   "source": [
    "userID_cardID['arangoCode'] = userID_cardID.apply(create_userid_cardid_code, 1)"
   ]
  },
  {
   "cell_type": "code",
   "execution_count": 136,
   "metadata": {},
   "outputs": [],
   "source": [
    "with open('json/graph0_user_card.json', 'w') as f:\n",
    "    json.dump(userID_cardID['arangoCode'].tolist(), f)"
   ]
  },
  {
   "cell_type": "code",
   "execution_count": 137,
   "metadata": {},
   "outputs": [],
   "source": [
    "# Convert json to jsonl\n",
    "!jq -c \".[]\" json/graph0_user_card.json > jsonl/graph0_user_card.jsonl"
   ]
  },
  {
   "cell_type": "code",
   "execution_count": 138,
   "metadata": {},
   "outputs": [
    {
     "name": "stdout",
     "output_type": "stream",
     "text": [
      "Connected to ArangoDB 'http+tcp://127.0.0.1:8529, version: 3.7.2-1, database: '_system', username: 'root'\n",
      "----------------------------------------\n",
      "database:               _system\n",
      "collection:             graph0_user_card\n",
      "create:                 yes\n",
      "create database:        no\n",
      "source filename:        jsonl/graph0_user_card.jsonl\n",
      "file type:              jsonl\n",
      "threads:                16\n",
      "connect timeout:        5\n",
      "request timeout:        1200\n",
      "----------------------------------------\n",
      "Starting JSON import...\n",
      "\u001b[0m2020-10-04T10:42:06Z [53945] INFO [9ddf3] processed 196602 bytes (3%) of input file\n",
      "\u001b[0m\u001b[0m2020-10-04T10:42:06Z [53945] INFO [9ddf3] processed 360437 bytes (6%) of input file\n",
      "\u001b[0m\u001b[0m2020-10-04T10:42:06Z [53945] INFO [9ddf3] processed 557039 bytes (9%) of input file\n",
      "\u001b[0m\u001b[0m2020-10-04T10:42:06Z [53945] INFO [9ddf3] processed 720874 bytes (12%) of input file\n",
      "\u001b[0m\u001b[0m2020-10-04T10:42:06Z [53945] INFO [9ddf3] processed 917476 bytes (15%) of input file\n",
      "\u001b[0m\u001b[0m2020-10-04T10:42:06Z [53945] INFO [9ddf3] processed 1081311 bytes (18%) of input file\n",
      "\u001b[0m\u001b[0m2020-10-04T10:42:06Z [53945] INFO [9ddf3] processed 1277913 bytes (21%) of input file\n",
      "\u001b[0m\u001b[0m2020-10-04T10:42:06Z [53945] INFO [9ddf3] processed 1441748 bytes (24%) of input file\n",
      "\u001b[0m\u001b[0m2020-10-04T10:42:06Z [53945] INFO [9ddf3] processed 1638350 bytes (27%) of input file\n",
      "\u001b[0m\u001b[0m2020-10-04T10:42:06Z [53945] INFO [9ddf3] processed 1802185 bytes (30%) of input file\n",
      "\u001b[0m\u001b[0m2020-10-04T10:42:06Z [53945] INFO [9ddf3] processed 1998787 bytes (33%) of input file\n",
      "\u001b[0m\u001b[0m2020-10-04T10:42:06Z [53945] INFO [9ddf3] processed 2162622 bytes (36%) of input file\n",
      "\u001b[0m\u001b[0m2020-10-04T10:42:06Z [53945] INFO [9ddf3] processed 2359224 bytes (39%) of input file\n",
      "\u001b[0m\u001b[0m2020-10-04T10:42:06Z [53945] INFO [9ddf3] processed 2523059 bytes (42%) of input file\n",
      "\u001b[0m\u001b[0m2020-10-04T10:42:06Z [53945] INFO [9ddf3] processed 2719661 bytes (45%) of input file\n",
      "\u001b[0m\u001b[0m2020-10-04T10:42:06Z [53945] INFO [9ddf3] processed 2883496 bytes (48%) of input file\n",
      "\u001b[0m\u001b[0m2020-10-04T10:42:06Z [53945] INFO [9ddf3] processed 3080098 bytes (51%) of input file\n",
      "\u001b[0m\u001b[0m2020-10-04T10:42:06Z [53945] INFO [9ddf3] processed 3243933 bytes (54%) of input file\n",
      "\u001b[0m\u001b[0m2020-10-04T10:42:06Z [53945] INFO [9ddf3] processed 3440535 bytes (57%) of input file\n",
      "\u001b[0m\u001b[0m2020-10-04T10:42:06Z [53945] INFO [9ddf3] processed 3604370 bytes (60%) of input file\n",
      "\u001b[0m\u001b[0m2020-10-04T10:42:06Z [53945] INFO [9ddf3] processed 3800972 bytes (63%) of input file\n",
      "\u001b[0m\u001b[0m2020-10-04T10:42:06Z [53945] INFO [9ddf3] processed 3964807 bytes (66%) of input file\n",
      "\u001b[0m\u001b[0m2020-10-04T10:42:06Z [53945] INFO [9ddf3] processed 4128642 bytes (69%) of input file\n",
      "\u001b[0m\u001b[0m2020-10-04T10:42:06Z [53945] INFO [9ddf3] processed 4325244 bytes (72%) of input file\n",
      "\u001b[0m\u001b[0m2020-10-04T10:42:06Z [53945] INFO [9ddf3] processed 4489079 bytes (75%) of input file\n",
      "\u001b[0m\u001b[0m2020-10-04T10:42:06Z [53945] INFO [9ddf3] processed 4685681 bytes (78%) of input file\n",
      "\u001b[0m\u001b[0m2020-10-04T10:42:06Z [53945] INFO [9ddf3] processed 4849516 bytes (81%) of input file\n",
      "\u001b[0m\u001b[0m2020-10-04T10:42:06Z [53945] INFO [9ddf3] processed 5046118 bytes (84%) of input file\n",
      "\u001b[0m\u001b[0m2020-10-04T10:42:06Z [53945] INFO [9ddf3] processed 5209953 bytes (87%) of input file\n",
      "\u001b[0m\u001b[0m2020-10-04T10:42:06Z [53945] INFO [9ddf3] processed 5406555 bytes (90%) of input file\n",
      "\u001b[0m\u001b[0m2020-10-04T10:42:06Z [53945] INFO [9ddf3] processed 5570390 bytes (93%) of input file\n",
      "\u001b[0m\u001b[0m2020-10-04T10:42:06Z [53945] INFO [9ddf3] processed 5766992 bytes (96%) of input file\n",
      "\u001b[0m\u001b[0m2020-10-04T10:42:06Z [53945] INFO [9ddf3] processed 5930827 bytes (99%) of input file\n",
      "\u001b[0m\n",
      "created:          51131\n",
      "warnings/errors:  0\n",
      "updated/replaced: 0\n",
      "ignored:          0\n"
     ]
    }
   ],
   "source": [
    "!arangoimport --server.password=\"ngph\" --create-collection true --create-collection-type edge --collection graph0_user_card  --type jsonl --file \"jsonl/graph0_user_card.jsonl\" --progress true --threads 16"
   ]
  },
  {
   "cell_type": "markdown",
   "metadata": {},
   "source": [
    "# User Device"
   ]
  },
  {
   "cell_type": "code",
   "execution_count": 181,
   "metadata": {},
   "outputs": [
    {
     "data": {
      "text/plain": [
       "False    218118\n",
       "dtype: int64"
      ]
     },
     "execution_count": 181,
     "metadata": {},
     "output_type": "execute_result"
    }
   ],
   "source": [
    "userID_deviceID.duplicated().value_counts()"
   ]
  },
  {
   "cell_type": "code",
   "execution_count": 182,
   "metadata": {},
   "outputs": [],
   "source": [
    "def create_userid_deviceid_code(row):\n",
    "    return {\n",
    "        '_key': f\"{str(row['userID'])}_{str(row['deviceID'])}\",\n",
    "        '_from': 'graph0_user/' + str(row['userID']),\n",
    "        '_to': 'graph0_device/' + str(row['deviceID'])\n",
    "    }"
   ]
  },
  {
   "cell_type": "code",
   "execution_count": 183,
   "metadata": {},
   "outputs": [],
   "source": [
    "userID_deviceID['arangoCode'] = userID_deviceID.apply(create_userid_deviceid_code, 1)"
   ]
  },
  {
   "cell_type": "code",
   "execution_count": 184,
   "metadata": {},
   "outputs": [],
   "source": [
    "with open('json/graph0_user_device.json', 'w') as f:\n",
    "    json.dump(userID_deviceID['arangoCode'].tolist(), f)"
   ]
  },
  {
   "cell_type": "code",
   "execution_count": 185,
   "metadata": {},
   "outputs": [],
   "source": [
    "# Convert json to jsonl\n",
    "!jq -c \".[]\" json/graph0_user_device.json > jsonl/graph0_user_device.jsonl"
   ]
  },
  {
   "cell_type": "code",
   "execution_count": 186,
   "metadata": {},
   "outputs": [
    {
     "name": "stdout",
     "output_type": "stream",
     "text": [
      "Connected to ArangoDB 'http+tcp://127.0.0.1:8529, version: 3.7.2-1, database: '_system', username: 'root'\n",
      "----------------------------------------\n",
      "database:               _system\n",
      "collection:             graph0_user_device\n",
      "create:                 yes\n",
      "create database:        no\n",
      "source filename:        jsonl/graph0_user_device.jsonl\n",
      "file type:              jsonl\n",
      "threads:                16\n",
      "connect timeout:        5\n",
      "request timeout:        1200\n",
      "----------------------------------------\n",
      "Starting JSON import...\n",
      "\u001b[0m2020-10-04T13:54:45Z [93185] INFO [9ddf3] processed 851942 bytes (3%) of input file\n",
      "\u001b[0m\u001b[0m2020-10-04T13:54:45Z [93185] INFO [9ddf3] processed 1703884 bytes (6%) of input file\n",
      "\u001b[0m\u001b[0m2020-10-04T13:54:45Z [93185] INFO [9ddf3] processed 2523059 bytes (9%) of input file\n",
      "\u001b[0m\u001b[0m2020-10-04T13:54:45Z [93185] INFO [9ddf3] processed 3375001 bytes (12%) of input file\n",
      "\u001b[0m\u001b[0m2020-10-04T13:54:45Z [93185] INFO [9ddf3] processed 4194176 bytes (15%) of input file\n",
      "\u001b[0m\u001b[0m2020-10-04T13:54:45Z [93185] INFO [9ddf3] processed 5046118 bytes (18%) of input file\n",
      "\u001b[0m\u001b[0m2020-10-04T13:54:45Z [93185] INFO [9ddf3] processed 5865293 bytes (21%) of input file\n",
      "\u001b[0m\u001b[0m2020-10-04T13:54:45Z [93185] INFO [9ddf3] processed 6717235 bytes (24%) of input file\n",
      "\u001b[0m\u001b[0m2020-10-04T13:54:45Z [93185] INFO [9ddf3] processed 7536410 bytes (27%) of input file\n",
      "\u001b[0m\u001b[0m2020-10-04T13:54:45Z [93185] INFO [9ddf3] processed 8388352 bytes (30%) of input file\n",
      "\u001b[0m\u001b[0m2020-10-04T13:54:45Z [93185] INFO [9ddf3] processed 9207527 bytes (33%) of input file\n",
      "\u001b[0m\u001b[0m2020-10-04T13:54:45Z [93185] INFO [9ddf3] processed 10059469 bytes (36%) of input file\n",
      "\u001b[0m\u001b[0m2020-10-04T13:54:45Z [93185] INFO [9ddf3] processed 10911411 bytes (39%) of input file\n",
      "\u001b[0m\u001b[0m2020-10-04T13:54:45Z [93185] INFO [9ddf3] processed 11730586 bytes (42%) of input file\n",
      "\u001b[0m\u001b[0m2020-10-04T13:54:45Z [93185] INFO [9ddf3] processed 12582528 bytes (45%) of input file\n",
      "\u001b[0m\u001b[0m2020-10-04T13:54:45Z [93185] INFO [9ddf3] processed 13401703 bytes (48%) of input file\n",
      "\u001b[0m\u001b[0m2020-10-04T13:54:45Z [93185] INFO [9ddf3] processed 14253645 bytes (51%) of input file\n",
      "\u001b[0m\u001b[0m2020-10-04T13:54:45Z [93185] INFO [9ddf3] processed 15072820 bytes (54%) of input file\n",
      "\u001b[0m\u001b[0m2020-10-04T13:54:45Z [93185] INFO [9ddf3] processed 15924762 bytes (57%) of input file\n",
      "\u001b[0m\u001b[0m2020-10-04T13:54:45Z [93185] INFO [9ddf3] processed 16743937 bytes (60%) of input file\n",
      "\u001b[0m\u001b[0m2020-10-04T13:54:45Z [93185] INFO [9ddf3] processed 17595879 bytes (63%) of input file\n",
      "\u001b[0m\u001b[0m2020-10-04T13:54:45Z [93185] INFO [9ddf3] processed 18415054 bytes (66%) of input file\n",
      "\u001b[0m\u001b[0m2020-10-04T13:54:46Z [93185] INFO [9ddf3] processed 19266996 bytes (69%) of input file\n",
      "\u001b[0m\u001b[0m2020-10-04T13:54:46Z [93185] INFO [9ddf3] processed 20086171 bytes (72%) of input file\n",
      "\u001b[0m\u001b[0m2020-10-04T13:54:46Z [93185] INFO [9ddf3] processed 20938113 bytes (75%) of input file\n",
      "\u001b[0m\u001b[0m2020-10-04T13:54:46Z [93185] INFO [9ddf3] processed 21790055 bytes (78%) of input file\n",
      "\u001b[0m\u001b[33m2020-10-04T13:54:46Z [93185] WARNING [e5a29] at position 7415: creating document failed with error 'illegal document key', offending document: {\"_key\":\"191022503001390_22a1c832df60542cư\",\"_from\":\"graph0_user/191022503001390\",\"_to\":\"graph0_device/22a1c832df60542cư\"}\n",
      "\u001b[0m\u001b[0m2020-10-04T13:54:46Z [93185] INFO [9ddf3] processed 22609230 bytes (81%) of input file\n",
      "\u001b[0m\u001b[0m2020-10-04T13:54:46Z [93185] INFO [9ddf3] processed 23461172 bytes (84%) of input file\n",
      "\u001b[0m\u001b[0m2020-10-04T13:54:46Z [93185] INFO [9ddf3] processed 24280347 bytes (87%) of input file\n",
      "\u001b[0m\u001b[0m2020-10-04T13:54:46Z [93185] INFO [9ddf3] processed 25132289 bytes (90%) of input file\n",
      "\u001b[0m\u001b[0m2020-10-04T13:54:46Z [93185] INFO [9ddf3] processed 25951464 bytes (93%) of input file\n",
      "\u001b[0m\u001b[0m2020-10-04T13:54:47Z [93185] INFO [9ddf3] processed 26803406 bytes (96%) of input file\n",
      "\u001b[0m\u001b[0m2020-10-04T13:54:47Z [93185] INFO [9ddf3] processed 27622581 bytes (99%) of input file\n",
      "\u001b[0m\u001b[33m2020-10-04T13:54:48Z [93185] WARNING [e5a29] at position 1188: creating document failed with error 'illegal document key', offending document: {\"_key\":\"191022306003399_22a1c832df60542cư\",\"_from\":\"graph0_user/191022306003399\",\"_to\":\"graph0_device/22a1c832df60542cư\"}\n",
      "\u001b[0m\n",
      "created:          218116\n",
      "warnings/errors:  2\n",
      "updated/replaced: 0\n",
      "ignored:          0\n"
     ]
    }
   ],
   "source": [
    "!arangoimport --server.password=\"ngph\" --create-collection true --create-collection-type edge --collection graph0_user_device  --type jsonl --file \"jsonl/graph0_user_device.jsonl\" --progress true --threads 16"
   ]
  },
  {
   "cell_type": "code",
   "execution_count": null,
   "metadata": {},
   "outputs": [],
   "source": []
  },
  {
   "cell_type": "code",
   "execution_count": 200,
   "metadata": {},
   "outputs": [],
   "source": [
    "main_db = pd.read_json('investigation/main_db.json')"
   ]
  },
  {
   "cell_type": "code",
   "execution_count": 195,
   "metadata": {},
   "outputs": [],
   "source": [
    "main_db_list = main_db[0].tolist()"
   ]
  },
  {
   "cell_type": "code",
   "execution_count": 9,
   "metadata": {},
   "outputs": [],
   "source": [
    "need_db = pd.read_json('investigation/need.json')"
   ]
  },
  {
   "cell_type": "code",
   "execution_count": 10,
   "metadata": {},
   "outputs": [],
   "source": [
    "need_db_list = need_db[0].tolist()"
   ]
  },
  {
   "cell_type": "code",
   "execution_count": 198,
   "metadata": {},
   "outputs": [
    {
     "data": {
      "text/plain": [
       "[]"
      ]
     },
     "execution_count": 198,
     "metadata": {},
     "output_type": "execute_result"
    }
   ],
   "source": [
    "list(set(main_db_list) & set(need_db_list))"
   ]
  },
  {
   "cell_type": "code",
   "execution_count": 202,
   "metadata": {},
   "outputs": [
    {
     "data": {
      "text/plain": [
       "['000081FB-CAE0-4DBE-8983-D54759750014',\n",
       " '0000B1B7-9075-487E-B363-0FF4AE8FF05C',\n",
       " '0000B625-66C9-4B23-8509-67B50D0737AE',\n",
       " '000103C2-C989-435C-8E5E-15A0D9E03199',\n",
       " '00017D00-6F9E-4956-AB4C-FEA04F5115F1']"
      ]
     },
     "execution_count": 202,
     "metadata": {},
     "output_type": "execute_result"
    }
   ],
   "source": [
    "main_db_list[:5]"
   ]
  },
  {
   "cell_type": "code",
   "execution_count": 203,
   "metadata": {},
   "outputs": [
    {
     "data": {
      "text/plain": [
       "['001D6670-4F80-42B6-B1AB-6D948BB70C79',\n",
       " '0021B9EF-1129-4AAE-BDA8-6BA52D3401F4',\n",
       " '00333317-0592-4EB7-A93F-58A32EC7D1C3',\n",
       " '0049DF9C-37F6-49FE-9641-FC2FC525BA1C',\n",
       " '0067245A-0F48-4E83-B50D-E5D081761DEE']"
      ]
     },
     "execution_count": 203,
     "metadata": {},
     "output_type": "execute_result"
    }
   ],
   "source": [
    "need_db_list[:5]"
   ]
  },
  {
   "cell_type": "code",
   "execution_count": 17,
   "metadata": {},
   "outputs": [],
   "source": [
    "links_df = pd.read_json('investigation/links.json')"
   ]
  },
  {
   "cell_type": "code",
   "execution_count": 18,
   "metadata": {},
   "outputs": [
    {
     "data": {
      "text/html": [
       "<div>\n",
       "<style scoped>\n",
       "    .dataframe tbody tr th:only-of-type {\n",
       "        vertical-align: middle;\n",
       "    }\n",
       "\n",
       "    .dataframe tbody tr th {\n",
       "        vertical-align: top;\n",
       "    }\n",
       "\n",
       "    .dataframe thead th {\n",
       "        text-align: right;\n",
       "    }\n",
       "</style>\n",
       "<table border=\"1\" class=\"dataframe\">\n",
       "  <thead>\n",
       "    <tr style=\"text-align: right;\">\n",
       "      <th></th>\n",
       "      <th>source</th>\n",
       "      <th>target</th>\n",
       "    </tr>\n",
       "  </thead>\n",
       "  <tbody>\n",
       "    <tr>\n",
       "      <th>0</th>\n",
       "      <td>191129565003782</td>\n",
       "      <td>65acb153c62cbe7e</td>\n",
       "    </tr>\n",
       "    <tr>\n",
       "      <th>1</th>\n",
       "      <td>191129565003782</td>\n",
       "      <td>916c42063aa907ef</td>\n",
       "    </tr>\n",
       "    <tr>\n",
       "      <th>2</th>\n",
       "      <td>191129565003782</td>\n",
       "      <td>605496a5d2507a6a</td>\n",
       "    </tr>\n",
       "    <tr>\n",
       "      <th>3</th>\n",
       "      <td>190802000002131</td>\n",
       "      <td>916c42063aa907ef</td>\n",
       "    </tr>\n",
       "    <tr>\n",
       "      <th>4</th>\n",
       "      <td>190802000009180</td>\n",
       "      <td>605496a5d2507a6a</td>\n",
       "    </tr>\n",
       "    <tr>\n",
       "      <th>...</th>\n",
       "      <td>...</td>\n",
       "      <td>...</td>\n",
       "    </tr>\n",
       "    <tr>\n",
       "      <th>125685</th>\n",
       "      <td>191103507003476</td>\n",
       "      <td>df79265076b950b3</td>\n",
       "    </tr>\n",
       "    <tr>\n",
       "      <th>125686</th>\n",
       "      <td>191218231020471</td>\n",
       "      <td>91640931b5452c85</td>\n",
       "    </tr>\n",
       "    <tr>\n",
       "      <th>125687</th>\n",
       "      <td>191223981004569</td>\n",
       "      <td>1daf950a03555030</td>\n",
       "    </tr>\n",
       "    <tr>\n",
       "      <th>125688</th>\n",
       "      <td>200726000000459</td>\n",
       "      <td>62027f889fd4858a</td>\n",
       "    </tr>\n",
       "    <tr>\n",
       "      <th>125689</th>\n",
       "      <td>200928000032086</td>\n",
       "      <td>94b62d49cd103b43</td>\n",
       "    </tr>\n",
       "  </tbody>\n",
       "</table>\n",
       "<p>125690 rows × 2 columns</p>\n",
       "</div>"
      ],
      "text/plain": [
       "                 source            target\n",
       "0       191129565003782  65acb153c62cbe7e\n",
       "1       191129565003782  916c42063aa907ef\n",
       "2       191129565003782  605496a5d2507a6a\n",
       "3       190802000002131  916c42063aa907ef\n",
       "4       190802000009180  605496a5d2507a6a\n",
       "...                 ...               ...\n",
       "125685  191103507003476  df79265076b950b3\n",
       "125686  191218231020471  91640931b5452c85\n",
       "125687  191223981004569  1daf950a03555030\n",
       "125688  200726000000459  62027f889fd4858a\n",
       "125689  200928000032086  94b62d49cd103b43\n",
       "\n",
       "[125690 rows x 2 columns]"
      ]
     },
     "execution_count": 18,
     "metadata": {},
     "output_type": "execute_result"
    }
   ],
   "source": [
    "links_df"
   ]
  },
  {
   "cell_type": "code",
   "execution_count": 22,
   "metadata": {},
   "outputs": [],
   "source": [
    "data = links_df.groupby('source').agg({'target': lambda x: len(set(x))}).sort_values('target', ascending=False)[:20]"
   ]
  },
  {
   "cell_type": "code",
   "execution_count": 23,
   "metadata": {},
   "outputs": [
    {
     "name": "stdout",
     "output_type": "stream",
     "text": [
      "                 target\n",
      "source                 \n",
      "181104000001278    1902\n",
      "170223000002289     803\n",
      "190222000001425     421\n",
      "190111000003775     386\n",
      "170925000026056     235\n",
      "180127000002704     126\n",
      "180127000003208      79\n",
      "190706000000459      65\n",
      "181221000000614      63\n",
      "190802000002131      63\n",
      "180120000000303      57\n",
      "190120000012242      46\n",
      "191015910006764      45\n",
      "191114162012219      36\n",
      "190122000000312      36\n",
      "190713000000270      35\n",
      "180330000006487      33\n",
      "191003066010659      31\n",
      "180916000000013      29\n",
      "190616000002098      28\n"
     ]
    }
   ],
   "source": [
    "print(repr(data))"
   ]
  },
  {
   "cell_type": "code",
   "execution_count": 27,
   "metadata": {},
   "outputs": [
    {
     "name": "stdout",
     "output_type": "stream",
     "text": [
      "+-----------------+------+\n",
      "| 181104000001278 | 1902 |\n",
      "+-----------------+------+\n",
      "| 170223000002289 |  803 |\n",
      "+-----------------+------+\n",
      "| 190222000001425 |  421 |\n",
      "+-----------------+------+\n",
      "| 190111000003775 |  386 |\n",
      "+-----------------+------+\n",
      "| 170925000026056 |  235 |\n",
      "+-----------------+------+\n",
      "| 180127000002704 |  126 |\n",
      "+-----------------+------+\n",
      "| 180127000003208 |   79 |\n",
      "+-----------------+------+\n",
      "| 190706000000459 |   65 |\n",
      "+-----------------+------+\n",
      "| 181221000000614 |   63 |\n",
      "+-----------------+------+\n",
      "| 190802000002131 |   63 |\n",
      "+-----------------+------+\n",
      "| 180120000000303 |   57 |\n",
      "+-----------------+------+\n",
      "| 190120000012242 |   46 |\n",
      "+-----------------+------+\n",
      "| 191015910006764 |   45 |\n",
      "+-----------------+------+\n",
      "| 191114162012219 |   36 |\n",
      "+-----------------+------+\n",
      "| 190122000000312 |   36 |\n",
      "+-----------------+------+\n",
      "| 190713000000270 |   35 |\n",
      "+-----------------+------+\n",
      "| 180330000006487 |   33 |\n",
      "+-----------------+------+\n",
      "| 191003066010659 |   31 |\n",
      "+-----------------+------+\n",
      "| 180916000000013 |   29 |\n",
      "+-----------------+------+\n",
      "| 190616000002098 |   28 |\n",
      "+-----------------+------+\n"
     ]
    }
   ],
   "source": [
    "from tabulate import tabulate\n",
    "df = pd.DataFrame([[\"Name\",\"Age\"],[\"Alice\",24],[\"Bob\",19]])\n",
    "print(tabulate(data, tablefmt=\"grid\"))"
   ]
  },
  {
   "cell_type": "code",
   "execution_count": 8,
   "metadata": {},
   "outputs": [
    {
     "data": {
      "text/html": [
       "<div>\n",
       "<style scoped>\n",
       "    .dataframe tbody tr th:only-of-type {\n",
       "        vertical-align: middle;\n",
       "    }\n",
       "\n",
       "    .dataframe tbody tr th {\n",
       "        vertical-align: top;\n",
       "    }\n",
       "\n",
       "    .dataframe thead th {\n",
       "        text-align: right;\n",
       "    }\n",
       "</style>\n",
       "<table border=\"1\" class=\"dataframe\">\n",
       "  <thead>\n",
       "    <tr style=\"text-align: right;\">\n",
       "      <th></th>\n",
       "      <th>source</th>\n",
       "    </tr>\n",
       "    <tr>\n",
       "      <th>target</th>\n",
       "      <th></th>\n",
       "    </tr>\n",
       "  </thead>\n",
       "  <tbody>\n",
       "    <tr>\n",
       "      <th>002812cb-685a-441d-a662-567a8307dba0</th>\n",
       "      <td>1</td>\n",
       "    </tr>\n",
       "    <tr>\n",
       "      <th>8191baddb4598df5</th>\n",
       "      <td>1</td>\n",
       "    </tr>\n",
       "    <tr>\n",
       "      <th>8186a8fb3a07965e</th>\n",
       "      <td>1</td>\n",
       "    </tr>\n",
       "    <tr>\n",
       "      <th>808671f14d83545f</th>\n",
       "      <td>1</td>\n",
       "    </tr>\n",
       "    <tr>\n",
       "      <th>801d03679f8eda8f</th>\n",
       "      <td>1</td>\n",
       "    </tr>\n",
       "    <tr>\n",
       "      <th>...</th>\n",
       "      <td>...</td>\n",
       "    </tr>\n",
       "    <tr>\n",
       "      <th>547e7aa35af55fb7</th>\n",
       "      <td>535</td>\n",
       "    </tr>\n",
       "    <tr>\n",
       "      <th>06db97b336d9dfda</th>\n",
       "      <td>548</td>\n",
       "    </tr>\n",
       "    <tr>\n",
       "      <th>4fc9899a2795a0ce</th>\n",
       "      <td>787</td>\n",
       "    </tr>\n",
       "    <tr>\n",
       "      <th>ea313a5dc143332d</th>\n",
       "      <td>927</td>\n",
       "    </tr>\n",
       "    <tr>\n",
       "      <th>92ff9530442ba3af</th>\n",
       "      <td>930</td>\n",
       "    </tr>\n",
       "  </tbody>\n",
       "</table>\n",
       "<p>1566 rows × 1 columns</p>\n",
       "</div>"
      ],
      "text/plain": [
       "                                      source\n",
       "target                                      \n",
       "002812cb-685a-441d-a662-567a8307dba0       1\n",
       "8191baddb4598df5                           1\n",
       "8186a8fb3a07965e                           1\n",
       "808671f14d83545f                           1\n",
       "801d03679f8eda8f                           1\n",
       "...                                      ...\n",
       "547e7aa35af55fb7                         535\n",
       "06db97b336d9dfda                         548\n",
       "4fc9899a2795a0ce                         787\n",
       "ea313a5dc143332d                         927\n",
       "92ff9530442ba3af                         930\n",
       "\n",
       "[1566 rows x 1 columns]"
      ]
     },
     "execution_count": 8,
     "metadata": {},
     "output_type": "execute_result"
    }
   ],
   "source": [
    "links_df.groupby('target').agg({'source': lambda x: len(set(x))}).sort_values('source')"
   ]
  },
  {
   "cell_type": "markdown",
   "metadata": {},
   "source": [
    "## Kruskal"
   ]
  },
  {
   "cell_type": "code",
   "execution_count": 5,
   "metadata": {},
   "outputs": [],
   "source": [
    "import networkx as nx"
   ]
  },
  {
   "cell_type": "code",
   "execution_count": null,
   "metadata": {},
   "outputs": [],
   "source": []
  }
 ],
 "metadata": {
  "kernelspec": {
   "display_name": "Python 3",
   "language": "python",
   "name": "python3"
  },
  "language_info": {
   "codemirror_mode": {
    "name": "ipython",
    "version": 3
   },
   "file_extension": ".py",
   "mimetype": "text/x-python",
   "name": "python",
   "nbconvert_exporter": "python",
   "pygments_lexer": "ipython3",
   "version": "3.6.9"
  }
 },
 "nbformat": 4,
 "nbformat_minor": 4
}
