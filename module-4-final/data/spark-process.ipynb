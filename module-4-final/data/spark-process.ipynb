{
 "cells": [
  {
   "cell_type": "code",
   "execution_count": 1,
   "metadata": {},
   "outputs": [],
   "source": [
    "import pyspark\n",
    "from pyspark import SparkContext\n",
    "from pyspark.sql import SQLContext\n",
    "from pyspark import SparkFiles\n",
    "sc = SparkContext()\n",
    "sqlContext = SQLContext(sc)"
   ]
  },
  {
   "cell_type": "code",
   "execution_count": 2,
   "metadata": {},
   "outputs": [
    {
     "data": {
      "text/html": [
       "<style>\n",
       "div.output_area pre {\n",
       "    white-space: pre;\n",
       "    word-wrap: normal;\n",
       "}\n",
       ".container { \n",
       "    width:100% !important; \n",
       "}\n",
       "</style>\n"
      ],
      "text/plain": [
       "<IPython.core.display.HTML object>"
      ]
     },
     "metadata": {},
     "output_type": "display_data"
    }
   ],
   "source": [
    "%%html\n",
    "<style>\n",
    "div.output_area pre {\n",
    "    white-space: pre;\n",
    "    word-wrap: normal;\n",
    "}\n",
    ".container { \n",
    "    width:100% !important; \n",
    "}\n",
    "</style>"
   ]
  },
  {
   "cell_type": "code",
   "execution_count": 3,
   "metadata": {},
   "outputs": [],
   "source": [
    "import pandas as pd"
   ]
  },
  {
   "cell_type": "code",
   "execution_count": 4,
   "metadata": {},
   "outputs": [],
   "source": [
    "columns = ['deviceID', 'transID', 'transType', 'appid', 'pmcID', 'amount', 'userID', 'osVer', 'deviceModel', 'userIP', 'reqDate', 'longitude', 'latitude', 'campaignID', 'type_transaction']\n",
    "pdF = pd.read_csv('./tpe_device_score.csv', names=columns, header=None)\n",
    "pdF.to_csv('./tpe_device_score_with_header.csv', index=False)"
   ]
  },
  {
   "cell_type": "code",
   "execution_count": 32,
   "metadata": {},
   "outputs": [],
   "source": [
    "from pyspark.sql.functions import lit, udf, col, weekofyear, countDistinct, desc\n",
    "from pyspark.sql.types import *\n",
    "from pyspark.sql.functions import lit\n",
    "from pyspark.sql import Window\n",
    "import pyspark.sql.functions as f"
   ]
  },
  {
   "cell_type": "code",
   "execution_count": 5,
   "metadata": {},
   "outputs": [
    {
     "data": {
      "text/html": [
       "<div>\n",
       "<style scoped>\n",
       "    .dataframe tbody tr th:only-of-type {\n",
       "        vertical-align: middle;\n",
       "    }\n",
       "\n",
       "    .dataframe tbody tr th {\n",
       "        vertical-align: top;\n",
       "    }\n",
       "\n",
       "    .dataframe thead th {\n",
       "        text-align: right;\n",
       "    }\n",
       "</style>\n",
       "<table border=\"1\" class=\"dataframe\">\n",
       "  <thead>\n",
       "    <tr style=\"text-align: right;\">\n",
       "      <th></th>\n",
       "      <th>deviceID</th>\n",
       "      <th>transID</th>\n",
       "      <th>transType</th>\n",
       "      <th>appid</th>\n",
       "      <th>pmcID</th>\n",
       "      <th>amount</th>\n",
       "      <th>userID</th>\n",
       "      <th>osVer</th>\n",
       "      <th>deviceModel</th>\n",
       "      <th>userIP</th>\n",
       "      <th>reqDate</th>\n",
       "      <th>longitude</th>\n",
       "      <th>latitude</th>\n",
       "      <th>campaignID</th>\n",
       "      <th>type_transaction</th>\n",
       "    </tr>\n",
       "  </thead>\n",
       "  <tbody>\n",
       "    <tr>\n",
       "      <th>0</th>\n",
       "      <td>000195863904dc8a</td>\n",
       "      <td>200808000071150</td>\n",
       "      <td>1</td>\n",
       "      <td>454</td>\n",
       "      <td>39</td>\n",
       "      <td>2000000</td>\n",
       "      <td>200119000040347</td>\n",
       "      <td>Android 28 (9)</td>\n",
       "      <td>Samsung SM-J730G</td>\n",
       "      <td>125.214.48.174</td>\n",
       "      <td>2020-08-08 08:51:08.856</td>\n",
       "      <td>105.952103</td>\n",
       "      <td>10.223810</td>\n",
       "      <td>0</td>\n",
       "      <td>payment</td>\n",
       "    </tr>\n",
       "    <tr>\n",
       "      <th>1</th>\n",
       "      <td>000195863904dc8a</td>\n",
       "      <td>200808000089357</td>\n",
       "      <td>1</td>\n",
       "      <td>454</td>\n",
       "      <td>39</td>\n",
       "      <td>2000000</td>\n",
       "      <td>200119000040347</td>\n",
       "      <td>Android 28 (9)</td>\n",
       "      <td>Samsung SM-J730G</td>\n",
       "      <td>125.214.48.174</td>\n",
       "      <td>2020-08-08 09:47:11.279</td>\n",
       "      <td>105.952107</td>\n",
       "      <td>10.223811</td>\n",
       "      <td>0</td>\n",
       "      <td>payment</td>\n",
       "    </tr>\n",
       "    <tr>\n",
       "      <th>2</th>\n",
       "      <td>000195863904dc8a</td>\n",
       "      <td>200809000160928</td>\n",
       "      <td>1</td>\n",
       "      <td>454</td>\n",
       "      <td>39</td>\n",
       "      <td>2000000</td>\n",
       "      <td>200119000040347</td>\n",
       "      <td>Android 28 (9)</td>\n",
       "      <td>Samsung SM-J730G</td>\n",
       "      <td>125.214.48.174</td>\n",
       "      <td>2020-08-09 14:43:45.359</td>\n",
       "      <td>105.952099</td>\n",
       "      <td>10.223812</td>\n",
       "      <td>0</td>\n",
       "      <td>payment</td>\n",
       "    </tr>\n",
       "    <tr>\n",
       "      <th>3</th>\n",
       "      <td>000195863904dc8a</td>\n",
       "      <td>200822000188187</td>\n",
       "      <td>1</td>\n",
       "      <td>454</td>\n",
       "      <td>39</td>\n",
       "      <td>2000000</td>\n",
       "      <td>200119000040347</td>\n",
       "      <td>Android 28 (9)</td>\n",
       "      <td>Samsung SM-J730G</td>\n",
       "      <td>125.214.48.174</td>\n",
       "      <td>2020-08-22 14:33:30.566</td>\n",
       "      <td>105.952106</td>\n",
       "      <td>10.223818</td>\n",
       "      <td>0</td>\n",
       "      <td>payment</td>\n",
       "    </tr>\n",
       "    <tr>\n",
       "      <th>4</th>\n",
       "      <td>000195863904dc8a</td>\n",
       "      <td>200822000271777</td>\n",
       "      <td>1</td>\n",
       "      <td>454</td>\n",
       "      <td>39</td>\n",
       "      <td>2000000</td>\n",
       "      <td>200119000040347</td>\n",
       "      <td>Android 28 (9)</td>\n",
       "      <td>Samsung SM-J730G</td>\n",
       "      <td>125.214.48.174</td>\n",
       "      <td>2020-08-22 20:30:36.476</td>\n",
       "      <td>105.952090</td>\n",
       "      <td>10.223808</td>\n",
       "      <td>0</td>\n",
       "      <td>payment</td>\n",
       "    </tr>\n",
       "  </tbody>\n",
       "</table>\n",
       "</div>"
      ],
      "text/plain": [
       "           deviceID          transID  transType  appid  pmcID   amount  \\\n",
       "0  000195863904dc8a  200808000071150          1    454     39  2000000   \n",
       "1  000195863904dc8a  200808000089357          1    454     39  2000000   \n",
       "2  000195863904dc8a  200809000160928          1    454     39  2000000   \n",
       "3  000195863904dc8a  200822000188187          1    454     39  2000000   \n",
       "4  000195863904dc8a  200822000271777          1    454     39  2000000   \n",
       "\n",
       "            userID           osVer       deviceModel          userIP  \\\n",
       "0  200119000040347  Android 28 (9)  Samsung SM-J730G  125.214.48.174   \n",
       "1  200119000040347  Android 28 (9)  Samsung SM-J730G  125.214.48.174   \n",
       "2  200119000040347  Android 28 (9)  Samsung SM-J730G  125.214.48.174   \n",
       "3  200119000040347  Android 28 (9)  Samsung SM-J730G  125.214.48.174   \n",
       "4  200119000040347  Android 28 (9)  Samsung SM-J730G  125.214.48.174   \n",
       "\n",
       "                   reqDate   longitude   latitude  campaignID type_transaction  \n",
       "0  2020-08-08 08:51:08.856  105.952103  10.223810           0          payment  \n",
       "1  2020-08-08 09:47:11.279  105.952107  10.223811           0          payment  \n",
       "2  2020-08-09 14:43:45.359  105.952099  10.223812           0          payment  \n",
       "3  2020-08-22 14:33:30.566  105.952106  10.223818           0          payment  \n",
       "4  2020-08-22 20:30:36.476  105.952090  10.223808           0          payment  "
      ]
     },
     "execution_count": 5,
     "metadata": {},
     "output_type": "execute_result"
    }
   ],
   "source": [
    "pdFH = pd.read_csv('./tpe_device_score_with_header.csv')\n",
    "pdFH.head()"
   ]
  },
  {
   "cell_type": "code",
   "execution_count": 6,
   "metadata": {},
   "outputs": [],
   "source": [
    "tpe_df = sqlContext.createDataFrame(pdFH)"
   ]
  },
  {
   "cell_type": "code",
   "execution_count": 7,
   "metadata": {},
   "outputs": [
    {
     "name": "stdout",
     "output_type": "stream",
     "text": [
      "+--------------------+---------------+---------+-----+-----+-------+---------------+--------------+----------------+--------------+--------------------+------------------+------------------+----------+----------------+\n",
      "|            deviceID|        transID|transType|appid|pmcID| amount|         userID|         osVer|     deviceModel|        userIP|             reqDate|         longitude|          latitude|campaignID|type_transaction|\n",
      "+--------------------+---------------+---------+-----+-----+-------+---------------+--------------+----------------+--------------+--------------------+------------------+------------------+----------+----------------+\n",
      "|    000195863904dc8a|200808000071150|        1|  454|   39|2000000|200119000040347|Android 28 (9)|Samsung SM-J730G|125.214.48.174|2020-08-08 08:51:...|       105.9521027|        10.2238103|         0|         payment|\n",
      "|    000195863904dc8a|200808000089357|        1|  454|   39|2000000|200119000040347|Android 28 (9)|Samsung SM-J730G|125.214.48.174|2020-08-08 09:47:...|       105.9521067|         10.223811|         0|         payment|\n",
      "|    000195863904dc8a|200809000160928|        1|  454|   39|2000000|200119000040347|Android 28 (9)|Samsung SM-J730G|125.214.48.174|2020-08-09 14:43:...|       105.9520991|        10.2238116|         0|         payment|\n",
      "|    000195863904dc8a|200822000188187|        1|  454|   39|2000000|200119000040347|Android 28 (9)|Samsung SM-J730G|125.214.48.174|2020-08-22 14:33:...|       105.9521063|        10.2238183|         0|         payment|\n",
      "|    000195863904dc8a|200822000271777|        1|  454|   39|2000000|200119000040347|Android 28 (9)|Samsung SM-J730G|125.214.48.174|2020-08-22 20:30:...|       105.9520904|        10.2238081|         0|         payment|\n",
      "|    000195863904dc8a|200822000273972|        1|  454|   39|2000000|200119000040347|Android 28 (9)|Samsung SM-J730G|125.214.48.174|2020-08-22 20:33:...|       105.9520904|        10.2238081|         0|         payment|\n",
      "|    000195863904dc8a|200822000314601|        1|  454|   39| 400000|200119000040347|Android 28 (9)|Samsung SM-J730G|125.214.48.174|2020-08-22 22:52:...|       105.9520836|        10.2238069|         0|         payment|\n",
      "|    000195863904dc8a|200822000309893|        1|  454|   39|2500000|200119000040347|Android 28 (9)|Samsung SM-J730G|125.214.48.174|2020-08-22 23:03:...|       105.9521154|        10.2238176|         0|         payment|\n",
      "|    000195863904dc8a|200823000212263|        1|  454|   39|3000000|200119000040347|Android 28 (9)|Samsung SM-J730G|125.214.48.174|2020-08-23 18:22:...|105.95208390000002|        10.2237995|         0|         payment|\n",
      "|    000195863904dc8a|200804000410980|        1|  454|   39|1500000|200119000040347|Android 28 (9)|Samsung SM-J730G|     1.54.7.84|2020-08-04 14:26:...|        105.954754|         10.226923|         0|         payment|\n",
      "|    000195863904dc8a|200804000411377|        1|  454|   39|1500000|200119000040347|Android 28 (9)|Samsung SM-J730G|     1.54.7.84|2020-08-04 14:30:...|        105.954754|         10.226923|         0|         payment|\n",
      "|    000195863904dc8a|200801000047569|        1|  454|   39|2000000|200119000040347|Android 28 (9)|Samsung SM-J730G| 27.71.206.203|2020-08-01 07:58:...|       105.9520861|10.223769099999998|         0|         payment|\n",
      "|    000195863904dc8a|200805000262608|        1|   61|   38|  47750|200119000040347|Android 28 (9)|Samsung SM-J730G| 27.71.206.203|2020-08-05 13:52:...|        105.952102|        10.2237871|      3861|         payment|\n",
      "|    000195863904dc8a|200805000266452|        1|   61|   38| 191000|200119000040347|Android 28 (9)|Samsung SM-J730G| 27.71.206.203|2020-08-05 13:53:...|        105.952102|        10.2237871|         0|         payment|\n",
      "|    000195863904dc8a|200831000174819|        1|  454|   39|2500000|200119000040347|Android 28 (9)|Samsung SM-J730G|14.246.154.137|2020-08-31 13:09:...|        105.954189|        10.3562568|         0|         payment|\n",
      "|    000195863904dc8a|200820000354273|        1|  454|   39|2000000|200119000040347|Android 28 (9)|Samsung SM-J730G|14.240.103.164|2020-08-20 20:46:...|       105.9541914|        10.3562732|         0|         payment|\n",
      "|    000195863904dc8a|200826000289474|        1|  454|   39|2000000|200119000040347|Android 28 (9)|Samsung SM-J730G|125.214.48.174|2020-08-26 18:31:...|       105.9520662|        10.2237894|         0|         payment|\n",
      "|    000195863904dc8a|200826000318470|        1|  454|   39|2000000|200119000040347|Android 28 (9)|Samsung SM-J730G| 113.169.49.38|2020-08-26 20:04:...|        105.821673|        10.1329961|         0|         payment|\n",
      "|003D28EF-1B5F-482...|200806000355368|        1|  454|   39|4000000|190601000003866|        13.5.1|       iPhone9,4|42.113.188.195|2020-08-06 19:15:...|               0.0|               0.0|         0|         payment|\n",
      "|003D28EF-1B5F-482...|200806000353589|        1|  241|   38|4000000|190601000003866|        13.5.1|       iPhone9,4|42.113.188.195|2020-08-06 19:16:...|               0.0|               0.0|         0|         payment|\n",
      "+--------------------+---------------+---------+-----+-----+-------+---------------+--------------+----------------+--------------+--------------------+------------------+------------------+----------+----------------+\n",
      "only showing top 20 rows\n",
      "\n"
     ]
    }
   ],
   "source": [
    "tpe_df.show()"
   ]
  },
  {
   "cell_type": "code",
   "execution_count": 8,
   "metadata": {},
   "outputs": [
    {
     "name": "stdout",
     "output_type": "stream",
     "text": [
      "+----------------+------+\n",
      "|        Merchant|App ID|\n",
      "+----------------+------+\n",
      "|        App Test|     3|\n",
      "|        App Test|   742|\n",
      "|        App Test| 10033|\n",
      "|        App Test| 10034|\n",
      "|Business Service|    26|\n",
      "|Business Service|    48|\n",
      "|Business Service|   114|\n",
      "|Business Service|   203|\n",
      "|Business Service|   204|\n",
      "|Business Service|   207|\n",
      "|Business Service|   215|\n",
      "|Business Service|   230|\n",
      "|Business Service|   233|\n",
      "|Business Service|   234|\n",
      "|Business Service|   235|\n",
      "|Business Service|   238|\n",
      "|Business Service|   253|\n",
      "|Business Service|   259|\n",
      "|Business Service|   272|\n",
      "|Business Service|   274|\n",
      "+----------------+------+\n",
      "only showing top 20 rows\n",
      "\n"
     ]
    }
   ],
   "source": [
    "appid_merchant_pd = pd.read_excel('./AppID Merchant.xlsx')\n",
    "appid_merchant_pd = appid_merchant_pd[['Merchant', 'App ID']]\n",
    "appid_merchant_pd.head()\n",
    "appid_merchant_df = sqlContext.createDataFrame(appid_merchant_pd)\n",
    "appid_merchant_df.show()"
   ]
  },
  {
   "cell_type": "code",
   "execution_count": 9,
   "metadata": {},
   "outputs": [],
   "source": [
    "left_join = tpe_df.join(appid_merchant_df, tpe_df.appid == appid_merchant_df['App ID'])"
   ]
  },
  {
   "cell_type": "code",
   "execution_count": 15,
   "metadata": {},
   "outputs": [],
   "source": [
    "appid_merchant_df= appid_merchant_df.withColumnRenamed('App ID','appid')"
   ]
  },
  {
   "cell_type": "code",
   "execution_count": 16,
   "metadata": {},
   "outputs": [
    {
     "data": {
      "text/plain": [
       "DataFrame[deviceID: string, transID: bigint, transType: bigint, appid: bigint, pmcID: bigint, amount: bigint, userID: bigint, osVer: string, deviceModel: string, userIP: string, reqDate: string, longitude: double, latitude: double, campaignID: bigint, type_transaction: string, Merchant: string, App ID: bigint]"
      ]
     },
     "execution_count": 16,
     "metadata": {},
     "output_type": "execute_result"
    }
   ],
   "source": [
    "left_join.cache()"
   ]
  },
  {
   "cell_type": "code",
   "execution_count": 27,
   "metadata": {
    "scrolled": true
   },
   "outputs": [],
   "source": [
    "joined_df = tpe_df.join(appid_merchant_df,how='left', on='appid')"
   ]
  },
  {
   "cell_type": "code",
   "execution_count": 34,
   "metadata": {},
   "outputs": [
    {
     "name": "stdout",
     "output_type": "stream",
     "text": [
      "+--------------------+--------------+-----+\n",
      "|            deviceID|      Merchant|count|\n",
      "+--------------------+--------------+-----+\n",
      "|000081FB-CAE0-4DB...|Money Transfer|    1|\n",
      "|0000B1B7-9075-487...|Money Transfer|    6|\n",
      "|0000B625-66C9-4B2...|Money Transfer|    6|\n",
      "|0000B625-66C9-4B2...| Digital Goods|    4|\n",
      "|00017D00-6F9E-495...|Money Transfer|   12|\n",
      "|00017D00-6F9E-495...| Digital Goods|    3|\n",
      "|00017D00-6F9E-495...|       Utility|    1|\n",
      "|    000195863904dc8a|Money Transfer|   16|\n",
      "|    000195863904dc8a| Digital Goods|    2|\n",
      "|0001B388-47BF-4AC...| Digital Goods|    1|\n",
      "|00020A08-BF1A-473...| Digital Goods|    4|\n",
      "|00020A08-BF1A-473...|Money Transfer|    4|\n",
      "|00021A5E-07D6-41F...|       Utility|    1|\n",
      "|000236E1-DE27-483...|Money Transfer|    1|\n",
      "|00024F09-CC7E-42D...|Money Transfer|    3|\n",
      "|00024F09-CC7E-42D...|   Marketplace|    1|\n",
      "|00028081-26BE-415...| Digital Goods|    1|\n",
      "|0002D759-1F9A-4A2...| Digital Goods|    5|\n",
      "|00036630-600D-4F6...|Money Transfer|    1|\n",
      "|0003D11F-6744-4C5...|       Utility|    8|\n",
      "+--------------------+--------------+-----+\n",
      "only showing top 20 rows\n",
      "\n"
     ]
    }
   ],
   "source": [
    "joined_df.groupBy('deviceID', 'Merchant').count().orderBy('deviceID',f.col('count').desc()).show()"
   ]
  },
  {
   "cell_type": "code",
   "execution_count": 35,
   "metadata": {},
   "outputs": [
    {
     "name": "stdout",
     "output_type": "stream",
     "text": [
      "+-----+--------------------+---------------+---------+-----+-------+---------------+------------------+-------------------+---------------+--------------------+---------+--------+----------+----------------+-------------+\n",
      "|appid|            deviceID|        transID|transType|pmcID| amount|         userID|             osVer|        deviceModel|         userIP|             reqDate|longitude|latitude|campaignID|type_transaction|     Merchant|\n",
      "+-----+--------------------+---------------+---------+-----+-------+---------------+------------------+-------------------+---------------+--------------------+---------+--------+----------+----------------+-------------+\n",
      "|   29|3D84B3FB-0F2D-4DF...|200810000099557|        1|   37| 500000|180616000003177|            12.4.1|          iPhone9,4|  27.67.143.125|2020-08-10 09:59:...|      0.0|     0.0|         0|         payment|Digital Goods|\n",
      "|   29|    a62f48e11bfa500c|200807000154372|        1|   38|1200000|200202000013674|Android 27 (8.1.0)|BlackBerry BBB100-2|   14.228.58.15|2020-08-07 11:33:...|      0.0|     0.0|         0|         payment|Digital Goods|\n",
      "|   29|    a62f48e11bfa500c|200812000236773|        1|   38| 980000|200202000013674|Android 27 (8.1.0)|BlackBerry BBB100-2| 113.181.42.250|2020-08-12 14:33:...|      0.0|     0.0|         0|         payment|Digital Goods|\n",
      "|   29|    a62f48e11bfa500c|200817000236037|        1|   38|3130000|200202000013674|Android 27 (8.1.0)|BlackBerry BBB100-2|113.189.167.203|2020-08-17 16:28:...|      0.0|     0.0|         0|         payment|Digital Goods|\n",
      "|   29|    a62f48e11bfa500c|200829000156665|        1|   38|3100000|200202000013674|Android 27 (8.1.0)|BlackBerry BBB100-2|  14.251.194.16|2020-08-29 14:09:...|      0.0|     0.0|         0|         payment|Digital Goods|\n",
      "|   29|    a62f48e11bfa500c|200825000316025|        1|   38| 570000|200202000013674|Android 27 (8.1.0)|BlackBerry BBB100-2| 113.179.177.36|2020-08-25 21:17:...|      0.0|     0.0|         0|         payment|Digital Goods|\n",
      "|   29|    a62f48e11bfa500c|200824000270693|        1|   38|4300000|200202000013674|Android 27 (8.1.0)|BlackBerry BBB100-2|  14.171.40.238|2020-08-24 19:44:...|      0.0|     0.0|         0|         payment|Digital Goods|\n",
      "|   29|    a62f48e11bfa500c|200808000286986|        1|   38|3000000|200202000013674|Android 27 (8.1.0)|BlackBerry BBB100-2| 113.184.49.106|2020-08-08 20:22:...|      0.0|     0.0|         0|         payment|Digital Goods|\n",
      "|   29|    a62f48e11bfa500c|200827000227489|        1|   38|1720000|200202000013674|Android 27 (8.1.0)|BlackBerry BBB100-2| 14.171.163.245|2020-08-27 16:31:...|      0.0|     0.0|         0|         payment|Digital Goods|\n",
      "|   29|    a62f48e11bfa500c|200804000472706|        1|   38|3050000|200202000013674|Android 27 (8.1.0)|BlackBerry BBB100-2|  14.228.97.169|2020-08-04 16:03:...|      0.0|     0.0|         0|         payment|Digital Goods|\n",
      "|   29|    a62f48e11bfa500c|200815000090929|        1|   38| 550000|200202000013674|Android 27 (8.1.0)|BlackBerry BBB100-2|  113.168.17.82|2020-08-15 09:36:...|      0.0|     0.0|         0|         payment|Digital Goods|\n",
      "|   29|    a62f48e11bfa500c|200811000107476|        1|   38|2500000|200202000013674|Android 27 (8.1.0)|BlackBerry BBB100-2|   113.179.99.6|2020-08-11 10:21:...|      0.0|     0.0|         0|         payment|Digital Goods|\n",
      "|   29|    a62f48e11bfa500c|200811000111605|        1|   38| 930000|200202000013674|Android 27 (8.1.0)|BlackBerry BBB100-2|   113.179.99.6|2020-08-11 10:25:...|      0.0|     0.0|         0|         payment|Digital Goods|\n",
      "|   29|    a62f48e11bfa500c|200811000311923|        1|   38|3000000|200202000013674|Android 27 (8.1.0)|BlackBerry BBB100-2|  14.251.42.148|2020-08-11 18:35:...|      0.0|     0.0|         0|         payment|Digital Goods|\n",
      "|   29|    a62f48e11bfa500c|200820000272912|        1|   38|6090000|200202000013674|Android 27 (8.1.0)|BlackBerry BBB100-2| 113.184.50.126|2020-08-20 17:09:...|      0.0|     0.0|         0|         payment|Digital Goods|\n",
      "|   29|    a62f48e11bfa500c|200813000243812|        1|   38|1180000|200202000013674|Android 27 (8.1.0)|BlackBerry BBB100-2|  14.171.251.25|2020-08-13 16:23:...|      0.0|     0.0|         0|         payment|Digital Goods|\n",
      "|   29|    a62f48e11bfa500c|200828000309545|        1|   38|3000000|200202000013674|Android 27 (8.1.0)|BlackBerry BBB100-2| 14.178.182.213|2020-08-28 20:21:...|      0.0|     0.0|         0|         payment|Digital Goods|\n",
      "|   29|    a62f48e11bfa500c|200815000276300|        1|   38|3000000|200202000013674|Android 27 (8.1.0)|BlackBerry BBB100-2|  113.168.17.82|2020-08-15 19:43:...|      0.0|     0.0|         0|         payment|Digital Goods|\n",
      "|   29|    a62f48e11bfa500c|200801000203561|        1|   38|4000000|200202000013674|Android 27 (8.1.0)|BlackBerry BBB100-2| 14.228.137.102|2020-08-01 18:41:...|      0.0|     0.0|         0|         payment|Digital Goods|\n",
      "|   29|1DA2B0E4-D217-416...|200809000125316|        1|   38| 500000|190323000014459|              13.4|         iPhone10,3| 113.181.98.107|2020-08-09 12:26:...|      0.0|     0.0|         0|         payment|Digital Goods|\n",
      "+-----+--------------------+---------------+---------+-----+-------+---------------+------------------+-------------------+---------------+--------------------+---------+--------+----------+----------------+-------------+\n",
      "only showing top 20 rows\n",
      "\n"
     ]
    }
   ],
   "source": [
    "joined_df.show()"
   ]
  },
  {
   "cell_type": "code",
   "execution_count": 47,
   "metadata": {},
   "outputs": [
    {
     "ename": "Py4JJavaError",
     "evalue": "An error occurred while calling o187.collectToPython.\n: java.lang.OutOfMemoryError: Java heap space\n\tat org.apache.spark.sql.execution.SparkPlan$$anon$1.next(SparkPlan.scala:368)\n\tat org.apache.spark.sql.execution.SparkPlan$$anon$1.next(SparkPlan.scala:364)\n\tat scala.collection.Iterator.foreach(Iterator.scala:941)\n\tat scala.collection.Iterator.foreach$(Iterator.scala:941)\n\tat org.apache.spark.sql.execution.SparkPlan$$anon$1.foreach(SparkPlan.scala:364)\n\tat org.apache.spark.sql.execution.SparkPlan.$anonfun$executeCollect$1(SparkPlan.scala:386)\n\tat org.apache.spark.sql.execution.SparkPlan.$anonfun$executeCollect$1$adapted(SparkPlan.scala:385)\n\tat org.apache.spark.sql.execution.SparkPlan$$Lambda$2904/0x0000000841043040.apply(Unknown Source)\n\tat scala.collection.IndexedSeqOptimized.foreach(IndexedSeqOptimized.scala:36)\n\tat scala.collection.IndexedSeqOptimized.foreach$(IndexedSeqOptimized.scala:33)\n\tat scala.collection.mutable.ArrayOps$ofRef.foreach(ArrayOps.scala:198)\n\tat org.apache.spark.sql.execution.SparkPlan.executeCollect(SparkPlan.scala:385)\n\tat org.apache.spark.sql.Dataset.$anonfun$collectToPython$1(Dataset.scala:3448)\n\tat org.apache.spark.sql.Dataset$$Lambda$2860/0x00000008410d9040.apply(Unknown Source)\n\tat org.apache.spark.sql.Dataset.$anonfun$withAction$1(Dataset.scala:3616)\n\tat org.apache.spark.sql.Dataset$$Lambda$1374/0x0000000840b43840.apply(Unknown Source)\n\tat org.apache.spark.sql.execution.SQLExecution$.$anonfun$withNewExecutionId$5(SQLExecution.scala:100)\n\tat org.apache.spark.sql.execution.SQLExecution$$$Lambda$1379/0x0000000840b46040.apply(Unknown Source)\n\tat org.apache.spark.sql.execution.SQLExecution$.withSQLConfPropagated(SQLExecution.scala:160)\n\tat org.apache.spark.sql.execution.SQLExecution$.$anonfun$withNewExecutionId$1(SQLExecution.scala:87)\n\tat org.apache.spark.sql.execution.SQLExecution$$$Lambda$1375/0x0000000840b43c40.apply(Unknown Source)\n\tat org.apache.spark.sql.SparkSession.withActive(SparkSession.scala:763)\n\tat org.apache.spark.sql.execution.SQLExecution$.withNewExecutionId(SQLExecution.scala:64)\n\tat org.apache.spark.sql.Dataset.withAction(Dataset.scala:3614)\n\tat org.apache.spark.sql.Dataset.collectToPython(Dataset.scala:3445)\n\tat java.base/jdk.internal.reflect.NativeMethodAccessorImpl.invoke0(Native Method)\n\tat java.base/jdk.internal.reflect.NativeMethodAccessorImpl.invoke(NativeMethodAccessorImpl.java:62)\n\tat java.base/jdk.internal.reflect.DelegatingMethodAccessorImpl.invoke(DelegatingMethodAccessorImpl.java:43)\n\tat java.base/java.lang.reflect.Method.invoke(Method.java:566)\n\tat py4j.reflection.MethodInvoker.invoke(MethodInvoker.java:244)\n\tat py4j.reflection.ReflectionEngine.invoke(ReflectionEngine.java:357)\n\tat py4j.Gateway.invoke(Gateway.java:282)\n",
     "output_type": "error",
     "traceback": [
      "\u001b[0;31m---------------------------------------------------------------------------\u001b[0m",
      "\u001b[0;31mPy4JJavaError\u001b[0m                             Traceback (most recent call last)",
      "\u001b[0;32m<ipython-input-47-f9cd8d799ccf>\u001b[0m in \u001b[0;36m<module>\u001b[0;34m\u001b[0m\n\u001b[0;32m----> 1\u001b[0;31m \u001b[0mjoined_df\u001b[0m\u001b[0;34m.\u001b[0m\u001b[0mtoPandas\u001b[0m\u001b[0;34m(\u001b[0m\u001b[0;34m)\u001b[0m\u001b[0;34m.\u001b[0m\u001b[0mto_csv\u001b[0m\u001b[0;34m(\u001b[0m\u001b[0;34m'./result.csv'\u001b[0m\u001b[0;34m)\u001b[0m\u001b[0;34m\u001b[0m\u001b[0;34m\u001b[0m\u001b[0m\n\u001b[0m",
      "\u001b[0;32m/usr/local/spark/python/pyspark/sql/pandas/conversion.py\u001b[0m in \u001b[0;36mtoPandas\u001b[0;34m(self)\u001b[0m\n\u001b[1;32m    136\u001b[0m \u001b[0;34m\u001b[0m\u001b[0m\n\u001b[1;32m    137\u001b[0m         \u001b[0;31m# Below is toPandas without Arrow optimization.\u001b[0m\u001b[0;34m\u001b[0m\u001b[0;34m\u001b[0m\u001b[0;34m\u001b[0m\u001b[0m\n\u001b[0;32m--> 138\u001b[0;31m         \u001b[0mpdf\u001b[0m \u001b[0;34m=\u001b[0m \u001b[0mpd\u001b[0m\u001b[0;34m.\u001b[0m\u001b[0mDataFrame\u001b[0m\u001b[0;34m.\u001b[0m\u001b[0mfrom_records\u001b[0m\u001b[0;34m(\u001b[0m\u001b[0mself\u001b[0m\u001b[0;34m.\u001b[0m\u001b[0mcollect\u001b[0m\u001b[0;34m(\u001b[0m\u001b[0;34m)\u001b[0m\u001b[0;34m,\u001b[0m \u001b[0mcolumns\u001b[0m\u001b[0;34m=\u001b[0m\u001b[0mself\u001b[0m\u001b[0;34m.\u001b[0m\u001b[0mcolumns\u001b[0m\u001b[0;34m)\u001b[0m\u001b[0;34m\u001b[0m\u001b[0;34m\u001b[0m\u001b[0m\n\u001b[0m\u001b[1;32m    139\u001b[0m         \u001b[0mcolumn_counter\u001b[0m \u001b[0;34m=\u001b[0m \u001b[0mCounter\u001b[0m\u001b[0;34m(\u001b[0m\u001b[0mself\u001b[0m\u001b[0;34m.\u001b[0m\u001b[0mcolumns\u001b[0m\u001b[0;34m)\u001b[0m\u001b[0;34m\u001b[0m\u001b[0;34m\u001b[0m\u001b[0m\n\u001b[1;32m    140\u001b[0m \u001b[0;34m\u001b[0m\u001b[0m\n",
      "\u001b[0;32m/usr/local/spark/python/pyspark/sql/dataframe.py\u001b[0m in \u001b[0;36mcollect\u001b[0;34m(self)\u001b[0m\n\u001b[1;32m    594\u001b[0m         \"\"\"\n\u001b[1;32m    595\u001b[0m         \u001b[0;32mwith\u001b[0m \u001b[0mSCCallSiteSync\u001b[0m\u001b[0;34m(\u001b[0m\u001b[0mself\u001b[0m\u001b[0;34m.\u001b[0m\u001b[0m_sc\u001b[0m\u001b[0;34m)\u001b[0m \u001b[0;32mas\u001b[0m \u001b[0mcss\u001b[0m\u001b[0;34m:\u001b[0m\u001b[0;34m\u001b[0m\u001b[0;34m\u001b[0m\u001b[0m\n\u001b[0;32m--> 596\u001b[0;31m             \u001b[0msock_info\u001b[0m \u001b[0;34m=\u001b[0m \u001b[0mself\u001b[0m\u001b[0;34m.\u001b[0m\u001b[0m_jdf\u001b[0m\u001b[0;34m.\u001b[0m\u001b[0mcollectToPython\u001b[0m\u001b[0;34m(\u001b[0m\u001b[0;34m)\u001b[0m\u001b[0;34m\u001b[0m\u001b[0;34m\u001b[0m\u001b[0m\n\u001b[0m\u001b[1;32m    597\u001b[0m         \u001b[0;32mreturn\u001b[0m \u001b[0mlist\u001b[0m\u001b[0;34m(\u001b[0m\u001b[0m_load_from_socket\u001b[0m\u001b[0;34m(\u001b[0m\u001b[0msock_info\u001b[0m\u001b[0;34m,\u001b[0m \u001b[0mBatchedSerializer\u001b[0m\u001b[0;34m(\u001b[0m\u001b[0mPickleSerializer\u001b[0m\u001b[0;34m(\u001b[0m\u001b[0;34m)\u001b[0m\u001b[0;34m)\u001b[0m\u001b[0;34m)\u001b[0m\u001b[0;34m)\u001b[0m\u001b[0;34m\u001b[0m\u001b[0;34m\u001b[0m\u001b[0m\n\u001b[1;32m    598\u001b[0m \u001b[0;34m\u001b[0m\u001b[0m\n",
      "\u001b[0;32m/usr/local/spark/python/lib/py4j-0.10.9-src.zip/py4j/java_gateway.py\u001b[0m in \u001b[0;36m__call__\u001b[0;34m(self, *args)\u001b[0m\n\u001b[1;32m   1302\u001b[0m \u001b[0;34m\u001b[0m\u001b[0m\n\u001b[1;32m   1303\u001b[0m         \u001b[0manswer\u001b[0m \u001b[0;34m=\u001b[0m \u001b[0mself\u001b[0m\u001b[0;34m.\u001b[0m\u001b[0mgateway_client\u001b[0m\u001b[0;34m.\u001b[0m\u001b[0msend_command\u001b[0m\u001b[0;34m(\u001b[0m\u001b[0mcommand\u001b[0m\u001b[0;34m)\u001b[0m\u001b[0;34m\u001b[0m\u001b[0;34m\u001b[0m\u001b[0m\n\u001b[0;32m-> 1304\u001b[0;31m         return_value = get_return_value(\n\u001b[0m\u001b[1;32m   1305\u001b[0m             answer, self.gateway_client, self.target_id, self.name)\n\u001b[1;32m   1306\u001b[0m \u001b[0;34m\u001b[0m\u001b[0m\n",
      "\u001b[0;32m/usr/local/spark/python/pyspark/sql/utils.py\u001b[0m in \u001b[0;36mdeco\u001b[0;34m(*a, **kw)\u001b[0m\n\u001b[1;32m    129\u001b[0m     \u001b[0;32mdef\u001b[0m \u001b[0mdeco\u001b[0m\u001b[0;34m(\u001b[0m\u001b[0;34m*\u001b[0m\u001b[0ma\u001b[0m\u001b[0;34m,\u001b[0m \u001b[0;34m**\u001b[0m\u001b[0mkw\u001b[0m\u001b[0;34m)\u001b[0m\u001b[0;34m:\u001b[0m\u001b[0;34m\u001b[0m\u001b[0;34m\u001b[0m\u001b[0m\n\u001b[1;32m    130\u001b[0m         \u001b[0;32mtry\u001b[0m\u001b[0;34m:\u001b[0m\u001b[0;34m\u001b[0m\u001b[0;34m\u001b[0m\u001b[0m\n\u001b[0;32m--> 131\u001b[0;31m             \u001b[0;32mreturn\u001b[0m \u001b[0mf\u001b[0m\u001b[0;34m(\u001b[0m\u001b[0;34m*\u001b[0m\u001b[0ma\u001b[0m\u001b[0;34m,\u001b[0m \u001b[0;34m**\u001b[0m\u001b[0mkw\u001b[0m\u001b[0;34m)\u001b[0m\u001b[0;34m\u001b[0m\u001b[0;34m\u001b[0m\u001b[0m\n\u001b[0m\u001b[1;32m    132\u001b[0m         \u001b[0;32mexcept\u001b[0m \u001b[0mpy4j\u001b[0m\u001b[0;34m.\u001b[0m\u001b[0mprotocol\u001b[0m\u001b[0;34m.\u001b[0m\u001b[0mPy4JJavaError\u001b[0m \u001b[0;32mas\u001b[0m \u001b[0me\u001b[0m\u001b[0;34m:\u001b[0m\u001b[0;34m\u001b[0m\u001b[0;34m\u001b[0m\u001b[0m\n\u001b[1;32m    133\u001b[0m             \u001b[0mconverted\u001b[0m \u001b[0;34m=\u001b[0m \u001b[0mconvert_exception\u001b[0m\u001b[0;34m(\u001b[0m\u001b[0me\u001b[0m\u001b[0;34m.\u001b[0m\u001b[0mjava_exception\u001b[0m\u001b[0;34m)\u001b[0m\u001b[0;34m\u001b[0m\u001b[0;34m\u001b[0m\u001b[0m\n",
      "\u001b[0;32m/usr/local/spark/python/lib/py4j-0.10.9-src.zip/py4j/protocol.py\u001b[0m in \u001b[0;36mget_return_value\u001b[0;34m(answer, gateway_client, target_id, name)\u001b[0m\n\u001b[1;32m    324\u001b[0m             \u001b[0mvalue\u001b[0m \u001b[0;34m=\u001b[0m \u001b[0mOUTPUT_CONVERTER\u001b[0m\u001b[0;34m[\u001b[0m\u001b[0mtype\u001b[0m\u001b[0;34m]\u001b[0m\u001b[0;34m(\u001b[0m\u001b[0manswer\u001b[0m\u001b[0;34m[\u001b[0m\u001b[0;36m2\u001b[0m\u001b[0;34m:\u001b[0m\u001b[0;34m]\u001b[0m\u001b[0;34m,\u001b[0m \u001b[0mgateway_client\u001b[0m\u001b[0;34m)\u001b[0m\u001b[0;34m\u001b[0m\u001b[0;34m\u001b[0m\u001b[0m\n\u001b[1;32m    325\u001b[0m             \u001b[0;32mif\u001b[0m \u001b[0manswer\u001b[0m\u001b[0;34m[\u001b[0m\u001b[0;36m1\u001b[0m\u001b[0;34m]\u001b[0m \u001b[0;34m==\u001b[0m \u001b[0mREFERENCE_TYPE\u001b[0m\u001b[0;34m:\u001b[0m\u001b[0;34m\u001b[0m\u001b[0;34m\u001b[0m\u001b[0m\n\u001b[0;32m--> 326\u001b[0;31m                 raise Py4JJavaError(\n\u001b[0m\u001b[1;32m    327\u001b[0m                     \u001b[0;34m\"An error occurred while calling {0}{1}{2}.\\n\"\u001b[0m\u001b[0;34m.\u001b[0m\u001b[0;34m\u001b[0m\u001b[0;34m\u001b[0m\u001b[0m\n\u001b[1;32m    328\u001b[0m                     format(target_id, \".\", name), value)\n",
      "\u001b[0;31mPy4JJavaError\u001b[0m: An error occurred while calling o187.collectToPython.\n: java.lang.OutOfMemoryError: Java heap space\n\tat org.apache.spark.sql.execution.SparkPlan$$anon$1.next(SparkPlan.scala:368)\n\tat org.apache.spark.sql.execution.SparkPlan$$anon$1.next(SparkPlan.scala:364)\n\tat scala.collection.Iterator.foreach(Iterator.scala:941)\n\tat scala.collection.Iterator.foreach$(Iterator.scala:941)\n\tat org.apache.spark.sql.execution.SparkPlan$$anon$1.foreach(SparkPlan.scala:364)\n\tat org.apache.spark.sql.execution.SparkPlan.$anonfun$executeCollect$1(SparkPlan.scala:386)\n\tat org.apache.spark.sql.execution.SparkPlan.$anonfun$executeCollect$1$adapted(SparkPlan.scala:385)\n\tat org.apache.spark.sql.execution.SparkPlan$$Lambda$2904/0x0000000841043040.apply(Unknown Source)\n\tat scala.collection.IndexedSeqOptimized.foreach(IndexedSeqOptimized.scala:36)\n\tat scala.collection.IndexedSeqOptimized.foreach$(IndexedSeqOptimized.scala:33)\n\tat scala.collection.mutable.ArrayOps$ofRef.foreach(ArrayOps.scala:198)\n\tat org.apache.spark.sql.execution.SparkPlan.executeCollect(SparkPlan.scala:385)\n\tat org.apache.spark.sql.Dataset.$anonfun$collectToPython$1(Dataset.scala:3448)\n\tat org.apache.spark.sql.Dataset$$Lambda$2860/0x00000008410d9040.apply(Unknown Source)\n\tat org.apache.spark.sql.Dataset.$anonfun$withAction$1(Dataset.scala:3616)\n\tat org.apache.spark.sql.Dataset$$Lambda$1374/0x0000000840b43840.apply(Unknown Source)\n\tat org.apache.spark.sql.execution.SQLExecution$.$anonfun$withNewExecutionId$5(SQLExecution.scala:100)\n\tat org.apache.spark.sql.execution.SQLExecution$$$Lambda$1379/0x0000000840b46040.apply(Unknown Source)\n\tat org.apache.spark.sql.execution.SQLExecution$.withSQLConfPropagated(SQLExecution.scala:160)\n\tat org.apache.spark.sql.execution.SQLExecution$.$anonfun$withNewExecutionId$1(SQLExecution.scala:87)\n\tat org.apache.spark.sql.execution.SQLExecution$$$Lambda$1375/0x0000000840b43c40.apply(Unknown Source)\n\tat org.apache.spark.sql.SparkSession.withActive(SparkSession.scala:763)\n\tat org.apache.spark.sql.execution.SQLExecution$.withNewExecutionId(SQLExecution.scala:64)\n\tat org.apache.spark.sql.Dataset.withAction(Dataset.scala:3614)\n\tat org.apache.spark.sql.Dataset.collectToPython(Dataset.scala:3445)\n\tat java.base/jdk.internal.reflect.NativeMethodAccessorImpl.invoke0(Native Method)\n\tat java.base/jdk.internal.reflect.NativeMethodAccessorImpl.invoke(NativeMethodAccessorImpl.java:62)\n\tat java.base/jdk.internal.reflect.DelegatingMethodAccessorImpl.invoke(DelegatingMethodAccessorImpl.java:43)\n\tat java.base/java.lang.reflect.Method.invoke(Method.java:566)\n\tat py4j.reflection.MethodInvoker.invoke(MethodInvoker.java:244)\n\tat py4j.reflection.ReflectionEngine.invoke(ReflectionEngine.java:357)\n\tat py4j.Gateway.invoke(Gateway.java:282)\n"
     ]
    }
   ],
   "source": [
    "joined_df.toPandas().to_csv('./result.csv')"
   ]
  },
  {
   "cell_type": "code",
   "execution_count": null,
   "metadata": {},
   "outputs": [],
   "source": []
  }
 ],
 "metadata": {
  "kernelspec": {
   "display_name": "Python 3",
   "language": "python",
   "name": "python3"
  },
  "language_info": {
   "codemirror_mode": {
    "name": "ipython",
    "version": 3
   },
   "file_extension": ".py",
   "mimetype": "text/x-python",
   "name": "python",
   "nbconvert_exporter": "python",
   "pygments_lexer": "ipython3",
   "version": "3.8.5"
  }
 },
 "nbformat": 4,
 "nbformat_minor": 4
}
