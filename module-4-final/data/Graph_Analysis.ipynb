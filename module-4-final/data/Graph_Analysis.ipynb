{
 "cells": [
  {
   "cell_type": "code",
   "execution_count": 80,
   "metadata": {},
   "outputs": [],
   "source": [
    "import matplotlib.pyplot as plt\n",
    "import networkx as nx\n",
    "import json"
   ]
  },
  {
   "cell_type": "code",
   "execution_count": 81,
   "metadata": {},
   "outputs": [
    {
     "data": {
      "text/html": [
       "<div>\n",
       "<style scoped>\n",
       "    .dataframe tbody tr th:only-of-type {\n",
       "        vertical-align: middle;\n",
       "    }\n",
       "\n",
       "    .dataframe tbody tr th {\n",
       "        vertical-align: top;\n",
       "    }\n",
       "\n",
       "    .dataframe thead th {\n",
       "        text-align: right;\n",
       "    }\n",
       "</style>\n",
       "<table border=\"1\" class=\"dataframe\">\n",
       "  <thead>\n",
       "    <tr style=\"text-align: right;\">\n",
       "      <th></th>\n",
       "      <th>source</th>\n",
       "      <th>target</th>\n",
       "    </tr>\n",
       "  </thead>\n",
       "  <tbody>\n",
       "    <tr>\n",
       "      <th>0</th>\n",
       "      <td>191129565003782</td>\n",
       "      <td>65acb153c62cbe7e</td>\n",
       "    </tr>\n",
       "    <tr>\n",
       "      <th>1</th>\n",
       "      <td>191129565003782</td>\n",
       "      <td>916c42063aa907ef</td>\n",
       "    </tr>\n",
       "    <tr>\n",
       "      <th>2</th>\n",
       "      <td>191129565003782</td>\n",
       "      <td>605496a5d2507a6a</td>\n",
       "    </tr>\n",
       "    <tr>\n",
       "      <th>3</th>\n",
       "      <td>190802000002131</td>\n",
       "      <td>916c42063aa907ef</td>\n",
       "    </tr>\n",
       "    <tr>\n",
       "      <th>4</th>\n",
       "      <td>190802000009180</td>\n",
       "      <td>605496a5d2507a6a</td>\n",
       "    </tr>\n",
       "  </tbody>\n",
       "</table>\n",
       "</div>"
      ],
      "text/plain": [
       "            source            target\n",
       "0  191129565003782  65acb153c62cbe7e\n",
       "1  191129565003782  916c42063aa907ef\n",
       "2  191129565003782  605496a5d2507a6a\n",
       "3  190802000002131  916c42063aa907ef\n",
       "4  190802000009180  605496a5d2507a6a"
      ]
     },
     "execution_count": 81,
     "metadata": {},
     "output_type": "execute_result"
    }
   ],
   "source": [
    "links = pd.read_json('investigation/test_links.json')\n",
    "links[:5]"
   ]
  },
  {
   "cell_type": "code",
   "execution_count": 83,
   "metadata": {},
   "outputs": [
    {
     "data": {
      "text/html": [
       "<div>\n",
       "<style scoped>\n",
       "    .dataframe tbody tr th:only-of-type {\n",
       "        vertical-align: middle;\n",
       "    }\n",
       "\n",
       "    .dataframe tbody tr th {\n",
       "        vertical-align: top;\n",
       "    }\n",
       "\n",
       "    .dataframe thead th {\n",
       "        text-align: right;\n",
       "    }\n",
       "</style>\n",
       "<table border=\"1\" class=\"dataframe\">\n",
       "  <thead>\n",
       "    <tr style=\"text-align: right;\">\n",
       "      <th></th>\n",
       "      <th>id</th>\n",
       "      <th>group</th>\n",
       "      <th>expanded</th>\n",
       "      <th>x</th>\n",
       "      <th>y</th>\n",
       "      <th>name</th>\n",
       "      <th>category</th>\n",
       "      <th>type</th>\n",
       "    </tr>\n",
       "  </thead>\n",
       "  <tbody>\n",
       "    <tr>\n",
       "      <th>0</th>\n",
       "      <td>191129565003782</td>\n",
       "      <td>0.0</td>\n",
       "      <td>True</td>\n",
       "      <td>942.855530</td>\n",
       "      <td>264.085083</td>\n",
       "      <td>NaN</td>\n",
       "      <td>NaN</td>\n",
       "      <td>NaN</td>\n",
       "    </tr>\n",
       "    <tr>\n",
       "      <th>1</th>\n",
       "      <td>65acb153c62cbe7e</td>\n",
       "      <td>NaN</td>\n",
       "      <td>True</td>\n",
       "      <td>921.062805</td>\n",
       "      <td>273.498901</td>\n",
       "      <td>65acb153c62cbe7e</td>\n",
       "      <td>3.0</td>\n",
       "      <td>graph0_device</td>\n",
       "    </tr>\n",
       "    <tr>\n",
       "      <th>2</th>\n",
       "      <td>916c42063aa907ef</td>\n",
       "      <td>NaN</td>\n",
       "      <td>True</td>\n",
       "      <td>943.221375</td>\n",
       "      <td>271.347504</td>\n",
       "      <td>916c42063aa907ef</td>\n",
       "      <td>3.0</td>\n",
       "      <td>graph0_device</td>\n",
       "    </tr>\n",
       "    <tr>\n",
       "      <th>3</th>\n",
       "      <td>605496a5d2507a6a</td>\n",
       "      <td>NaN</td>\n",
       "      <td>True</td>\n",
       "      <td>983.648926</td>\n",
       "      <td>274.265930</td>\n",
       "      <td>605496a5d2507a6a</td>\n",
       "      <td>3.0</td>\n",
       "      <td>graph0_device</td>\n",
       "    </tr>\n",
       "    <tr>\n",
       "      <th>4</th>\n",
       "      <td>190802000002131</td>\n",
       "      <td>NaN</td>\n",
       "      <td>True</td>\n",
       "      <td>970.544617</td>\n",
       "      <td>308.521210</td>\n",
       "      <td>190802000002131</td>\n",
       "      <td>0.0</td>\n",
       "      <td>graph0_user</td>\n",
       "    </tr>\n",
       "  </tbody>\n",
       "</table>\n",
       "</div>"
      ],
      "text/plain": [
       "                 id  group  expanded           x           y  \\\n",
       "0   191129565003782    0.0      True  942.855530  264.085083   \n",
       "1  65acb153c62cbe7e    NaN      True  921.062805  273.498901   \n",
       "2  916c42063aa907ef    NaN      True  943.221375  271.347504   \n",
       "3  605496a5d2507a6a    NaN      True  983.648926  274.265930   \n",
       "4   190802000002131    NaN      True  970.544617  308.521210   \n",
       "\n",
       "               name  category           type  \n",
       "0               NaN       NaN            NaN  \n",
       "1  65acb153c62cbe7e       3.0  graph0_device  \n",
       "2  916c42063aa907ef       3.0  graph0_device  \n",
       "3  605496a5d2507a6a       3.0  graph0_device  \n",
       "4   190802000002131       0.0    graph0_user  "
      ]
     },
     "execution_count": 83,
     "metadata": {},
     "output_type": "execute_result"
    }
   ],
   "source": [
    "nodes = pd.read_json('investigation/test_nodes.json')\n",
    "nodes[:5]"
   ]
  },
  {
   "cell_type": "code",
   "execution_count": 93,
   "metadata": {},
   "outputs": [],
   "source": [
    "G = nx.Graph()"
   ]
  },
  {
   "cell_type": "code",
   "execution_count": 94,
   "metadata": {},
   "outputs": [],
   "source": [
    "G.add_nodes_from(nodes['id'].tolist())"
   ]
  },
  {
   "cell_type": "code",
   "execution_count": 95,
   "metadata": {},
   "outputs": [],
   "source": [
    "G.add_edges_from([tuple(x) for x in links.to_numpy()])"
   ]
  },
  {
   "cell_type": "code",
   "execution_count": 106,
   "metadata": {},
   "outputs": [
    {
     "name": "stdout",
     "output_type": "stream",
     "text": [
      "Nodes:  15396\n",
      "Edges:  10029\n"
     ]
    }
   ],
   "source": [
    "print(\"Nodes: \",  G.number_of_nodes())\n",
    "print(\"Edges: \", G.number_of_edges())"
   ]
  },
  {
   "cell_type": "markdown",
   "metadata": {},
   "source": [
    "## Betweenness Centrality\n",
    "- Betweenness centrality is a way of detecting the amount of influence a node has over the flow of information in a graph.\n",
    "- It is often used to find nodes that serve as a bridge from one part of a graph to another."
   ]
  },
  {
   "cell_type": "code",
   "execution_count": 107,
   "metadata": {},
   "outputs": [
    {
     "name": "stdout",
     "output_type": "stream",
     "text": [
      "Betweenness\n"
     ]
    }
   ],
   "source": [
    "print(\"Betweenness\")\n",
    "b = nx.betweenness_centrality(G)\n",
    "b = {k: v for k, v in reversed(sorted(b.items(), key=lambda item: item[1]))}"
   ]
  },
  {
   "cell_type": "code",
   "execution_count": 125,
   "metadata": {},
   "outputs": [
    {
     "data": {
      "text/html": [
       "<div>\n",
       "<style scoped>\n",
       "    .dataframe tbody tr th:only-of-type {\n",
       "        vertical-align: middle;\n",
       "    }\n",
       "\n",
       "    .dataframe tbody tr th {\n",
       "        vertical-align: top;\n",
       "    }\n",
       "\n",
       "    .dataframe thead th {\n",
       "        text-align: right;\n",
       "    }\n",
       "</style>\n",
       "<table border=\"1\" class=\"dataframe\">\n",
       "  <thead>\n",
       "    <tr style=\"text-align: right;\">\n",
       "      <th></th>\n",
       "      <th>id</th>\n",
       "      <th>group</th>\n",
       "      <th>expanded</th>\n",
       "      <th>x</th>\n",
       "      <th>y</th>\n",
       "      <th>name</th>\n",
       "      <th>category</th>\n",
       "      <th>type</th>\n",
       "    </tr>\n",
       "  </thead>\n",
       "  <tbody>\n",
       "    <tr>\n",
       "      <th>0</th>\n",
       "      <td>191129565003782</td>\n",
       "      <td>0.0</td>\n",
       "      <td>True</td>\n",
       "      <td>942.85553</td>\n",
       "      <td>264.085083</td>\n",
       "      <td>NaN</td>\n",
       "      <td>NaN</td>\n",
       "      <td>NaN</td>\n",
       "    </tr>\n",
       "  </tbody>\n",
       "</table>\n",
       "</div>"
      ],
      "text/plain": [
       "                id  group  expanded          x           y name  category type\n",
       "0  191129565003782    0.0      True  942.85553  264.085083  NaN       NaN  NaN"
      ]
     },
     "execution_count": 125,
     "metadata": {},
     "output_type": "execute_result"
    }
   ],
   "source": [
    "nodes[nodes['type'].isna()]"
   ]
  },
  {
   "cell_type": "code",
   "execution_count": 187,
   "metadata": {},
   "outputs": [
    {
     "name": "stdout",
     "output_type": "stream",
     "text": [
      "ea313a5dc143332d 0.13471669929756327\n",
      "a6b4bb08e2f80e37 0.12603459372765163\n",
      "4fc9899a2795a0ce 0.12326970218502747\n",
      "da2b790abccac8df 0.08100584740750268\n",
      "200314000004343 0.0778395078320185\n",
      "e5dda88a-1fdf-4aa1-be06-bd1f46e6d3d9 0.07745964109866198\n",
      "92ff9530442ba3af 0.07214581903932223\n",
      "191213715020400 0.06932450443963749\n",
      "190212000014723 0.06607457766839449\n",
      "190709000000074 0.05718037209355251\n",
      "7ca0328b5e66b382 0.05680627120152387\n",
      "170111000002386 0.05166201043476031\n",
      "190902000000711 0.0512428771660684\n",
      "190924000011186 0.05049378809970899\n",
      "312c214618d25506 0.050242087630215586\n",
      "190221000014512 0.04986366032642312\n",
      "547e7aa35af55fb7 0.04936371418636245\n",
      "180307000002585 0.04539532683273065\n",
      "06db97b336d9dfda 0.0444715157393316\n",
      "181212000021447 0.04335689471114787\n"
     ]
    }
   ],
   "source": [
    "i = 0\n",
    "for k, v in b.items():\n",
    "    if i < 20:\n",
    "        print(k, v)\n",
    "        i+=1\n",
    "    else:\n",
    "        break"
   ]
  },
  {
   "cell_type": "code",
   "execution_count": null,
   "metadata": {},
   "outputs": [],
   "source": [
    "!conda install -c conda-forge graph-tool -y"
   ]
  },
  {
   "cell_type": "code",
   "execution_count": 179,
   "metadata": {},
   "outputs": [
    {
     "data": {
      "text/plain": [
       "str"
      ]
     },
     "execution_count": 179,
     "metadata": {},
     "output_type": "execute_result"
    }
   ],
   "source": [
    "nodes[nodes['id'] == 'ea313a5dc143332d'].type.values[0]"
   ]
  },
  {
   "cell_type": "code",
   "execution_count": 183,
   "metadata": {},
   "outputs": [
    {
     "data": {
      "text/plain": [
       "254    graph0_user\n",
       "Name: type, dtype: object"
      ]
     },
     "execution_count": 183,
     "metadata": {},
     "output_type": "execute_result"
    }
   ],
   "source": [
    "nodes[nodes['id'] == '200314000004343'].type"
   ]
  },
  {
   "cell_type": "markdown",
   "metadata": {},
   "source": [
    "## Degree centrality\n",
    "- Degree centrality measures the number of incoming and outgoing relationships from a node.\n",
    "- The Degree Centrality algorithm can help us find popular nodes in a graph."
   ]
  },
  {
   "cell_type": "code",
   "execution_count": 50,
   "metadata": {},
   "outputs": [
    {
     "name": "stdout",
     "output_type": "stream",
     "text": [
      "Degree Centrality\n",
      "a6b4bb08e2f80e37 0.0740144810941271\n",
      "190802000002131 0.05068382944489139\n",
      "015d71f2d6b26266 0.035398230088495575\n",
      "49e4c7de-9839-4a38-927f-02b488745207 0.03218020917135961\n",
      "191012000006172 0.02654867256637168\n",
      "181212000021447 0.02252614641995173\n",
      "180308000001765 0.02011263073209976\n",
      "467dd16a-acf9-4350-881e-7c60c9c56730 0.02011263073209976\n",
      "a870e94fb41c5a1e 0.019308125502815767\n",
      "190902000000711 0.016090104585679804\n"
     ]
    }
   ],
   "source": [
    "print(\"Degree Centrality\")\n",
    "d = nx.degree_centrality(G)\n",
    "d = {k: v for k, v in reversed(sorted(d.items(), key=lambda item: item[1]))}\n",
    "i = 0\n",
    "for k, v in d.items():\n",
    "    if i < 10:\n",
    "        print(k, v)\n",
    "        i+=1\n",
    "    else:\n",
    "        break"
   ]
  },
  {
   "cell_type": "markdown",
   "metadata": {},
   "source": [
    "## Closeness centrality\n",
    "- Closeness centrality is a way of detecting nodes that are able to spread information very efficiently through a graph.\n",
    "- The closeness centrality of a node measures its average farness (inverse distance) to all other nodes. Nodes with a high closeness score have the shortest distances to all other nodes."
   ]
  },
  {
   "cell_type": "code",
   "execution_count": 49,
   "metadata": {},
   "outputs": [
    {
     "name": "stdout",
     "output_type": "stream",
     "text": [
      "Closeness centrality\n",
      "da2b790abccac8df 0.13486524747397285\n",
      "200314000004343 0.13383126194630252\n",
      "e5dda88a-1fdf-4aa1-be06-bd1f46e6d3d9 0.13248608618520125\n",
      "200412000049490 0.12927735591530343\n",
      "200329000037797 0.12860805857285065\n",
      "191213715020400 0.12580242893511026\n",
      "a6b4bb08e2f80e37 0.12328109756687458\n",
      "49e4c7de-9839-4a38-927f-02b488745207 0.12262572055303891\n",
      "6fcc9caacd15d6b7 0.12074587215420751\n",
      "200504000007605 0.1187260423075103\n"
     ]
    }
   ],
   "source": [
    "print(\"Closeness centrality\")\n",
    "c = nx.closeness_centrality(G)\n",
    "c = {k: v for k, v in reversed(sorted(c.items(), key=lambda item: item[1]))}\n",
    "i = 0\n",
    "for k, v in c.items():\n",
    "    if i < 10:\n",
    "        print(k, v)\n",
    "        i+=1\n",
    "    else:\n",
    "        break"
   ]
  },
  {
   "cell_type": "markdown",
   "metadata": {},
   "source": [
    "## Eigenvector Centrality\n",
    "- Eigenvector Centrality is an algorithm that measures the transitive influence or connectivity of nodes.\n",
    "- Relationships to high-scoring nodes contribute more to the score of a node than connections to low-scoring nodes. A high score means that a node is connected to other nodes that have high scores.\n",
    "- Eigenvector Centrality can be used in many of the same use cases as the PageRank algorithm."
   ]
  },
  {
   "cell_type": "code",
   "execution_count": 51,
   "metadata": {},
   "outputs": [
    {
     "name": "stdout",
     "output_type": "stream",
     "text": [
      "a6b4bb08e2f80e37 0.6009760766102973\n",
      "467dd16a-acf9-4350-881e-7c60c9c56730 0.1973775368638648\n",
      "200511000025336 0.12290045652570007\n",
      "190619000001425 0.10284186676876034\n",
      "200318000006953 0.1009127643292695\n",
      "200401000010646 0.09889349449357754\n",
      "200321000003911 0.0981280202062336\n",
      "200331000012366 0.09682629086919071\n",
      "200405000031110 0.09538577408700905\n",
      "200331000012317 0.09454507071757762\n"
     ]
    }
   ],
   "source": [
    "ec = nx.eigenvector_centrality(G)\n",
    "ec = {k: v for k, v in reversed(sorted(ec.items(), key=lambda item: item[1]))}\n",
    "i = 0\n",
    "for k, v in ec.items():\n",
    "    if i < 10:\n",
    "        print(k, v)\n",
    "        i+=1\n",
    "    else:\n",
    "        break"
   ]
  },
  {
   "cell_type": "code",
   "execution_count": null,
   "metadata": {},
   "outputs": [],
   "source": []
  }
 ],
 "metadata": {
  "kernelspec": {
   "display_name": "Python 3",
   "language": "python",
   "name": "python3"
  },
  "language_info": {
   "codemirror_mode": {
    "name": "ipython",
    "version": 3
   },
   "file_extension": ".py",
   "mimetype": "text/x-python",
   "name": "python",
   "nbconvert_exporter": "python",
   "pygments_lexer": "ipython3",
   "version": "3.8.5"
  }
 },
 "nbformat": 4,
 "nbformat_minor": 4
}
