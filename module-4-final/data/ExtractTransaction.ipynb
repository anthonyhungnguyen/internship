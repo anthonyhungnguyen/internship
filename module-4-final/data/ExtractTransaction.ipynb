{
 "cells": [
  {
   "cell_type": "code",
   "execution_count": 2,
   "metadata": {},
   "outputs": [],
   "source": [
    "import pandas as pd"
   ]
  },
  {
   "cell_type": "markdown",
   "metadata": {},
   "source": [
    "# Load data"
   ]
  },
  {
   "cell_type": "markdown",
   "metadata": {},
   "source": [
    "## Graph0 - UserID"
   ]
  },
  {
   "cell_type": "code",
   "execution_count": 3,
   "metadata": {},
   "outputs": [],
   "source": [
    "userID_accountID = pd.read_csv('raw/userID_accountID.csv')\n",
    "userID_cardID = pd.read_csv('raw/userID_cardID.csv')\n",
    "userID_deviceID = pd.read_csv('raw/userid_deviceid.csv')"
   ]
  },
  {
   "cell_type": "code",
   "execution_count": 5,
   "metadata": {},
   "outputs": [
    {
     "data": {
      "text/plain": [
       "[191104935002113,\n",
       " 200513000046595,\n",
       " 191223024058373,\n",
       " 191129565003782,\n",
       " 200516000022534,\n",
       " 191012848009224,\n",
       " 200125000974345,\n",
       " 191016550006794,\n",
       " 200123000029195,\n",
       " 200615000014857]"
      ]
     },
     "execution_count": 5,
     "metadata": {},
     "output_type": "execute_result"
    }
   ],
   "source": [
    "total_users = list(set(userID_accountID['userID'].tolist() + (userID_cardID['userID'].tolist()) + (userID_deviceID['userID'].tolist())))\n",
    "total_users[:10]"
   ]
  },
  {
   "cell_type": "markdown",
   "metadata": {},
   "source": [
    "## Old TPE, device_user"
   ]
  },
  {
   "cell_type": "code",
   "execution_count": 9,
   "metadata": {},
   "outputs": [],
   "source": [
    "android_df = pd.read_csv('raw/dataTest_device_profile_android.csv')\n",
    "ios_df = pd.read_csv('raw/dataTest_device_profile.csv')\n",
    "\n",
    "joint_df = pd.concat([android_df, ios_df])"
   ]
  },
  {
   "cell_type": "code",
   "execution_count": 10,
   "metadata": {},
   "outputs": [
    {
     "data": {
      "text/html": [
       "<div>\n",
       "<style scoped>\n",
       "    .dataframe tbody tr th:only-of-type {\n",
       "        vertical-align: middle;\n",
       "    }\n",
       "\n",
       "    .dataframe tbody tr th {\n",
       "        vertical-align: top;\n",
       "    }\n",
       "\n",
       "    .dataframe thead th {\n",
       "        text-align: right;\n",
       "    }\n",
       "</style>\n",
       "<table border=\"1\" class=\"dataframe\">\n",
       "  <thead>\n",
       "    <tr style=\"text-align: right;\">\n",
       "      <th></th>\n",
       "      <th>timestamp</th>\n",
       "      <th>userId</th>\n",
       "      <th>params</th>\n",
       "    </tr>\n",
       "  </thead>\n",
       "  <tbody>\n",
       "    <tr>\n",
       "      <th>0</th>\n",
       "      <td>1596244856</td>\n",
       "      <td>170425000002238</td>\n",
       "      <td>{\"hw_released\":\"Tue Jul 07 08:50:39 GMT+07:00 ...</td>\n",
       "    </tr>\n",
       "    <tr>\n",
       "      <th>1</th>\n",
       "      <td>1596244830</td>\n",
       "      <td>191113586003363</td>\n",
       "      <td>{\"hw_released\":\"Thu Jul 02 12:19:14 GMT+07:00 ...</td>\n",
       "    </tr>\n",
       "    <tr>\n",
       "      <th>2</th>\n",
       "      <td>1596244888</td>\n",
       "      <td>200413000001404</td>\n",
       "      <td>{\"hw_released\":\"Thu Dec 07 11:24:05 GMT+07:00 ...</td>\n",
       "    </tr>\n",
       "    <tr>\n",
       "      <th>3</th>\n",
       "      <td>1596244831</td>\n",
       "      <td>200428000037320</td>\n",
       "      <td>{\"hw_released\":\"Wed Apr 22 07:53:33 GMT+07:00 ...</td>\n",
       "    </tr>\n",
       "    <tr>\n",
       "      <th>4</th>\n",
       "      <td>1596244849</td>\n",
       "      <td>190309000002524</td>\n",
       "      <td>{\"hw_released\":\"Thu Mar 12 12:05:05 GMT+07:00 ...</td>\n",
       "    </tr>\n",
       "  </tbody>\n",
       "</table>\n",
       "</div>"
      ],
      "text/plain": [
       "    timestamp           userId  \\\n",
       "0  1596244856  170425000002238   \n",
       "1  1596244830  191113586003363   \n",
       "2  1596244888  200413000001404   \n",
       "3  1596244831  200428000037320   \n",
       "4  1596244849  190309000002524   \n",
       "\n",
       "                                              params  \n",
       "0  {\"hw_released\":\"Tue Jul 07 08:50:39 GMT+07:00 ...  \n",
       "1  {\"hw_released\":\"Thu Jul 02 12:19:14 GMT+07:00 ...  \n",
       "2  {\"hw_released\":\"Thu Dec 07 11:24:05 GMT+07:00 ...  \n",
       "3  {\"hw_released\":\"Wed Apr 22 07:53:33 GMT+07:00 ...  \n",
       "4  {\"hw_released\":\"Thu Mar 12 12:05:05 GMT+07:00 ...  "
      ]
     },
     "execution_count": 10,
     "metadata": {},
     "output_type": "execute_result"
    }
   ],
   "source": [
    "joint_df.head()"
   ]
  },
  {
   "cell_type": "code",
   "execution_count": 11,
   "metadata": {},
   "outputs": [],
   "source": [
    "device_profile_user_list = joint_df['userId'].tolist()"
   ]
  },
  {
   "cell_type": "code",
   "execution_count": 13,
   "metadata": {},
   "outputs": [
    {
     "data": {
      "text/plain": [
       "[170425000002238,\n",
       " 191113586003363,\n",
       " 200413000001404,\n",
       " 200428000037320,\n",
       " 190309000002524,\n",
       " 190104000013363,\n",
       " 180201000023650,\n",
       " 200712000080516,\n",
       " 200801000006844,\n",
       " 191112542003496]"
      ]
     },
     "execution_count": 13,
     "metadata": {},
     "output_type": "execute_result"
    }
   ],
   "source": [
    "device_profile_user_list[:10]"
   ]
  },
  {
   "cell_type": "code",
   "execution_count": 15,
   "metadata": {},
   "outputs": [
    {
     "data": {
      "text/html": [
       "<div>\n",
       "<style scoped>\n",
       "    .dataframe tbody tr th:only-of-type {\n",
       "        vertical-align: middle;\n",
       "    }\n",
       "\n",
       "    .dataframe tbody tr th {\n",
       "        vertical-align: top;\n",
       "    }\n",
       "\n",
       "    .dataframe thead th {\n",
       "        text-align: right;\n",
       "    }\n",
       "</style>\n",
       "<table border=\"1\" class=\"dataframe\">\n",
       "  <thead>\n",
       "    <tr style=\"text-align: right;\">\n",
       "      <th></th>\n",
       "      <th>deviceID</th>\n",
       "      <th>transID</th>\n",
       "      <th>transType</th>\n",
       "      <th>appid</th>\n",
       "      <th>pmcID</th>\n",
       "      <th>amount</th>\n",
       "      <th>userID</th>\n",
       "      <th>osVer</th>\n",
       "      <th>deviceModel</th>\n",
       "      <th>userIP</th>\n",
       "      <th>reqDate</th>\n",
       "      <th>longitude</th>\n",
       "      <th>latitude</th>\n",
       "      <th>campaignID</th>\n",
       "      <th>type_transaction</th>\n",
       "    </tr>\n",
       "  </thead>\n",
       "  <tbody>\n",
       "    <tr>\n",
       "      <th>0</th>\n",
       "      <td>000195863904dc8a</td>\n",
       "      <td>200808000071150</td>\n",
       "      <td>1</td>\n",
       "      <td>454</td>\n",
       "      <td>39</td>\n",
       "      <td>2000000</td>\n",
       "      <td>200119000040347</td>\n",
       "      <td>Android 28 (9)</td>\n",
       "      <td>Samsung SM-J730G</td>\n",
       "      <td>125.214.48.174</td>\n",
       "      <td>2020-08-08 08:51:08.856</td>\n",
       "      <td>105.952103</td>\n",
       "      <td>10.223810</td>\n",
       "      <td>0</td>\n",
       "      <td>payment</td>\n",
       "    </tr>\n",
       "    <tr>\n",
       "      <th>1</th>\n",
       "      <td>000195863904dc8a</td>\n",
       "      <td>200808000089357</td>\n",
       "      <td>1</td>\n",
       "      <td>454</td>\n",
       "      <td>39</td>\n",
       "      <td>2000000</td>\n",
       "      <td>200119000040347</td>\n",
       "      <td>Android 28 (9)</td>\n",
       "      <td>Samsung SM-J730G</td>\n",
       "      <td>125.214.48.174</td>\n",
       "      <td>2020-08-08 09:47:11.279</td>\n",
       "      <td>105.952107</td>\n",
       "      <td>10.223811</td>\n",
       "      <td>0</td>\n",
       "      <td>payment</td>\n",
       "    </tr>\n",
       "    <tr>\n",
       "      <th>2</th>\n",
       "      <td>000195863904dc8a</td>\n",
       "      <td>200809000160928</td>\n",
       "      <td>1</td>\n",
       "      <td>454</td>\n",
       "      <td>39</td>\n",
       "      <td>2000000</td>\n",
       "      <td>200119000040347</td>\n",
       "      <td>Android 28 (9)</td>\n",
       "      <td>Samsung SM-J730G</td>\n",
       "      <td>125.214.48.174</td>\n",
       "      <td>2020-08-09 14:43:45.359</td>\n",
       "      <td>105.952099</td>\n",
       "      <td>10.223812</td>\n",
       "      <td>0</td>\n",
       "      <td>payment</td>\n",
       "    </tr>\n",
       "    <tr>\n",
       "      <th>3</th>\n",
       "      <td>000195863904dc8a</td>\n",
       "      <td>200822000188187</td>\n",
       "      <td>1</td>\n",
       "      <td>454</td>\n",
       "      <td>39</td>\n",
       "      <td>2000000</td>\n",
       "      <td>200119000040347</td>\n",
       "      <td>Android 28 (9)</td>\n",
       "      <td>Samsung SM-J730G</td>\n",
       "      <td>125.214.48.174</td>\n",
       "      <td>2020-08-22 14:33:30.566</td>\n",
       "      <td>105.952106</td>\n",
       "      <td>10.223818</td>\n",
       "      <td>0</td>\n",
       "      <td>payment</td>\n",
       "    </tr>\n",
       "    <tr>\n",
       "      <th>4</th>\n",
       "      <td>000195863904dc8a</td>\n",
       "      <td>200822000271777</td>\n",
       "      <td>1</td>\n",
       "      <td>454</td>\n",
       "      <td>39</td>\n",
       "      <td>2000000</td>\n",
       "      <td>200119000040347</td>\n",
       "      <td>Android 28 (9)</td>\n",
       "      <td>Samsung SM-J730G</td>\n",
       "      <td>125.214.48.174</td>\n",
       "      <td>2020-08-22 20:30:36.476</td>\n",
       "      <td>105.952090</td>\n",
       "      <td>10.223808</td>\n",
       "      <td>0</td>\n",
       "      <td>payment</td>\n",
       "    </tr>\n",
       "  </tbody>\n",
       "</table>\n",
       "</div>"
      ],
      "text/plain": [
       "           deviceID          transID  transType  appid  pmcID   amount  \\\n",
       "0  000195863904dc8a  200808000071150          1    454     39  2000000   \n",
       "1  000195863904dc8a  200808000089357          1    454     39  2000000   \n",
       "2  000195863904dc8a  200809000160928          1    454     39  2000000   \n",
       "3  000195863904dc8a  200822000188187          1    454     39  2000000   \n",
       "4  000195863904dc8a  200822000271777          1    454     39  2000000   \n",
       "\n",
       "            userID           osVer       deviceModel          userIP  \\\n",
       "0  200119000040347  Android 28 (9)  Samsung SM-J730G  125.214.48.174   \n",
       "1  200119000040347  Android 28 (9)  Samsung SM-J730G  125.214.48.174   \n",
       "2  200119000040347  Android 28 (9)  Samsung SM-J730G  125.214.48.174   \n",
       "3  200119000040347  Android 28 (9)  Samsung SM-J730G  125.214.48.174   \n",
       "4  200119000040347  Android 28 (9)  Samsung SM-J730G  125.214.48.174   \n",
       "\n",
       "                   reqDate   longitude   latitude  campaignID type_transaction  \n",
       "0  2020-08-08 08:51:08.856  105.952103  10.223810           0          payment  \n",
       "1  2020-08-08 09:47:11.279  105.952107  10.223811           0          payment  \n",
       "2  2020-08-09 14:43:45.359  105.952099  10.223812           0          payment  \n",
       "3  2020-08-22 14:33:30.566  105.952106  10.223818           0          payment  \n",
       "4  2020-08-22 20:30:36.476  105.952090  10.223808           0          payment  "
      ]
     },
     "execution_count": 15,
     "metadata": {},
     "output_type": "execute_result"
    }
   ],
   "source": [
    "columns = ['deviceID', 'transID', 'transType', 'appid', 'pmcID', 'amount', 'userID', 'osVer', 'deviceModel', 'userIP', 'reqDate', 'longitude', 'latitude', 'campaignID', 'type_transaction']\n",
    "tpe = pd.read_csv('raw/tpe_device_score.csv', names=columns)\n",
    "tpe.head()"
   ]
  },
  {
   "cell_type": "code",
   "execution_count": 16,
   "metadata": {},
   "outputs": [
    {
     "data": {
      "text/plain": [
       "[200119000040347,\n",
       " 200119000040347,\n",
       " 200119000040347,\n",
       " 200119000040347,\n",
       " 200119000040347,\n",
       " 200119000040347,\n",
       " 200119000040347,\n",
       " 200119000040347,\n",
       " 200119000040347,\n",
       " 200119000040347]"
      ]
     },
     "execution_count": 16,
     "metadata": {},
     "output_type": "execute_result"
    }
   ],
   "source": [
    "tpe_user_list = tpe['userID'].tolist()\n",
    "tpe_user_list[:10]"
   ]
  },
  {
   "cell_type": "markdown",
   "metadata": {},
   "source": [
    "## Bank Linking"
   ]
  },
  {
   "cell_type": "code",
   "execution_count": 17,
   "metadata": {},
   "outputs": [
    {
     "data": {
      "text/html": [
       "<div>\n",
       "<style scoped>\n",
       "    .dataframe tbody tr th:only-of-type {\n",
       "        vertical-align: middle;\n",
       "    }\n",
       "\n",
       "    .dataframe tbody tr th {\n",
       "        vertical-align: top;\n",
       "    }\n",
       "\n",
       "    .dataframe thead th {\n",
       "        text-align: right;\n",
       "    }\n",
       "</style>\n",
       "<table border=\"1\" class=\"dataframe\">\n",
       "  <thead>\n",
       "    <tr style=\"text-align: right;\">\n",
       "      <th></th>\n",
       "      <th>userID</th>\n",
       "      <th>reqDate</th>\n",
       "      <th>requestStatus</th>\n",
       "      <th>accountId</th>\n",
       "      <th>bankname</th>\n",
       "      <th>cardId</th>\n",
       "      <th>bankCode</th>\n",
       "    </tr>\n",
       "  </thead>\n",
       "  <tbody>\n",
       "    <tr>\n",
       "      <th>0</th>\n",
       "      <td>160516000000516</td>\n",
       "      <td>1591950265034</td>\n",
       "      <td>1</td>\n",
       "      <td>NaN</td>\n",
       "      <td>CC</td>\n",
       "      <td>2.006120e+14</td>\n",
       "      <td>ZPCC</td>\n",
       "    </tr>\n",
       "    <tr>\n",
       "      <th>1</th>\n",
       "      <td>160516000000516</td>\n",
       "      <td>1596798253563</td>\n",
       "      <td>1</td>\n",
       "      <td>NaN</td>\n",
       "      <td>CC</td>\n",
       "      <td>2.006120e+14</td>\n",
       "      <td>ZPCC</td>\n",
       "    </tr>\n",
       "    <tr>\n",
       "      <th>2</th>\n",
       "      <td>160919000012009</td>\n",
       "      <td>1580263971856</td>\n",
       "      <td>1</td>\n",
       "      <td>2.001291e+14</td>\n",
       "      <td>MSB</td>\n",
       "      <td>NaN</td>\n",
       "      <td>ZPMSB</td>\n",
       "    </tr>\n",
       "    <tr>\n",
       "      <th>3</th>\n",
       "      <td>160922000002026</td>\n",
       "      <td>1579068114314</td>\n",
       "      <td>1</td>\n",
       "      <td>NaN</td>\n",
       "      <td>CC</td>\n",
       "      <td>2.001150e+14</td>\n",
       "      <td>ZPCC</td>\n",
       "    </tr>\n",
       "    <tr>\n",
       "      <th>4</th>\n",
       "      <td>161029000000001</td>\n",
       "      <td>1596605415399</td>\n",
       "      <td>-10335</td>\n",
       "      <td>NaN</td>\n",
       "      <td>TPB</td>\n",
       "      <td>2.008050e+14</td>\n",
       "      <td>ZPTPB</td>\n",
       "    </tr>\n",
       "  </tbody>\n",
       "</table>\n",
       "</div>"
      ],
      "text/plain": [
       "            userID        reqDate  requestStatus     accountId bankname  \\\n",
       "0  160516000000516  1591950265034              1           NaN       CC   \n",
       "1  160516000000516  1596798253563              1           NaN       CC   \n",
       "2  160919000012009  1580263971856              1  2.001291e+14      MSB   \n",
       "3  160922000002026  1579068114314              1           NaN       CC   \n",
       "4  161029000000001  1596605415399         -10335           NaN      TPB   \n",
       "\n",
       "         cardId bankCode  \n",
       "0  2.006120e+14     ZPCC  \n",
       "1  2.006120e+14     ZPCC  \n",
       "2           NaN    ZPMSB  \n",
       "3  2.001150e+14     ZPCC  \n",
       "4  2.008050e+14    ZPTPB  "
      ]
     },
     "execution_count": 17,
     "metadata": {},
     "output_type": "execute_result"
    }
   ],
   "source": [
    "bank = pd.read_csv('raw/bankling.csv')\n",
    "bank.head()"
   ]
  },
  {
   "cell_type": "code",
   "execution_count": 19,
   "metadata": {},
   "outputs": [
    {
     "data": {
      "text/plain": [
       "[160516000000516,\n",
       " 160516000000516,\n",
       " 160919000012009,\n",
       " 160922000002026,\n",
       " 161029000000001,\n",
       " 161223000000016,\n",
       " 161223000000016,\n",
       " 170112000004362,\n",
       " 170112000004362,\n",
       " 170124000004114]"
      ]
     },
     "execution_count": 19,
     "metadata": {},
     "output_type": "execute_result"
    }
   ],
   "source": [
    "bank_user_list = bank['userID'].tolist()\n",
    "bank_user_list[:10]"
   ]
  },
  {
   "cell_type": "markdown",
   "metadata": {},
   "source": [
    "## Select more from userid"
   ]
  },
  {
   "cell_type": "code",
   "execution_count": null,
   "metadata": {},
   "outputs": [],
   "source": [
    "aql1 = \"\"\"\n",
    "FOR v IN userid\n",
    "    SORT v.reqDate\n",
    "    LIMIT 1000000\n",
    "    RETURN v._key\n",
    "\"\"\"\n",
    "queryResult = db.AQLQuery(aql1, rawResults=True,batchSize=4000)"
   ]
  },
  {
   "cell_type": "code",
   "execution_count": null,
   "metadata": {},
   "outputs": [],
   "source": [
    "len(queryResult)"
   ]
  },
  {
   "cell_type": "code",
   "execution_count": null,
   "metadata": {},
   "outputs": [],
   "source": [
    "to_save = []\n",
    "for x in queryResult:\n",
    "    to_save.append(x)"
   ]
  },
  {
   "cell_type": "code",
   "execution_count": null,
   "metadata": {},
   "outputs": [],
   "source": [
    "len(to_save)"
   ]
  },
  {
   "cell_type": "markdown",
   "metadata": {},
   "source": [
    "# Process"
   ]
  },
  {
   "cell_type": "markdown",
   "metadata": {},
   "source": [
    "## Join all user list"
   ]
  },
  {
   "cell_type": "code",
   "execution_count": 20,
   "metadata": {},
   "outputs": [],
   "source": [
    "users = list(set(total_users + device_profile_user_list + tpe_user_list + bank_user_list))"
   ]
  },
  {
   "cell_type": "code",
   "execution_count": 22,
   "metadata": {},
   "outputs": [],
   "source": [
    "user_df = pd.DataFrame(users, columns=[\"userID\"])"
   ]
  },
  {
   "cell_type": "code",
   "execution_count": 24,
   "metadata": {},
   "outputs": [],
   "source": [
    "user_df.to_csv('users.csv', index=False)"
   ]
  },
  {
   "cell_type": "code",
   "execution_count": 30,
   "metadata": {},
   "outputs": [
    {
     "data": {
      "text/html": [
       "<div>\n",
       "<style scoped>\n",
       "    .dataframe tbody tr th:only-of-type {\n",
       "        vertical-align: middle;\n",
       "    }\n",
       "\n",
       "    .dataframe tbody tr th {\n",
       "        vertical-align: top;\n",
       "    }\n",
       "\n",
       "    .dataframe thead th {\n",
       "        text-align: right;\n",
       "    }\n",
       "</style>\n",
       "<table border=\"1\" class=\"dataframe\">\n",
       "  <thead>\n",
       "    <tr style=\"text-align: right;\">\n",
       "      <th></th>\n",
       "      <th>userID</th>\n",
       "    </tr>\n",
       "  </thead>\n",
       "  <tbody>\n",
       "    <tr>\n",
       "      <th>0</th>\n",
       "      <td>180921000001536</td>\n",
       "    </tr>\n",
       "    <tr>\n",
       "      <th>1</th>\n",
       "      <td>200830000037890</td>\n",
       "    </tr>\n",
       "    <tr>\n",
       "      <th>2</th>\n",
       "      <td>200125000450052</td>\n",
       "    </tr>\n",
       "    <tr>\n",
       "      <th>3</th>\n",
       "      <td>180224000000004</td>\n",
       "    </tr>\n",
       "    <tr>\n",
       "      <th>4</th>\n",
       "      <td>180224000000006</td>\n",
       "    </tr>\n",
       "  </tbody>\n",
       "</table>\n",
       "</div>"
      ],
      "text/plain": [
       "            userID\n",
       "0  180921000001536\n",
       "1  200830000037890\n",
       "2  200125000450052\n",
       "3  180224000000004\n",
       "4  180224000000006"
      ]
     },
     "execution_count": 30,
     "metadata": {},
     "output_type": "execute_result"
    }
   ],
   "source": [
    "user_df.head()"
   ]
  },
  {
   "cell_type": "markdown",
   "metadata": {},
   "source": [
    "## Query related edges"
   ]
  },
  {
   "cell_type": "markdown",
   "metadata": {},
   "source": [
    "## Import libraries and data"
   ]
  },
  {
   "cell_type": "code",
   "execution_count": 6,
   "metadata": {},
   "outputs": [],
   "source": [
    "from pyArango.connection import *\n",
    "import pandas as pd"
   ]
  },
  {
   "cell_type": "code",
   "execution_count": 4,
   "metadata": {},
   "outputs": [],
   "source": [
    "user_df = pd.read_csv('./users.csv')"
   ]
  },
  {
   "cell_type": "code",
   "execution_count": 5,
   "metadata": {},
   "outputs": [
    {
     "data": {
      "text/html": [
       "<div>\n",
       "<style scoped>\n",
       "    .dataframe tbody tr th:only-of-type {\n",
       "        vertical-align: middle;\n",
       "    }\n",
       "\n",
       "    .dataframe tbody tr th {\n",
       "        vertical-align: top;\n",
       "    }\n",
       "\n",
       "    .dataframe thead th {\n",
       "        text-align: right;\n",
       "    }\n",
       "</style>\n",
       "<table border=\"1\" class=\"dataframe\">\n",
       "  <thead>\n",
       "    <tr style=\"text-align: right;\">\n",
       "      <th></th>\n",
       "      <th>userID</th>\n",
       "    </tr>\n",
       "  </thead>\n",
       "  <tbody>\n",
       "    <tr>\n",
       "      <th>0</th>\n",
       "      <td>180224000000004</td>\n",
       "    </tr>\n",
       "    <tr>\n",
       "      <th>1</th>\n",
       "      <td>180224000000006</td>\n",
       "    </tr>\n",
       "    <tr>\n",
       "      <th>2</th>\n",
       "      <td>200803000254471</td>\n",
       "    </tr>\n",
       "    <tr>\n",
       "      <th>3</th>\n",
       "      <td>170405000000077</td>\n",
       "    </tr>\n",
       "    <tr>\n",
       "      <th>4</th>\n",
       "      <td>181115000012471</td>\n",
       "    </tr>\n",
       "  </tbody>\n",
       "</table>\n",
       "</div>"
      ],
      "text/plain": [
       "            userID\n",
       "0  180224000000004\n",
       "1  180224000000006\n",
       "2  200803000254471\n",
       "3  170405000000077\n",
       "4  181115000012471"
      ]
     },
     "execution_count": 5,
     "metadata": {},
     "output_type": "execute_result"
    }
   ],
   "source": [
    "user_df.head()"
   ]
  },
  {
   "cell_type": "markdown",
   "metadata": {},
   "source": [
    "## Format to get alike document structure"
   ]
  },
  {
   "cell_type": "code",
   "execution_count": 12,
   "metadata": {},
   "outputs": [
    {
     "data": {
      "text/html": [
       "<div>\n",
       "<style scoped>\n",
       "    .dataframe tbody tr th:only-of-type {\n",
       "        vertical-align: middle;\n",
       "    }\n",
       "\n",
       "    .dataframe tbody tr th {\n",
       "        vertical-align: top;\n",
       "    }\n",
       "\n",
       "    .dataframe thead th {\n",
       "        text-align: right;\n",
       "    }\n",
       "</style>\n",
       "<table border=\"1\" class=\"dataframe\">\n",
       "  <thead>\n",
       "    <tr style=\"text-align: right;\">\n",
       "      <th></th>\n",
       "      <th>userID</th>\n",
       "      <th>userID_format</th>\n",
       "    </tr>\n",
       "  </thead>\n",
       "  <tbody>\n",
       "    <tr>\n",
       "      <th>0</th>\n",
       "      <td>180224000000004</td>\n",
       "      <td>userid/180224000000004</td>\n",
       "    </tr>\n",
       "    <tr>\n",
       "      <th>1</th>\n",
       "      <td>180224000000006</td>\n",
       "      <td>userid/180224000000006</td>\n",
       "    </tr>\n",
       "    <tr>\n",
       "      <th>2</th>\n",
       "      <td>200803000254471</td>\n",
       "      <td>userid/200803000254471</td>\n",
       "    </tr>\n",
       "    <tr>\n",
       "      <th>3</th>\n",
       "      <td>170405000000077</td>\n",
       "      <td>userid/170405000000077</td>\n",
       "    </tr>\n",
       "    <tr>\n",
       "      <th>4</th>\n",
       "      <td>181115000012471</td>\n",
       "      <td>userid/181115000012471</td>\n",
       "    </tr>\n",
       "  </tbody>\n",
       "</table>\n",
       "</div>"
      ],
      "text/plain": [
       "            userID           userID_format\n",
       "0  180224000000004  userid/180224000000004\n",
       "1  180224000000006  userid/180224000000006\n",
       "2  200803000254471  userid/200803000254471\n",
       "3  170405000000077  userid/170405000000077\n",
       "4  181115000012471  userid/181115000012471"
      ]
     },
     "execution_count": 12,
     "metadata": {},
     "output_type": "execute_result"
    }
   ],
   "source": [
    "user_df = pd.read_csv('./users.csv')\n",
    "user_df.head()"
   ]
  },
  {
   "cell_type": "code",
   "execution_count": 10,
   "metadata": {},
   "outputs": [
    {
     "data": {
      "text/plain": [
       "['userid/180224000000004',\n",
       " 'userid/180224000000006',\n",
       " 'userid/200803000254471',\n",
       " 'userid/170405000000077',\n",
       " 'userid/181115000012471',\n",
       " 'userid/180723000001184',\n",
       " 'userid/191022416003087',\n",
       " 'userid/180224000000017',\n",
       " 'userid/180224000000018',\n",
       " 'userid/181230000005660']"
      ]
     },
     "execution_count": 10,
     "metadata": {},
     "output_type": "execute_result"
    }
   ],
   "source": [
    "user_list = user_df['userID_format'].tolist()\n",
    "user_list[:10]"
   ]
  },
  {
   "cell_type": "markdown",
   "metadata": {},
   "source": [
    "## Connect to ArangoDB using pyArango"
   ]
  },
  {
   "cell_type": "code",
   "execution_count": 32,
   "metadata": {},
   "outputs": [],
   "source": [
    "conn = Connection(arangoURL=\"http://10.40.38.4:8529\",username=\"baonlc\", password=\"user_df\")"
   ]
  },
  {
   "cell_type": "code",
   "execution_count": 33,
   "metadata": {},
   "outputs": [],
   "source": [
    "db = conn['user_network']"
   ]
  },
  {
   "cell_type": "code",
   "execution_count": 47,
   "metadata": {},
   "outputs": [],
   "source": [
    "aql = f\"\"\"\n",
    "LET idList = @user_list\n",
    "FOR id IN idList\n",
    "    FOR v, e IN 1..1 ANY id GRAPH \"transaction\"\n",
    "        RETURN e\n",
    "\"\"\"\n",
    "queryResult = db.AQLQuery(aql, rawResults=True, bindVars={user_list: user_list},batchSize=200)"
   ]
  },
  {
   "cell_type": "code",
   "execution_count": null,
   "metadata": {},
   "outputs": [],
   "source": [
    "result = []\n",
    "for qr in queryResult:\n",
    "    result.append(qr)"
   ]
  },
  {
   "cell_type": "code",
   "execution_count": null,
   "metadata": {},
   "outputs": [],
   "source": [
    "result_df = pd.DataFrame(result)"
   ]
  },
  {
   "cell_type": "code",
   "execution_count": null,
   "metadata": {},
   "outputs": [],
   "source": [
    "result_df.to_csv('./transaction.csv', index=False)"
   ]
  }
 ],
 "metadata": {
  "kernelspec": {
   "display_name": "Python 3",
   "language": "python",
   "name": "python3"
  },
  "language_info": {
   "codemirror_mode": {
    "name": "ipython",
    "version": 3
   },
   "file_extension": ".py",
   "mimetype": "text/x-python",
   "name": "python",
   "nbconvert_exporter": "python",
   "pygments_lexer": "ipython3",
   "version": "3.6.9"
  }
 },
 "nbformat": 4,
 "nbformat_minor": 4
}
