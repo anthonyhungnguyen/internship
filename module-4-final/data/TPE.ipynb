{
 "cells": [
  {
   "cell_type": "markdown",
   "metadata": {},
   "source": [
    "# Import library and preprocess data"
   ]
  },
  {
   "cell_type": "code",
   "execution_count": 2,
   "metadata": {},
   "outputs": [],
   "source": [
    "import pandas as pd\n",
    "import json\n",
    "from tqdm import tqdm"
   ]
  },
  {
   "cell_type": "code",
   "execution_count": 3,
   "metadata": {},
   "outputs": [
    {
     "data": {
      "text/html": [
       "<div>\n",
       "<style scoped>\n",
       "    .dataframe tbody tr th:only-of-type {\n",
       "        vertical-align: middle;\n",
       "    }\n",
       "\n",
       "    .dataframe tbody tr th {\n",
       "        vertical-align: top;\n",
       "    }\n",
       "\n",
       "    .dataframe thead th {\n",
       "        text-align: right;\n",
       "    }\n",
       "</style>\n",
       "<table border=\"1\" class=\"dataframe\">\n",
       "  <thead>\n",
       "    <tr style=\"text-align: right;\">\n",
       "      <th></th>\n",
       "      <th>merchant</th>\n",
       "      <th>appid</th>\n",
       "    </tr>\n",
       "  </thead>\n",
       "  <tbody>\n",
       "    <tr>\n",
       "      <th>0</th>\n",
       "      <td>App Test</td>\n",
       "      <td>3</td>\n",
       "    </tr>\n",
       "    <tr>\n",
       "      <th>1</th>\n",
       "      <td>App Test</td>\n",
       "      <td>742</td>\n",
       "    </tr>\n",
       "    <tr>\n",
       "      <th>2</th>\n",
       "      <td>App Test</td>\n",
       "      <td>10033</td>\n",
       "    </tr>\n",
       "    <tr>\n",
       "      <th>3</th>\n",
       "      <td>App Test</td>\n",
       "      <td>10034</td>\n",
       "    </tr>\n",
       "    <tr>\n",
       "      <th>4</th>\n",
       "      <td>Business Service</td>\n",
       "      <td>26</td>\n",
       "    </tr>\n",
       "  </tbody>\n",
       "</table>\n",
       "</div>"
      ],
      "text/plain": [
       "           merchant  appid\n",
       "0          App Test      3\n",
       "1          App Test    742\n",
       "2          App Test  10033\n",
       "3          App Test  10034\n",
       "4  Business Service     26"
      ]
     },
     "execution_count": 3,
     "metadata": {},
     "output_type": "execute_result"
    }
   ],
   "source": [
    "app_id = pd.read_excel('raw/AppID Merchant.xlsx')\n",
    "app_id = app_id[['Merchant', 'App ID']]\n",
    "app_id.columns = ['merchant', 'appid']\n",
    "\n",
    "# format to snake case\n",
    "# app_id['merchant'] = app_id['merchant'].apply(lambda x: '_'.join([c for c in x.replace(',', '').lower().split(' ') if c.isalnum()]))\n",
    "app_id.head()"
   ]
  },
  {
   "cell_type": "code",
   "execution_count": 4,
   "metadata": {},
   "outputs": [
    {
     "data": {
      "text/html": [
       "<div>\n",
       "<style scoped>\n",
       "    .dataframe tbody tr th:only-of-type {\n",
       "        vertical-align: middle;\n",
       "    }\n",
       "\n",
       "    .dataframe tbody tr th {\n",
       "        vertical-align: top;\n",
       "    }\n",
       "\n",
       "    .dataframe thead th {\n",
       "        text-align: right;\n",
       "    }\n",
       "</style>\n",
       "<table border=\"1\" class=\"dataframe\">\n",
       "  <thead>\n",
       "    <tr style=\"text-align: right;\">\n",
       "      <th></th>\n",
       "      <th>deviceID</th>\n",
       "      <th>transID</th>\n",
       "      <th>transType</th>\n",
       "      <th>appid</th>\n",
       "      <th>pmcID</th>\n",
       "      <th>amount</th>\n",
       "      <th>userID</th>\n",
       "      <th>osVer</th>\n",
       "      <th>deviceModel</th>\n",
       "      <th>userIP</th>\n",
       "      <th>reqDate</th>\n",
       "      <th>longitude</th>\n",
       "      <th>latitude</th>\n",
       "      <th>campaignID</th>\n",
       "      <th>type_transaction</th>\n",
       "    </tr>\n",
       "  </thead>\n",
       "  <tbody>\n",
       "    <tr>\n",
       "      <th>0</th>\n",
       "      <td>000195863904dc8a</td>\n",
       "      <td>200808000071150</td>\n",
       "      <td>1</td>\n",
       "      <td>454</td>\n",
       "      <td>39</td>\n",
       "      <td>2000000</td>\n",
       "      <td>200119000040347</td>\n",
       "      <td>Android 28 (9)</td>\n",
       "      <td>Samsung SM-J730G</td>\n",
       "      <td>125.214.48.174</td>\n",
       "      <td>2020-08-08 08:51:08.856</td>\n",
       "      <td>105.952103</td>\n",
       "      <td>10.223810</td>\n",
       "      <td>0</td>\n",
       "      <td>payment</td>\n",
       "    </tr>\n",
       "    <tr>\n",
       "      <th>1</th>\n",
       "      <td>000195863904dc8a</td>\n",
       "      <td>200808000089357</td>\n",
       "      <td>1</td>\n",
       "      <td>454</td>\n",
       "      <td>39</td>\n",
       "      <td>2000000</td>\n",
       "      <td>200119000040347</td>\n",
       "      <td>Android 28 (9)</td>\n",
       "      <td>Samsung SM-J730G</td>\n",
       "      <td>125.214.48.174</td>\n",
       "      <td>2020-08-08 09:47:11.279</td>\n",
       "      <td>105.952107</td>\n",
       "      <td>10.223811</td>\n",
       "      <td>0</td>\n",
       "      <td>payment</td>\n",
       "    </tr>\n",
       "    <tr>\n",
       "      <th>2</th>\n",
       "      <td>000195863904dc8a</td>\n",
       "      <td>200809000160928</td>\n",
       "      <td>1</td>\n",
       "      <td>454</td>\n",
       "      <td>39</td>\n",
       "      <td>2000000</td>\n",
       "      <td>200119000040347</td>\n",
       "      <td>Android 28 (9)</td>\n",
       "      <td>Samsung SM-J730G</td>\n",
       "      <td>125.214.48.174</td>\n",
       "      <td>2020-08-09 14:43:45.359</td>\n",
       "      <td>105.952099</td>\n",
       "      <td>10.223812</td>\n",
       "      <td>0</td>\n",
       "      <td>payment</td>\n",
       "    </tr>\n",
       "    <tr>\n",
       "      <th>3</th>\n",
       "      <td>000195863904dc8a</td>\n",
       "      <td>200822000188187</td>\n",
       "      <td>1</td>\n",
       "      <td>454</td>\n",
       "      <td>39</td>\n",
       "      <td>2000000</td>\n",
       "      <td>200119000040347</td>\n",
       "      <td>Android 28 (9)</td>\n",
       "      <td>Samsung SM-J730G</td>\n",
       "      <td>125.214.48.174</td>\n",
       "      <td>2020-08-22 14:33:30.566</td>\n",
       "      <td>105.952106</td>\n",
       "      <td>10.223818</td>\n",
       "      <td>0</td>\n",
       "      <td>payment</td>\n",
       "    </tr>\n",
       "    <tr>\n",
       "      <th>4</th>\n",
       "      <td>000195863904dc8a</td>\n",
       "      <td>200822000271777</td>\n",
       "      <td>1</td>\n",
       "      <td>454</td>\n",
       "      <td>39</td>\n",
       "      <td>2000000</td>\n",
       "      <td>200119000040347</td>\n",
       "      <td>Android 28 (9)</td>\n",
       "      <td>Samsung SM-J730G</td>\n",
       "      <td>125.214.48.174</td>\n",
       "      <td>2020-08-22 20:30:36.476</td>\n",
       "      <td>105.952090</td>\n",
       "      <td>10.223808</td>\n",
       "      <td>0</td>\n",
       "      <td>payment</td>\n",
       "    </tr>\n",
       "  </tbody>\n",
       "</table>\n",
       "</div>"
      ],
      "text/plain": [
       "           deviceID          transID  transType  appid  pmcID   amount  \\\n",
       "0  000195863904dc8a  200808000071150          1    454     39  2000000   \n",
       "1  000195863904dc8a  200808000089357          1    454     39  2000000   \n",
       "2  000195863904dc8a  200809000160928          1    454     39  2000000   \n",
       "3  000195863904dc8a  200822000188187          1    454     39  2000000   \n",
       "4  000195863904dc8a  200822000271777          1    454     39  2000000   \n",
       "\n",
       "            userID           osVer       deviceModel          userIP  \\\n",
       "0  200119000040347  Android 28 (9)  Samsung SM-J730G  125.214.48.174   \n",
       "1  200119000040347  Android 28 (9)  Samsung SM-J730G  125.214.48.174   \n",
       "2  200119000040347  Android 28 (9)  Samsung SM-J730G  125.214.48.174   \n",
       "3  200119000040347  Android 28 (9)  Samsung SM-J730G  125.214.48.174   \n",
       "4  200119000040347  Android 28 (9)  Samsung SM-J730G  125.214.48.174   \n",
       "\n",
       "                   reqDate   longitude   latitude  campaignID type_transaction  \n",
       "0  2020-08-08 08:51:08.856  105.952103  10.223810           0          payment  \n",
       "1  2020-08-08 09:47:11.279  105.952107  10.223811           0          payment  \n",
       "2  2020-08-09 14:43:45.359  105.952099  10.223812           0          payment  \n",
       "3  2020-08-22 14:33:30.566  105.952106  10.223818           0          payment  \n",
       "4  2020-08-22 20:30:36.476  105.952090  10.223808           0          payment  "
      ]
     },
     "execution_count": 4,
     "metadata": {},
     "output_type": "execute_result"
    }
   ],
   "source": [
    "columns = ['deviceID', 'transID', 'transType', 'appid', 'pmcID', 'amount', 'userID', 'osVer', 'deviceModel', 'userIP', 'reqDate', 'longitude', 'latitude', 'campaignID', 'type_transaction']\n",
    "tpe = pd.read_csv('raw/tpe_device_score.csv', names=columns)\n",
    "tpe.head()"
   ]
  },
  {
   "cell_type": "code",
   "execution_count": 5,
   "metadata": {},
   "outputs": [
    {
     "data": {
      "text/html": [
       "<div>\n",
       "<style scoped>\n",
       "    .dataframe tbody tr th:only-of-type {\n",
       "        vertical-align: middle;\n",
       "    }\n",
       "\n",
       "    .dataframe tbody tr th {\n",
       "        vertical-align: top;\n",
       "    }\n",
       "\n",
       "    .dataframe thead th {\n",
       "        text-align: right;\n",
       "    }\n",
       "</style>\n",
       "<table border=\"1\" class=\"dataframe\">\n",
       "  <thead>\n",
       "    <tr style=\"text-align: right;\">\n",
       "      <th></th>\n",
       "      <th>deviceID</th>\n",
       "      <th>transID</th>\n",
       "      <th>transType</th>\n",
       "      <th>appid</th>\n",
       "      <th>pmcID</th>\n",
       "      <th>amount</th>\n",
       "      <th>userID</th>\n",
       "      <th>osVer</th>\n",
       "      <th>deviceModel</th>\n",
       "      <th>userIP</th>\n",
       "      <th>reqDate</th>\n",
       "      <th>longitude</th>\n",
       "      <th>latitude</th>\n",
       "      <th>campaignID</th>\n",
       "      <th>type_transaction</th>\n",
       "      <th>merchant</th>\n",
       "    </tr>\n",
       "  </thead>\n",
       "  <tbody>\n",
       "    <tr>\n",
       "      <th>0</th>\n",
       "      <td>000195863904dc8a</td>\n",
       "      <td>200808000071150</td>\n",
       "      <td>1</td>\n",
       "      <td>454</td>\n",
       "      <td>39</td>\n",
       "      <td>2000000</td>\n",
       "      <td>200119000040347</td>\n",
       "      <td>Android 28 (9)</td>\n",
       "      <td>Samsung SM-J730G</td>\n",
       "      <td>125.214.48.174</td>\n",
       "      <td>2020-08-08 08:51:08.856</td>\n",
       "      <td>105.952103</td>\n",
       "      <td>10.223810</td>\n",
       "      <td>0</td>\n",
       "      <td>payment</td>\n",
       "      <td>Money Transfer</td>\n",
       "    </tr>\n",
       "    <tr>\n",
       "      <th>1</th>\n",
       "      <td>000195863904dc8a</td>\n",
       "      <td>200808000089357</td>\n",
       "      <td>1</td>\n",
       "      <td>454</td>\n",
       "      <td>39</td>\n",
       "      <td>2000000</td>\n",
       "      <td>200119000040347</td>\n",
       "      <td>Android 28 (9)</td>\n",
       "      <td>Samsung SM-J730G</td>\n",
       "      <td>125.214.48.174</td>\n",
       "      <td>2020-08-08 09:47:11.279</td>\n",
       "      <td>105.952107</td>\n",
       "      <td>10.223811</td>\n",
       "      <td>0</td>\n",
       "      <td>payment</td>\n",
       "      <td>Money Transfer</td>\n",
       "    </tr>\n",
       "    <tr>\n",
       "      <th>2</th>\n",
       "      <td>000195863904dc8a</td>\n",
       "      <td>200809000160928</td>\n",
       "      <td>1</td>\n",
       "      <td>454</td>\n",
       "      <td>39</td>\n",
       "      <td>2000000</td>\n",
       "      <td>200119000040347</td>\n",
       "      <td>Android 28 (9)</td>\n",
       "      <td>Samsung SM-J730G</td>\n",
       "      <td>125.214.48.174</td>\n",
       "      <td>2020-08-09 14:43:45.359</td>\n",
       "      <td>105.952099</td>\n",
       "      <td>10.223812</td>\n",
       "      <td>0</td>\n",
       "      <td>payment</td>\n",
       "      <td>Money Transfer</td>\n",
       "    </tr>\n",
       "    <tr>\n",
       "      <th>3</th>\n",
       "      <td>000195863904dc8a</td>\n",
       "      <td>200822000188187</td>\n",
       "      <td>1</td>\n",
       "      <td>454</td>\n",
       "      <td>39</td>\n",
       "      <td>2000000</td>\n",
       "      <td>200119000040347</td>\n",
       "      <td>Android 28 (9)</td>\n",
       "      <td>Samsung SM-J730G</td>\n",
       "      <td>125.214.48.174</td>\n",
       "      <td>2020-08-22 14:33:30.566</td>\n",
       "      <td>105.952106</td>\n",
       "      <td>10.223818</td>\n",
       "      <td>0</td>\n",
       "      <td>payment</td>\n",
       "      <td>Money Transfer</td>\n",
       "    </tr>\n",
       "    <tr>\n",
       "      <th>4</th>\n",
       "      <td>000195863904dc8a</td>\n",
       "      <td>200822000271777</td>\n",
       "      <td>1</td>\n",
       "      <td>454</td>\n",
       "      <td>39</td>\n",
       "      <td>2000000</td>\n",
       "      <td>200119000040347</td>\n",
       "      <td>Android 28 (9)</td>\n",
       "      <td>Samsung SM-J730G</td>\n",
       "      <td>125.214.48.174</td>\n",
       "      <td>2020-08-22 20:30:36.476</td>\n",
       "      <td>105.952090</td>\n",
       "      <td>10.223808</td>\n",
       "      <td>0</td>\n",
       "      <td>payment</td>\n",
       "      <td>Money Transfer</td>\n",
       "    </tr>\n",
       "  </tbody>\n",
       "</table>\n",
       "</div>"
      ],
      "text/plain": [
       "           deviceID          transID  transType  appid  pmcID   amount  \\\n",
       "0  000195863904dc8a  200808000071150          1    454     39  2000000   \n",
       "1  000195863904dc8a  200808000089357          1    454     39  2000000   \n",
       "2  000195863904dc8a  200809000160928          1    454     39  2000000   \n",
       "3  000195863904dc8a  200822000188187          1    454     39  2000000   \n",
       "4  000195863904dc8a  200822000271777          1    454     39  2000000   \n",
       "\n",
       "            userID           osVer       deviceModel          userIP  \\\n",
       "0  200119000040347  Android 28 (9)  Samsung SM-J730G  125.214.48.174   \n",
       "1  200119000040347  Android 28 (9)  Samsung SM-J730G  125.214.48.174   \n",
       "2  200119000040347  Android 28 (9)  Samsung SM-J730G  125.214.48.174   \n",
       "3  200119000040347  Android 28 (9)  Samsung SM-J730G  125.214.48.174   \n",
       "4  200119000040347  Android 28 (9)  Samsung SM-J730G  125.214.48.174   \n",
       "\n",
       "                   reqDate   longitude   latitude  campaignID  \\\n",
       "0  2020-08-08 08:51:08.856  105.952103  10.223810           0   \n",
       "1  2020-08-08 09:47:11.279  105.952107  10.223811           0   \n",
       "2  2020-08-09 14:43:45.359  105.952099  10.223812           0   \n",
       "3  2020-08-22 14:33:30.566  105.952106  10.223818           0   \n",
       "4  2020-08-22 20:30:36.476  105.952090  10.223808           0   \n",
       "\n",
       "  type_transaction        merchant  \n",
       "0          payment  Money Transfer  \n",
       "1          payment  Money Transfer  \n",
       "2          payment  Money Transfer  \n",
       "3          payment  Money Transfer  \n",
       "4          payment  Money Transfer  "
      ]
     },
     "execution_count": 5,
     "metadata": {},
     "output_type": "execute_result"
    }
   ],
   "source": [
    "joined_df = tpe.join(app_id.set_index('appid'), how='inner', on='appid')\n",
    "joined_df.head()"
   ]
  },
  {
   "cell_type": "code",
   "execution_count": 6,
   "metadata": {},
   "outputs": [
    {
     "data": {
      "text/plain": [
       "deviceID            2164765\n",
       "transID             2164765\n",
       "transType           2164765\n",
       "appid               2164765\n",
       "pmcID               2164765\n",
       "amount              2164765\n",
       "userID              2164765\n",
       "osVer               2164765\n",
       "deviceModel         2164765\n",
       "userIP              2164765\n",
       "reqDate             2164765\n",
       "longitude           2164765\n",
       "latitude            2164765\n",
       "campaignID          2164765\n",
       "type_transaction    2164765\n",
       "merchant            2164765\n",
       "dtype: int64"
      ]
     },
     "execution_count": 6,
     "metadata": {},
     "output_type": "execute_result"
    }
   ],
   "source": [
    "# Check nan\n",
    "joined_df.isna().count()"
   ]
  },
  {
   "cell_type": "code",
   "execution_count": 7,
   "metadata": {},
   "outputs": [
    {
     "data": {
      "text/plain": [
       "False    2164765\n",
       "dtype: int64"
      ]
     },
     "execution_count": 7,
     "metadata": {},
     "output_type": "execute_result"
    }
   ],
   "source": [
    "# Check duplicated\n",
    "joined_df.duplicated().value_counts()"
   ]
  },
  {
   "cell_type": "code",
   "execution_count": 8,
   "metadata": {},
   "outputs": [
    {
     "data": {
      "text/plain": [
       "userID           merchant      \n",
       "200119000040347  Digital Goods      2\n",
       "                 Money Transfer    16\n",
       "Name: appid, dtype: int64"
      ]
     },
     "execution_count": 8,
     "metadata": {},
     "output_type": "execute_result"
    }
   ],
   "source": [
    "joined_df[joined_df['deviceID'] == '000195863904dc8a'].groupby(['userID', 'merchant'])['appid'].count()"
   ]
  },
  {
   "cell_type": "markdown",
   "metadata": {},
   "source": [
    "# ArangoDB Insertion"
   ]
  },
  {
   "cell_type": "markdown",
   "metadata": {},
   "source": [
    "## Add Device Merchant TPE"
   ]
  },
  {
   "cell_type": "code",
   "execution_count": 9,
   "metadata": {},
   "outputs": [
    {
     "name": "stderr",
     "output_type": "stream",
     "text": [
      "100%|██████████| 2164765/2164765 [05:44<00:00, 6285.66it/s]\n"
     ]
    }
   ],
   "source": [
    "tpe = []\n",
    "cols_excluded = set(joined_df.columns) - set(['deviceID', 'userID'])\n",
    "with tqdm(total=len(joined_df)) as pbar:\n",
    "    for _, row in joined_df.iterrows():\n",
    "        new_dm = {\n",
    "            '_key': str(row['transID']),\n",
    "            '_to': 'devices/' + str(row['deviceID']),\n",
    "            '_from': 'users/' + str(row['userID']),\n",
    "            'type': 'transaction'\n",
    "        }\n",
    "        for c in cols_excluded:\n",
    "            new_dm[c] = str(row[c])\n",
    "        tpe.append(new_dm)\n",
    "        pbar.update(1)"
   ]
  },
  {
   "cell_type": "code",
   "execution_count": 10,
   "metadata": {},
   "outputs": [],
   "source": [
    "with open('json/tpe.json', 'w') as f:\n",
    "    json.dump(tpe, f)"
   ]
  },
  {
   "cell_type": "code",
   "execution_count": 11,
   "metadata": {},
   "outputs": [],
   "source": [
    "# Convert json to jsonl\n",
    "!jq -c \".[]\" json/tpe.json > jsonl/tpe.jsonl"
   ]
  },
  {
   "cell_type": "code",
   "execution_count": null,
   "metadata": {},
   "outputs": [],
   "source": [
    "# arangoimport --server.database=final --collection users_devices --type jsonl --file \"jsonl/tpe.jsonl\" --progress true --threads 16"
   ]
  },
  {
   "cell_type": "code",
   "execution_count": 13,
   "metadata": {},
   "outputs": [
    {
     "data": {
      "text/plain": [
       "array(['Money Transfer', 'Digital Goods', 'Utility', 'Transportation',\n",
       "       'Marketplace', 'Entertainment', 'Food and Beverage',\n",
       "       'Retail Outlet', 'Supermarket & Convenience store',\n",
       "       'Business Service', 'Travel', 'Electronic Store', 'Clothing',\n",
       "       'Game', 'Lodging, Hotels & Accommodations', 'App Test'],\n",
       "      dtype=object)"
      ]
     },
     "execution_count": 13,
     "metadata": {},
     "output_type": "execute_result"
    }
   ],
   "source": [
    "joined_df['merchant'].unique()"
   ]
  },
  {
   "cell_type": "code",
   "execution_count": 34,
   "metadata": {},
   "outputs": [
    {
     "data": {
      "text/html": [
       "<div>\n",
       "<style scoped>\n",
       "    .dataframe tbody tr th:only-of-type {\n",
       "        vertical-align: middle;\n",
       "    }\n",
       "\n",
       "    .dataframe tbody tr th {\n",
       "        vertical-align: top;\n",
       "    }\n",
       "\n",
       "    .dataframe thead th {\n",
       "        text-align: right;\n",
       "    }\n",
       "</style>\n",
       "<table border=\"1\" class=\"dataframe\">\n",
       "  <thead>\n",
       "    <tr style=\"text-align: right;\">\n",
       "      <th></th>\n",
       "      <th>merchant</th>\n",
       "    </tr>\n",
       "    <tr>\n",
       "      <th>deviceID</th>\n",
       "      <th></th>\n",
       "    </tr>\n",
       "  </thead>\n",
       "  <tbody>\n",
       "    <tr>\n",
       "      <th>000081FB-CAE0-4DBE-8983-D54759750014</th>\n",
       "      <td>1</td>\n",
       "    </tr>\n",
       "    <tr>\n",
       "      <th>C16652ED-8950-4035-A4D5-241F48739561</th>\n",
       "      <td>1</td>\n",
       "    </tr>\n",
       "    <tr>\n",
       "      <th>5CAB69E8-804E-49E5-96C2-72B65AD5D587</th>\n",
       "      <td>1</td>\n",
       "    </tr>\n",
       "    <tr>\n",
       "      <th>C1666B77-C749-4303-9D86-7040AB26AEAC</th>\n",
       "      <td>1</td>\n",
       "    </tr>\n",
       "    <tr>\n",
       "      <th>5CAB04E3-859C-4A31-98A2-B3BE01FBB3C2</th>\n",
       "      <td>1</td>\n",
       "    </tr>\n",
       "    <tr>\n",
       "      <th>...</th>\n",
       "      <td>...</td>\n",
       "    </tr>\n",
       "    <tr>\n",
       "      <th>5587B913-6EFA-4746-8BCC-0FE3CCE62805</th>\n",
       "      <td>9</td>\n",
       "    </tr>\n",
       "    <tr>\n",
       "      <th>2D4AE78B-F09A-4315-B8C6-9CB747C09B93</th>\n",
       "      <td>9</td>\n",
       "    </tr>\n",
       "    <tr>\n",
       "      <th>AB33242F-4607-4E79-9EA0-4D1373E7927C</th>\n",
       "      <td>10</td>\n",
       "    </tr>\n",
       "    <tr>\n",
       "      <th>0E8FAB1A-53ED-4E1E-AB1D-D1065821ED07</th>\n",
       "      <td>11</td>\n",
       "    </tr>\n",
       "    <tr>\n",
       "      <th>A321541E-966B-485B-87C2-9783FB0457F9</th>\n",
       "      <td>12</td>\n",
       "    </tr>\n",
       "  </tbody>\n",
       "</table>\n",
       "<p>236802 rows × 1 columns</p>\n",
       "</div>"
      ],
      "text/plain": [
       "                                      merchant\n",
       "deviceID                                      \n",
       "000081FB-CAE0-4DBE-8983-D54759750014         1\n",
       "C16652ED-8950-4035-A4D5-241F48739561         1\n",
       "5CAB69E8-804E-49E5-96C2-72B65AD5D587         1\n",
       "C1666B77-C749-4303-9D86-7040AB26AEAC         1\n",
       "5CAB04E3-859C-4A31-98A2-B3BE01FBB3C2         1\n",
       "...                                        ...\n",
       "5587B913-6EFA-4746-8BCC-0FE3CCE62805         9\n",
       "2D4AE78B-F09A-4315-B8C6-9CB747C09B93         9\n",
       "AB33242F-4607-4E79-9EA0-4D1373E7927C        10\n",
       "0E8FAB1A-53ED-4E1E-AB1D-D1065821ED07        11\n",
       "A321541E-966B-485B-87C2-9783FB0457F9        12\n",
       "\n",
       "[236802 rows x 1 columns]"
      ]
     },
     "execution_count": 34,
     "metadata": {},
     "output_type": "execute_result"
    }
   ],
   "source": [
    "joined_df.groupby('deviceID').agg({'merchant': lambda x: len(set(x))}).sort_values('merchant')"
   ]
  },
  {
   "cell_type": "code",
   "execution_count": 25,
   "metadata": {},
   "outputs": [
    {
     "data": {
      "text/plain": [
       "['count']"
      ]
     },
     "execution_count": 25,
     "metadata": {},
     "output_type": "execute_result"
    }
   ],
   "source": [
    "df.groupby('hw_device_id').agg({'userId': lambda x: len(set(x))}).sort_values('userId')"
   ]
  },
  {
   "cell_type": "code",
   "execution_count": null,
   "metadata": {},
   "outputs": [],
   "source": []
  }
 ],
 "metadata": {
  "kernelspec": {
   "display_name": "Python 3",
   "language": "python",
   "name": "python3"
  },
  "language_info": {
   "codemirror_mode": {
    "name": "ipython",
    "version": 3
   },
   "file_extension": ".py",
   "mimetype": "text/x-python",
   "name": "python",
   "nbconvert_exporter": "python",
   "pygments_lexer": "ipython3",
   "version": "3.8.5"
  }
 },
 "nbformat": 4,
 "nbformat_minor": 4
}
